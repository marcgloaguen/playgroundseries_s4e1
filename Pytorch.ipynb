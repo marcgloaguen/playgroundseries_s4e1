{
 "cells": [
  {
   "cell_type": "code",
   "execution_count": 7,
   "id": "initial_id",
   "metadata": {
    "collapsed": true,
    "is_executing": true
   },
   "outputs": [],
   "source": [
    "from datetime import datetime as dt\n",
    "from preprocessing import Preprocessing\n",
    "import pandas as pd\n",
    "import numpy as np\n",
    "from sklearn.model_selection import train_test_split, GridSearchCV\n",
    "from sklearn.utils import shuffle\n",
    "import matplotlib.pyplot as plt\n",
    "from sklearn.metrics import confusion_matrix, ConfusionMatrixDisplay, classification_report, roc_auc_score, RocCurveDisplay\n",
    "from imblearn.over_sampling import RandomOverSampler"
   ]
  },
  {
   "cell_type": "code",
   "execution_count": 1,
   "id": "62b786da",
   "metadata": {},
   "outputs": [
    {
     "name": "stdout",
     "output_type": "stream",
     "text": [
      "tensor([1.], device='mps:0')\n"
     ]
    }
   ],
   "source": [
    "import torch\n",
    "import torch.nn as nn\n",
    "import torch.optim as optim\n",
    "from torch.utils.data import DataLoader, TensorDataset\n",
    "\n",
    "if torch.backends.mps.is_available():\n",
    "    mps_device = torch.device(\"mps\")\n",
    "    x = torch.ones(1, device=mps_device)\n",
    "    print (x)\n",
    "else:\n",
    "    print (\"MPS device not found.\")\n",
    "    "
   ]
  },
  {
   "cell_type": "code",
   "execution_count": 4,
   "metadata": {},
   "outputs": [],
   "source": [
    "def plot_history(history, metric='accuracy'):\n",
    "    plt.figure(figsize=(12, 5))\n",
    "    plt.subplot(1, 2, 1)\n",
    "    \n",
    "    plt.plot(history.history['loss'], 'b', label='Training loss')\n",
    "    plt.plot(history.history['val_loss'], 'r', label='Validation loss')\n",
    "    plt.title('Training and validation loss')\n",
    "    plt.legend()\n",
    "    plt.subplot(1, 2, 2)\n",
    "    plt.plot(history.history[metric], 'b', label='Training accuracy')\n",
    "    plt.plot(history.history[f'val_{metric}'],'r', label='Validation accuracy')\n",
    "    plt.title('Training and validation auc')\n",
    "    plt.legend()"
   ]
  },
  {
   "cell_type": "markdown",
   "id": "35014792",
   "metadata": {},
   "source": [
    "# Preprocessing"
   ]
  },
  {
   "cell_type": "code",
   "execution_count": 5,
   "id": "eb5135aed6eafd16",
   "metadata": {
    "collapsed": false
   },
   "outputs": [],
   "source": [
    "col_drop = ['CustomerId','Surname']\n",
    "types = {\n",
    "    'HasCrCard':bool,\n",
    "    'IsActiveMember':bool\n",
    "}\n",
    "train = pd.read_csv('data/train.csv', index_col='id', dtype=types).drop(columns=col_drop)\n",
    "test = pd.read_csv('data/test.csv', index_col='id', dtype=types).drop(columns=col_drop)"
   ]
  },
  {
   "cell_type": "code",
   "execution_count": 6,
   "id": "b74cdea0",
   "metadata": {},
   "outputs": [
    {
     "data": {
      "text/plain": [
       "(165034, 11)"
      ]
     },
     "execution_count": 6,
     "metadata": {},
     "output_type": "execute_result"
    }
   ],
   "source": [
    "train.shape"
   ]
  },
  {
   "cell_type": "code",
   "execution_count": 7,
   "id": "4eb5e3b5",
   "metadata": {},
   "outputs": [],
   "source": [
    "X = train.drop(columns='Exited')\n",
    "y = train.Exited"
   ]
  },
  {
   "cell_type": "code",
   "execution_count": 8,
   "id": "9fdfe99c",
   "metadata": {},
   "outputs": [
    {
     "data": {
      "text/plain": [
       "Exited\n",
       "0    0.788401\n",
       "1    0.211599\n",
       "Name: proportion, dtype: float64"
      ]
     },
     "execution_count": 8,
     "metadata": {},
     "output_type": "execute_result"
    }
   ],
   "source": [
    "y.value_counts(True)"
   ]
  },
  {
   "cell_type": "code",
   "execution_count": 9,
   "id": "8e8579c5",
   "metadata": {},
   "outputs": [],
   "source": [
    "X_train, X_test, y_train, y_test = train_test_split(X,y,stratify=y)"
   ]
  },
  {
   "cell_type": "code",
   "execution_count": 10,
   "id": "9dd119ea",
   "metadata": {},
   "outputs": [
    {
     "data": {
      "text/plain": [
       "(123775,)"
      ]
     },
     "execution_count": 10,
     "metadata": {},
     "output_type": "execute_result"
    }
   ],
   "source": [
    "y_train.shape"
   ]
  },
  {
   "cell_type": "code",
   "execution_count": 11,
   "id": "d0ddba6d",
   "metadata": {},
   "outputs": [
    {
     "data": {
      "text/plain": [
       "Exited\n",
       "0    0.788398\n",
       "1    0.211602\n",
       "Name: proportion, dtype: float64"
      ]
     },
     "execution_count": 11,
     "metadata": {},
     "output_type": "execute_result"
    }
   ],
   "source": [
    "y_train.value_counts(True)"
   ]
  },
  {
   "cell_type": "code",
   "execution_count": 12,
   "id": "e5b3b52b",
   "metadata": {},
   "outputs": [],
   "source": [
    "ros = RandomOverSampler(random_state=42)\n",
    "#X_train, y_train = ros.fit_resample(X_train, y_train)"
   ]
  },
  {
   "cell_type": "code",
   "execution_count": 13,
   "id": "8b9ab134",
   "metadata": {},
   "outputs": [
    {
     "data": {
      "text/plain": [
       "(123775,)"
      ]
     },
     "execution_count": 13,
     "metadata": {},
     "output_type": "execute_result"
    }
   ],
   "source": [
    "y_train.shape"
   ]
  },
  {
   "cell_type": "code",
   "execution_count": 14,
   "id": "3cdbf7b1",
   "metadata": {},
   "outputs": [
    {
     "data": {
      "text/plain": [
       "Exited\n",
       "0    0.788398\n",
       "1    0.211602\n",
       "Name: proportion, dtype: float64"
      ]
     },
     "execution_count": 14,
     "metadata": {},
     "output_type": "execute_result"
    }
   ],
   "source": [
    "y_train.value_counts(True)"
   ]
  },
  {
   "cell_type": "code",
   "execution_count": 15,
   "id": "e56a9c8daf9db45c",
   "metadata": {
    "collapsed": false
   },
   "outputs": [],
   "source": [
    "prepro = Preprocessing()"
   ]
  },
  {
   "cell_type": "code",
   "execution_count": 16,
   "id": "8cd6f7cd",
   "metadata": {},
   "outputs": [],
   "source": [
    "X_train_scld = prepro.fit_transform(X_train).astype(float)\n",
    "X_test_scld = prepro.transform(X_test).astype(float)"
   ]
  },
  {
   "cell_type": "code",
   "execution_count": 17,
   "id": "b8129589",
   "metadata": {},
   "outputs": [
    {
     "data": {
      "text/html": [
       "<div>\n",
       "<style scoped>\n",
       "    .dataframe tbody tr th:only-of-type {\n",
       "        vertical-align: middle;\n",
       "    }\n",
       "\n",
       "    .dataframe tbody tr th {\n",
       "        vertical-align: top;\n",
       "    }\n",
       "\n",
       "    .dataframe thead th {\n",
       "        text-align: right;\n",
       "    }\n",
       "</style>\n",
       "<table border=\"1\" class=\"dataframe\">\n",
       "  <thead>\n",
       "    <tr style=\"text-align: right;\">\n",
       "      <th></th>\n",
       "      <th>CreditScore</th>\n",
       "      <th>Geography</th>\n",
       "      <th>Gender</th>\n",
       "      <th>Age</th>\n",
       "      <th>Tenure</th>\n",
       "      <th>Balance</th>\n",
       "      <th>NumOfProducts</th>\n",
       "      <th>HasCrCard</th>\n",
       "      <th>IsActiveMember</th>\n",
       "      <th>EstimatedSalary</th>\n",
       "    </tr>\n",
       "    <tr>\n",
       "      <th>id</th>\n",
       "      <th></th>\n",
       "      <th></th>\n",
       "      <th></th>\n",
       "      <th></th>\n",
       "      <th></th>\n",
       "      <th></th>\n",
       "      <th></th>\n",
       "      <th></th>\n",
       "      <th></th>\n",
       "      <th></th>\n",
       "    </tr>\n",
       "  </thead>\n",
       "  <tbody>\n",
       "    <tr>\n",
       "      <th>63806</th>\n",
       "      <td>-1.517552</td>\n",
       "      <td>0.0</td>\n",
       "      <td>1.0</td>\n",
       "      <td>0.008476</td>\n",
       "      <td>0.7</td>\n",
       "      <td>-0.915543</td>\n",
       "      <td>0.333333</td>\n",
       "      <td>0.0</td>\n",
       "      <td>1.0</td>\n",
       "      <td>-1.987961</td>\n",
       "    </tr>\n",
       "    <tr>\n",
       "      <th>29783</th>\n",
       "      <td>0.756177</td>\n",
       "      <td>0.0</td>\n",
       "      <td>0.0</td>\n",
       "      <td>0.008476</td>\n",
       "      <td>0.5</td>\n",
       "      <td>-0.915543</td>\n",
       "      <td>0.000000</td>\n",
       "      <td>1.0</td>\n",
       "      <td>1.0</td>\n",
       "      <td>0.657130</td>\n",
       "    </tr>\n",
       "    <tr>\n",
       "      <th>8017</th>\n",
       "      <td>0.956065</td>\n",
       "      <td>0.0</td>\n",
       "      <td>1.0</td>\n",
       "      <td>-0.114702</td>\n",
       "      <td>0.2</td>\n",
       "      <td>-0.915543</td>\n",
       "      <td>0.000000</td>\n",
       "      <td>1.0</td>\n",
       "      <td>1.0</td>\n",
       "      <td>-1.245744</td>\n",
       "    </tr>\n",
       "    <tr>\n",
       "      <th>51414</th>\n",
       "      <td>0.643740</td>\n",
       "      <td>0.0</td>\n",
       "      <td>1.0</td>\n",
       "      <td>-0.114702</td>\n",
       "      <td>0.6</td>\n",
       "      <td>1.110301</td>\n",
       "      <td>0.000000</td>\n",
       "      <td>1.0</td>\n",
       "      <td>1.0</td>\n",
       "      <td>1.431748</td>\n",
       "    </tr>\n",
       "    <tr>\n",
       "      <th>103027</th>\n",
       "      <td>0.468838</td>\n",
       "      <td>0.0</td>\n",
       "      <td>0.0</td>\n",
       "      <td>-0.242223</td>\n",
       "      <td>0.2</td>\n",
       "      <td>1.114410</td>\n",
       "      <td>0.000000</td>\n",
       "      <td>0.0</td>\n",
       "      <td>1.0</td>\n",
       "      <td>-0.721095</td>\n",
       "    </tr>\n",
       "    <tr>\n",
       "      <th>...</th>\n",
       "      <td>...</td>\n",
       "      <td>...</td>\n",
       "      <td>...</td>\n",
       "      <td>...</td>\n",
       "      <td>...</td>\n",
       "      <td>...</td>\n",
       "      <td>...</td>\n",
       "      <td>...</td>\n",
       "      <td>...</td>\n",
       "      <td>...</td>\n",
       "    </tr>\n",
       "    <tr>\n",
       "      <th>87099</th>\n",
       "      <td>-0.430659</td>\n",
       "      <td>0.0</td>\n",
       "      <td>1.0</td>\n",
       "      <td>-2.036501</td>\n",
       "      <td>0.4</td>\n",
       "      <td>-0.915543</td>\n",
       "      <td>0.333333</td>\n",
       "      <td>0.0</td>\n",
       "      <td>0.0</td>\n",
       "      <td>-1.343312</td>\n",
       "    </tr>\n",
       "    <tr>\n",
       "      <th>85783</th>\n",
       "      <td>1.268391</td>\n",
       "      <td>0.0</td>\n",
       "      <td>1.0</td>\n",
       "      <td>0.768249</td>\n",
       "      <td>0.9</td>\n",
       "      <td>-0.915543</td>\n",
       "      <td>0.000000</td>\n",
       "      <td>1.0</td>\n",
       "      <td>0.0</td>\n",
       "      <td>-0.516755</td>\n",
       "    </tr>\n",
       "    <tr>\n",
       "      <th>8922</th>\n",
       "      <td>-0.155813</td>\n",
       "      <td>0.0</td>\n",
       "      <td>1.0</td>\n",
       "      <td>0.127567</td>\n",
       "      <td>0.6</td>\n",
       "      <td>1.095110</td>\n",
       "      <td>0.000000</td>\n",
       "      <td>1.0</td>\n",
       "      <td>1.0</td>\n",
       "      <td>1.064312</td>\n",
       "    </tr>\n",
       "    <tr>\n",
       "      <th>4074</th>\n",
       "      <td>1.143461</td>\n",
       "      <td>0.0</td>\n",
       "      <td>0.0</td>\n",
       "      <td>-0.801761</td>\n",
       "      <td>0.7</td>\n",
       "      <td>-0.915543</td>\n",
       "      <td>0.333333</td>\n",
       "      <td>0.0</td>\n",
       "      <td>0.0</td>\n",
       "      <td>0.582531</td>\n",
       "    </tr>\n",
       "    <tr>\n",
       "      <th>98778</th>\n",
       "      <td>-1.142761</td>\n",
       "      <td>0.0</td>\n",
       "      <td>0.0</td>\n",
       "      <td>0.354413</td>\n",
       "      <td>0.4</td>\n",
       "      <td>1.094963</td>\n",
       "      <td>0.000000</td>\n",
       "      <td>1.0</td>\n",
       "      <td>1.0</td>\n",
       "      <td>1.178252</td>\n",
       "    </tr>\n",
       "  </tbody>\n",
       "</table>\n",
       "<p>123775 rows × 10 columns</p>\n",
       "</div>"
      ],
      "text/plain": [
       "        CreditScore  Geography  Gender       Age  Tenure   Balance  \\\n",
       "id                                                                   \n",
       "63806     -1.517552        0.0     1.0  0.008476     0.7 -0.915543   \n",
       "29783      0.756177        0.0     0.0  0.008476     0.5 -0.915543   \n",
       "8017       0.956065        0.0     1.0 -0.114702     0.2 -0.915543   \n",
       "51414      0.643740        0.0     1.0 -0.114702     0.6  1.110301   \n",
       "103027     0.468838        0.0     0.0 -0.242223     0.2  1.114410   \n",
       "...             ...        ...     ...       ...     ...       ...   \n",
       "87099     -0.430659        0.0     1.0 -2.036501     0.4 -0.915543   \n",
       "85783      1.268391        0.0     1.0  0.768249     0.9 -0.915543   \n",
       "8922      -0.155813        0.0     1.0  0.127567     0.6  1.095110   \n",
       "4074       1.143461        0.0     0.0 -0.801761     0.7 -0.915543   \n",
       "98778     -1.142761        0.0     0.0  0.354413     0.4  1.094963   \n",
       "\n",
       "        NumOfProducts  HasCrCard  IsActiveMember  EstimatedSalary  \n",
       "id                                                                 \n",
       "63806        0.333333        0.0             1.0        -1.987961  \n",
       "29783        0.000000        1.0             1.0         0.657130  \n",
       "8017         0.000000        1.0             1.0        -1.245744  \n",
       "51414        0.000000        1.0             1.0         1.431748  \n",
       "103027       0.000000        0.0             1.0        -0.721095  \n",
       "...               ...        ...             ...              ...  \n",
       "87099        0.333333        0.0             0.0        -1.343312  \n",
       "85783        0.000000        1.0             0.0        -0.516755  \n",
       "8922         0.000000        1.0             1.0         1.064312  \n",
       "4074         0.333333        0.0             0.0         0.582531  \n",
       "98778        0.000000        1.0             1.0         1.178252  \n",
       "\n",
       "[123775 rows x 10 columns]"
      ]
     },
     "execution_count": 17,
     "metadata": {},
     "output_type": "execute_result"
    }
   ],
   "source": [
    "X_train_scld"
   ]
  },
  {
   "cell_type": "markdown",
   "id": "037d6c18",
   "metadata": {},
   "source": [
    "# Model"
   ]
  },
  {
   "cell_type": "code",
   "execution_count": 18,
   "id": "0c49222b",
   "metadata": {},
   "outputs": [
    {
     "data": {
      "text/plain": [
       "(123775, 10)"
      ]
     },
     "execution_count": 18,
     "metadata": {},
     "output_type": "execute_result"
    }
   ],
   "source": [
    "X_train_scld.shape"
   ]
  },
  {
   "cell_type": "code",
   "execution_count": null,
   "id": "3cff297e",
   "metadata": {},
   "outputs": [],
   "source": [
    "class SimpleNN(nn.Module):\n",
    "    def __init__(self, input_size, hidden_size1, hidden_size2, output_size):\n",
    "        super(SimpleNN, self).__init__()\n",
    "        self.fc1 = nn.Linear(input_size, hidden_size1)\n",
    "        self.relu1 = nn.ReLU()\n",
    "        self.fc2 = nn.Linear(hidden_size1, hidden_size2)\n",
    "        self.relu2 = nn.ReLU()\n",
    "        self.fc3 = nn.Linear(hidden_size2, output_size)\n",
    "        self.sigmoid = nn.Sigmoid()\n",
    "\n",
    "    def forward(self, x):\n",
    "        x = self.fc1(x)\n",
    "        x = self.relu1(x)\n",
    "        x = self.fc2(x)\n",
    "        x = self.relu2(x)\n",
    "        x = self.fc3(x)\n",
    "        x = self.sigmoid(x)\n",
    "        return x"
   ]
  },
  {
   "cell_type": "code",
   "execution_count": null,
   "id": "db8f420f",
   "metadata": {},
   "outputs": [],
   "source": [
    "# Fonction de perte pondérée pour classes déséquilibrées\n",
    "def weighted_binary_cross_entropy(output, target, weights=None):\n",
    "    if weights is not None:\n",
    "        assert len(weights) == 2\n",
    "\n",
    "        loss = weights[1] * (target * torch.log(output + 1e-10)) + \\\n",
    "               weights[0] * ((1 - target) * torch.log(1 - output + 1e-10))\n",
    "    else:\n",
    "        loss = target * torch.log(output + 1e-10) + (1 - target) * torch.log(1 - output + 1e-10)\n",
    "\n",
    "    return torch.neg(torch.mean(loss))"
   ]
  },
  {
   "cell_type": "code",
   "execution_count": null,
   "id": "d94a8a13",
   "metadata": {},
   "outputs": [],
   "source": [
    "input_size = # Taille de votre vecteur d'entrée\n",
    "hidden_size1 = 32\n",
    "hidden_size2 = 16\n",
    "output_size = 1\n",
    "model = SimpleNN(input_size, hidden_size1, hidden_size2, output_size)\n",
    "weights = [0.2, 0.8]  # À ajuster selon le déséquilibre de vos classes\n",
    "criterion = weighted_binary_cross_entropy\n",
    "optimizer = optim.Adam(model.parameters(), lr=0.001)"
   ]
  },
  {
   "cell_type": "code",
   "execution_count": null,
   "id": "64e368ed",
   "metadata": {},
   "outputs": [],
   "source": [
    "# Paramètres du modèle\n",
    "  # Pour une classification binaire\n",
    "\n",
    "# Création du modèle\n",
    "\n",
    "\n",
    "# Définition de la fonction de perte pondérée\n",
    "\n",
    "\n",
    "# Optimiseur\n",
    "\n",
    "\n",
    "# Entraînement du modèle avec vos données\n",
    "# Assurez-vous de prétraiter vos données et de les convertir en tensors PyTorch avant de les utiliser\n",
    "# DataLoader peut être utilisé pour gérer les batches de données\n",
    "\n",
    "# Exemple de DataLoader\n",
    "# train_loader = DataLoader(train_dataset, batch_size=64, shuffle=True)\n",
    "\n",
    "# Boucle d'entraînement\n",
    "\n",
    "\n",
    "# Une fois que le modèle est entraîné, vous pouvez l'utiliser pour effectuer des prédictions.\n",
    "# Assurez-vous de convertir vos données de test en tensors PyTorch et de les passer à travers le modèle.\n"
   ]
  },
  {
   "cell_type": "code",
   "execution_count": null,
   "id": "999344c5",
   "metadata": {},
   "outputs": [],
   "source": [
    "num_epochs = 10\n",
    "for epoch in range(num_epochs):\n",
    "    for inputs, labels in train_loader:\n",
    "        optimizer.zero_grad()\n",
    "        outputs = model(inputs)\n",
    "        loss = criterion(outputs, labels, weights)\n",
    "        loss.backward()\n",
    "        optimizer.step()"
   ]
  },
  {
   "cell_type": "code",
   "execution_count": 20,
   "id": "1a94da07",
   "metadata": {},
   "outputs": [
    {
     "data": {
      "image/png": "[encoded data removed]",
      "text/plain": [
       "<Figure size 1200x500 with 2 Axes>"
      ]
     },
     "metadata": {},
     "output_type": "display_data"
    }
   ],
   "source": [
    "plot_history(history, 'accuracy')"
   ]
  },
  {
   "cell_type": "markdown",
   "id": "a08721bb",
   "metadata": {},
   "source": [
    "# Score"
   ]
  },
  {
   "cell_type": "code",
   "execution_count": 21,
   "id": "f1dc2455",
   "metadata": {},
   "outputs": [
    {
     "name": "stdout",
     "output_type": "stream",
     "text": [
      "1290/1290 [==============================] - 2s 2ms/step\n"
     ]
    }
   ],
   "source": [
    "pred = model.predict(X_test_scld.values)"
   ]
  },
  {
   "cell_type": "code",
   "execution_count": 36,
   "id": "f51ca946",
   "metadata": {},
   "outputs": [
    {
     "name": "stdout",
     "output_type": "stream",
     "text": [
      "Roc Auc Score : 0.814817\n"
     ]
    }
   ],
   "source": [
    "RocScore  = roc_auc_score(y_test, pred[:,0])\n",
    "print(f'Roc Auc Score : {RocScore:.6f}')"
   ]
  },
  {
   "cell_type": "code",
   "execution_count": 86,
   "id": "52426c95",
   "metadata": {},
   "outputs": [
    {
     "data": {
      "text/plain": [
       "<sklearn.metrics._plot.roc_curve.RocCurveDisplay at 0x3154cfc50>"
      ]
     },
     "execution_count": 86,
     "metadata": {},
     "output_type": "execute_result"
    },
    {
     "data": {
      "image/png": "[encoded data removed]",
      "text/plain": [
       "<Figure size 640x480 with 1 Axes>"
      ]
     },
     "metadata": {},
     "output_type": "display_data"
    }
   ],
   "source": [
    "RocCurveDisplay.from_predictions(y_test,pred[:,0])"
   ]
  },
  {
   "cell_type": "code",
   "execution_count": 79,
   "id": "2cc9c801",
   "metadata": {},
   "outputs": [
    {
     "data": {
      "text/plain": [
       "<sklearn.metrics._plot.confusion_matrix.ConfusionMatrixDisplay at 0x314634c10>"
      ]
     },
     "execution_count": 79,
     "metadata": {},
     "output_type": "execute_result"
    },
    {
     "data": {
      "image/png": "[encoded data removed]",
      "text/plain": [
       "<Figure size 640x480 with 2 Axes>"
      ]
     },
     "metadata": {},
     "output_type": "display_data"
    }
   ],
   "source": [
    "ConfusionMatrixDisplay(confusion_matrix(y_test,pred[:,0]>0.5, normalize='all')).plot()"
   ]
  },
  {
   "cell_type": "markdown",
   "id": "b880f7fb",
   "metadata": {},
   "source": [
    "# Submission"
   ]
  },
  {
   "cell_type": "code",
   "execution_count": null,
   "id": "9393658a",
   "metadata": {},
   "outputs": [],
   "source": [
    "X_val_scld = prepro.transform(test)"
   ]
  },
  {
   "cell_type": "code",
   "execution_count": null,
   "id": "b927754e",
   "metadata": {},
   "outputs": [],
   "source": [
    "submission = pd.read_csv(\"data/sample_submission.csv\", index_col='id')"
   ]
  },
  {
   "cell_type": "code",
   "execution_count": null,
   "id": "ae796018",
   "metadata": {},
   "outputs": [
    {
     "name": "stderr",
     "output_type": "stream",
     "text": [
      "/Users/marc/Library/Mobile Documents/com~apple~CloudDocs/Projects/Playground/playgroundseries_s4e1/.venv/lib/python3.10/site-packages/sklearn/base.py:458: UserWarning: X has feature names, but MLPClassifier was fitted without feature names\n",
      "  warnings.warn(\n"
     ]
    }
   ],
   "source": [
    "submission.loc[:,'Exited'] = nn.predict_proba(X_val_scld)[:,1]"
   ]
  },
  {
   "cell_type": "code",
   "execution_count": null,
   "id": "6ec16618",
   "metadata": {},
   "outputs": [
    {
     "data": {
      "text/html": [
       "<div>\n",
       "<style scoped>\n",
       "    .dataframe tbody tr th:only-of-type {\n",
       "        vertical-align: middle;\n",
       "    }\n",
       "\n",
       "    .dataframe tbody tr th {\n",
       "        vertical-align: top;\n",
       "    }\n",
       "\n",
       "    .dataframe thead th {\n",
       "        text-align: right;\n",
       "    }\n",
       "</style>\n",
       "<table border=\"1\" class=\"dataframe\">\n",
       "  <thead>\n",
       "    <tr style=\"text-align: right;\">\n",
       "      <th></th>\n",
       "      <th>Exited</th>\n",
       "    </tr>\n",
       "    <tr>\n",
       "      <th>id</th>\n",
       "      <th></th>\n",
       "    </tr>\n",
       "  </thead>\n",
       "  <tbody>\n",
       "    <tr>\n",
       "      <th>165034</th>\n",
       "      <td>0.085936</td>\n",
       "    </tr>\n",
       "    <tr>\n",
       "      <th>165035</th>\n",
       "      <td>0.947197</td>\n",
       "    </tr>\n",
       "    <tr>\n",
       "      <th>165036</th>\n",
       "      <td>0.079534</td>\n",
       "    </tr>\n",
       "    <tr>\n",
       "      <th>165037</th>\n",
       "      <td>0.519489</td>\n",
       "    </tr>\n",
       "    <tr>\n",
       "      <th>165038</th>\n",
       "      <td>0.638603</td>\n",
       "    </tr>\n",
       "    <tr>\n",
       "      <th>...</th>\n",
       "      <td>...</td>\n",
       "    </tr>\n",
       "    <tr>\n",
       "      <th>275052</th>\n",
       "      <td>0.132850</td>\n",
       "    </tr>\n",
       "    <tr>\n",
       "      <th>275053</th>\n",
       "      <td>0.217605</td>\n",
       "    </tr>\n",
       "    <tr>\n",
       "      <th>275054</th>\n",
       "      <td>0.071276</td>\n",
       "    </tr>\n",
       "    <tr>\n",
       "      <th>275055</th>\n",
       "      <td>0.381622</td>\n",
       "    </tr>\n",
       "    <tr>\n",
       "      <th>275056</th>\n",
       "      <td>0.496457</td>\n",
       "    </tr>\n",
       "  </tbody>\n",
       "</table>\n",
       "<p>110023 rows × 1 columns</p>\n",
       "</div>"
      ],
      "text/plain": [
       "          Exited\n",
       "id              \n",
       "165034  0.085936\n",
       "165035  0.947197\n",
       "165036  0.079534\n",
       "165037  0.519489\n",
       "165038  0.638603\n",
       "...          ...\n",
       "275052  0.132850\n",
       "275053  0.217605\n",
       "275054  0.071276\n",
       "275055  0.381622\n",
       "275056  0.496457\n",
       "\n",
       "[110023 rows x 1 columns]"
      ]
     },
     "execution_count": 20,
     "metadata": {},
     "output_type": "execute_result"
    }
   ],
   "source": [
    "submission"
   ]
  },
  {
   "cell_type": "code",
   "execution_count": null,
   "id": "d93b07d8",
   "metadata": {},
   "outputs": [],
   "source": [
    "name = dt.now().strftime(\"%Y%m%d_%H%M\")"
   ]
  },
  {
   "cell_type": "code",
   "execution_count": null,
   "id": "eed84da8",
   "metadata": {},
   "outputs": [],
   "source": [
    "#submission.to_csv(f\"submission/{name}.csv\")"
   ]
  },
  {
   "cell_type": "code",
   "execution_count": null,
   "id": "e7ef458e",
   "metadata": {},
   "outputs": [],
   "source": []
  }
 ],
 "metadata": {
  "kernelspec": {
   "display_name": "Python 3",
   "language": "python",
   "name": "python3"
  },
  "language_info": {
   "codemirror_mode": {
    "name": "ipython",
    "version": 3
   },
   "file_extension": ".py",
   "mimetype": "text/x-python",
   "name": "python",
   "nbconvert_exporter": "python",
   "pygments_lexer": "ipython3",
   "version": "3.11.7"
  }
 },
 "nbformat": 4,
 "nbformat_minor": 5
}
