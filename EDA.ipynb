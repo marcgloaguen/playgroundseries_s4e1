{
 "cells": [
  {
   "cell_type": "code",
   "execution_count": 3,
   "id": "initial_id",
   "metadata": {
    "ExecuteTime": {
     "end_time": "2024-01-03T17:48:56.428983Z",
     "start_time": "2024-01-03T17:48:56.424018Z"
    },
    "collapsed": true
   },
   "outputs": [],
   "source": [
    "import pandas as pd\n",
    "import seaborn as sns\n",
    "import matplotlib.pyplot as plt"
   ]
  },
  {
   "cell_type": "code",
   "execution_count": 4,
   "id": "d6cf61b09e2b3645",
   "metadata": {
    "ExecuteTime": {
     "end_time": "2024-01-03T17:19:56.079954Z",
     "start_time": "2024-01-03T17:19:55.885513Z"
    },
    "collapsed": false
   },
   "outputs": [],
   "source": [
    "train = pd.read_csv('data/train.csv', index_col='id')\n",
    "test = pd.read_csv('data/test.csv', index_col='id')"
   ]
  },
  {
   "cell_type": "code",
   "execution_count": 5,
   "id": "cd96846dc847dae6",
   "metadata": {
    "ExecuteTime": {
     "end_time": "2024-01-03T17:29:24.125686Z",
     "start_time": "2024-01-03T17:29:24.117723Z"
    },
    "collapsed": false
   },
   "outputs": [
    {
     "data": {
      "text/plain": [
       "((165034, 13), (110023, 12))"
      ]
     },
     "execution_count": 5,
     "metadata": {},
     "output_type": "execute_result"
    }
   ],
   "source": [
    "train.shape, test.shape"
   ]
  },
  {
   "cell_type": "markdown",
   "id": "f305b7aea731c80e",
   "metadata": {
    "collapsed": false
   },
   "source": [
    "# Comparaison de la distribution du train et du test"
   ]
  },
  {
   "cell_type": "code",
   "execution_count": 6,
   "id": "fcafc0a9728ed28b",
   "metadata": {
    "ExecuteTime": {
     "start_time": "2024-01-03T17:20:06.738584Z"
    },
    "collapsed": false
   },
   "outputs": [],
   "source": [
    "# Je flag les dataset train et test pour ensuite les concat ensembles pour analyser l'ensemble complet des données qualitatives\n",
    "train.insert(0,'origin','train')\n",
    "test.insert(0,'origin','test')"
   ]
  },
  {
   "cell_type": "code",
   "execution_count": 7,
   "id": "9d12ab7d8a4bb8e2",
   "metadata": {
    "ExecuteTime": {
     "start_time": "2024-01-03T17:21:24.037755Z"
    },
    "collapsed": false
   },
   "outputs": [],
   "source": [
    "data = pd.concat([train,test], axis=0)"
   ]
  },
  {
   "cell_type": "code",
   "execution_count": 8,
   "id": "788d657803109efb",
   "metadata": {
    "ExecuteTime": {
     "start_time": "2024-01-03T17:26:39.099103Z"
    },
    "collapsed": false
   },
   "outputs": [],
   "source": [
    "# drop les columns qui ne semple pas utile pour la problématique\n",
    "data.drop(columns=['CustomerId','Surname'], inplace=True)"
   ]
  },
  {
   "cell_type": "code",
   "execution_count": 9,
   "id": "aa10afe12df6e91c",
   "metadata": {
    "ExecuteTime": {
     "end_time": "2024-01-03T17:31:13.331431Z",
     "start_time": "2024-01-03T17:31:13.310089Z"
    },
    "collapsed": false
   },
   "outputs": [
    {
     "name": "stdout",
     "output_type": "stream",
     "text": [
      "<class 'pandas.core.frame.DataFrame'>\n",
      "Index: 275057 entries, 0 to 275056\n",
      "Data columns (total 12 columns):\n",
      " #   Column           Non-Null Count   Dtype  \n",
      "---  ------           --------------   -----  \n",
      " 0   origin           275057 non-null  object \n",
      " 1   CreditScore      275057 non-null  int64  \n",
      " 2   Geography        275057 non-null  object \n",
      " 3   Gender           275057 non-null  object \n",
      " 4   Age              275057 non-null  float64\n",
      " 5   Tenure           275057 non-null  int64  \n",
      " 6   Balance          275057 non-null  float64\n",
      " 7   NumOfProducts    275057 non-null  int64  \n",
      " 8   HasCrCard        275057 non-null  float64\n",
      " 9   IsActiveMember   275057 non-null  float64\n",
      " 10  EstimatedSalary  275057 non-null  float64\n",
      " 11  Exited           165034 non-null  float64\n",
      "dtypes: float64(6), int64(3), object(3)\n",
      "memory usage: 27.3+ MB\n"
     ]
    }
   ],
   "source": [
    "data.info()"
   ]
  },
  {
   "cell_type": "markdown",
   "id": "3a16c8f505feb8f",
   "metadata": {
    "collapsed": false
   },
   "source": [
    "## Qualitatives"
   ]
  },
  {
   "cell_type": "code",
   "execution_count": 10,
   "id": "6c8274fcf4540f46",
   "metadata": {
    "ExecuteTime": {
     "end_time": "2024-01-03T17:46:36.067517Z",
     "start_time": "2024-01-03T17:46:35.830582Z"
    },
    "collapsed": false
   },
   "outputs": [
    {
     "data": {
      "image/png": "[encoded data removed]",
      "text/plain": [
       "<Figure size 600x600 with 4 Axes>"
      ]
     },
     "metadata": {},
     "output_type": "display_data"
    }
   ],
   "source": [
    "_ , axes = plt.subplots(nrows=2, ncols=2, figsize=(6, 6))\n",
    "\n",
    "for x, origin in enumerate(data['origin'].unique()):\n",
    "    axes[0,x].set_title(f'Dataset : {origin}') \n",
    "    for y, column in enumerate(data.select_dtypes('object').columns[1:]) :\n",
    "        subset_data = data[data.origin == origin][column].value_counts(normalize=True)\n",
    "        axes[y,x].bar(subset_data.index, subset_data)\n",
    "        axes[y,x].set_xlabel(column)\n",
    "\n",
    "plt.tight_layout()\n",
    "plt.show()"
   ]
  },
  {
   "cell_type": "markdown",
   "id": "439b7c1cb4923858",
   "metadata": {
    "collapsed": false
   },
   "source": [
    "Nous pouvons observer ci-dessus que notre échantillon train et test on la meme répartition pour les deux features catégorielles"
   ]
  },
  {
   "cell_type": "markdown",
   "id": "ea9551736d777307",
   "metadata": {
    "collapsed": false
   },
   "source": [
    "## Quantitatives"
   ]
  },
  {
   "cell_type": "code",
   "execution_count": null,
   "id": "beeb85f68c2965d0",
   "metadata": {
    "collapsed": false
   },
   "outputs": [],
   "source": []
  },
  {
   "cell_type": "markdown",
   "id": "1d40d2fd1deae0b6",
   "metadata": {
    "collapsed": false
   },
   "source": [
    "# Analyse du churn en fonction des features"
   ]
  },
  {
   "cell_type": "code",
   "execution_count": 11,
   "id": "371fea3b1858829c",
   "metadata": {
    "collapsed": false
   },
   "outputs": [],
   "source": [
    "train.drop(columns=['origin','CustomerId','Surname'], inplace=True)"
   ]
  },
  {
   "cell_type": "code",
   "execution_count": 12,
   "id": "3652e552e0713f1",
   "metadata": {
    "ExecuteTime": {
     "end_time": "2024-01-03T18:07:34.612499Z",
     "start_time": "2024-01-03T18:07:34.582591Z"
    },
    "collapsed": false
   },
   "outputs": [
    {
     "data": {
      "image/png": "[encoded data removed]",
      "text/plain": [
       "<Figure size 300x300 with 1 Axes>"
      ]
     },
     "metadata": {},
     "output_type": "display_data"
    }
   ],
   "source": [
    "_ , axes = plt.subplots(nrows=1, ncols=1, figsize=(3, 3))\n",
    "subset_data = train.Exited.value_counts(True)*100\n",
    "axes.bar(subset_data.index, subset_data)\n",
    "axes.set_xlabel('Exited')\n",
    "axes.set_ylabel('Percentage')\n",
    "axes.set_ylim(0, 100)\n",
    "axes.set_xticks(subset_data.index)\n",
    "\n",
    "plt.show()"
   ]
  },
  {
   "cell_type": "markdown",
   "id": "7d5fa57851f5d072",
   "metadata": {
    "collapsed": false
   },
   "source": [
    "target unbalanced"
   ]
  },
  {
   "cell_type": "code",
   "execution_count": 15,
   "id": "c592ad751960dd8",
   "metadata": {
    "ExecuteTime": {
     "end_time": "2024-01-03T18:04:19.794321Z",
     "start_time": "2024-01-03T18:04:19.694218Z"
    },
    "collapsed": false
   },
   "outputs": [
    {
     "data": {
      "image/png": "[encoded data removed]",
      "text/plain": [
       "<Figure size 600x300 with 2 Axes>"
      ]
     },
     "metadata": {},
     "output_type": "display_data"
    }
   ],
   "source": [
    "_ , axes = plt.subplots(nrows=1, ncols=2, figsize=(6, 3))\n",
    "\n",
    "for x, gender in enumerate(train.Gender.unique()) :\n",
    "    axes[x].set_title(f'{gender}') \n",
    "    subset_data = train[train.Gender == gender].Exited.value_counts(True)*100\n",
    "    axes[x].bar(subset_data.index, subset_data)\n",
    "    axes[x].set_xlabel('Exited')\n",
    "    axes[x].set_ylabel('Percentage')\n",
    "    axes[x].set_ylim(0, 100)\n",
    "    axes[x].set_xticks(subset_data.index)\n",
    "plt.tight_layout()\n",
    "plt.show()"
   ]
  },
  {
   "cell_type": "markdown",
   "id": "4502086b4b52f89d",
   "metadata": {
    "collapsed": false
   },
   "source": [
    "Plus de churn chez les femmes que les hommes"
   ]
  },
  {
   "cell_type": "code",
   "execution_count": 14,
   "id": "300e8cf9204d8573",
   "metadata": {
    "ExecuteTime": {
     "end_time": "2024-01-03T18:05:06.098919Z",
     "start_time": "2024-01-03T18:05:05.969167Z"
    },
    "collapsed": false
   },
   "outputs": [
    {
     "data": {
      "image/png": "[encoded data removed]",
      "text/plain": [
       "<Figure size 900x300 with 3 Axes>"
      ]
     },
     "metadata": {},
     "output_type": "display_data"
    }
   ],
   "source": [
    "_ , axes = plt.subplots(nrows=1, ncols=3, figsize=(9, 3))\n",
    "for x, geography in enumerate(train.Geography.unique()) :\n",
    "    axes[x].set_title(f'{geography}') \n",
    "    subset_data = train[train.Geography == geography].Exited.value_counts(True)*100\n",
    "    axes[x].bar(subset_data.index, subset_data)\n",
    "    axes[x].set_xlabel('Exited')\n",
    "    axes[x].set_ylabel('Percentage')\n",
    "    axes[x].set_ylim(0, 100)\n",
    "    axes[x].set_xticks(subset_data.index)\n",
    "plt.tight_layout()\n",
    "plt.show()"
   ]
  },
  {
   "cell_type": "markdown",
   "id": "671825fd7326e4a1",
   "metadata": {
    "collapsed": false
   },
   "source": [
    "Plus de churn en Allemagne qu'en france ou Espagne"
   ]
  },
  {
   "cell_type": "code",
   "execution_count": null,
   "id": "f2ef2e6a4b642233",
   "metadata": {
    "collapsed": false
   },
   "outputs": [],
   "source": []
  }
 ],
 "metadata": {
  "kernelspec": {
   "display_name": "Python 3",
   "language": "python",
   "name": "python3"
  },
  "language_info": {
   "codemirror_mode": {
    "name": "ipython",
    "version": 3
   },
   "file_extension": ".py",
   "mimetype": "text/x-python",
   "name": "python",
   "nbconvert_exporter": "python",
   "pygments_lexer": "ipython3",
   "version": "3.10.0"
  }
 },
 "nbformat": 4,
 "nbformat_minor": 5
}
