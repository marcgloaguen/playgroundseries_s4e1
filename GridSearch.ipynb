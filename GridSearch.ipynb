{
 "cells": [
  {
   "cell_type": "code",
   "execution_count": 2,
   "metadata": {},
   "outputs": [],
   "source": [
    "from skopt import BayesSearchCV\n",
    "from datetime import datetime as dt\n",
    "\n",
    "import numpy as np\n",
    "import pandas as pd\n",
    "\n",
    "from preprocessing import Preprocessing\n",
    "from sklearn.model_selection import StratifiedKFold, GridSearchCV\n",
    "\n",
    "\n",
    "from sklearn.ensemble import RandomForestClassifier, HistGradientBoostingClassifier, GradientBoostingClassifier, AdaBoostClassifier\n",
    "from sklearn.ensemble import VotingClassifier\n",
    "from xgboost import XGBClassifier\n",
    "from catboost import CatBoostClassifier\n",
    "from lightgbm import LGBMClassifier"
   ]
  },
  {
   "cell_type": "code",
   "execution_count": 3,
   "metadata": {},
   "outputs": [],
   "source": [
    "col_drop = ['CustomerId','Surname']\n",
    "types = {\n",
    "    'HasCrCard':bool,\n",
    "    'IsActiveMember':bool\n",
    "}\n",
    "train = pd.read_csv('data/train.csv', index_col='id', dtype=types).drop(columns=col_drop)\n",
    "train.drop_duplicates(inplace=True)"
   ]
  },
  {
   "cell_type": "code",
   "execution_count": 4,
   "metadata": {},
   "outputs": [],
   "source": [
    "X = train.drop(columns='Exited')\n",
    "y = train.Exited"
   ]
  },
  {
   "cell_type": "code",
   "execution_count": 5,
   "metadata": {},
   "outputs": [],
   "source": [
    "prepro = Preprocessing()\n",
    "X_scld = prepro.fit_transform(X).astype(float)"
   ]
  },
  {
   "cell_type": "code",
   "execution_count": 6,
   "metadata": {},
   "outputs": [],
   "source": [
    "skf = StratifiedKFold(n_splits=5)"
   ]
  },
  {
   "cell_type": "code",
   "execution_count": 7,
   "metadata": {},
   "outputs": [],
   "source": [
    "params = {\n",
    "    \"n_estimators\" : [100,200,400,500,800],\n",
    "    'max_depth':[8,16,32],\n",
    "    'min_samples_split':[8,16,32,64],\n",
    "    'min_samples_leaf':[8,16,32],\n",
    "\n",
    "}\n",
    "grid = GridSearchCV(\n",
    "    RandomForestClassifier(),\n",
    "    params,\n",
    "    cv=skf,\n",
    "    scoring='roc_auc',\n",
    "    n_jobs = -1,\n",
    "    verbose=10\n",
    ")"
   ]
  },
  {
   "cell_type": "code",
   "execution_count": 8,
   "metadata": {},
   "outputs": [
    {
     "name": "stdout",
     "output_type": "stream",
     "text": [
      "Fitting 5 folds for each of 180 candidates, totalling 900 fits\n",
      "[CV 3/5; 1/180] START max_depth=8, min_samples_leaf=8, min_samples_split=8, n_estimators=100\n",
      "[CV 4/5; 1/180] START max_depth=8, min_samples_leaf=8, min_samples_split=8, n_estimators=100\n",
      "[CV 2/5; 1/180] START max_depth=8, min_samples_leaf=8, min_samples_split=8, n_estimators=100\n",
      "[CV 4/5; 2/180] START max_depth=8, min_samples_leaf=8, min_samples_split=8, n_estimators=200\n",
      "[CV 1/5; 3/180] START max_depth=8, min_samples_leaf=8, min_samples_split=8, n_estimators=400\n",
      "[CV 5/5; 1/180] START max_depth=8, min_samples_leaf=8, min_samples_split=8, n_estimators=100\n",
      "[CV 1/5; 1/180] START max_depth=8, min_samples_leaf=8, min_samples_split=8, n_estimators=100\n",
      "[CV 2/5; 3/180] START max_depth=8, min_samples_leaf=8, min_samples_split=8, n_estimators=400\n",
      "[CV 3/5; 2/180] START max_depth=8, min_samples_leaf=8, min_samples_split=8, n_estimators=200\n",
      "[CV 5/5; 2/180] START max_depth=8, min_samples_leaf=8, min_samples_split=8, n_estimators=200\n",
      "[CV 2/5; 2/180] START max_depth=8, min_samples_leaf=8, min_samples_split=8, n_estimators=200\n",
      "[CV 1/5; 2/180] START max_depth=8, min_samples_leaf=8, min_samples_split=8, n_estimators=200\n",
      "[CV 1/5; 1/180] END max_depth=8, min_samples_leaf=8, min_samples_split=8, n_estimators=100;, score=0.889 total time=   6.5s\n",
      "[CV 3/5; 3/180] START max_depth=8, min_samples_leaf=8, min_samples_split=8, n_estimators=400\n",
      "[CV 3/5; 1/180] END max_depth=8, min_samples_leaf=8, min_samples_split=8, n_estimators=100;, score=0.887 total time=   8.4s\n",
      "[CV 4/5; 3/180] START max_depth=8, min_samples_leaf=8, min_samples_split=8, n_estimators=400\n",
      "[CV 5/5; 1/180] END max_depth=8, min_samples_leaf=8, min_samples_split=8, n_estimators=100;, score=0.884 total time=   8.6s\n",
      "[CV 5/5; 3/180] START max_depth=8, min_samples_leaf=8, min_samples_split=8, n_estimators=400\n",
      "[CV 4/5; 1/180] END max_depth=8, min_samples_leaf=8, min_samples_split=8, n_estimators=100;, score=0.885 total time=   8.7s\n",
      "[CV 1/5; 4/180] START max_depth=8, min_samples_leaf=8, min_samples_split=8, n_estimators=500\n",
      "[CV 2/5; 1/180] END max_depth=8, min_samples_leaf=8, min_samples_split=8, n_estimators=100;, score=0.884 total time=   9.0s\n",
      "[CV 2/5; 4/180] START max_depth=8, min_samples_leaf=8, min_samples_split=8, n_estimators=500\n",
      "[CV 3/5; 2/180] END max_depth=8, min_samples_leaf=8, min_samples_split=8, n_estimators=200;, score=0.887 total time=  13.3s\n",
      "[CV 3/5; 4/180] START max_depth=8, min_samples_leaf=8, min_samples_split=8, n_estimators=500\n",
      "[CV 5/5; 2/180] END max_depth=8, min_samples_leaf=8, min_samples_split=8, n_estimators=200;, score=0.885 total time=  13.3s\n",
      "[CV 4/5; 2/180] END max_depth=8, min_samples_leaf=8, min_samples_split=8, n_estimators=200;, score=0.885 total time=  13.4s\n",
      "[CV 4/5; 4/180] START max_depth=8, min_samples_leaf=8, min_samples_split=8, n_estimators=500\n",
      "[CV 5/5; 4/180] START max_depth=8, min_samples_leaf=8, min_samples_split=8, n_estimators=500\n",
      "[CV 1/5; 2/180] END max_depth=8, min_samples_leaf=8, min_samples_split=8, n_estimators=200;, score=0.889 total time=  17.9s\n",
      "[CV 2/5; 2/180] END max_depth=8, min_samples_leaf=8, min_samples_split=8, n_estimators=200;, score=0.883 total time=  18.0s\n",
      "[CV 1/5; 5/180] START max_depth=8, min_samples_leaf=8, min_samples_split=8, n_estimators=800\n",
      "[CV 2/5; 5/180] START max_depth=8, min_samples_leaf=8, min_samples_split=8, n_estimators=800\n",
      "[CV 1/5; 3/180] END max_depth=8, min_samples_leaf=8, min_samples_split=8, n_estimators=400;, score=0.890 total time=  27.3s\n",
      "[CV 3/5; 5/180] START max_depth=8, min_samples_leaf=8, min_samples_split=8, n_estimators=800\n",
      "[CV 2/5; 3/180] END max_depth=8, min_samples_leaf=8, min_samples_split=8, n_estimators=400;, score=0.884 total time=  27.4s\n",
      "[CV 4/5; 5/180] START max_depth=8, min_samples_leaf=8, min_samples_split=8, n_estimators=800\n",
      "[CV 3/5; 3/180] END max_depth=8, min_samples_leaf=8, min_samples_split=8, n_estimators=400;, score=0.887 total time=  27.6s\n",
      "[CV 5/5; 5/180] START max_depth=8, min_samples_leaf=8, min_samples_split=8, n_estimators=800\n",
      "[CV 4/5; 3/180] END max_depth=8, min_samples_leaf=8, min_samples_split=8, n_estimators=400;, score=0.885 total time=  39.1s\n",
      "[CV 1/5; 6/180] START max_depth=8, min_samples_leaf=8, min_samples_split=16, n_estimators=100\n",
      "[CV 5/5; 3/180] END max_depth=8, min_samples_leaf=8, min_samples_split=8, n_estimators=400;, score=0.885 total time=  39.7s\n",
      "[CV 2/5; 6/180] START max_depth=8, min_samples_leaf=8, min_samples_split=16, n_estimators=100\n",
      "[CV 3/5; 4/180] END max_depth=8, min_samples_leaf=8, min_samples_split=8, n_estimators=500;, score=0.887 total time=  35.3s\n",
      "[CV 3/5; 6/180] START max_depth=8, min_samples_leaf=8, min_samples_split=16, n_estimators=100\n",
      "[CV 5/5; 4/180] END max_depth=8, min_samples_leaf=8, min_samples_split=8, n_estimators=500;, score=0.885 total time=  35.9s\n",
      "[CV 4/5; 6/180] START max_depth=8, min_samples_leaf=8, min_samples_split=16, n_estimators=100\n",
      "[CV 4/5; 4/180] END max_depth=8, min_samples_leaf=8, min_samples_split=8, n_estimators=500;, score=0.885 total time=  36.1s\n",
      "[CV 5/5; 6/180] START max_depth=8, min_samples_leaf=8, min_samples_split=16, n_estimators=100\n",
      "[CV 3/5; 6/180] END max_depth=8, min_samples_leaf=8, min_samples_split=16, n_estimators=100;, score=0.887 total time=   7.5s\n",
      "[CV 1/5; 7/180] START max_depth=8, min_samples_leaf=8, min_samples_split=16, n_estimators=200\n",
      "[CV 4/5; 6/180] END max_depth=8, min_samples_leaf=8, min_samples_split=16, n_estimators=100;, score=0.885 total time=   7.1s\n",
      "[CV 5/5; 6/180] END max_depth=8, min_samples_leaf=8, min_samples_split=16, n_estimators=100;, score=0.885 total time=   7.1s\n",
      "[CV 2/5; 7/180] START max_depth=8, min_samples_leaf=8, min_samples_split=16, n_estimators=200\n",
      "[CV 3/5; 7/180] START max_depth=8, min_samples_leaf=8, min_samples_split=16, n_estimators=200\n",
      "[CV 1/5; 4/180] END max_depth=8, min_samples_leaf=8, min_samples_split=8, n_estimators=500;, score=0.889 total time=  48.8s\n",
      "[CV 4/5; 7/180] START max_depth=8, min_samples_leaf=8, min_samples_split=16, n_estimators=200\n",
      "[CV 2/5; 4/180] END max_depth=8, min_samples_leaf=8, min_samples_split=8, n_estimators=500;, score=0.884 total time=  48.7s\n",
      "[CV 5/5; 7/180] START max_depth=8, min_samples_leaf=8, min_samples_split=16, n_estimators=200\n",
      "[CV 1/5; 6/180] END max_depth=8, min_samples_leaf=8, min_samples_split=16, n_estimators=100;, score=0.889 total time=  10.2s\n",
      "[CV 1/5; 8/180] START max_depth=8, min_samples_leaf=8, min_samples_split=16, n_estimators=400\n",
      "[CV 2/5; 6/180] END max_depth=8, min_samples_leaf=8, min_samples_split=16, n_estimators=100;, score=0.883 total time=  10.1s\n",
      "[CV 2/5; 8/180] START max_depth=8, min_samples_leaf=8, min_samples_split=16, n_estimators=400\n",
      "[CV 1/5; 7/180] END max_depth=8, min_samples_leaf=8, min_samples_split=16, n_estimators=200;, score=0.889 total time=  14.4s\n",
      "[CV 3/5; 8/180] START max_depth=8, min_samples_leaf=8, min_samples_split=16, n_estimators=400\n",
      "[CV 3/5; 7/180] END max_depth=8, min_samples_leaf=8, min_samples_split=16, n_estimators=200;, score=0.887 total time=  14.4s\n",
      "[CV 2/5; 7/180] END max_depth=8, min_samples_leaf=8, min_samples_split=16, n_estimators=200;, score=0.883 total time=  14.5s\n",
      "[CV 4/5; 8/180] START max_depth=8, min_samples_leaf=8, min_samples_split=16, n_estimators=400\n",
      "[CV 5/5; 8/180] START max_depth=8, min_samples_leaf=8, min_samples_split=16, n_estimators=400\n",
      "[CV 4/5; 7/180] END max_depth=8, min_samples_leaf=8, min_samples_split=16, n_estimators=200;, score=0.885 total time=  20.2s\n",
      "[CV 1/5; 9/180] START max_depth=8, min_samples_leaf=8, min_samples_split=16, n_estimators=500\n",
      "[CV 5/5; 7/180] END max_depth=8, min_samples_leaf=8, min_samples_split=16, n_estimators=200;, score=0.885 total time=  21.0s\n",
      "[CV 2/5; 9/180] START max_depth=8, min_samples_leaf=8, min_samples_split=16, n_estimators=500\n",
      "[CV 3/5; 5/180] END max_depth=8, min_samples_leaf=8, min_samples_split=8, n_estimators=800;, score=0.887 total time=  58.1s\n",
      "[CV 3/5; 9/180] START max_depth=8, min_samples_leaf=8, min_samples_split=16, n_estimators=500\n",
      "[CV 4/5; 5/180] END max_depth=8, min_samples_leaf=8, min_samples_split=8, n_estimators=800;, score=0.885 total time=  58.3s\n",
      "[CV 4/5; 9/180] START max_depth=8, min_samples_leaf=8, min_samples_split=16, n_estimators=500\n",
      "[CV 5/5; 5/180] END max_depth=8, min_samples_leaf=8, min_samples_split=8, n_estimators=800;, score=0.885 total time=  58.3s\n",
      "[CV 5/5; 9/180] START max_depth=8, min_samples_leaf=8, min_samples_split=16, n_estimators=500\n",
      "[CV 1/5; 8/180] END max_depth=8, min_samples_leaf=8, min_samples_split=16, n_estimators=400;, score=0.889 total time=  37.5s\n",
      "[CV 1/5; 10/180] START max_depth=8, min_samples_leaf=8, min_samples_split=16, n_estimators=800\n",
      "[CV 2/5; 5/180] END max_depth=8, min_samples_leaf=8, min_samples_split=8, n_estimators=800;, score=0.884 total time= 1.3min\n",
      "[CV 2/5; 10/180] START max_depth=8, min_samples_leaf=8, min_samples_split=16, n_estimators=800\n",
      "[CV 1/5; 5/180] END max_depth=8, min_samples_leaf=8, min_samples_split=8, n_estimators=800;, score=0.890 total time= 1.3min\n",
      "[CV 3/5; 10/180] START max_depth=8, min_samples_leaf=8, min_samples_split=16, n_estimators=800\n",
      "[CV 2/5; 8/180] END max_depth=8, min_samples_leaf=8, min_samples_split=16, n_estimators=400;, score=0.884 total time=  40.1s\n",
      "[CV 4/5; 10/180] START max_depth=8, min_samples_leaf=8, min_samples_split=16, n_estimators=800\n",
      "[CV 3/5; 8/180] END max_depth=8, min_samples_leaf=8, min_samples_split=16, n_estimators=400;, score=0.887 total time=  29.3s\n",
      "[CV 5/5; 10/180] START max_depth=8, min_samples_leaf=8, min_samples_split=16, n_estimators=800\n",
      "[CV 5/5; 8/180] END max_depth=8, min_samples_leaf=8, min_samples_split=16, n_estimators=400;, score=0.885 total time=  29.3s\n",
      "[CV 1/5; 11/180] START max_depth=8, min_samples_leaf=8, min_samples_split=32, n_estimators=100\n",
      "[CV 4/5; 8/180] END max_depth=8, min_samples_leaf=8, min_samples_split=16, n_estimators=400;, score=0.885 total time=  29.5s\n",
      "[CV 2/5; 11/180] START max_depth=8, min_samples_leaf=8, min_samples_split=32, n_estimators=100\n",
      "[CV 1/5; 11/180] END max_depth=8, min_samples_leaf=8, min_samples_split=32, n_estimators=100;, score=0.889 total time=   7.3s\n",
      "[CV 3/5; 11/180] START max_depth=8, min_samples_leaf=8, min_samples_split=32, n_estimators=100\n",
      "[CV 2/5; 11/180] END max_depth=8, min_samples_leaf=8, min_samples_split=32, n_estimators=100;, score=0.884 total time=   7.2s\n",
      "[CV 4/5; 11/180] START max_depth=8, min_samples_leaf=8, min_samples_split=32, n_estimators=100\n",
      "[CV 4/5; 11/180] END max_depth=8, min_samples_leaf=8, min_samples_split=32, n_estimators=100;, score=0.885 total time=   6.9s\n",
      "[CV 3/5; 11/180] END max_depth=8, min_samples_leaf=8, min_samples_split=32, n_estimators=100;, score=0.887 total time=   7.0s\n",
      "[CV 1/5; 12/180] START max_depth=8, min_samples_leaf=8, min_samples_split=32, n_estimators=200\n",
      "[CV 5/5; 11/180] START max_depth=8, min_samples_leaf=8, min_samples_split=32, n_estimators=100\n"
     ]
    },
    {
     "ename": "KeyboardInterrupt",
     "evalue": "",
     "output_type": "error",
     "traceback": [
      "\u001b[0;31m---------------------------------------------------------------------------\u001b[0m",
      "\u001b[0;31mKeyboardInterrupt\u001b[0m                         Traceback (most recent call last)",
      "Cell \u001b[0;32mIn[8], line 1\u001b[0m\n\u001b[0;32m----> 1\u001b[0m \u001b[43mgrid\u001b[49m\u001b[38;5;241;43m.\u001b[39;49m\u001b[43mfit\u001b[49m\u001b[43m(\u001b[49m\u001b[43mX_scld\u001b[49m\u001b[43m,\u001b[49m\u001b[43my\u001b[49m\u001b[43m)\u001b[49m\n",
      "File \u001b[0;32m~/Library/Mobile Documents/com~apple~CloudDocs/Projects/Playground/playgroundseries_s4e1/.venv/lib/python3.11/site-packages/sklearn/base.py:1152\u001b[0m, in \u001b[0;36m_fit_context.<locals>.decorator.<locals>.wrapper\u001b[0;34m(estimator, *args, **kwargs)\u001b[0m\n\u001b[1;32m   1145\u001b[0m     estimator\u001b[38;5;241m.\u001b[39m_validate_params()\n\u001b[1;32m   1147\u001b[0m \u001b[38;5;28;01mwith\u001b[39;00m config_context(\n\u001b[1;32m   1148\u001b[0m     skip_parameter_validation\u001b[38;5;241m=\u001b[39m(\n\u001b[1;32m   1149\u001b[0m         prefer_skip_nested_validation \u001b[38;5;129;01mor\u001b[39;00m global_skip_validation\n\u001b[1;32m   1150\u001b[0m     )\n\u001b[1;32m   1151\u001b[0m ):\n\u001b[0;32m-> 1152\u001b[0m     \u001b[38;5;28;01mreturn\u001b[39;00m \u001b[43mfit_method\u001b[49m\u001b[43m(\u001b[49m\u001b[43mestimator\u001b[49m\u001b[43m,\u001b[49m\u001b[43m \u001b[49m\u001b[38;5;241;43m*\u001b[39;49m\u001b[43margs\u001b[49m\u001b[43m,\u001b[49m\u001b[43m \u001b[49m\u001b[38;5;241;43m*\u001b[39;49m\u001b[38;5;241;43m*\u001b[39;49m\u001b[43mkwargs\u001b[49m\u001b[43m)\u001b[49m\n",
      "File \u001b[0;32m~/Library/Mobile Documents/com~apple~CloudDocs/Projects/Playground/playgroundseries_s4e1/.venv/lib/python3.11/site-packages/sklearn/model_selection/_search.py:898\u001b[0m, in \u001b[0;36mBaseSearchCV.fit\u001b[0;34m(self, X, y, groups, **fit_params)\u001b[0m\n\u001b[1;32m    892\u001b[0m     results \u001b[38;5;241m=\u001b[39m \u001b[38;5;28mself\u001b[39m\u001b[38;5;241m.\u001b[39m_format_results(\n\u001b[1;32m    893\u001b[0m         all_candidate_params, n_splits, all_out, all_more_results\n\u001b[1;32m    894\u001b[0m     )\n\u001b[1;32m    896\u001b[0m     \u001b[38;5;28;01mreturn\u001b[39;00m results\n\u001b[0;32m--> 898\u001b[0m \u001b[38;5;28;43mself\u001b[39;49m\u001b[38;5;241;43m.\u001b[39;49m\u001b[43m_run_search\u001b[49m\u001b[43m(\u001b[49m\u001b[43mevaluate_candidates\u001b[49m\u001b[43m)\u001b[49m\n\u001b[1;32m    900\u001b[0m \u001b[38;5;66;03m# multimetric is determined here because in the case of a callable\u001b[39;00m\n\u001b[1;32m    901\u001b[0m \u001b[38;5;66;03m# self.scoring the return type is only known after calling\u001b[39;00m\n\u001b[1;32m    902\u001b[0m first_test_score \u001b[38;5;241m=\u001b[39m all_out[\u001b[38;5;241m0\u001b[39m][\u001b[38;5;124m\"\u001b[39m\u001b[38;5;124mtest_scores\u001b[39m\u001b[38;5;124m\"\u001b[39m]\n",
      "File \u001b[0;32m~/Library/Mobile Documents/com~apple~CloudDocs/Projects/Playground/playgroundseries_s4e1/.venv/lib/python3.11/site-packages/sklearn/model_selection/_search.py:1422\u001b[0m, in \u001b[0;36mGridSearchCV._run_search\u001b[0;34m(self, evaluate_candidates)\u001b[0m\n\u001b[1;32m   1420\u001b[0m \u001b[38;5;28;01mdef\u001b[39;00m \u001b[38;5;21m_run_search\u001b[39m(\u001b[38;5;28mself\u001b[39m, evaluate_candidates):\n\u001b[1;32m   1421\u001b[0m \u001b[38;5;250m    \u001b[39m\u001b[38;5;124;03m\"\"\"Search all candidates in param_grid\"\"\"\u001b[39;00m\n\u001b[0;32m-> 1422\u001b[0m     \u001b[43mevaluate_candidates\u001b[49m\u001b[43m(\u001b[49m\u001b[43mParameterGrid\u001b[49m\u001b[43m(\u001b[49m\u001b[38;5;28;43mself\u001b[39;49m\u001b[38;5;241;43m.\u001b[39;49m\u001b[43mparam_grid\u001b[49m\u001b[43m)\u001b[49m\u001b[43m)\u001b[49m\n",
      "File \u001b[0;32m~/Library/Mobile Documents/com~apple~CloudDocs/Projects/Playground/playgroundseries_s4e1/.venv/lib/python3.11/site-packages/sklearn/model_selection/_search.py:845\u001b[0m, in \u001b[0;36mBaseSearchCV.fit.<locals>.evaluate_candidates\u001b[0;34m(candidate_params, cv, more_results)\u001b[0m\n\u001b[1;32m    837\u001b[0m \u001b[38;5;28;01mif\u001b[39;00m \u001b[38;5;28mself\u001b[39m\u001b[38;5;241m.\u001b[39mverbose \u001b[38;5;241m>\u001b[39m \u001b[38;5;241m0\u001b[39m:\n\u001b[1;32m    838\u001b[0m     \u001b[38;5;28mprint\u001b[39m(\n\u001b[1;32m    839\u001b[0m         \u001b[38;5;124m\"\u001b[39m\u001b[38;5;124mFitting \u001b[39m\u001b[38;5;132;01m{0}\u001b[39;00m\u001b[38;5;124m folds for each of \u001b[39m\u001b[38;5;132;01m{1}\u001b[39;00m\u001b[38;5;124m candidates,\u001b[39m\u001b[38;5;124m\"\u001b[39m\n\u001b[1;32m    840\u001b[0m         \u001b[38;5;124m\"\u001b[39m\u001b[38;5;124m totalling \u001b[39m\u001b[38;5;132;01m{2}\u001b[39;00m\u001b[38;5;124m fits\u001b[39m\u001b[38;5;124m\"\u001b[39m\u001b[38;5;241m.\u001b[39mformat(\n\u001b[1;32m    841\u001b[0m             n_splits, n_candidates, n_candidates \u001b[38;5;241m*\u001b[39m n_splits\n\u001b[1;32m    842\u001b[0m         )\n\u001b[1;32m    843\u001b[0m     )\n\u001b[0;32m--> 845\u001b[0m out \u001b[38;5;241m=\u001b[39m \u001b[43mparallel\u001b[49m\u001b[43m(\u001b[49m\n\u001b[1;32m    846\u001b[0m \u001b[43m    \u001b[49m\u001b[43mdelayed\u001b[49m\u001b[43m(\u001b[49m\u001b[43m_fit_and_score\u001b[49m\u001b[43m)\u001b[49m\u001b[43m(\u001b[49m\n\u001b[1;32m    847\u001b[0m \u001b[43m        \u001b[49m\u001b[43mclone\u001b[49m\u001b[43m(\u001b[49m\u001b[43mbase_estimator\u001b[49m\u001b[43m)\u001b[49m\u001b[43m,\u001b[49m\n\u001b[1;32m    848\u001b[0m \u001b[43m        \u001b[49m\u001b[43mX\u001b[49m\u001b[43m,\u001b[49m\n\u001b[1;32m    849\u001b[0m \u001b[43m        \u001b[49m\u001b[43my\u001b[49m\u001b[43m,\u001b[49m\n\u001b[1;32m    850\u001b[0m \u001b[43m        \u001b[49m\u001b[43mtrain\u001b[49m\u001b[38;5;241;43m=\u001b[39;49m\u001b[43mtrain\u001b[49m\u001b[43m,\u001b[49m\n\u001b[1;32m    851\u001b[0m \u001b[43m        \u001b[49m\u001b[43mtest\u001b[49m\u001b[38;5;241;43m=\u001b[39;49m\u001b[43mtest\u001b[49m\u001b[43m,\u001b[49m\n\u001b[1;32m    852\u001b[0m \u001b[43m        \u001b[49m\u001b[43mparameters\u001b[49m\u001b[38;5;241;43m=\u001b[39;49m\u001b[43mparameters\u001b[49m\u001b[43m,\u001b[49m\n\u001b[1;32m    853\u001b[0m \u001b[43m        \u001b[49m\u001b[43msplit_progress\u001b[49m\u001b[38;5;241;43m=\u001b[39;49m\u001b[43m(\u001b[49m\u001b[43msplit_idx\u001b[49m\u001b[43m,\u001b[49m\u001b[43m \u001b[49m\u001b[43mn_splits\u001b[49m\u001b[43m)\u001b[49m\u001b[43m,\u001b[49m\n\u001b[1;32m    854\u001b[0m \u001b[43m        \u001b[49m\u001b[43mcandidate_progress\u001b[49m\u001b[38;5;241;43m=\u001b[39;49m\u001b[43m(\u001b[49m\u001b[43mcand_idx\u001b[49m\u001b[43m,\u001b[49m\u001b[43m \u001b[49m\u001b[43mn_candidates\u001b[49m\u001b[43m)\u001b[49m\u001b[43m,\u001b[49m\n\u001b[1;32m    855\u001b[0m \u001b[43m        \u001b[49m\u001b[38;5;241;43m*\u001b[39;49m\u001b[38;5;241;43m*\u001b[39;49m\u001b[43mfit_and_score_kwargs\u001b[49m\u001b[43m,\u001b[49m\n\u001b[1;32m    856\u001b[0m \u001b[43m    \u001b[49m\u001b[43m)\u001b[49m\n\u001b[1;32m    857\u001b[0m \u001b[43m    \u001b[49m\u001b[38;5;28;43;01mfor\u001b[39;49;00m\u001b[43m \u001b[49m\u001b[43m(\u001b[49m\u001b[43mcand_idx\u001b[49m\u001b[43m,\u001b[49m\u001b[43m \u001b[49m\u001b[43mparameters\u001b[49m\u001b[43m)\u001b[49m\u001b[43m,\u001b[49m\u001b[43m \u001b[49m\u001b[43m(\u001b[49m\u001b[43msplit_idx\u001b[49m\u001b[43m,\u001b[49m\u001b[43m \u001b[49m\u001b[43m(\u001b[49m\u001b[43mtrain\u001b[49m\u001b[43m,\u001b[49m\u001b[43m \u001b[49m\u001b[43mtest\u001b[49m\u001b[43m)\u001b[49m\u001b[43m)\u001b[49m\u001b[43m \u001b[49m\u001b[38;5;129;43;01min\u001b[39;49;00m\u001b[43m \u001b[49m\u001b[43mproduct\u001b[49m\u001b[43m(\u001b[49m\n\u001b[1;32m    858\u001b[0m \u001b[43m        \u001b[49m\u001b[38;5;28;43menumerate\u001b[39;49m\u001b[43m(\u001b[49m\u001b[43mcandidate_params\u001b[49m\u001b[43m)\u001b[49m\u001b[43m,\u001b[49m\u001b[43m \u001b[49m\u001b[38;5;28;43menumerate\u001b[39;49m\u001b[43m(\u001b[49m\u001b[43mcv\u001b[49m\u001b[38;5;241;43m.\u001b[39;49m\u001b[43msplit\u001b[49m\u001b[43m(\u001b[49m\u001b[43mX\u001b[49m\u001b[43m,\u001b[49m\u001b[43m \u001b[49m\u001b[43my\u001b[49m\u001b[43m,\u001b[49m\u001b[43m \u001b[49m\u001b[43mgroups\u001b[49m\u001b[43m)\u001b[49m\u001b[43m)\u001b[49m\n\u001b[1;32m    859\u001b[0m \u001b[43m    \u001b[49m\u001b[43m)\u001b[49m\n\u001b[1;32m    860\u001b[0m \u001b[43m\u001b[49m\u001b[43m)\u001b[49m\n\u001b[1;32m    862\u001b[0m \u001b[38;5;28;01mif\u001b[39;00m \u001b[38;5;28mlen\u001b[39m(out) \u001b[38;5;241m<\u001b[39m \u001b[38;5;241m1\u001b[39m:\n\u001b[1;32m    863\u001b[0m     \u001b[38;5;28;01mraise\u001b[39;00m \u001b[38;5;167;01mValueError\u001b[39;00m(\n\u001b[1;32m    864\u001b[0m         \u001b[38;5;124m\"\u001b[39m\u001b[38;5;124mNo fits were performed. \u001b[39m\u001b[38;5;124m\"\u001b[39m\n\u001b[1;32m    865\u001b[0m         \u001b[38;5;124m\"\u001b[39m\u001b[38;5;124mWas the CV iterator empty? \u001b[39m\u001b[38;5;124m\"\u001b[39m\n\u001b[1;32m    866\u001b[0m         \u001b[38;5;124m\"\u001b[39m\u001b[38;5;124mWere there no candidates?\u001b[39m\u001b[38;5;124m\"\u001b[39m\n\u001b[1;32m    867\u001b[0m     )\n",
      "File \u001b[0;32m~/Library/Mobile Documents/com~apple~CloudDocs/Projects/Playground/playgroundseries_s4e1/.venv/lib/python3.11/site-packages/sklearn/utils/parallel.py:65\u001b[0m, in \u001b[0;36mParallel.__call__\u001b[0;34m(self, iterable)\u001b[0m\n\u001b[1;32m     60\u001b[0m config \u001b[38;5;241m=\u001b[39m get_config()\n\u001b[1;32m     61\u001b[0m iterable_with_config \u001b[38;5;241m=\u001b[39m (\n\u001b[1;32m     62\u001b[0m     (_with_config(delayed_func, config), args, kwargs)\n\u001b[1;32m     63\u001b[0m     \u001b[38;5;28;01mfor\u001b[39;00m delayed_func, args, kwargs \u001b[38;5;129;01min\u001b[39;00m iterable\n\u001b[1;32m     64\u001b[0m )\n\u001b[0;32m---> 65\u001b[0m \u001b[38;5;28;01mreturn\u001b[39;00m \u001b[38;5;28;43msuper\u001b[39;49m\u001b[43m(\u001b[49m\u001b[43m)\u001b[49m\u001b[38;5;241;43m.\u001b[39;49m\u001b[38;5;21;43m__call__\u001b[39;49m\u001b[43m(\u001b[49m\u001b[43miterable_with_config\u001b[49m\u001b[43m)\u001b[49m\n",
      "File \u001b[0;32m~/Library/Mobile Documents/com~apple~CloudDocs/Projects/Playground/playgroundseries_s4e1/.venv/lib/python3.11/site-packages/joblib/parallel.py:1952\u001b[0m, in \u001b[0;36mParallel.__call__\u001b[0;34m(self, iterable)\u001b[0m\n\u001b[1;32m   1946\u001b[0m \u001b[38;5;66;03m# The first item from the output is blank, but it makes the interpreter\u001b[39;00m\n\u001b[1;32m   1947\u001b[0m \u001b[38;5;66;03m# progress until it enters the Try/Except block of the generator and\u001b[39;00m\n\u001b[1;32m   1948\u001b[0m \u001b[38;5;66;03m# reach the first `yield` statement. This starts the aynchronous\u001b[39;00m\n\u001b[1;32m   1949\u001b[0m \u001b[38;5;66;03m# dispatch of the tasks to the workers.\u001b[39;00m\n\u001b[1;32m   1950\u001b[0m \u001b[38;5;28mnext\u001b[39m(output)\n\u001b[0;32m-> 1952\u001b[0m \u001b[38;5;28;01mreturn\u001b[39;00m output \u001b[38;5;28;01mif\u001b[39;00m \u001b[38;5;28mself\u001b[39m\u001b[38;5;241m.\u001b[39mreturn_generator \u001b[38;5;28;01melse\u001b[39;00m \u001b[38;5;28;43mlist\u001b[39;49m\u001b[43m(\u001b[49m\u001b[43moutput\u001b[49m\u001b[43m)\u001b[49m\n",
      "File \u001b[0;32m~/Library/Mobile Documents/com~apple~CloudDocs/Projects/Playground/playgroundseries_s4e1/.venv/lib/python3.11/site-packages/joblib/parallel.py:1595\u001b[0m, in \u001b[0;36mParallel._get_outputs\u001b[0;34m(self, iterator, pre_dispatch)\u001b[0m\n\u001b[1;32m   1592\u001b[0m     \u001b[38;5;28;01myield\u001b[39;00m\n\u001b[1;32m   1594\u001b[0m     \u001b[38;5;28;01mwith\u001b[39;00m \u001b[38;5;28mself\u001b[39m\u001b[38;5;241m.\u001b[39m_backend\u001b[38;5;241m.\u001b[39mretrieval_context():\n\u001b[0;32m-> 1595\u001b[0m         \u001b[38;5;28;01myield from\u001b[39;00m \u001b[38;5;28mself\u001b[39m\u001b[38;5;241m.\u001b[39m_retrieve()\n\u001b[1;32m   1597\u001b[0m \u001b[38;5;28;01mexcept\u001b[39;00m \u001b[38;5;167;01mGeneratorExit\u001b[39;00m:\n\u001b[1;32m   1598\u001b[0m     \u001b[38;5;66;03m# The generator has been garbage collected before being fully\u001b[39;00m\n\u001b[1;32m   1599\u001b[0m     \u001b[38;5;66;03m# consumed. This aborts the remaining tasks if possible and warn\u001b[39;00m\n\u001b[1;32m   1600\u001b[0m     \u001b[38;5;66;03m# the user if necessary.\u001b[39;00m\n\u001b[1;32m   1601\u001b[0m     \u001b[38;5;28mself\u001b[39m\u001b[38;5;241m.\u001b[39m_exception \u001b[38;5;241m=\u001b[39m \u001b[38;5;28;01mTrue\u001b[39;00m\n",
      "File \u001b[0;32m~/Library/Mobile Documents/com~apple~CloudDocs/Projects/Playground/playgroundseries_s4e1/.venv/lib/python3.11/site-packages/joblib/parallel.py:1707\u001b[0m, in \u001b[0;36mParallel._retrieve\u001b[0;34m(self)\u001b[0m\n\u001b[1;32m   1702\u001b[0m \u001b[38;5;66;03m# If the next job is not ready for retrieval yet, we just wait for\u001b[39;00m\n\u001b[1;32m   1703\u001b[0m \u001b[38;5;66;03m# async callbacks to progress.\u001b[39;00m\n\u001b[1;32m   1704\u001b[0m \u001b[38;5;28;01mif\u001b[39;00m ((\u001b[38;5;28mlen\u001b[39m(\u001b[38;5;28mself\u001b[39m\u001b[38;5;241m.\u001b[39m_jobs) \u001b[38;5;241m==\u001b[39m \u001b[38;5;241m0\u001b[39m) \u001b[38;5;129;01mor\u001b[39;00m\n\u001b[1;32m   1705\u001b[0m     (\u001b[38;5;28mself\u001b[39m\u001b[38;5;241m.\u001b[39m_jobs[\u001b[38;5;241m0\u001b[39m]\u001b[38;5;241m.\u001b[39mget_status(\n\u001b[1;32m   1706\u001b[0m         timeout\u001b[38;5;241m=\u001b[39m\u001b[38;5;28mself\u001b[39m\u001b[38;5;241m.\u001b[39mtimeout) \u001b[38;5;241m==\u001b[39m TASK_PENDING)):\n\u001b[0;32m-> 1707\u001b[0m     time\u001b[38;5;241m.\u001b[39msleep(\u001b[38;5;241m0.01\u001b[39m)\n\u001b[1;32m   1708\u001b[0m     \u001b[38;5;28;01mcontinue\u001b[39;00m\n\u001b[1;32m   1710\u001b[0m \u001b[38;5;66;03m# We need to be careful: the job list can be filling up as\u001b[39;00m\n\u001b[1;32m   1711\u001b[0m \u001b[38;5;66;03m# we empty it and Python list are not thread-safe by\u001b[39;00m\n\u001b[1;32m   1712\u001b[0m \u001b[38;5;66;03m# default hence the use of the lock\u001b[39;00m\n",
      "\u001b[0;31mKeyboardInterrupt\u001b[0m: "
     ]
    }
   ],
   "source": [
    "grid.fit(X_scld,y)"
   ]
  },
  {
   "cell_type": "code",
   "execution_count": null,
   "metadata": {},
   "outputs": [
    {
     "data": {
      "text/plain": [
       "{'criterion': 'gini',\n",
       " 'max_depth': 16,\n",
       " 'min_samples_leaf': 16,\n",
       " 'min_samples_split': 32,\n",
       " 'n_estimators': 500}"
      ]
     },
     "execution_count": 24,
     "metadata": {},
     "output_type": "execute_result"
    }
   ],
   "source": [
    "grid.best_params_"
   ]
  },
  {
   "cell_type": "code",
   "execution_count": null,
   "metadata": {},
   "outputs": [
    {
     "data": {
      "text/plain": [
       "0.8874574135987047"
      ]
     },
     "execution_count": 25,
     "metadata": {},
     "output_type": "execute_result"
    }
   ],
   "source": [
    "grid.best_score_"
   ]
  }
 ],
 "metadata": {
  "kernelspec": {
   "display_name": ".venv",
   "language": "python",
   "name": "python3"
  },
  "language_info": {
   "codemirror_mode": {
    "name": "ipython",
    "version": 3
   },
   "file_extension": ".py",
   "mimetype": "text/x-python",
   "name": "python",
   "nbconvert_exporter": "python",
   "pygments_lexer": "ipython3",
   "version": "3.11.7"
  }
 },
 "nbformat": 4,
 "nbformat_minor": 2
}
