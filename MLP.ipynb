{
 "cells": [
  {
   "cell_type": "code",
   "execution_count": 1,
   "id": "initial_id",
   "metadata": {
    "collapsed": true,
    "is_executing": true
   },
   "outputs": [],
   "source": [
    "from datetime import datetime as dt\n",
    "from preprocessing import Preprocessing\n",
    "import pandas as pd\n",
    "import numpy as np\n",
    "from sklearn.model_selection import train_test_split, GridSearchCV\n",
    "from sklearn.utils import resample\n",
    "from sklearn.neural_network import MLPClassifier\n",
    "\n",
    "from sklearn.metrics import confusion_matrix, ConfusionMatrixDisplay, classification_report, roc_auc_score, RocCurveDisplay"
   ]
  },
  {
   "cell_type": "markdown",
   "id": "35014792",
   "metadata": {},
   "source": [
    "# Preprocessing"
   ]
  },
  {
   "cell_type": "code",
   "execution_count": 2,
   "id": "eb5135aed6eafd16",
   "metadata": {
    "collapsed": false
   },
   "outputs": [],
   "source": [
    "col_drop = ['CustomerId','Surname']\n",
    "types = {\n",
    "    'HasCrCard':bool,\n",
    "    'IsActiveMember':bool\n",
    "}\n",
    "train = pd.read_csv('data/train.csv', index_col='id', dtype=types).drop(columns=col_drop)\n",
    "test = pd.read_csv('data/test.csv', index_col='id', dtype=types).drop(columns=col_drop)"
   ]
  },
  {
   "cell_type": "code",
   "execution_count": 3,
   "id": "b74cdea0",
   "metadata": {},
   "outputs": [
    {
     "data": {
      "text/plain": [
       "(165034, 11)"
      ]
     },
     "execution_count": 3,
     "metadata": {},
     "output_type": "execute_result"
    }
   ],
   "source": [
    "train.shape"
   ]
  },
  {
   "cell_type": "code",
   "execution_count": 4,
   "id": "4eb5e3b5",
   "metadata": {},
   "outputs": [],
   "source": [
    "X = train.drop(columns='Exited')\n",
    "y = train.Exited"
   ]
  },
  {
   "cell_type": "code",
   "execution_count": 5,
   "id": "05af8354",
   "metadata": {},
   "outputs": [],
   "source": [
    "X_train,X_test,y_train,y_test = train_test_split(X,y, stratify=y, test_size=0.15)"
   ]
  },
  {
   "cell_type": "code",
   "execution_count": 6,
   "id": "e56a9c8daf9db45c",
   "metadata": {
    "collapsed": false
   },
   "outputs": [],
   "source": [
    "prepro = Preprocessing()"
   ]
  },
  {
   "cell_type": "code",
   "execution_count": 7,
   "id": "8cd6f7cd",
   "metadata": {},
   "outputs": [],
   "source": [
    "X_train_scld = prepro.fit_transform(X_train)\n",
    "X_test_scld = prepro.transform(X_test)"
   ]
  },
  {
   "cell_type": "code",
   "execution_count": 8,
   "id": "e8cdd448",
   "metadata": {},
   "outputs": [],
   "source": [
    "X_train_balanced, y_train_balanced = resample(X_train_scld[y_train == 1], y_train[y_train == 1], n_samples=np.sum(y_train == 0), replace=True, random_state=42)"
   ]
  },
  {
   "cell_type": "code",
   "execution_count": 9,
   "id": "34faf634",
   "metadata": {},
   "outputs": [],
   "source": [
    "X_train_balanced = np.concatenate((X_train_scld[y_train == 0], X_train_balanced))\n",
    "y_train_balanced = np.concatenate((y_train[y_train == 0], y_train_balanced))"
   ]
  },
  {
   "cell_type": "markdown",
   "id": "037d6c18",
   "metadata": {},
   "source": [
    "# Model"
   ]
  },
  {
   "cell_type": "code",
   "execution_count": 16,
   "id": "2e3c5af9",
   "metadata": {},
   "outputs": [],
   "source": [
    "params = {\n",
    "    'hidden_layer_sizes':(100,),\n",
    "    'max_iter':500,\n",
    "    'activation':'relu',\n",
    "    'learning_rate':'adaptive',\n",
    "    'learning_rate_init':0.001\n",
    "    \n",
    "}\n",
    "\n",
    "nn = MLPClassifier(\n",
    "    **params, random_state=42, verbose=True)"
   ]
  },
  {
   "cell_type": "code",
   "execution_count": 17,
   "id": "920dbcbd",
   "metadata": {},
   "outputs": [
    {
     "name": "stdout",
     "output_type": "stream",
     "text": [
      "Iteration 1, loss = 0.37908698\n",
      "Iteration 2, loss = 0.32983927\n",
      "Iteration 3, loss = 0.32567953\n",
      "Iteration 4, loss = 0.32409784\n",
      "Iteration 5, loss = 0.32358679\n",
      "Iteration 6, loss = 0.32322258\n",
      "Iteration 7, loss = 0.32304403\n",
      "Iteration 8, loss = 0.32284498\n",
      "Iteration 9, loss = 0.32262705\n",
      "Iteration 10, loss = 0.32247457\n",
      "Iteration 11, loss = 0.32242143\n",
      "Iteration 12, loss = 0.32213801\n",
      "Iteration 13, loss = 0.32209339\n",
      "Iteration 14, loss = 0.32203588\n",
      "Iteration 15, loss = 0.32198848\n",
      "Iteration 16, loss = 0.32179205\n",
      "Iteration 17, loss = 0.32162537\n",
      "Iteration 18, loss = 0.32144768\n",
      "Iteration 19, loss = 0.32123620\n",
      "Iteration 20, loss = 0.32118284\n",
      "Iteration 21, loss = 0.32118000\n",
      "Iteration 22, loss = 0.32088937\n",
      "Iteration 23, loss = 0.32079868\n",
      "Iteration 24, loss = 0.32069034\n",
      "Iteration 25, loss = 0.32063908\n",
      "Iteration 26, loss = 0.32053889\n",
      "Iteration 27, loss = 0.32033364\n",
      "Iteration 28, loss = 0.32020939\n",
      "Iteration 29, loss = 0.32004565\n",
      "Iteration 30, loss = 0.31989052\n",
      "Iteration 31, loss = 0.31989210\n",
      "Iteration 32, loss = 0.31974630\n",
      "Iteration 33, loss = 0.31965286\n",
      "Iteration 34, loss = 0.31937215\n",
      "Iteration 35, loss = 0.31941628\n",
      "Iteration 36, loss = 0.31945184\n",
      "Iteration 37, loss = 0.31918548\n",
      "Iteration 38, loss = 0.31934908\n",
      "Iteration 39, loss = 0.31935794\n",
      "Iteration 40, loss = 0.31918533\n",
      "Iteration 41, loss = 0.31919567\n",
      "Iteration 42, loss = 0.31897811\n",
      "Iteration 43, loss = 0.31917877\n",
      "Iteration 44, loss = 0.31897605\n",
      "Iteration 45, loss = 0.31880868\n",
      "Iteration 46, loss = 0.31886018\n",
      "Iteration 47, loss = 0.31877687\n",
      "Iteration 48, loss = 0.31904898\n",
      "Iteration 49, loss = 0.31862076\n",
      "Iteration 50, loss = 0.31866595\n",
      "Iteration 51, loss = 0.31858370\n",
      "Iteration 52, loss = 0.31863240\n",
      "Iteration 53, loss = 0.31854246\n",
      "Iteration 54, loss = 0.31861828\n",
      "Iteration 55, loss = 0.31858980\n",
      "Iteration 56, loss = 0.31853903\n",
      "Iteration 57, loss = 0.31850670\n",
      "Iteration 58, loss = 0.31851193\n",
      "Iteration 59, loss = 0.31842511\n",
      "Iteration 60, loss = 0.31832566\n",
      "Training loss did not improve more than tol=0.000100 for 10 consecutive epochs. Stopping.\n"
     ]
    },
    {
     "data": {
      "text/html": [
       "<style>#sk-container-id-2 {color: black;}#sk-container-id-2 pre{padding: 0;}#sk-container-id-2 div.sk-toggleable {background-color: white;}#sk-container-id-2 label.sk-toggleable__label {cursor: pointer;display: block;width: 100%;margin-bottom: 0;padding: 0.3em;box-sizing: border-box;text-align: center;}#sk-container-id-2 label.sk-toggleable__label-arrow:before {content: \"▸\";float: left;margin-right: 0.25em;color: #696969;}#sk-container-id-2 label.sk-toggleable__label-arrow:hover:before {color: black;}#sk-container-id-2 div.sk-estimator:hover label.sk-toggleable__label-arrow:before {color: black;}#sk-container-id-2 div.sk-toggleable__content {max-height: 0;max-width: 0;overflow: hidden;text-align: left;background-color: #f0f8ff;}#sk-container-id-2 div.sk-toggleable__content pre {margin: 0.2em;color: black;border-radius: 0.25em;background-color: #f0f8ff;}#sk-container-id-2 input.sk-toggleable__control:checked~div.sk-toggleable__content {max-height: 200px;max-width: 100%;overflow: auto;}#sk-container-id-2 input.sk-toggleable__control:checked~label.sk-toggleable__label-arrow:before {content: \"▾\";}#sk-container-id-2 div.sk-estimator input.sk-toggleable__control:checked~label.sk-toggleable__label {background-color: #d4ebff;}#sk-container-id-2 div.sk-label input.sk-toggleable__control:checked~label.sk-toggleable__label {background-color: #d4ebff;}#sk-container-id-2 input.sk-hidden--visually {border: 0;clip: rect(1px 1px 1px 1px);clip: rect(1px, 1px, 1px, 1px);height: 1px;margin: -1px;overflow: hidden;padding: 0;position: absolute;width: 1px;}#sk-container-id-2 div.sk-estimator {font-family: monospace;background-color: #f0f8ff;border: 1px dotted black;border-radius: 0.25em;box-sizing: border-box;margin-bottom: 0.5em;}#sk-container-id-2 div.sk-estimator:hover {background-color: #d4ebff;}#sk-container-id-2 div.sk-parallel-item::after {content: \"\";width: 100%;border-bottom: 1px solid gray;flex-grow: 1;}#sk-container-id-2 div.sk-label:hover label.sk-toggleable__label {background-color: #d4ebff;}#sk-container-id-2 div.sk-serial::before {content: \"\";position: absolute;border-left: 1px solid gray;box-sizing: border-box;top: 0;bottom: 0;left: 50%;z-index: 0;}#sk-container-id-2 div.sk-serial {display: flex;flex-direction: column;align-items: center;background-color: white;padding-right: 0.2em;padding-left: 0.2em;position: relative;}#sk-container-id-2 div.sk-item {position: relative;z-index: 1;}#sk-container-id-2 div.sk-parallel {display: flex;align-items: stretch;justify-content: center;background-color: white;position: relative;}#sk-container-id-2 div.sk-item::before, #sk-container-id-2 div.sk-parallel-item::before {content: \"\";position: absolute;border-left: 1px solid gray;box-sizing: border-box;top: 0;bottom: 0;left: 50%;z-index: -1;}#sk-container-id-2 div.sk-parallel-item {display: flex;flex-direction: column;z-index: 1;position: relative;background-color: white;}#sk-container-id-2 div.sk-parallel-item:first-child::after {align-self: flex-end;width: 50%;}#sk-container-id-2 div.sk-parallel-item:last-child::after {align-self: flex-start;width: 50%;}#sk-container-id-2 div.sk-parallel-item:only-child::after {width: 0;}#sk-container-id-2 div.sk-dashed-wrapped {border: 1px dashed gray;margin: 0 0.4em 0.5em 0.4em;box-sizing: border-box;padding-bottom: 0.4em;background-color: white;}#sk-container-id-2 div.sk-label label {font-family: monospace;font-weight: bold;display: inline-block;line-height: 1.2em;}#sk-container-id-2 div.sk-label-container {text-align: center;}#sk-container-id-2 div.sk-container {/* jupyter's `normalize.less` sets `[hidden] { display: none; }` but bootstrap.min.css set `[hidden] { display: none !important; }` so we also need the `!important` here to be able to override the default hidden behavior on the sphinx rendered scikit-learn.org. See: https://github.com/scikit-learn/scikit-learn/issues/21755 */display: inline-block !important;position: relative;}#sk-container-id-2 div.sk-text-repr-fallback {display: none;}</style><div id=\"sk-container-id-2\" class=\"sk-top-container\"><div class=\"sk-text-repr-fallback\"><pre>MLPClassifier(learning_rate=&#x27;adaptive&#x27;, max_iter=500, random_state=42,\n",
       "              verbose=True)</pre><b>In a Jupyter environment, please rerun this cell to show the HTML representation or trust the notebook. <br />On GitHub, the HTML representation is unable to render, please try loading this page with nbviewer.org.</b></div><div class=\"sk-container\" hidden><div class=\"sk-item\"><div class=\"sk-estimator sk-toggleable\"><input class=\"sk-toggleable__control sk-hidden--visually\" id=\"sk-estimator-id-2\" type=\"checkbox\" checked><label for=\"sk-estimator-id-2\" class=\"sk-toggleable__label sk-toggleable__label-arrow\">MLPClassifier</label><div class=\"sk-toggleable__content\"><pre>MLPClassifier(learning_rate=&#x27;adaptive&#x27;, max_iter=500, random_state=42,\n",
       "              verbose=True)</pre></div></div></div></div></div>"
      ],
      "text/plain": [
       "MLPClassifier(learning_rate='adaptive', max_iter=500, random_state=42,\n",
       "              verbose=True)"
      ]
     },
     "execution_count": 17,
     "metadata": {},
     "output_type": "execute_result"
    }
   ],
   "source": [
    "nn.fit(X_train_scld, y_train)"
   ]
  },
  {
   "cell_type": "markdown",
   "id": "85c556b0",
   "metadata": {},
   "source": [
    "# Score"
   ]
  },
  {
   "cell_type": "code",
   "execution_count": 21,
   "id": "f1dc2455",
   "metadata": {},
   "outputs": [],
   "source": [
    "pred = nn.predict(X_test_scld)\n",
    "pred_proba = nn.predict_proba(X_test_scld)[:,1]"
   ]
  },
  {
   "cell_type": "code",
   "execution_count": 22,
   "id": "f51ca946",
   "metadata": {},
   "outputs": [
    {
     "name": "stdout",
     "output_type": "stream",
     "text": [
      "Roc Auc Score : 0.887975\n"
     ]
    }
   ],
   "source": [
    "RocScore  = roc_auc_score(y_test, pred_proba)\n",
    "print(f'Roc Auc Score : {RocScore:.6f}')"
   ]
  },
  {
   "cell_type": "code",
   "execution_count": 23,
   "id": "52426c95",
   "metadata": {},
   "outputs": [
    {
     "data": {
      "text/plain": [
       "<sklearn.metrics._plot.roc_curve.RocCurveDisplay at 0x2b428f810>"
      ]
     },
     "execution_count": 23,
     "metadata": {},
     "output_type": "execute_result"
    },
    {
     "data": {
      "image/png": "[encoded data removed]",
      "text/plain": [
       "<Figure size 640x480 with 1 Axes>"
      ]
     },
     "metadata": {},
     "output_type": "display_data"
    }
   ],
   "source": [
    "RocCurveDisplay.from_predictions(y_test,pred_proba)"
   ]
  },
  {
   "cell_type": "markdown",
   "id": "b880f7fb",
   "metadata": {},
   "source": [
    "# Submission"
   ]
  },
  {
   "cell_type": "code",
   "execution_count": null,
   "id": "9393658a",
   "metadata": {},
   "outputs": [],
   "source": [
    "X_val_scld = prepro.transform(test)"
   ]
  },
  {
   "cell_type": "code",
   "execution_count": null,
   "id": "b927754e",
   "metadata": {},
   "outputs": [],
   "source": [
    "submission = pd.read_csv(\"data/sample_submission.csv\", index_col='id')"
   ]
  },
  {
   "cell_type": "code",
   "execution_count": null,
   "id": "ae796018",
   "metadata": {},
   "outputs": [
    {
     "name": "stderr",
     "output_type": "stream",
     "text": [
      "/Users/marc/Library/Mobile Documents/com~apple~CloudDocs/Projects/Playground/playgroundseries_s4e1/.venv/lib/python3.10/site-packages/sklearn/base.py:458: UserWarning: X has feature names, but MLPClassifier was fitted without feature names\n",
      "  warnings.warn(\n"
     ]
    }
   ],
   "source": [
    "submission.loc[:,'Exited'] = nn.predict_proba(X_val_scld)[:,1]"
   ]
  },
  {
   "cell_type": "code",
   "execution_count": null,
   "id": "6ec16618",
   "metadata": {},
   "outputs": [
    {
     "data": {
      "text/html": [
       "<div>\n",
       "<style scoped>\n",
       "    .dataframe tbody tr th:only-of-type {\n",
       "        vertical-align: middle;\n",
       "    }\n",
       "\n",
       "    .dataframe tbody tr th {\n",
       "        vertical-align: top;\n",
       "    }\n",
       "\n",
       "    .dataframe thead th {\n",
       "        text-align: right;\n",
       "    }\n",
       "</style>\n",
       "<table border=\"1\" class=\"dataframe\">\n",
       "  <thead>\n",
       "    <tr style=\"text-align: right;\">\n",
       "      <th></th>\n",
       "      <th>Exited</th>\n",
       "    </tr>\n",
       "    <tr>\n",
       "      <th>id</th>\n",
       "      <th></th>\n",
       "    </tr>\n",
       "  </thead>\n",
       "  <tbody>\n",
       "    <tr>\n",
       "      <th>165034</th>\n",
       "      <td>0.080412</td>\n",
       "    </tr>\n",
       "    <tr>\n",
       "      <th>165035</th>\n",
       "      <td>0.951204</td>\n",
       "    </tr>\n",
       "    <tr>\n",
       "      <th>165036</th>\n",
       "      <td>0.096977</td>\n",
       "    </tr>\n",
       "    <tr>\n",
       "      <th>165037</th>\n",
       "      <td>0.529652</td>\n",
       "    </tr>\n",
       "    <tr>\n",
       "      <th>165038</th>\n",
       "      <td>0.639720</td>\n",
       "    </tr>\n",
       "    <tr>\n",
       "      <th>...</th>\n",
       "      <td>...</td>\n",
       "    </tr>\n",
       "    <tr>\n",
       "      <th>275052</th>\n",
       "      <td>0.134360</td>\n",
       "    </tr>\n",
       "    <tr>\n",
       "      <th>275053</th>\n",
       "      <td>0.228869</td>\n",
       "    </tr>\n",
       "    <tr>\n",
       "      <th>275054</th>\n",
       "      <td>0.064918</td>\n",
       "    </tr>\n",
       "    <tr>\n",
       "      <th>275055</th>\n",
       "      <td>0.384398</td>\n",
       "    </tr>\n",
       "    <tr>\n",
       "      <th>275056</th>\n",
       "      <td>0.509684</td>\n",
       "    </tr>\n",
       "  </tbody>\n",
       "</table>\n",
       "<p>110023 rows × 1 columns</p>\n",
       "</div>"
      ],
      "text/plain": [
       "          Exited\n",
       "id              \n",
       "165034  0.080412\n",
       "165035  0.951204\n",
       "165036  0.096977\n",
       "165037  0.529652\n",
       "165038  0.639720\n",
       "...          ...\n",
       "275052  0.134360\n",
       "275053  0.228869\n",
       "275054  0.064918\n",
       "275055  0.384398\n",
       "275056  0.509684\n",
       "\n",
       "[110023 rows x 1 columns]"
      ]
     },
     "execution_count": 20,
     "metadata": {},
     "output_type": "execute_result"
    }
   ],
   "source": [
    "submission"
   ]
  },
  {
   "cell_type": "code",
   "execution_count": null,
   "id": "d93b07d8",
   "metadata": {},
   "outputs": [],
   "source": [
    "name = dt.now().strftime(\"%Y%m%d_%H%M\")"
   ]
  },
  {
   "cell_type": "code",
   "execution_count": null,
   "id": "eed84da8",
   "metadata": {},
   "outputs": [],
   "source": [
    "#submission.to_csv(f\"submission/{name}.csv\")"
   ]
  },
  {
   "cell_type": "code",
   "execution_count": null,
   "id": "e7ef458e",
   "metadata": {},
   "outputs": [],
   "source": []
  }
 ],
 "metadata": {
  "kernelspec": {
   "display_name": "Python 3",
   "language": "python",
   "name": "python3"
  },
  "language_info": {
   "codemirror_mode": {
    "name": "ipython",
    "version": 3
   },
   "file_extension": ".py",
   "mimetype": "text/x-python",
   "name": "python",
   "nbconvert_exporter": "python",
   "pygments_lexer": "ipython3",
   "version": "3.11.7"
  }
 },
 "nbformat": 4,
 "nbformat_minor": 5
}
