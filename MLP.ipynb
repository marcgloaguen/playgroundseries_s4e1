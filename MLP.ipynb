{
 "cells": [
  {
   "cell_type": "code",
   "execution_count": 14,
   "id": "initial_id",
   "metadata": {
    "collapsed": true,
    "is_executing": true
   },
   "outputs": [],
   "source": [
    "from datetime import datetime as dt\n",
    "from preprocessing import Preprocessing\n",
    "import pandas as pd\n",
    "import numpy as np\n",
    "from sklearn.model_selection import train_test_split, GridSearchCV\n",
    "from sklearn.utils import resample\n",
    "from sklearn.neural_network import MLPClassifier\n",
    "\n",
    "from sklearn.metrics import confusion_matrix, ConfusionMatrixDisplay, classification_report, roc_auc_score"
   ]
  },
  {
   "cell_type": "markdown",
   "id": "35014792",
   "metadata": {},
   "source": [
    "# Preprocessing"
   ]
  },
  {
   "cell_type": "code",
   "execution_count": 15,
   "id": "eb5135aed6eafd16",
   "metadata": {
    "collapsed": false
   },
   "outputs": [],
   "source": [
    "col_drop = ['CustomerId','Surname']\n",
    "types = {\n",
    "    'HasCrCard':bool,\n",
    "    'IsActiveMember':bool\n",
    "}\n",
    "train = pd.read_csv('data/train.csv', index_col='id', dtype=types).drop(columns=col_drop)\n",
    "test = pd.read_csv('data/test.csv', index_col='id', dtype=types).drop(columns=col_drop)"
   ]
  },
  {
   "cell_type": "code",
   "execution_count": 16,
   "id": "b74cdea0",
   "metadata": {},
   "outputs": [
    {
     "data": {
      "text/plain": [
       "(165034, 11)"
      ]
     },
     "execution_count": 16,
     "metadata": {},
     "output_type": "execute_result"
    }
   ],
   "source": [
    "train.shape"
   ]
  },
  {
   "cell_type": "code",
   "execution_count": 17,
   "id": "4eb5e3b5",
   "metadata": {},
   "outputs": [],
   "source": [
    "X = train.drop(columns='Exited')\n",
    "y = train.Exited"
   ]
  },
  {
   "cell_type": "code",
   "execution_count": 18,
   "id": "05af8354",
   "metadata": {},
   "outputs": [],
   "source": [
    "X_train,X_test,y_train,y_test = train_test_split(X,y, stratify=y, test_size=0.15)"
   ]
  },
  {
   "cell_type": "code",
   "execution_count": 19,
   "id": "e56a9c8daf9db45c",
   "metadata": {
    "collapsed": false
   },
   "outputs": [],
   "source": [
    "prepro = Preprocessing()"
   ]
  },
  {
   "cell_type": "code",
   "execution_count": 20,
   "id": "8cd6f7cd",
   "metadata": {},
   "outputs": [],
   "source": [
    "X_train_scld = prepro.fit_transform(X_train)\n",
    "X_test_scld = prepro.transform(X_test)"
   ]
  },
  {
   "cell_type": "code",
   "execution_count": 21,
   "id": "e8cdd448",
   "metadata": {},
   "outputs": [],
   "source": [
    "X_train_balanced, y_train_balanced = resample(X_train_scld[y_train == 1], y_train[y_train == 1], n_samples=np.sum(y_train == 0), replace=True, random_state=42)"
   ]
  },
  {
   "cell_type": "code",
   "execution_count": 22,
   "id": "34faf634",
   "metadata": {},
   "outputs": [],
   "source": [
    "X_train_balanced = np.concatenate((X_train_scld[y_train == 0], X_train_balanced))\n",
    "y_train_balanced = np.concatenate((y_train[y_train == 0], y_train_balanced))"
   ]
  },
  {
   "cell_type": "markdown",
   "id": "037d6c18",
   "metadata": {},
   "source": [
    "# Fit"
   ]
  },
  {
   "cell_type": "code",
   "execution_count": 11,
   "id": "2e3c5af9",
   "metadata": {},
   "outputs": [],
   "source": [
    "params = {\n",
    "    'hidden_layer_sizes':(100,),\n",
    "    'max_iter':500,\n",
    "    'activation':'relu',\n",
    "    'learning_rate':'constant',\n",
    "    'learning_rate_init':0.0001\n",
    "    \n",
    "}\n",
    "\n",
    "nn = MLPClassifier(\n",
    "    **params, random_state=42)"
   ]
  },
  {
   "cell_type": "code",
   "execution_count": 12,
   "id": "920dbcbd",
   "metadata": {},
   "outputs": [
    {
     "name": "stderr",
     "output_type": "stream",
     "text": [
      "/Users/marc/Library/Mobile Documents/com~apple~CloudDocs/Projects/Playground/playgroundseries_s4e1/.venv/lib/python3.10/site-packages/sklearn/neural_network/_multilayer_perceptron.py:698: UserWarning: Training interrupted by user.\n",
      "  warnings.warn(\"Training interrupted by user.\")\n"
     ]
    },
    {
     "data": {
      "text/html": [
       "<style>#sk-container-id-1 {color: black;}#sk-container-id-1 pre{padding: 0;}#sk-container-id-1 div.sk-toggleable {background-color: white;}#sk-container-id-1 label.sk-toggleable__label {cursor: pointer;display: block;width: 100%;margin-bottom: 0;padding: 0.3em;box-sizing: border-box;text-align: center;}#sk-container-id-1 label.sk-toggleable__label-arrow:before {content: \"▸\";float: left;margin-right: 0.25em;color: #696969;}#sk-container-id-1 label.sk-toggleable__label-arrow:hover:before {color: black;}#sk-container-id-1 div.sk-estimator:hover label.sk-toggleable__label-arrow:before {color: black;}#sk-container-id-1 div.sk-toggleable__content {max-height: 0;max-width: 0;overflow: hidden;text-align: left;background-color: #f0f8ff;}#sk-container-id-1 div.sk-toggleable__content pre {margin: 0.2em;color: black;border-radius: 0.25em;background-color: #f0f8ff;}#sk-container-id-1 input.sk-toggleable__control:checked~div.sk-toggleable__content {max-height: 200px;max-width: 100%;overflow: auto;}#sk-container-id-1 input.sk-toggleable__control:checked~label.sk-toggleable__label-arrow:before {content: \"▾\";}#sk-container-id-1 div.sk-estimator input.sk-toggleable__control:checked~label.sk-toggleable__label {background-color: #d4ebff;}#sk-container-id-1 div.sk-label input.sk-toggleable__control:checked~label.sk-toggleable__label {background-color: #d4ebff;}#sk-container-id-1 input.sk-hidden--visually {border: 0;clip: rect(1px 1px 1px 1px);clip: rect(1px, 1px, 1px, 1px);height: 1px;margin: -1px;overflow: hidden;padding: 0;position: absolute;width: 1px;}#sk-container-id-1 div.sk-estimator {font-family: monospace;background-color: #f0f8ff;border: 1px dotted black;border-radius: 0.25em;box-sizing: border-box;margin-bottom: 0.5em;}#sk-container-id-1 div.sk-estimator:hover {background-color: #d4ebff;}#sk-container-id-1 div.sk-parallel-item::after {content: \"\";width: 100%;border-bottom: 1px solid gray;flex-grow: 1;}#sk-container-id-1 div.sk-label:hover label.sk-toggleable__label {background-color: #d4ebff;}#sk-container-id-1 div.sk-serial::before {content: \"\";position: absolute;border-left: 1px solid gray;box-sizing: border-box;top: 0;bottom: 0;left: 50%;z-index: 0;}#sk-container-id-1 div.sk-serial {display: flex;flex-direction: column;align-items: center;background-color: white;padding-right: 0.2em;padding-left: 0.2em;position: relative;}#sk-container-id-1 div.sk-item {position: relative;z-index: 1;}#sk-container-id-1 div.sk-parallel {display: flex;align-items: stretch;justify-content: center;background-color: white;position: relative;}#sk-container-id-1 div.sk-item::before, #sk-container-id-1 div.sk-parallel-item::before {content: \"\";position: absolute;border-left: 1px solid gray;box-sizing: border-box;top: 0;bottom: 0;left: 50%;z-index: -1;}#sk-container-id-1 div.sk-parallel-item {display: flex;flex-direction: column;z-index: 1;position: relative;background-color: white;}#sk-container-id-1 div.sk-parallel-item:first-child::after {align-self: flex-end;width: 50%;}#sk-container-id-1 div.sk-parallel-item:last-child::after {align-self: flex-start;width: 50%;}#sk-container-id-1 div.sk-parallel-item:only-child::after {width: 0;}#sk-container-id-1 div.sk-dashed-wrapped {border: 1px dashed gray;margin: 0 0.4em 0.5em 0.4em;box-sizing: border-box;padding-bottom: 0.4em;background-color: white;}#sk-container-id-1 div.sk-label label {font-family: monospace;font-weight: bold;display: inline-block;line-height: 1.2em;}#sk-container-id-1 div.sk-label-container {text-align: center;}#sk-container-id-1 div.sk-container {/* jupyter's `normalize.less` sets `[hidden] { display: none; }` but bootstrap.min.css set `[hidden] { display: none !important; }` so we also need the `!important` here to be able to override the default hidden behavior on the sphinx rendered scikit-learn.org. See: https://github.com/scikit-learn/scikit-learn/issues/21755 */display: inline-block !important;position: relative;}#sk-container-id-1 div.sk-text-repr-fallback {display: none;}</style><div id=\"sk-container-id-1\" class=\"sk-top-container\"><div class=\"sk-text-repr-fallback\"><pre>MLPClassifier(learning_rate_init=0.0001, max_iter=500, random_state=42)</pre><b>In a Jupyter environment, please rerun this cell to show the HTML representation or trust the notebook. <br />On GitHub, the HTML representation is unable to render, please try loading this page with nbviewer.org.</b></div><div class=\"sk-container\" hidden><div class=\"sk-item\"><div class=\"sk-estimator sk-toggleable\"><input class=\"sk-toggleable__control sk-hidden--visually\" id=\"sk-estimator-id-1\" type=\"checkbox\" checked><label for=\"sk-estimator-id-1\" class=\"sk-toggleable__label sk-toggleable__label-arrow\">MLPClassifier</label><div class=\"sk-toggleable__content\"><pre>MLPClassifier(learning_rate_init=0.0001, max_iter=500, random_state=42)</pre></div></div></div></div></div>"
      ],
      "text/plain": [
       "MLPClassifier(learning_rate_init=0.0001, max_iter=500, random_state=42)"
      ]
     },
     "execution_count": 12,
     "metadata": {},
     "output_type": "execute_result"
    }
   ],
   "source": [
    "nn.fit(X_train_balanced, y_train_balanced)"
   ]
  },
  {
   "cell_type": "code",
   "execution_count": null,
   "id": "f1dc2455",
   "metadata": {},
   "outputs": [
    {
     "name": "stderr",
     "output_type": "stream",
     "text": [
      "/Users/marc/Library/Mobile Documents/com~apple~CloudDocs/Projects/Playground/playgroundseries_s4e1/.venv/lib/python3.10/site-packages/sklearn/base.py:458: UserWarning: X has feature names, but MLPClassifier was fitted without feature names\n",
      "  warnings.warn(\n",
      "/Users/marc/Library/Mobile Documents/com~apple~CloudDocs/Projects/Playground/playgroundseries_s4e1/.venv/lib/python3.10/site-packages/sklearn/base.py:458: UserWarning: X has feature names, but MLPClassifier was fitted without feature names\n",
      "  warnings.warn(\n"
     ]
    }
   ],
   "source": [
    "pred = nn.predict(X_test_scld)\n",
    "pred_proba = nn.predict_proba(X_test_scld)[:,1]"
   ]
  },
  {
   "cell_type": "code",
   "execution_count": null,
   "id": "f51ca946",
   "metadata": {},
   "outputs": [
    {
     "name": "stdout",
     "output_type": "stream",
     "text": [
      "Roc Auc Score : 0.890367\n"
     ]
    }
   ],
   "source": [
    "RocScore  = roc_auc_score(y_test, pred_proba)\n",
    "print(f'Roc Auc Score : {RocScore:.6f}')"
   ]
  },
  {
   "cell_type": "code",
   "execution_count": null,
   "id": "b415b54f",
   "metadata": {},
   "outputs": [
    {
     "name": "stdout",
     "output_type": "stream",
     "text": [
      "              precision    recall  f1-score   support\n",
      "\n",
      "           0       0.94      0.81      0.87     19518\n",
      "           1       0.54      0.80      0.64      5238\n",
      "\n",
      "    accuracy                           0.81     24756\n",
      "   macro avg       0.74      0.81      0.76     24756\n",
      "weighted avg       0.85      0.81      0.82     24756\n",
      "\n"
     ]
    }
   ],
   "source": [
    "print(classification_report(y_test,pred))"
   ]
  },
  {
   "cell_type": "code",
   "execution_count": null,
   "id": "969bf28d",
   "metadata": {},
   "outputs": [
    {
     "data": {
      "text/plain": [
       "<sklearn.metrics._plot.confusion_matrix.ConfusionMatrixDisplay at 0x17d24ab00>"
      ]
     },
     "execution_count": 16,
     "metadata": {},
     "output_type": "execute_result"
    },
    {
     "data": {
      "image/png": "[encoded data removed]",
      "text/plain": [
       "<Figure size 640x480 with 2 Axes>"
      ]
     },
     "metadata": {},
     "output_type": "display_data"
    }
   ],
   "source": [
    "ConfusionMatrixDisplay(confusion_matrix(y_test,pred, normalize='true')).plot()"
   ]
  },
  {
   "cell_type": "markdown",
   "id": "e40cd7d0",
   "metadata": {},
   "source": [
    "# Grid Search CV"
   ]
  },
  {
   "cell_type": "code",
   "execution_count": 27,
   "id": "a5b6fbd6",
   "metadata": {},
   "outputs": [],
   "source": [
    "params = {\n",
    "    'hidden_layer_sizes':[(100,),(100,50),(100,50,25)],\n",
    "    'max_iter':[500],\n",
    "    'activation':['relu'],\n",
    "    'learning_rate':['constant', 'invscaling', 'adaptive'],\n",
    "    'learning_rate_init':[0.01,0.001,0.0001],\n",
    "    'alpha':[0.01,0.001,0.0001]\n",
    "}\n",
    "\n",
    "grid = GridSearchCV(\n",
    "    MLPClassifier(),\n",
    "    param_grid=params,\n",
    "    scoring='roc_auc', \n",
    "    verbose=20,\n",
    "    cv=4,\n",
    "    n_jobs=-1\n",
    "    )"
   ]
  },
  {
   "cell_type": "code",
   "execution_count": 28,
   "id": "817f5e95",
   "metadata": {},
   "outputs": [
    {
     "name": "stdout",
     "output_type": "stream",
     "text": [
      "Fitting 4 folds for each of 81 candidates, totalling 324 fits\n",
      "[CV 1/4; 1/81] START activation=relu, alpha=0.01, hidden_layer_sizes=(100,), learning_rate=constant, learning_rate_init=0.01, max_iter=500\n",
      "[CV 2/4; 1/81] START activation=relu, alpha=0.01, hidden_layer_sizes=(100,), learning_rate=constant, learning_rate_init=0.01, max_iter=500\n",
      "[CV 3/4; 1/81] START activation=relu, alpha=0.01, hidden_layer_sizes=(100,), learning_rate=constant, learning_rate_init=0.01, max_iter=500\n",
      "[CV 4/4; 1/81] START activation=relu, alpha=0.01, hidden_layer_sizes=(100,), learning_rate=constant, learning_rate_init=0.01, max_iter=500\n",
      "[CV 1/4; 2/81] START activation=relu, alpha=0.01, hidden_layer_sizes=(100,), learning_rate=constant, learning_rate_init=0.001, max_iter=500\n",
      "[CV 2/4; 2/81] START activation=relu, alpha=0.01, hidden_layer_sizes=(100,), learning_rate=constant, learning_rate_init=0.001, max_iter=500\n",
      "[CV 3/4; 2/81] START activation=relu, alpha=0.01, hidden_layer_sizes=(100,), learning_rate=constant, learning_rate_init=0.001, max_iter=500\n",
      "[CV 4/4; 2/81] START activation=relu, alpha=0.01, hidden_layer_sizes=(100,), learning_rate=constant, learning_rate_init=0.001, max_iter=500\n",
      "[CV 1/4; 3/81] START activation=relu, alpha=0.01, hidden_layer_sizes=(100,), learning_rate=constant, learning_rate_init=0.0001, max_iter=500\n",
      "[CV 2/4; 3/81] START activation=relu, alpha=0.01, hidden_layer_sizes=(100,), learning_rate=constant, learning_rate_init=0.0001, max_iter=500\n",
      "[CV 3/4; 3/81] START activation=relu, alpha=0.01, hidden_layer_sizes=(100,), learning_rate=constant, learning_rate_init=0.0001, max_iter=500\n",
      "[CV 4/4; 3/81] START activation=relu, alpha=0.01, hidden_layer_sizes=(100,), learning_rate=constant, learning_rate_init=0.0001, max_iter=500\n",
      "[CV 2/4; 1/81] END activation=relu, alpha=0.01, hidden_layer_sizes=(100,), learning_rate=constant, learning_rate_init=0.01, max_iter=500;, score=0.888 total time=   8.0s\n",
      "[CV 1/4; 4/81] START activation=relu, alpha=0.01, hidden_layer_sizes=(100,), learning_rate=invscaling, learning_rate_init=0.01, max_iter=500\n",
      "[CV 3/4; 1/81] END activation=relu, alpha=0.01, hidden_layer_sizes=(100,), learning_rate=constant, learning_rate_init=0.01, max_iter=500;, score=0.888 total time=   9.0s\n",
      "[CV 1/4; 1/81] END activation=relu, alpha=0.01, hidden_layer_sizes=(100,), learning_rate=constant, learning_rate_init=0.01, max_iter=500;, score=0.890 total time=   9.2s\n",
      "[CV 4/4; 1/81] END activation=relu, alpha=0.01, hidden_layer_sizes=(100,), learning_rate=constant, learning_rate_init=0.01, max_iter=500;, score=0.889 total time=   9.1s\n",
      "[CV 2/4; 4/81] START activation=relu, alpha=0.01, hidden_layer_sizes=(100,), learning_rate=invscaling, learning_rate_init=0.01, max_iter=500\n",
      "[CV 3/4; 4/81] START activation=relu, alpha=0.01, hidden_layer_sizes=(100,), learning_rate=invscaling, learning_rate_init=0.01, max_iter=500\n",
      "[CV 4/4; 4/81] START activation=relu, alpha=0.01, hidden_layer_sizes=(100,), learning_rate=invscaling, learning_rate_init=0.01, max_iter=500\n",
      "[CV 1/4; 3/81] END activation=relu, alpha=0.01, hidden_layer_sizes=(100,), learning_rate=constant, learning_rate_init=0.0001, max_iter=500;, score=0.890 total time=  15.0s\n",
      "[CV 1/4; 5/81] START activation=relu, alpha=0.01, hidden_layer_sizes=(100,), learning_rate=invscaling, learning_rate_init=0.001, max_iter=500\n",
      "[CV 3/4; 4/81] END activation=relu, alpha=0.01, hidden_layer_sizes=(100,), learning_rate=invscaling, learning_rate_init=0.01, max_iter=500;, score=0.888 total time=   6.9s\n",
      "[CV 2/4; 5/81] START activation=relu, alpha=0.01, hidden_layer_sizes=(100,), learning_rate=invscaling, learning_rate_init=0.001, max_iter=500\n",
      "[CV 4/4; 3/81] END activation=relu, alpha=0.01, hidden_layer_sizes=(100,), learning_rate=constant, learning_rate_init=0.0001, max_iter=500;, score=0.889 total time=  15.8s\n",
      "[CV 3/4; 3/81] END activation=relu, alpha=0.01, hidden_layer_sizes=(100,), learning_rate=constant, learning_rate_init=0.0001, max_iter=500;, score=0.887 total time=  16.0s\n",
      "[CV 3/4; 5/81] START activation=relu, alpha=0.01, hidden_layer_sizes=(100,), learning_rate=invscaling, learning_rate_init=0.001, max_iter=500\n",
      "[CV 4/4; 5/81] START activation=relu, alpha=0.01, hidden_layer_sizes=(100,), learning_rate=invscaling, learning_rate_init=0.001, max_iter=500\n",
      "[CV 4/4; 4/81] END activation=relu, alpha=0.01, hidden_layer_sizes=(100,), learning_rate=invscaling, learning_rate_init=0.01, max_iter=500;, score=0.890 total time=   9.5s\n",
      "[CV 1/4; 6/81] START activation=relu, alpha=0.01, hidden_layer_sizes=(100,), learning_rate=invscaling, learning_rate_init=0.0001, max_iter=500\n",
      "[CV 2/4; 3/81] END activation=relu, alpha=0.01, hidden_layer_sizes=(100,), learning_rate=constant, learning_rate_init=0.0001, max_iter=500;, score=0.889 total time=  18.7s\n",
      "[CV 2/4; 6/81] START activation=relu, alpha=0.01, hidden_layer_sizes=(100,), learning_rate=invscaling, learning_rate_init=0.0001, max_iter=500\n",
      "[CV 2/4; 4/81] END activation=relu, alpha=0.01, hidden_layer_sizes=(100,), learning_rate=invscaling, learning_rate_init=0.01, max_iter=500;, score=0.889 total time=  12.3s\n",
      "[CV 3/4; 6/81] START activation=relu, alpha=0.01, hidden_layer_sizes=(100,), learning_rate=invscaling, learning_rate_init=0.0001, max_iter=500\n",
      "[CV 1/4; 4/81] END activation=relu, alpha=0.01, hidden_layer_sizes=(100,), learning_rate=invscaling, learning_rate_init=0.01, max_iter=500;, score=0.889 total time=  14.0s\n",
      "[CV 4/4; 6/81] START activation=relu, alpha=0.01, hidden_layer_sizes=(100,), learning_rate=invscaling, learning_rate_init=0.0001, max_iter=500\n",
      "[CV 4/4; 2/81] END activation=relu, alpha=0.01, hidden_layer_sizes=(100,), learning_rate=constant, learning_rate_init=0.001, max_iter=500;, score=0.891 total time=  22.1s\n",
      "[CV 1/4; 7/81] START activation=relu, alpha=0.01, hidden_layer_sizes=(100,), learning_rate=adaptive, learning_rate_init=0.01, max_iter=500\n",
      "[CV 2/4; 2/81] END activation=relu, alpha=0.01, hidden_layer_sizes=(100,), learning_rate=constant, learning_rate_init=0.001, max_iter=500;, score=0.891 total time=  27.6s\n",
      "[CV 2/4; 7/81] START activation=relu, alpha=0.01, hidden_layer_sizes=(100,), learning_rate=adaptive, learning_rate_init=0.01, max_iter=500\n",
      "[CV 1/4; 7/81] END activation=relu, alpha=0.01, hidden_layer_sizes=(100,), learning_rate=adaptive, learning_rate_init=0.01, max_iter=500;, score=0.888 total time=  11.2s\n",
      "[CV 3/4; 7/81] START activation=relu, alpha=0.01, hidden_layer_sizes=(100,), learning_rate=adaptive, learning_rate_init=0.01, max_iter=500\n",
      "[CV 3/4; 2/81] END activation=relu, alpha=0.01, hidden_layer_sizes=(100,), learning_rate=constant, learning_rate_init=0.001, max_iter=500;, score=0.889 total time=  34.9s\n",
      "[CV 4/4; 7/81] START activation=relu, alpha=0.01, hidden_layer_sizes=(100,), learning_rate=adaptive, learning_rate_init=0.01, max_iter=500\n",
      "[CV 2/4; 7/81] END activation=relu, alpha=0.01, hidden_layer_sizes=(100,), learning_rate=adaptive, learning_rate_init=0.01, max_iter=500;, score=0.889 total time=   8.3s\n",
      "[CV 1/4; 8/81] START activation=relu, alpha=0.01, hidden_layer_sizes=(100,), learning_rate=adaptive, learning_rate_init=0.001, max_iter=500\n",
      "[CV 1/4; 6/81] END activation=relu, alpha=0.01, hidden_layer_sizes=(100,), learning_rate=invscaling, learning_rate_init=0.0001, max_iter=500;, score=0.890 total time=  18.2s\n",
      "[CV 2/4; 6/81] END activation=relu, alpha=0.01, hidden_layer_sizes=(100,), learning_rate=invscaling, learning_rate_init=0.0001, max_iter=500;, score=0.889 total time=  17.9s\n",
      "[CV 2/4; 8/81] START activation=relu, alpha=0.01, hidden_layer_sizes=(100,), learning_rate=adaptive, learning_rate_init=0.001, max_iter=500\n",
      "[CV 3/4; 8/81] START activation=relu, alpha=0.01, hidden_layer_sizes=(100,), learning_rate=adaptive, learning_rate_init=0.001, max_iter=500\n",
      "[CV 3/4; 6/81] END activation=relu, alpha=0.01, hidden_layer_sizes=(100,), learning_rate=invscaling, learning_rate_init=0.0001, max_iter=500;, score=0.888 total time=  16.5s\n",
      "[CV 4/4; 8/81] START activation=relu, alpha=0.01, hidden_layer_sizes=(100,), learning_rate=adaptive, learning_rate_init=0.001, max_iter=500\n",
      "[CV 1/4; 2/81] END activation=relu, alpha=0.01, hidden_layer_sizes=(100,), learning_rate=constant, learning_rate_init=0.001, max_iter=500;, score=0.892 total time=  38.4s\n",
      "[CV 1/4; 9/81] START activation=relu, alpha=0.01, hidden_layer_sizes=(100,), learning_rate=adaptive, learning_rate_init=0.0001, max_iter=500\n",
      "[CV 3/4; 5/81] END activation=relu, alpha=0.01, hidden_layer_sizes=(100,), learning_rate=invscaling, learning_rate_init=0.001, max_iter=500;, score=0.889 total time=  22.9s\n",
      "[CV 2/4; 9/81] START activation=relu, alpha=0.01, hidden_layer_sizes=(100,), learning_rate=adaptive, learning_rate_init=0.0001, max_iter=500\n",
      "[CV 4/4; 6/81] END activation=relu, alpha=0.01, hidden_layer_sizes=(100,), learning_rate=invscaling, learning_rate_init=0.0001, max_iter=500;, score=0.890 total time=  17.6s\n",
      "[CV 3/4; 9/81] START activation=relu, alpha=0.01, hidden_layer_sizes=(100,), learning_rate=adaptive, learning_rate_init=0.0001, max_iter=500\n",
      "[CV 4/4; 5/81] END activation=relu, alpha=0.01, hidden_layer_sizes=(100,), learning_rate=invscaling, learning_rate_init=0.001, max_iter=500;, score=0.891 total time=  24.5s\n",
      "[CV 4/4; 9/81] START activation=relu, alpha=0.01, hidden_layer_sizes=(100,), learning_rate=adaptive, learning_rate_init=0.0001, max_iter=500\n",
      "[CV 3/4; 7/81] END activation=relu, alpha=0.01, hidden_layer_sizes=(100,), learning_rate=adaptive, learning_rate_init=0.01, max_iter=500;, score=0.886 total time=   9.8s\n",
      "[CV 1/4; 10/81] START activation=relu, alpha=0.01, hidden_layer_sizes=(100, 50), learning_rate=constant, learning_rate_init=0.01, max_iter=500\n",
      "[CV 4/4; 7/81] END activation=relu, alpha=0.01, hidden_layer_sizes=(100,), learning_rate=adaptive, learning_rate_init=0.01, max_iter=500;, score=0.888 total time=   9.4s\n",
      "[CV 2/4; 10/81] START activation=relu, alpha=0.01, hidden_layer_sizes=(100, 50), learning_rate=constant, learning_rate_init=0.01, max_iter=500\n",
      "[CV 1/4; 5/81] END activation=relu, alpha=0.01, hidden_layer_sizes=(100,), learning_rate=invscaling, learning_rate_init=0.001, max_iter=500;, score=0.891 total time=  31.6s\n",
      "[CV 3/4; 10/81] START activation=relu, alpha=0.01, hidden_layer_sizes=(100, 50), learning_rate=constant, learning_rate_init=0.01, max_iter=500\n",
      "[CV 2/4; 5/81] END activation=relu, alpha=0.01, hidden_layer_sizes=(100,), learning_rate=invscaling, learning_rate_init=0.001, max_iter=500;, score=0.891 total time=  35.0s\n",
      "[CV 4/4; 10/81] START activation=relu, alpha=0.01, hidden_layer_sizes=(100, 50), learning_rate=constant, learning_rate_init=0.01, max_iter=500\n",
      "[CV 1/4; 9/81] END activation=relu, alpha=0.01, hidden_layer_sizes=(100,), learning_rate=adaptive, learning_rate_init=0.0001, max_iter=500;, score=0.890 total time=  18.4s\n",
      "[CV 1/4; 11/81] START activation=relu, alpha=0.01, hidden_layer_sizes=(100, 50), learning_rate=constant, learning_rate_init=0.001, max_iter=500\n",
      "[CV 2/4; 9/81] END activation=relu, alpha=0.01, hidden_layer_sizes=(100,), learning_rate=adaptive, learning_rate_init=0.0001, max_iter=500;, score=0.889 total time=  18.0s\n",
      "[CV 2/4; 11/81] START activation=relu, alpha=0.01, hidden_layer_sizes=(100, 50), learning_rate=constant, learning_rate_init=0.001, max_iter=500\n",
      "[CV 3/4; 9/81] END activation=relu, alpha=0.01, hidden_layer_sizes=(100,), learning_rate=adaptive, learning_rate_init=0.0001, max_iter=500;, score=0.888 total time=  20.4s\n",
      "[CV 3/4; 11/81] START activation=relu, alpha=0.01, hidden_layer_sizes=(100, 50), learning_rate=constant, learning_rate_init=0.001, max_iter=500\n",
      "[CV 1/4; 10/81] END activation=relu, alpha=0.01, hidden_layer_sizes=(100, 50), learning_rate=constant, learning_rate_init=0.01, max_iter=500;, score=0.889 total time=  16.9s\n",
      "[CV 4/4; 11/81] START activation=relu, alpha=0.01, hidden_layer_sizes=(100, 50), learning_rate=constant, learning_rate_init=0.001, max_iter=500\n",
      "[CV 4/4; 9/81] END activation=relu, alpha=0.01, hidden_layer_sizes=(100,), learning_rate=adaptive, learning_rate_init=0.0001, max_iter=500;, score=0.889 total time=  19.9s\n",
      "[CV 1/4; 12/81] START activation=relu, alpha=0.01, hidden_layer_sizes=(100, 50), learning_rate=constant, learning_rate_init=0.0001, max_iter=500\n",
      "[CV 3/4; 8/81] END activation=relu, alpha=0.01, hidden_layer_sizes=(100,), learning_rate=adaptive, learning_rate_init=0.001, max_iter=500;, score=0.889 total time=  25.0s\n",
      "[CV 2/4; 12/81] START activation=relu, alpha=0.01, hidden_layer_sizes=(100, 50), learning_rate=constant, learning_rate_init=0.0001, max_iter=500\n",
      "[CV 4/4; 8/81] END activation=relu, alpha=0.01, hidden_layer_sizes=(100,), learning_rate=adaptive, learning_rate_init=0.001, max_iter=500;, score=0.891 total time=  24.9s\n",
      "[CV 3/4; 12/81] START activation=relu, alpha=0.01, hidden_layer_sizes=(100, 50), learning_rate=constant, learning_rate_init=0.0001, max_iter=500\n",
      "[CV 1/4; 8/81] END activation=relu, alpha=0.01, hidden_layer_sizes=(100,), learning_rate=adaptive, learning_rate_init=0.001, max_iter=500;, score=0.892 total time=  29.6s\n",
      "[CV 4/4; 12/81] START activation=relu, alpha=0.01, hidden_layer_sizes=(100, 50), learning_rate=constant, learning_rate_init=0.0001, max_iter=500\n",
      "[CV 2/4; 8/81] END activation=relu, alpha=0.01, hidden_layer_sizes=(100,), learning_rate=adaptive, learning_rate_init=0.001, max_iter=500;, score=0.891 total time=  30.0s\n",
      "[CV 1/4; 13/81] START activation=relu, alpha=0.01, hidden_layer_sizes=(100, 50), learning_rate=invscaling, learning_rate_init=0.01, max_iter=500\n",
      "[CV 2/4; 10/81] END activation=relu, alpha=0.01, hidden_layer_sizes=(100, 50), learning_rate=constant, learning_rate_init=0.01, max_iter=500;, score=0.889 total time=  27.4s\n",
      "[CV 2/4; 13/81] START activation=relu, alpha=0.01, hidden_layer_sizes=(100, 50), learning_rate=invscaling, learning_rate_init=0.01, max_iter=500\n",
      "[CV 4/4; 10/81] END activation=relu, alpha=0.01, hidden_layer_sizes=(100, 50), learning_rate=constant, learning_rate_init=0.01, max_iter=500;, score=0.888 total time=  25.0s\n",
      "[CV 3/4; 13/81] START activation=relu, alpha=0.01, hidden_layer_sizes=(100, 50), learning_rate=invscaling, learning_rate_init=0.01, max_iter=500\n",
      "[CV 3/4; 10/81] END activation=relu, alpha=0.01, hidden_layer_sizes=(100, 50), learning_rate=constant, learning_rate_init=0.01, max_iter=500;, score=0.887 total time=  31.6s\n",
      "[CV 4/4; 13/81] START activation=relu, alpha=0.01, hidden_layer_sizes=(100, 50), learning_rate=invscaling, learning_rate_init=0.01, max_iter=500\n",
      "[CV 2/4; 13/81] END activation=relu, alpha=0.01, hidden_layer_sizes=(100, 50), learning_rate=invscaling, learning_rate_init=0.01, max_iter=500;, score=0.889 total time=  23.2s\n",
      "[CV 1/4; 14/81] START activation=relu, alpha=0.01, hidden_layer_sizes=(100, 50), learning_rate=invscaling, learning_rate_init=0.001, max_iter=500\n",
      "[CV 3/4; 13/81] END activation=relu, alpha=0.01, hidden_layer_sizes=(100, 50), learning_rate=invscaling, learning_rate_init=0.01, max_iter=500;, score=0.887 total time=  19.4s\n",
      "[CV 2/4; 14/81] START activation=relu, alpha=0.01, hidden_layer_sizes=(100, 50), learning_rate=invscaling, learning_rate_init=0.001, max_iter=500\n",
      "[CV 4/4; 13/81] END activation=relu, alpha=0.01, hidden_layer_sizes=(100, 50), learning_rate=invscaling, learning_rate_init=0.01, max_iter=500;, score=0.890 total time=  24.3s\n",
      "[CV 3/4; 14/81] START activation=relu, alpha=0.01, hidden_layer_sizes=(100, 50), learning_rate=invscaling, learning_rate_init=0.001, max_iter=500\n",
      "[CV 1/4; 13/81] END activation=relu, alpha=0.01, hidden_layer_sizes=(100, 50), learning_rate=invscaling, learning_rate_init=0.01, max_iter=500;, score=0.890 total time=  38.7s\n",
      "[CV 4/4; 14/81] START activation=relu, alpha=0.01, hidden_layer_sizes=(100, 50), learning_rate=invscaling, learning_rate_init=0.001, max_iter=500\n",
      "[CV 4/4; 12/81] END activation=relu, alpha=0.01, hidden_layer_sizes=(100, 50), learning_rate=constant, learning_rate_init=0.0001, max_iter=500;, score=0.891 total time=  57.0s\n",
      "[CV 1/4; 15/81] START activation=relu, alpha=0.01, hidden_layer_sizes=(100, 50), learning_rate=invscaling, learning_rate_init=0.0001, max_iter=500\n",
      "[CV 2/4; 12/81] END activation=relu, alpha=0.01, hidden_layer_sizes=(100, 50), learning_rate=constant, learning_rate_init=0.0001, max_iter=500;, score=0.891 total time= 1.1min\n",
      "[CV 2/4; 15/81] START activation=relu, alpha=0.01, hidden_layer_sizes=(100, 50), learning_rate=invscaling, learning_rate_init=0.0001, max_iter=500\n",
      "[CV 3/4; 12/81] END activation=relu, alpha=0.01, hidden_layer_sizes=(100, 50), learning_rate=constant, learning_rate_init=0.0001, max_iter=500;, score=0.890 total time= 1.2min\n",
      "[CV 3/4; 15/81] START activation=relu, alpha=0.01, hidden_layer_sizes=(100, 50), learning_rate=invscaling, learning_rate_init=0.0001, max_iter=500\n",
      "[CV 1/4; 12/81] END activation=relu, alpha=0.01, hidden_layer_sizes=(100, 50), learning_rate=constant, learning_rate_init=0.0001, max_iter=500;, score=0.892 total time= 1.3min\n",
      "[CV 4/4; 15/81] START activation=relu, alpha=0.01, hidden_layer_sizes=(100, 50), learning_rate=invscaling, learning_rate_init=0.0001, max_iter=500\n",
      "[CV 2/4; 15/81] END activation=relu, alpha=0.01, hidden_layer_sizes=(100, 50), learning_rate=invscaling, learning_rate_init=0.0001, max_iter=500;, score=0.891 total time=  49.5s\n",
      "[CV 1/4; 16/81] START activation=relu, alpha=0.01, hidden_layer_sizes=(100, 50), learning_rate=adaptive, learning_rate_init=0.01, max_iter=500\n",
      "[CV 1/4; 11/81] END activation=relu, alpha=0.01, hidden_layer_sizes=(100, 50), learning_rate=constant, learning_rate_init=0.001, max_iter=500;, score=0.895 total time= 2.4min\n",
      "[CV 2/4; 16/81] START activation=relu, alpha=0.01, hidden_layer_sizes=(100, 50), learning_rate=adaptive, learning_rate_init=0.01, max_iter=500\n",
      "[CV 1/4; 15/81] END activation=relu, alpha=0.01, hidden_layer_sizes=(100, 50), learning_rate=invscaling, learning_rate_init=0.0001, max_iter=500;, score=0.892 total time= 1.4min\n",
      "[CV 3/4; 16/81] START activation=relu, alpha=0.01, hidden_layer_sizes=(100, 50), learning_rate=adaptive, learning_rate_init=0.01, max_iter=500\n",
      "[CV 1/4; 16/81] END activation=relu, alpha=0.01, hidden_layer_sizes=(100, 50), learning_rate=adaptive, learning_rate_init=0.01, max_iter=500;, score=0.890 total time=  29.4s\n",
      "[CV 4/4; 16/81] START activation=relu, alpha=0.01, hidden_layer_sizes=(100, 50), learning_rate=adaptive, learning_rate_init=0.01, max_iter=500\n",
      "[CV 4/4; 11/81] END activation=relu, alpha=0.01, hidden_layer_sizes=(100, 50), learning_rate=constant, learning_rate_init=0.001, max_iter=500;, score=0.895 total time= 2.5min\n",
      "[CV 1/4; 17/81] START activation=relu, alpha=0.01, hidden_layer_sizes=(100, 50), learning_rate=adaptive, learning_rate_init=0.001, max_iter=500\n",
      "[CV 4/4; 15/81] END activation=relu, alpha=0.01, hidden_layer_sizes=(100, 50), learning_rate=invscaling, learning_rate_init=0.0001, max_iter=500;, score=0.892 total time= 1.4min\n",
      "[CV 2/4; 17/81] START activation=relu, alpha=0.01, hidden_layer_sizes=(100, 50), learning_rate=adaptive, learning_rate_init=0.001, max_iter=500\n",
      "[CV 3/4; 15/81] END activation=relu, alpha=0.01, hidden_layer_sizes=(100, 50), learning_rate=invscaling, learning_rate_init=0.0001, max_iter=500;, score=0.890 total time= 1.4min\n",
      "[CV 3/4; 17/81] START activation=relu, alpha=0.01, hidden_layer_sizes=(100, 50), learning_rate=adaptive, learning_rate_init=0.001, max_iter=500\n",
      "[CV 3/4; 11/81] END activation=relu, alpha=0.01, hidden_layer_sizes=(100, 50), learning_rate=constant, learning_rate_init=0.001, max_iter=500;, score=0.894 total time= 2.7min\n",
      "[CV 4/4; 17/81] START activation=relu, alpha=0.01, hidden_layer_sizes=(100, 50), learning_rate=adaptive, learning_rate_init=0.001, max_iter=500\n",
      "[CV 2/4; 16/81] END activation=relu, alpha=0.01, hidden_layer_sizes=(100, 50), learning_rate=adaptive, learning_rate_init=0.01, max_iter=500;, score=0.889 total time=  20.3s\n",
      "[CV 1/4; 18/81] START activation=relu, alpha=0.01, hidden_layer_sizes=(100, 50), learning_rate=adaptive, learning_rate_init=0.0001, max_iter=500\n",
      "[CV 4/4; 16/81] END activation=relu, alpha=0.01, hidden_layer_sizes=(100, 50), learning_rate=adaptive, learning_rate_init=0.01, max_iter=500;, score=0.889 total time=  28.3s\n",
      "[CV 2/4; 18/81] START activation=relu, alpha=0.01, hidden_layer_sizes=(100, 50), learning_rate=adaptive, learning_rate_init=0.0001, max_iter=500\n",
      "[CV 3/4; 16/81] END activation=relu, alpha=0.01, hidden_layer_sizes=(100, 50), learning_rate=adaptive, learning_rate_init=0.01, max_iter=500;, score=0.888 total time=  33.7s\n",
      "[CV 3/4; 18/81] START activation=relu, alpha=0.01, hidden_layer_sizes=(100, 50), learning_rate=adaptive, learning_rate_init=0.0001, max_iter=500\n",
      "[CV 2/4; 11/81] END activation=relu, alpha=0.01, hidden_layer_sizes=(100, 50), learning_rate=constant, learning_rate_init=0.001, max_iter=500;, score=0.898 total time= 3.5min\n",
      "[CV 4/4; 18/81] START activation=relu, alpha=0.01, hidden_layer_sizes=(100, 50), learning_rate=adaptive, learning_rate_init=0.0001, max_iter=500\n",
      "[CV 3/4; 14/81] END activation=relu, alpha=0.01, hidden_layer_sizes=(100, 50), learning_rate=invscaling, learning_rate_init=0.001, max_iter=500;, score=0.896 total time= 2.9min\n",
      "[CV 1/4; 19/81] START activation=relu, alpha=0.01, hidden_layer_sizes=(100, 50, 25), learning_rate=constant, learning_rate_init=0.01, max_iter=500\n",
      "[CV 4/4; 14/81] END activation=relu, alpha=0.01, hidden_layer_sizes=(100, 50), learning_rate=invscaling, learning_rate_init=0.001, max_iter=500;, score=0.895 total time= 3.1min\n",
      "[CV 2/4; 19/81] START activation=relu, alpha=0.01, hidden_layer_sizes=(100, 50, 25), learning_rate=constant, learning_rate_init=0.01, max_iter=500\n",
      "[CV 1/4; 18/81] END activation=relu, alpha=0.01, hidden_layer_sizes=(100, 50), learning_rate=adaptive, learning_rate_init=0.0001, max_iter=500;, score=0.892 total time= 1.3min\n",
      "[CV 3/4; 19/81] START activation=relu, alpha=0.01, hidden_layer_sizes=(100, 50, 25), learning_rate=constant, learning_rate_init=0.01, max_iter=500\n",
      "[CV 1/4; 14/81] END activation=relu, alpha=0.01, hidden_layer_sizes=(100, 50), learning_rate=invscaling, learning_rate_init=0.001, max_iter=500;, score=0.897 total time= 3.6min\n",
      "[CV 4/4; 19/81] START activation=relu, alpha=0.01, hidden_layer_sizes=(100, 50, 25), learning_rate=constant, learning_rate_init=0.01, max_iter=500\n",
      "[CV 1/4; 19/81] END activation=relu, alpha=0.01, hidden_layer_sizes=(100, 50, 25), learning_rate=constant, learning_rate_init=0.01, max_iter=500;, score=0.890 total time=  37.2s\n",
      "[CV 1/4; 20/81] START activation=relu, alpha=0.01, hidden_layer_sizes=(100, 50, 25), learning_rate=constant, learning_rate_init=0.001, max_iter=500\n",
      "[CV 4/4; 18/81] END activation=relu, alpha=0.01, hidden_layer_sizes=(100, 50), learning_rate=adaptive, learning_rate_init=0.0001, max_iter=500;, score=0.891 total time=  52.0s\n",
      "[CV 2/4; 20/81] START activation=relu, alpha=0.01, hidden_layer_sizes=(100, 50, 25), learning_rate=constant, learning_rate_init=0.001, max_iter=500\n",
      "[CV 2/4; 14/81] END activation=relu, alpha=0.01, hidden_layer_sizes=(100, 50), learning_rate=invscaling, learning_rate_init=0.001, max_iter=500;, score=0.897 total time= 3.8min\n",
      "[CV 3/4; 20/81] START activation=relu, alpha=0.01, hidden_layer_sizes=(100, 50, 25), learning_rate=constant, learning_rate_init=0.001, max_iter=500\n",
      "[CV 1/4; 17/81] END activation=relu, alpha=0.01, hidden_layer_sizes=(100, 50), learning_rate=adaptive, learning_rate_init=0.001, max_iter=500;, score=0.897 total time= 2.0min\n",
      "[CV 4/4; 20/81] START activation=relu, alpha=0.01, hidden_layer_sizes=(100, 50, 25), learning_rate=constant, learning_rate_init=0.001, max_iter=500\n",
      "[CV 2/4; 18/81] END activation=relu, alpha=0.01, hidden_layer_sizes=(100, 50), learning_rate=adaptive, learning_rate_init=0.0001, max_iter=500;, score=0.892 total time= 1.6min\n",
      "[CV 1/4; 21/81] START activation=relu, alpha=0.01, hidden_layer_sizes=(100, 50, 25), learning_rate=constant, learning_rate_init=0.0001, max_iter=500\n",
      "[CV 2/4; 19/81] END activation=relu, alpha=0.01, hidden_layer_sizes=(100, 50, 25), learning_rate=constant, learning_rate_init=0.01, max_iter=500;, score=0.889 total time=  47.3s\n",
      "[CV 2/4; 21/81] START activation=relu, alpha=0.01, hidden_layer_sizes=(100, 50, 25), learning_rate=constant, learning_rate_init=0.0001, max_iter=500\n",
      "[CV 4/4; 19/81] END activation=relu, alpha=0.01, hidden_layer_sizes=(100, 50, 25), learning_rate=constant, learning_rate_init=0.01, max_iter=500;, score=0.889 total time=  32.0s\n",
      "[CV 3/4; 21/81] START activation=relu, alpha=0.01, hidden_layer_sizes=(100, 50, 25), learning_rate=constant, learning_rate_init=0.0001, max_iter=500\n",
      "[CV 4/4; 17/81] END activation=relu, alpha=0.01, hidden_layer_sizes=(100, 50), learning_rate=adaptive, learning_rate_init=0.001, max_iter=500;, score=0.895 total time= 2.1min\n",
      "[CV 4/4; 21/81] START activation=relu, alpha=0.01, hidden_layer_sizes=(100, 50, 25), learning_rate=constant, learning_rate_init=0.0001, max_iter=500\n",
      "[CV 3/4; 19/81] END activation=relu, alpha=0.01, hidden_layer_sizes=(100, 50, 25), learning_rate=constant, learning_rate_init=0.01, max_iter=500;, score=0.888 total time=  46.3s\n",
      "[CV 1/4; 22/81] START activation=relu, alpha=0.01, hidden_layer_sizes=(100, 50, 25), learning_rate=invscaling, learning_rate_init=0.01, max_iter=500\n",
      "[CV 1/4; 22/81] END activation=relu, alpha=0.01, hidden_layer_sizes=(100, 50, 25), learning_rate=invscaling, learning_rate_init=0.01, max_iter=500;, score=0.889 total time=  35.0s\n",
      "[CV 2/4; 22/81] START activation=relu, alpha=0.01, hidden_layer_sizes=(100, 50, 25), learning_rate=invscaling, learning_rate_init=0.01, max_iter=500\n",
      "[CV 3/4; 17/81] END activation=relu, alpha=0.01, hidden_layer_sizes=(100, 50), learning_rate=adaptive, learning_rate_init=0.001, max_iter=500;, score=0.896 total time= 2.7min\n",
      "[CV 3/4; 22/81] START activation=relu, alpha=0.01, hidden_layer_sizes=(100, 50, 25), learning_rate=invscaling, learning_rate_init=0.01, max_iter=500\n",
      "[CV 3/4; 18/81] END activation=relu, alpha=0.01, hidden_layer_sizes=(100, 50), learning_rate=adaptive, learning_rate_init=0.0001, max_iter=500;, score=0.890 total time= 2.5min\n",
      "[CV 4/4; 22/81] START activation=relu, alpha=0.01, hidden_layer_sizes=(100, 50, 25), learning_rate=invscaling, learning_rate_init=0.01, max_iter=500\n",
      "[CV 3/4; 22/81] END activation=relu, alpha=0.01, hidden_layer_sizes=(100, 50, 25), learning_rate=invscaling, learning_rate_init=0.01, max_iter=500;, score=0.888 total time=  33.8s\n",
      "[CV 1/4; 23/81] START activation=relu, alpha=0.01, hidden_layer_sizes=(100, 50, 25), learning_rate=invscaling, learning_rate_init=0.001, max_iter=500\n",
      "[CV 4/4; 22/81] END activation=relu, alpha=0.01, hidden_layer_sizes=(100, 50, 25), learning_rate=invscaling, learning_rate_init=0.01, max_iter=500;, score=0.889 total time=  33.5s\n",
      "[CV 2/4; 23/81] START activation=relu, alpha=0.01, hidden_layer_sizes=(100, 50, 25), learning_rate=invscaling, learning_rate_init=0.001, max_iter=500\n",
      "[CV 2/4; 22/81] END activation=relu, alpha=0.01, hidden_layer_sizes=(100, 50, 25), learning_rate=invscaling, learning_rate_init=0.01, max_iter=500;, score=0.889 total time=  38.8s\n",
      "[CV 3/4; 23/81] START activation=relu, alpha=0.01, hidden_layer_sizes=(100, 50, 25), learning_rate=invscaling, learning_rate_init=0.001, max_iter=500\n",
      "[CV 2/4; 17/81] END activation=relu, alpha=0.01, hidden_layer_sizes=(100, 50), learning_rate=adaptive, learning_rate_init=0.001, max_iter=500;, score=0.898 total time= 3.7min\n",
      "[CV 4/4; 23/81] START activation=relu, alpha=0.01, hidden_layer_sizes=(100, 50, 25), learning_rate=invscaling, learning_rate_init=0.001, max_iter=500\n",
      "[CV 2/4; 20/81] END activation=relu, alpha=0.01, hidden_layer_sizes=(100, 50, 25), learning_rate=constant, learning_rate_init=0.001, max_iter=500;, score=0.900 total time= 3.5min\n",
      "[CV 1/4; 24/81] START activation=relu, alpha=0.01, hidden_layer_sizes=(100, 50, 25), learning_rate=invscaling, learning_rate_init=0.0001, max_iter=500\n",
      "[CV 1/4; 20/81] END activation=relu, alpha=0.01, hidden_layer_sizes=(100, 50, 25), learning_rate=constant, learning_rate_init=0.001, max_iter=500;, score=0.901 total time= 3.7min\n",
      "[CV 2/4; 24/81] START activation=relu, alpha=0.01, hidden_layer_sizes=(100, 50, 25), learning_rate=invscaling, learning_rate_init=0.0001, max_iter=500\n",
      "[CV 4/4; 21/81] END activation=relu, alpha=0.01, hidden_layer_sizes=(100, 50, 25), learning_rate=constant, learning_rate_init=0.0001, max_iter=500;, score=0.894 total time= 3.7min\n",
      "[CV 3/4; 24/81] START activation=relu, alpha=0.01, hidden_layer_sizes=(100, 50, 25), learning_rate=invscaling, learning_rate_init=0.0001, max_iter=500\n",
      "[CV 1/4; 21/81] END activation=relu, alpha=0.01, hidden_layer_sizes=(100, 50, 25), learning_rate=constant, learning_rate_init=0.0001, max_iter=500;, score=0.895 total time= 4.1min\n",
      "[CV 4/4; 24/81] START activation=relu, alpha=0.01, hidden_layer_sizes=(100, 50, 25), learning_rate=invscaling, learning_rate_init=0.0001, max_iter=500\n",
      "[CV 4/4; 20/81] END activation=relu, alpha=0.01, hidden_layer_sizes=(100, 50, 25), learning_rate=constant, learning_rate_init=0.001, max_iter=500;, score=0.903 total time= 4.3min\n",
      "[CV 1/4; 25/81] START activation=relu, alpha=0.01, hidden_layer_sizes=(100, 50, 25), learning_rate=adaptive, learning_rate_init=0.01, max_iter=500\n",
      "[CV 3/4; 20/81] END activation=relu, alpha=0.01, hidden_layer_sizes=(100, 50, 25), learning_rate=constant, learning_rate_init=0.001, max_iter=500;, score=0.902 total time= 4.7min\n",
      "[CV 2/4; 25/81] START activation=relu, alpha=0.01, hidden_layer_sizes=(100, 50, 25), learning_rate=adaptive, learning_rate_init=0.01, max_iter=500\n",
      "[CV 1/4; 25/81] END activation=relu, alpha=0.01, hidden_layer_sizes=(100, 50, 25), learning_rate=adaptive, learning_rate_init=0.01, max_iter=500;, score=0.890 total time=  29.1s\n",
      "[CV 3/4; 25/81] START activation=relu, alpha=0.01, hidden_layer_sizes=(100, 50, 25), learning_rate=adaptive, learning_rate_init=0.01, max_iter=500\n",
      "[CV 4/4; 23/81] END activation=relu, alpha=0.01, hidden_layer_sizes=(100, 50, 25), learning_rate=invscaling, learning_rate_init=0.001, max_iter=500;, score=0.902 total time= 3.2min\n",
      "[CV 4/4; 25/81] START activation=relu, alpha=0.01, hidden_layer_sizes=(100, 50, 25), learning_rate=adaptive, learning_rate_init=0.01, max_iter=500\n",
      "[CV 2/4; 25/81] END activation=relu, alpha=0.01, hidden_layer_sizes=(100, 50, 25), learning_rate=adaptive, learning_rate_init=0.01, max_iter=500;, score=0.889 total time=  33.6s\n",
      "[CV 1/4; 26/81] START activation=relu, alpha=0.01, hidden_layer_sizes=(100, 50, 25), learning_rate=adaptive, learning_rate_init=0.001, max_iter=500\n",
      "[CV 3/4; 25/81] END activation=relu, alpha=0.01, hidden_layer_sizes=(100, 50, 25), learning_rate=adaptive, learning_rate_init=0.01, max_iter=500;, score=0.887 total time=  33.6s\n",
      "[CV 2/4; 26/81] START activation=relu, alpha=0.01, hidden_layer_sizes=(100, 50, 25), learning_rate=adaptive, learning_rate_init=0.001, max_iter=500\n",
      "[CV 3/4; 23/81] END activation=relu, alpha=0.01, hidden_layer_sizes=(100, 50, 25), learning_rate=invscaling, learning_rate_init=0.001, max_iter=500;, score=0.902 total time= 3.9min\n",
      "[CV 3/4; 26/81] START activation=relu, alpha=0.01, hidden_layer_sizes=(100, 50, 25), learning_rate=adaptive, learning_rate_init=0.001, max_iter=500\n",
      "[CV 4/4; 25/81] END activation=relu, alpha=0.01, hidden_layer_sizes=(100, 50, 25), learning_rate=adaptive, learning_rate_init=0.01, max_iter=500;, score=0.889 total time=  39.1s\n",
      "[CV 4/4; 26/81] START activation=relu, alpha=0.01, hidden_layer_sizes=(100, 50, 25), learning_rate=adaptive, learning_rate_init=0.001, max_iter=500\n",
      "[CV 3/4; 21/81] END activation=relu, alpha=0.01, hidden_layer_sizes=(100, 50, 25), learning_rate=constant, learning_rate_init=0.0001, max_iter=500;, score=0.894 total time= 5.6min\n",
      "[CV 1/4; 27/81] START activation=relu, alpha=0.01, hidden_layer_sizes=(100, 50, 25), learning_rate=adaptive, learning_rate_init=0.0001, max_iter=500\n",
      "[CV 1/4; 23/81] END activation=relu, alpha=0.01, hidden_layer_sizes=(100, 50, 25), learning_rate=invscaling, learning_rate_init=0.001, max_iter=500;, score=0.903 total time= 4.8min\n",
      "[CV 2/4; 27/81] START activation=relu, alpha=0.01, hidden_layer_sizes=(100, 50, 25), learning_rate=adaptive, learning_rate_init=0.0001, max_iter=500\n",
      "[CV 2/4; 23/81] END activation=relu, alpha=0.01, hidden_layer_sizes=(100, 50, 25), learning_rate=invscaling, learning_rate_init=0.001, max_iter=500;, score=0.904 total time= 4.8min\n",
      "[CV 3/4; 27/81] START activation=relu, alpha=0.01, hidden_layer_sizes=(100, 50, 25), learning_rate=adaptive, learning_rate_init=0.0001, max_iter=500\n",
      "[CV 4/4; 24/81] END activation=relu, alpha=0.01, hidden_layer_sizes=(100, 50, 25), learning_rate=invscaling, learning_rate_init=0.0001, max_iter=500;, score=0.893 total time= 3.1min\n",
      "[CV 4/4; 27/81] START activation=relu, alpha=0.01, hidden_layer_sizes=(100, 50, 25), learning_rate=adaptive, learning_rate_init=0.0001, max_iter=500\n"
     ]
    },
    {
     "name": "stderr",
     "output_type": "stream",
     "text": [
      "/Users/marc/Library/Mobile Documents/com~apple~CloudDocs/Projects/Playground/playgroundseries_s4e1/.venv/lib/python3.10/site-packages/sklearn/neural_network/_multilayer_perceptron.py:691: ConvergenceWarning: Stochastic Optimizer: Maximum iterations (500) reached and the optimization hasn't converged yet.\n",
      "  warnings.warn(\n"
     ]
    },
    {
     "name": "stdout",
     "output_type": "stream",
     "text": [
      "[CV 2/4; 21/81] END activation=relu, alpha=0.01, hidden_layer_sizes=(100, 50, 25), learning_rate=constant, learning_rate_init=0.0001, max_iter=500;, score=0.896 total time= 7.5min\n",
      "[CV 1/4; 28/81] START activation=relu, alpha=0.001, hidden_layer_sizes=(100,), learning_rate=constant, learning_rate_init=0.01, max_iter=500\n",
      "[CV 3/4; 24/81] END activation=relu, alpha=0.01, hidden_layer_sizes=(100, 50, 25), learning_rate=invscaling, learning_rate_init=0.0001, max_iter=500;, score=0.893 total time= 3.9min\n",
      "[CV 2/4; 28/81] START activation=relu, alpha=0.001, hidden_layer_sizes=(100,), learning_rate=constant, learning_rate_init=0.01, max_iter=500\n",
      "[CV 1/4; 28/81] END activation=relu, alpha=0.001, hidden_layer_sizes=(100,), learning_rate=constant, learning_rate_init=0.01, max_iter=500;, score=0.890 total time=  11.6s\n",
      "[CV 3/4; 28/81] START activation=relu, alpha=0.001, hidden_layer_sizes=(100,), learning_rate=constant, learning_rate_init=0.01, max_iter=500\n",
      "[CV 3/4; 28/81] END activation=relu, alpha=0.001, hidden_layer_sizes=(100,), learning_rate=constant, learning_rate_init=0.01, max_iter=500;, score=0.888 total time=  12.3s\n",
      "[CV 4/4; 28/81] START activation=relu, alpha=0.001, hidden_layer_sizes=(100,), learning_rate=constant, learning_rate_init=0.01, max_iter=500\n",
      "[CV 2/4; 28/81] END activation=relu, alpha=0.001, hidden_layer_sizes=(100,), learning_rate=constant, learning_rate_init=0.01, max_iter=500;, score=0.889 total time=  19.9s\n",
      "[CV 1/4; 29/81] START activation=relu, alpha=0.001, hidden_layer_sizes=(100,), learning_rate=constant, learning_rate_init=0.001, max_iter=500\n",
      "[CV 4/4; 28/81] END activation=relu, alpha=0.001, hidden_layer_sizes=(100,), learning_rate=constant, learning_rate_init=0.01, max_iter=500;, score=0.890 total time=  17.4s\n",
      "[CV 2/4; 29/81] START activation=relu, alpha=0.001, hidden_layer_sizes=(100,), learning_rate=constant, learning_rate_init=0.001, max_iter=500\n",
      "[CV 1/4; 24/81] END activation=relu, alpha=0.01, hidden_layer_sizes=(100, 50, 25), learning_rate=invscaling, learning_rate_init=0.0001, max_iter=500;, score=0.897 total time= 5.3min\n",
      "[CV 3/4; 29/81] START activation=relu, alpha=0.001, hidden_layer_sizes=(100,), learning_rate=constant, learning_rate_init=0.001, max_iter=500\n",
      "[CV 1/4; 26/81] END activation=relu, alpha=0.01, hidden_layer_sizes=(100, 50, 25), learning_rate=adaptive, learning_rate_init=0.001, max_iter=500;, score=0.901 total time= 3.7min\n",
      "[CV 4/4; 29/81] START activation=relu, alpha=0.001, hidden_layer_sizes=(100,), learning_rate=constant, learning_rate_init=0.001, max_iter=500\n",
      "[CV 3/4; 27/81] END activation=relu, alpha=0.01, hidden_layer_sizes=(100, 50, 25), learning_rate=adaptive, learning_rate_init=0.0001, max_iter=500;, score=0.892 total time= 2.7min\n",
      "[CV 1/4; 30/81] START activation=relu, alpha=0.001, hidden_layer_sizes=(100,), learning_rate=constant, learning_rate_init=0.0001, max_iter=500\n",
      "[CV 3/4; 29/81] END activation=relu, alpha=0.001, hidden_layer_sizes=(100,), learning_rate=constant, learning_rate_init=0.001, max_iter=500;, score=0.890 total time=  27.4s\n",
      "[CV 2/4; 30/81] START activation=relu, alpha=0.001, hidden_layer_sizes=(100,), learning_rate=constant, learning_rate_init=0.0001, max_iter=500\n",
      "[CV 2/4; 29/81] END activation=relu, alpha=0.001, hidden_layer_sizes=(100,), learning_rate=constant, learning_rate_init=0.001, max_iter=500;, score=0.891 total time=  48.1s\n",
      "[CV 3/4; 30/81] START activation=relu, alpha=0.001, hidden_layer_sizes=(100,), learning_rate=constant, learning_rate_init=0.0001, max_iter=500\n",
      "[CV 1/4; 29/81] END activation=relu, alpha=0.001, hidden_layer_sizes=(100,), learning_rate=constant, learning_rate_init=0.001, max_iter=500;, score=0.892 total time= 1.0min\n",
      "[CV 4/4; 30/81] START activation=relu, alpha=0.001, hidden_layer_sizes=(100,), learning_rate=constant, learning_rate_init=0.0001, max_iter=500\n",
      "[CV 1/4; 30/81] END activation=relu, alpha=0.001, hidden_layer_sizes=(100,), learning_rate=constant, learning_rate_init=0.0001, max_iter=500;, score=0.890 total time=  17.3s\n",
      "[CV 1/4; 31/81] START activation=relu, alpha=0.001, hidden_layer_sizes=(100,), learning_rate=invscaling, learning_rate_init=0.01, max_iter=500\n",
      "[CV 3/4; 26/81] END activation=relu, alpha=0.01, hidden_layer_sizes=(100, 50, 25), learning_rate=adaptive, learning_rate_init=0.001, max_iter=500;, score=0.900 total time= 4.0min\n",
      "[CV 2/4; 30/81] END activation=relu, alpha=0.001, hidden_layer_sizes=(100,), learning_rate=constant, learning_rate_init=0.0001, max_iter=500;, score=0.889 total time=  19.5s\n",
      "[CV 2/4; 31/81] START activation=relu, alpha=0.001, hidden_layer_sizes=(100,), learning_rate=invscaling, learning_rate_init=0.01, max_iter=500\n",
      "[CV 3/4; 31/81] START activation=relu, alpha=0.001, hidden_layer_sizes=(100,), learning_rate=invscaling, learning_rate_init=0.01, max_iter=500\n",
      "[CV 1/4; 31/81] END activation=relu, alpha=0.001, hidden_layer_sizes=(100,), learning_rate=invscaling, learning_rate_init=0.01, max_iter=500;, score=0.890 total time=  12.6s\n",
      "[CV 4/4; 31/81] START activation=relu, alpha=0.001, hidden_layer_sizes=(100,), learning_rate=invscaling, learning_rate_init=0.01, max_iter=500\n",
      "[CV 2/4; 24/81] END activation=relu, alpha=0.01, hidden_layer_sizes=(100, 50, 25), learning_rate=invscaling, learning_rate_init=0.0001, max_iter=500;, score=0.895 total time= 6.0min\n",
      "[CV 1/4; 32/81] START activation=relu, alpha=0.001, hidden_layer_sizes=(100,), learning_rate=invscaling, learning_rate_init=0.001, max_iter=500\n",
      "[CV 4/4; 29/81] END activation=relu, alpha=0.001, hidden_layer_sizes=(100,), learning_rate=constant, learning_rate_init=0.001, max_iter=500;, score=0.891 total time=  36.9s\n",
      "[CV 2/4; 32/81] START activation=relu, alpha=0.001, hidden_layer_sizes=(100,), learning_rate=invscaling, learning_rate_init=0.001, max_iter=500\n",
      "[CV 3/4; 30/81] END activation=relu, alpha=0.001, hidden_layer_sizes=(100,), learning_rate=constant, learning_rate_init=0.0001, max_iter=500;, score=0.888 total time=  24.5s\n",
      "[CV 3/4; 32/81] START activation=relu, alpha=0.001, hidden_layer_sizes=(100,), learning_rate=invscaling, learning_rate_init=0.001, max_iter=500\n",
      "[CV 4/4; 30/81] END activation=relu, alpha=0.001, hidden_layer_sizes=(100,), learning_rate=constant, learning_rate_init=0.0001, max_iter=500;, score=0.890 total time=  22.3s\n",
      "[CV 4/4; 32/81] START activation=relu, alpha=0.001, hidden_layer_sizes=(100,), learning_rate=invscaling, learning_rate_init=0.001, max_iter=500\n",
      "[CV 2/4; 31/81] END activation=relu, alpha=0.001, hidden_layer_sizes=(100,), learning_rate=invscaling, learning_rate_init=0.01, max_iter=500;, score=0.890 total time=  15.9s\n",
      "[CV 1/4; 33/81] START activation=relu, alpha=0.001, hidden_layer_sizes=(100,), learning_rate=invscaling, learning_rate_init=0.0001, max_iter=500\n",
      "[CV 3/4; 31/81] END activation=relu, alpha=0.001, hidden_layer_sizes=(100,), learning_rate=invscaling, learning_rate_init=0.01, max_iter=500;, score=0.888 total time=  17.7s\n",
      "[CV 2/4; 33/81] START activation=relu, alpha=0.001, hidden_layer_sizes=(100,), learning_rate=invscaling, learning_rate_init=0.0001, max_iter=500\n",
      "[CV 4/4; 31/81] END activation=relu, alpha=0.001, hidden_layer_sizes=(100,), learning_rate=invscaling, learning_rate_init=0.01, max_iter=500;, score=0.889 total time=  14.0s\n",
      "[CV 3/4; 33/81] START activation=relu, alpha=0.001, hidden_layer_sizes=(100,), learning_rate=invscaling, learning_rate_init=0.0001, max_iter=500\n",
      "[CV 3/4; 32/81] END activation=relu, alpha=0.001, hidden_layer_sizes=(100,), learning_rate=invscaling, learning_rate_init=0.001, max_iter=500;, score=0.889 total time=  17.6s\n",
      "[CV 4/4; 33/81] START activation=relu, alpha=0.001, hidden_layer_sizes=(100,), learning_rate=invscaling, learning_rate_init=0.0001, max_iter=500\n",
      "[CV 3/4; 33/81] END activation=relu, alpha=0.001, hidden_layer_sizes=(100,), learning_rate=invscaling, learning_rate_init=0.0001, max_iter=500;, score=0.888 total time=  15.3s\n",
      "[CV 1/4; 34/81] START activation=relu, alpha=0.001, hidden_layer_sizes=(100,), learning_rate=adaptive, learning_rate_init=0.01, max_iter=500\n",
      "[CV 2/4; 32/81] END activation=relu, alpha=0.001, hidden_layer_sizes=(100,), learning_rate=invscaling, learning_rate_init=0.001, max_iter=500;, score=0.891 total time=  27.4s\n",
      "[CV 2/4; 34/81] START activation=relu, alpha=0.001, hidden_layer_sizes=(100,), learning_rate=adaptive, learning_rate_init=0.01, max_iter=500\n",
      "[CV 2/4; 26/81] END activation=relu, alpha=0.01, hidden_layer_sizes=(100, 50, 25), learning_rate=adaptive, learning_rate_init=0.001, max_iter=500;, score=0.902 total time= 4.6min\n",
      "[CV 3/4; 34/81] START activation=relu, alpha=0.001, hidden_layer_sizes=(100,), learning_rate=adaptive, learning_rate_init=0.01, max_iter=500\n",
      "[CV 1/4; 33/81] END activation=relu, alpha=0.001, hidden_layer_sizes=(100,), learning_rate=invscaling, learning_rate_init=0.0001, max_iter=500;, score=0.890 total time=  22.4s\n",
      "[CV 4/4; 34/81] START activation=relu, alpha=0.001, hidden_layer_sizes=(100,), learning_rate=adaptive, learning_rate_init=0.01, max_iter=500\n",
      "[CV 2/4; 33/81] END activation=relu, alpha=0.001, hidden_layer_sizes=(100,), learning_rate=invscaling, learning_rate_init=0.0001, max_iter=500;, score=0.889 total time=  21.5s\n",
      "[CV 1/4; 35/81] START activation=relu, alpha=0.001, hidden_layer_sizes=(100,), learning_rate=adaptive, learning_rate_init=0.001, max_iter=500\n",
      "[CV 1/4; 32/81] END activation=relu, alpha=0.001, hidden_layer_sizes=(100,), learning_rate=invscaling, learning_rate_init=0.001, max_iter=500;, score=0.892 total time=  38.2s\n",
      "[CV 2/4; 35/81] START activation=relu, alpha=0.001, hidden_layer_sizes=(100,), learning_rate=adaptive, learning_rate_init=0.001, max_iter=500\n",
      "[CV 4/4; 32/81] END activation=relu, alpha=0.001, hidden_layer_sizes=(100,), learning_rate=invscaling, learning_rate_init=0.001, max_iter=500;, score=0.891 total time=  38.7s\n",
      "[CV 4/4; 33/81] END activation=relu, alpha=0.001, hidden_layer_sizes=(100,), learning_rate=invscaling, learning_rate_init=0.0001, max_iter=500;, score=0.890 total time=  21.2s\n",
      "[CV 3/4; 35/81] START activation=relu, alpha=0.001, hidden_layer_sizes=(100,), learning_rate=adaptive, learning_rate_init=0.001, max_iter=500\n",
      "[CV 4/4; 35/81] START activation=relu, alpha=0.001, hidden_layer_sizes=(100,), learning_rate=adaptive, learning_rate_init=0.001, max_iter=500\n",
      "[CV 2/4; 34/81] END activation=relu, alpha=0.001, hidden_layer_sizes=(100,), learning_rate=adaptive, learning_rate_init=0.01, max_iter=500;, score=0.890 total time=  14.2s\n",
      "[CV 1/4; 36/81] START activation=relu, alpha=0.001, hidden_layer_sizes=(100,), learning_rate=adaptive, learning_rate_init=0.0001, max_iter=500\n",
      "[CV 1/4; 34/81] END activation=relu, alpha=0.001, hidden_layer_sizes=(100,), learning_rate=adaptive, learning_rate_init=0.01, max_iter=500;, score=0.891 total time=  16.5s\n",
      "[CV 2/4; 36/81] START activation=relu, alpha=0.001, hidden_layer_sizes=(100,), learning_rate=adaptive, learning_rate_init=0.0001, max_iter=500\n",
      "[CV 3/4; 34/81] END activation=relu, alpha=0.001, hidden_layer_sizes=(100,), learning_rate=adaptive, learning_rate_init=0.01, max_iter=500;, score=0.888 total time=  16.6s\n",
      "[CV 3/4; 36/81] START activation=relu, alpha=0.001, hidden_layer_sizes=(100,), learning_rate=adaptive, learning_rate_init=0.0001, max_iter=500\n",
      "[CV 4/4; 34/81] END activation=relu, alpha=0.001, hidden_layer_sizes=(100,), learning_rate=adaptive, learning_rate_init=0.01, max_iter=500;, score=0.890 total time=  16.3s\n",
      "[CV 4/4; 36/81] START activation=relu, alpha=0.001, hidden_layer_sizes=(100,), learning_rate=adaptive, learning_rate_init=0.0001, max_iter=500\n",
      "[CV 1/4; 36/81] END activation=relu, alpha=0.001, hidden_layer_sizes=(100,), learning_rate=adaptive, learning_rate_init=0.0001, max_iter=500;, score=0.890 total time=  16.4s\n",
      "[CV 1/4; 37/81] START activation=relu, alpha=0.001, hidden_layer_sizes=(100, 50), learning_rate=constant, learning_rate_init=0.01, max_iter=500\n",
      "[CV 2/4; 27/81] END activation=relu, alpha=0.01, hidden_layer_sizes=(100, 50, 25), learning_rate=adaptive, learning_rate_init=0.0001, max_iter=500;, score=0.894 total time= 4.3min\n",
      "[CV 2/4; 37/81] START activation=relu, alpha=0.001, hidden_layer_sizes=(100, 50), learning_rate=constant, learning_rate_init=0.01, max_iter=500\n",
      "[CV 4/4; 36/81] END activation=relu, alpha=0.001, hidden_layer_sizes=(100,), learning_rate=adaptive, learning_rate_init=0.0001, max_iter=500;, score=0.890 total time=  15.0s\n",
      "[CV 3/4; 37/81] START activation=relu, alpha=0.001, hidden_layer_sizes=(100, 50), learning_rate=constant, learning_rate_init=0.01, max_iter=500\n",
      "[CV 4/4; 26/81] END activation=relu, alpha=0.01, hidden_layer_sizes=(100, 50, 25), learning_rate=adaptive, learning_rate_init=0.001, max_iter=500;, score=0.901 total time= 4.9min\n",
      "[CV 4/4; 37/81] START activation=relu, alpha=0.001, hidden_layer_sizes=(100, 50), learning_rate=constant, learning_rate_init=0.01, max_iter=500\n",
      "[CV 2/4; 36/81] END activation=relu, alpha=0.001, hidden_layer_sizes=(100,), learning_rate=adaptive, learning_rate_init=0.0001, max_iter=500;, score=0.889 total time=  20.6s\n",
      "[CV 1/4; 38/81] START activation=relu, alpha=0.001, hidden_layer_sizes=(100, 50), learning_rate=constant, learning_rate_init=0.001, max_iter=500\n",
      "[CV 3/4; 36/81] END activation=relu, alpha=0.001, hidden_layer_sizes=(100,), learning_rate=adaptive, learning_rate_init=0.0001, max_iter=500;, score=0.888 total time=  22.6s\n",
      "[CV 2/4; 38/81] START activation=relu, alpha=0.001, hidden_layer_sizes=(100, 50), learning_rate=constant, learning_rate_init=0.001, max_iter=500\n",
      "[CV 2/4; 35/81] END activation=relu, alpha=0.001, hidden_layer_sizes=(100,), learning_rate=adaptive, learning_rate_init=0.001, max_iter=500;, score=0.891 total time=  37.8s\n",
      "[CV 3/4; 38/81] START activation=relu, alpha=0.001, hidden_layer_sizes=(100, 50), learning_rate=constant, learning_rate_init=0.001, max_iter=500\n",
      "[CV 1/4; 35/81] END activation=relu, alpha=0.001, hidden_layer_sizes=(100,), learning_rate=adaptive, learning_rate_init=0.001, max_iter=500;, score=0.891 total time=  42.7s\n",
      "[CV 4/4; 38/81] START activation=relu, alpha=0.001, hidden_layer_sizes=(100, 50), learning_rate=constant, learning_rate_init=0.001, max_iter=500\n",
      "[CV 4/4; 35/81] END activation=relu, alpha=0.001, hidden_layer_sizes=(100,), learning_rate=adaptive, learning_rate_init=0.001, max_iter=500;, score=0.892 total time=  46.3s\n",
      "[CV 1/4; 39/81] START activation=relu, alpha=0.001, hidden_layer_sizes=(100, 50), learning_rate=constant, learning_rate_init=0.0001, max_iter=500\n",
      "[CV 3/4; 35/81] END activation=relu, alpha=0.001, hidden_layer_sizes=(100,), learning_rate=adaptive, learning_rate_init=0.001, max_iter=500;, score=0.890 total time=  48.6s\n",
      "[CV 2/4; 39/81] START activation=relu, alpha=0.001, hidden_layer_sizes=(100, 50), learning_rate=constant, learning_rate_init=0.0001, max_iter=500\n",
      "[CV 4/4; 27/81] END activation=relu, alpha=0.01, hidden_layer_sizes=(100, 50, 25), learning_rate=adaptive, learning_rate_init=0.0001, max_iter=500;, score=0.894 total time= 3.9min\n",
      "[CV 3/4; 39/81] START activation=relu, alpha=0.001, hidden_layer_sizes=(100, 50), learning_rate=constant, learning_rate_init=0.0001, max_iter=500\n",
      "[CV 1/4; 37/81] END activation=relu, alpha=0.001, hidden_layer_sizes=(100, 50), learning_rate=constant, learning_rate_init=0.01, max_iter=500;, score=0.893 total time=  58.7s\n",
      "[CV 4/4; 39/81] START activation=relu, alpha=0.001, hidden_layer_sizes=(100, 50), learning_rate=constant, learning_rate_init=0.0001, max_iter=500\n",
      "[CV 3/4; 37/81] END activation=relu, alpha=0.001, hidden_layer_sizes=(100, 50), learning_rate=constant, learning_rate_init=0.01, max_iter=500;, score=0.892 total time= 1.1min\n",
      "[CV 1/4; 40/81] START activation=relu, alpha=0.001, hidden_layer_sizes=(100, 50), learning_rate=invscaling, learning_rate_init=0.01, max_iter=500\n",
      "[CV 2/4; 37/81] END activation=relu, alpha=0.001, hidden_layer_sizes=(100, 50), learning_rate=constant, learning_rate_init=0.01, max_iter=500;, score=0.893 total time= 1.2min\n",
      "[CV 2/4; 40/81] START activation=relu, alpha=0.001, hidden_layer_sizes=(100, 50), learning_rate=invscaling, learning_rate_init=0.01, max_iter=500\n",
      "[CV 4/4; 37/81] END activation=relu, alpha=0.001, hidden_layer_sizes=(100, 50), learning_rate=constant, learning_rate_init=0.01, max_iter=500;, score=0.893 total time= 1.3min\n",
      "[CV 3/4; 40/81] START activation=relu, alpha=0.001, hidden_layer_sizes=(100, 50), learning_rate=invscaling, learning_rate_init=0.01, max_iter=500\n",
      "[CV 1/4; 27/81] END activation=relu, alpha=0.01, hidden_layer_sizes=(100, 50, 25), learning_rate=adaptive, learning_rate_init=0.0001, max_iter=500;, score=0.896 total time= 6.1min\n",
      "[CV 4/4; 40/81] START activation=relu, alpha=0.001, hidden_layer_sizes=(100, 50), learning_rate=invscaling, learning_rate_init=0.01, max_iter=500\n",
      "[CV 3/4; 39/81] END activation=relu, alpha=0.001, hidden_layer_sizes=(100, 50), learning_rate=constant, learning_rate_init=0.0001, max_iter=500;, score=0.889 total time= 1.1min\n",
      "[CV 1/4; 41/81] START activation=relu, alpha=0.001, hidden_layer_sizes=(100, 50), learning_rate=invscaling, learning_rate_init=0.001, max_iter=500\n",
      "[CV 2/4; 39/81] END activation=relu, alpha=0.001, hidden_layer_sizes=(100, 50), learning_rate=constant, learning_rate_init=0.0001, max_iter=500;, score=0.892 total time= 1.4min\n",
      "[CV 2/4; 41/81] START activation=relu, alpha=0.001, hidden_layer_sizes=(100, 50), learning_rate=invscaling, learning_rate_init=0.001, max_iter=500\n",
      "[CV 4/4; 40/81] END activation=relu, alpha=0.001, hidden_layer_sizes=(100, 50), learning_rate=invscaling, learning_rate_init=0.01, max_iter=500;, score=0.891 total time=  40.3s\n",
      "[CV 3/4; 41/81] START activation=relu, alpha=0.001, hidden_layer_sizes=(100, 50), learning_rate=invscaling, learning_rate_init=0.001, max_iter=500\n",
      "[CV 3/4; 40/81] END activation=relu, alpha=0.001, hidden_layer_sizes=(100, 50), learning_rate=invscaling, learning_rate_init=0.01, max_iter=500;, score=0.891 total time=  48.4s\n",
      "[CV 4/4; 41/81] START activation=relu, alpha=0.001, hidden_layer_sizes=(100, 50), learning_rate=invscaling, learning_rate_init=0.001, max_iter=500\n",
      "[CV 1/4; 40/81] END activation=relu, alpha=0.001, hidden_layer_sizes=(100, 50), learning_rate=invscaling, learning_rate_init=0.01, max_iter=500;, score=0.893 total time= 1.1min\n",
      "[CV 1/4; 42/81] START activation=relu, alpha=0.001, hidden_layer_sizes=(100, 50), learning_rate=invscaling, learning_rate_init=0.0001, max_iter=500\n",
      "[CV 2/4; 40/81] END activation=relu, alpha=0.001, hidden_layer_sizes=(100, 50), learning_rate=invscaling, learning_rate_init=0.01, max_iter=500;, score=0.892 total time=  57.9s\n",
      "[CV 2/4; 42/81] START activation=relu, alpha=0.001, hidden_layer_sizes=(100, 50), learning_rate=invscaling, learning_rate_init=0.0001, max_iter=500\n",
      "[CV 4/4; 39/81] END activation=relu, alpha=0.001, hidden_layer_sizes=(100, 50), learning_rate=constant, learning_rate_init=0.0001, max_iter=500;, score=0.892 total time= 1.3min\n",
      "[CV 3/4; 42/81] START activation=relu, alpha=0.001, hidden_layer_sizes=(100, 50), learning_rate=invscaling, learning_rate_init=0.0001, max_iter=500\n",
      "[CV 1/4; 39/81] END activation=relu, alpha=0.001, hidden_layer_sizes=(100, 50), learning_rate=constant, learning_rate_init=0.0001, max_iter=500;, score=0.892 total time= 2.1min\n",
      "[CV 4/4; 42/81] START activation=relu, alpha=0.001, hidden_layer_sizes=(100, 50), learning_rate=invscaling, learning_rate_init=0.0001, max_iter=500\n",
      "[CV 1/4; 38/81] END activation=relu, alpha=0.001, hidden_layer_sizes=(100, 50), learning_rate=constant, learning_rate_init=0.001, max_iter=500;, score=0.899 total time= 2.9min\n",
      "[CV 1/4; 43/81] START activation=relu, alpha=0.001, hidden_layer_sizes=(100, 50), learning_rate=adaptive, learning_rate_init=0.01, max_iter=500\n",
      "[CV 2/4; 42/81] END activation=relu, alpha=0.001, hidden_layer_sizes=(100, 50), learning_rate=invscaling, learning_rate_init=0.0001, max_iter=500;, score=0.891 total time= 1.0min\n",
      "[CV 2/4; 43/81] START activation=relu, alpha=0.001, hidden_layer_sizes=(100, 50), learning_rate=adaptive, learning_rate_init=0.01, max_iter=500\n",
      "[CV 1/4; 43/81] END activation=relu, alpha=0.001, hidden_layer_sizes=(100, 50), learning_rate=adaptive, learning_rate_init=0.01, max_iter=500;, score=0.893 total time=  46.6s\n",
      "[CV 3/4; 43/81] START activation=relu, alpha=0.001, hidden_layer_sizes=(100, 50), learning_rate=adaptive, learning_rate_init=0.01, max_iter=500\n",
      "[CV 3/4; 42/81] END activation=relu, alpha=0.001, hidden_layer_sizes=(100, 50), learning_rate=invscaling, learning_rate_init=0.0001, max_iter=500;, score=0.890 total time= 1.5min\n",
      "[CV 4/4; 43/81] START activation=relu, alpha=0.001, hidden_layer_sizes=(100, 50), learning_rate=adaptive, learning_rate_init=0.01, max_iter=500\n",
      "[CV 1/4; 42/81] END activation=relu, alpha=0.001, hidden_layer_sizes=(100, 50), learning_rate=invscaling, learning_rate_init=0.0001, max_iter=500;, score=0.892 total time= 1.8min\n",
      "[CV 1/4; 44/81] START activation=relu, alpha=0.001, hidden_layer_sizes=(100, 50), learning_rate=adaptive, learning_rate_init=0.001, max_iter=500\n",
      "[CV 2/4; 43/81] END activation=relu, alpha=0.001, hidden_layer_sizes=(100, 50), learning_rate=adaptive, learning_rate_init=0.01, max_iter=500;, score=0.893 total time=  47.6s\n",
      "[CV 2/4; 44/81] START activation=relu, alpha=0.001, hidden_layer_sizes=(100, 50), learning_rate=adaptive, learning_rate_init=0.001, max_iter=500\n",
      "[CV 2/4; 38/81] END activation=relu, alpha=0.001, hidden_layer_sizes=(100, 50), learning_rate=constant, learning_rate_init=0.001, max_iter=500;, score=0.899 total time= 4.1min\n",
      "[CV 3/4; 44/81] START activation=relu, alpha=0.001, hidden_layer_sizes=(100, 50), learning_rate=adaptive, learning_rate_init=0.001, max_iter=500\n",
      "[CV 3/4; 38/81] END activation=relu, alpha=0.001, hidden_layer_sizes=(100, 50), learning_rate=constant, learning_rate_init=0.001, max_iter=500;, score=0.896 total time= 4.1min\n",
      "[CV 4/4; 44/81] START activation=relu, alpha=0.001, hidden_layer_sizes=(100, 50), learning_rate=adaptive, learning_rate_init=0.001, max_iter=500\n",
      "[CV 4/4; 42/81] END activation=relu, alpha=0.001, hidden_layer_sizes=(100, 50), learning_rate=invscaling, learning_rate_init=0.0001, max_iter=500;, score=0.892 total time= 1.9min\n",
      "[CV 1/4; 45/81] START activation=relu, alpha=0.001, hidden_layer_sizes=(100, 50), learning_rate=adaptive, learning_rate_init=0.0001, max_iter=500\n",
      "[CV 4/4; 38/81] END activation=relu, alpha=0.001, hidden_layer_sizes=(100, 50), learning_rate=constant, learning_rate_init=0.001, max_iter=500;, score=0.898 total time= 4.2min\n",
      "[CV 2/4; 45/81] START activation=relu, alpha=0.001, hidden_layer_sizes=(100, 50), learning_rate=adaptive, learning_rate_init=0.0001, max_iter=500\n",
      "[CV 3/4; 43/81] END activation=relu, alpha=0.001, hidden_layer_sizes=(100, 50), learning_rate=adaptive, learning_rate_init=0.01, max_iter=500;, score=0.891 total time=  44.7s\n",
      "[CV 3/4; 45/81] START activation=relu, alpha=0.001, hidden_layer_sizes=(100, 50), learning_rate=adaptive, learning_rate_init=0.0001, max_iter=500\n",
      "[CV 4/4; 43/81] END activation=relu, alpha=0.001, hidden_layer_sizes=(100, 50), learning_rate=adaptive, learning_rate_init=0.01, max_iter=500;, score=0.893 total time=  58.4s\n",
      "[CV 4/4; 45/81] START activation=relu, alpha=0.001, hidden_layer_sizes=(100, 50), learning_rate=adaptive, learning_rate_init=0.0001, max_iter=500\n",
      "[CV 2/4; 41/81] END activation=relu, alpha=0.001, hidden_layer_sizes=(100, 50), learning_rate=invscaling, learning_rate_init=0.001, max_iter=500;, score=0.897 total time= 3.3min\n",
      "[CV 1/4; 46/81] START activation=relu, alpha=0.001, hidden_layer_sizes=(100, 50, 25), learning_rate=constant, learning_rate_init=0.01, max_iter=500\n",
      "[CV 2/4; 45/81] END activation=relu, alpha=0.001, hidden_layer_sizes=(100, 50), learning_rate=adaptive, learning_rate_init=0.0001, max_iter=500;, score=0.891 total time= 1.2min\n",
      "[CV 2/4; 46/81] START activation=relu, alpha=0.001, hidden_layer_sizes=(100, 50, 25), learning_rate=constant, learning_rate_init=0.01, max_iter=500\n",
      "[CV 3/4; 45/81] END activation=relu, alpha=0.001, hidden_layer_sizes=(100, 50), learning_rate=adaptive, learning_rate_init=0.0001, max_iter=500;, score=0.890 total time= 1.3min\n",
      "[CV 3/4; 46/81] START activation=relu, alpha=0.001, hidden_layer_sizes=(100, 50, 25), learning_rate=constant, learning_rate_init=0.01, max_iter=500\n",
      "[CV 4/4; 45/81] END activation=relu, alpha=0.001, hidden_layer_sizes=(100, 50), learning_rate=adaptive, learning_rate_init=0.0001, max_iter=500;, score=0.892 total time= 1.1min\n",
      "[CV 4/4; 46/81] START activation=relu, alpha=0.001, hidden_layer_sizes=(100, 50, 25), learning_rate=constant, learning_rate_init=0.01, max_iter=500\n",
      "[CV 3/4; 41/81] END activation=relu, alpha=0.001, hidden_layer_sizes=(100, 50), learning_rate=invscaling, learning_rate_init=0.001, max_iter=500;, score=0.896 total time= 3.9min\n",
      "[CV 1/4; 47/81] START activation=relu, alpha=0.001, hidden_layer_sizes=(100, 50, 25), learning_rate=constant, learning_rate_init=0.001, max_iter=500\n",
      "[CV 1/4; 41/81] END activation=relu, alpha=0.001, hidden_layer_sizes=(100, 50), learning_rate=invscaling, learning_rate_init=0.001, max_iter=500;, score=0.900 total time= 4.3min\n",
      "[CV 2/4; 47/81] START activation=relu, alpha=0.001, hidden_layer_sizes=(100, 50, 25), learning_rate=constant, learning_rate_init=0.001, max_iter=500\n",
      "[CV 1/4; 46/81] END activation=relu, alpha=0.001, hidden_layer_sizes=(100, 50, 25), learning_rate=constant, learning_rate_init=0.01, max_iter=500;, score=0.894 total time= 1.0min\n",
      "[CV 3/4; 47/81] START activation=relu, alpha=0.001, hidden_layer_sizes=(100, 50, 25), learning_rate=constant, learning_rate_init=0.001, max_iter=500\n",
      "[CV 1/4; 45/81] END activation=relu, alpha=0.001, hidden_layer_sizes=(100, 50), learning_rate=adaptive, learning_rate_init=0.0001, max_iter=500;, score=0.893 total time= 2.1min\n",
      "[CV 4/4; 47/81] START activation=relu, alpha=0.001, hidden_layer_sizes=(100, 50, 25), learning_rate=constant, learning_rate_init=0.001, max_iter=500\n",
      "[CV 1/4; 44/81] END activation=relu, alpha=0.001, hidden_layer_sizes=(100, 50), learning_rate=adaptive, learning_rate_init=0.001, max_iter=500;, score=0.898 total time= 2.8min\n",
      "[CV 1/4; 48/81] START activation=relu, alpha=0.001, hidden_layer_sizes=(100, 50, 25), learning_rate=constant, learning_rate_init=0.0001, max_iter=500\n",
      "[CV 4/4; 41/81] END activation=relu, alpha=0.001, hidden_layer_sizes=(100, 50), learning_rate=invscaling, learning_rate_init=0.001, max_iter=500;, score=0.899 total time= 4.8min\n",
      "[CV 4/4; 46/81] END activation=relu, alpha=0.001, hidden_layer_sizes=(100, 50, 25), learning_rate=constant, learning_rate_init=0.01, max_iter=500;, score=0.894 total time= 1.0min\n",
      "[CV 2/4; 48/81] START activation=relu, alpha=0.001, hidden_layer_sizes=(100, 50, 25), learning_rate=constant, learning_rate_init=0.0001, max_iter=500\n",
      "[CV 3/4; 48/81] START activation=relu, alpha=0.001, hidden_layer_sizes=(100, 50, 25), learning_rate=constant, learning_rate_init=0.0001, max_iter=500\n",
      "[CV 3/4; 46/81] END activation=relu, alpha=0.001, hidden_layer_sizes=(100, 50, 25), learning_rate=constant, learning_rate_init=0.01, max_iter=500;, score=0.892 total time= 1.4min\n",
      "[CV 4/4; 48/81] START activation=relu, alpha=0.001, hidden_layer_sizes=(100, 50, 25), learning_rate=constant, learning_rate_init=0.0001, max_iter=500\n",
      "[CV 2/4; 46/81] END activation=relu, alpha=0.001, hidden_layer_sizes=(100, 50, 25), learning_rate=constant, learning_rate_init=0.01, max_iter=500;, score=0.894 total time= 1.6min\n",
      "[CV 1/4; 49/81] START activation=relu, alpha=0.001, hidden_layer_sizes=(100, 50, 25), learning_rate=invscaling, learning_rate_init=0.01, max_iter=500\n",
      "[CV 4/4; 44/81] END activation=relu, alpha=0.001, hidden_layer_sizes=(100, 50), learning_rate=adaptive, learning_rate_init=0.001, max_iter=500;, score=0.897 total time= 3.3min\n",
      "[CV 2/4; 49/81] START activation=relu, alpha=0.001, hidden_layer_sizes=(100, 50, 25), learning_rate=invscaling, learning_rate_init=0.01, max_iter=500\n",
      "[CV 2/4; 44/81] END activation=relu, alpha=0.001, hidden_layer_sizes=(100, 50), learning_rate=adaptive, learning_rate_init=0.001, max_iter=500;, score=0.899 total time= 3.9min\n",
      "[CV 3/4; 49/81] START activation=relu, alpha=0.001, hidden_layer_sizes=(100, 50, 25), learning_rate=invscaling, learning_rate_init=0.01, max_iter=500\n",
      "[CV 1/4; 49/81] END activation=relu, alpha=0.001, hidden_layer_sizes=(100, 50, 25), learning_rate=invscaling, learning_rate_init=0.01, max_iter=500;, score=0.894 total time= 1.1min\n",
      "[CV 4/4; 49/81] START activation=relu, alpha=0.001, hidden_layer_sizes=(100, 50, 25), learning_rate=invscaling, learning_rate_init=0.01, max_iter=500\n",
      "[CV 3/4; 44/81] END activation=relu, alpha=0.001, hidden_layer_sizes=(100, 50), learning_rate=adaptive, learning_rate_init=0.001, max_iter=500;, score=0.896 total time= 4.5min\n",
      "[CV 1/4; 50/81] START activation=relu, alpha=0.001, hidden_layer_sizes=(100, 50, 25), learning_rate=invscaling, learning_rate_init=0.001, max_iter=500\n",
      "[CV 2/4; 49/81] END activation=relu, alpha=0.001, hidden_layer_sizes=(100, 50, 25), learning_rate=invscaling, learning_rate_init=0.01, max_iter=500;, score=0.893 total time= 1.3min\n",
      "[CV 2/4; 50/81] START activation=relu, alpha=0.001, hidden_layer_sizes=(100, 50, 25), learning_rate=invscaling, learning_rate_init=0.001, max_iter=500\n",
      "[CV 3/4; 49/81] END activation=relu, alpha=0.001, hidden_layer_sizes=(100, 50, 25), learning_rate=invscaling, learning_rate_init=0.01, max_iter=500;, score=0.891 total time= 1.4min\n",
      "[CV 3/4; 50/81] START activation=relu, alpha=0.001, hidden_layer_sizes=(100, 50, 25), learning_rate=invscaling, learning_rate_init=0.001, max_iter=500\n",
      "[CV 4/4; 49/81] END activation=relu, alpha=0.001, hidden_layer_sizes=(100, 50, 25), learning_rate=invscaling, learning_rate_init=0.01, max_iter=500;, score=0.895 total time= 1.5min\n",
      "[CV 4/4; 50/81] START activation=relu, alpha=0.001, hidden_layer_sizes=(100, 50, 25), learning_rate=invscaling, learning_rate_init=0.001, max_iter=500\n",
      "[CV 1/4; 48/81] END activation=relu, alpha=0.001, hidden_layer_sizes=(100, 50, 25), learning_rate=constant, learning_rate_init=0.0001, max_iter=500;, score=0.895 total time= 4.5min\n",
      "[CV 1/4; 51/81] START activation=relu, alpha=0.001, hidden_layer_sizes=(100, 50, 25), learning_rate=invscaling, learning_rate_init=0.0001, max_iter=500\n",
      "[CV 4/4; 47/81] END activation=relu, alpha=0.001, hidden_layer_sizes=(100, 50, 25), learning_rate=constant, learning_rate_init=0.001, max_iter=500;, score=0.904 total time= 4.8min\n",
      "[CV 2/4; 51/81] START activation=relu, alpha=0.001, hidden_layer_sizes=(100, 50, 25), learning_rate=invscaling, learning_rate_init=0.0001, max_iter=500\n",
      "[CV 2/4; 47/81] END activation=relu, alpha=0.001, hidden_layer_sizes=(100, 50, 25), learning_rate=constant, learning_rate_init=0.001, max_iter=500;, score=0.901 total time= 5.5min\n",
      "[CV 3/4; 51/81] START activation=relu, alpha=0.001, hidden_layer_sizes=(100, 50, 25), learning_rate=invscaling, learning_rate_init=0.0001, max_iter=500\n",
      "[CV 1/4; 47/81] END activation=relu, alpha=0.001, hidden_layer_sizes=(100, 50, 25), learning_rate=constant, learning_rate_init=0.001, max_iter=500;, score=0.905 total time= 6.1min\n",
      "[CV 4/4; 51/81] START activation=relu, alpha=0.001, hidden_layer_sizes=(100, 50, 25), learning_rate=invscaling, learning_rate_init=0.0001, max_iter=500\n",
      "[CV 3/4; 47/81] END activation=relu, alpha=0.001, hidden_layer_sizes=(100, 50, 25), learning_rate=constant, learning_rate_init=0.001, max_iter=500;, score=0.902 total time= 5.9min\n",
      "[CV 1/4; 52/81] START activation=relu, alpha=0.001, hidden_layer_sizes=(100, 50, 25), learning_rate=adaptive, learning_rate_init=0.01, max_iter=500\n",
      "[CV 3/4; 48/81] END activation=relu, alpha=0.001, hidden_layer_sizes=(100, 50, 25), learning_rate=constant, learning_rate_init=0.0001, max_iter=500;, score=0.893 total time= 5.8min\n",
      "[CV 2/4; 52/81] START activation=relu, alpha=0.001, hidden_layer_sizes=(100, 50, 25), learning_rate=adaptive, learning_rate_init=0.01, max_iter=500\n",
      "[CV 2/4; 48/81] END activation=relu, alpha=0.001, hidden_layer_sizes=(100, 50, 25), learning_rate=constant, learning_rate_init=0.0001, max_iter=500;, score=0.896 total time= 6.4min\n",
      "[CV 3/4; 52/81] START activation=relu, alpha=0.001, hidden_layer_sizes=(100, 50, 25), learning_rate=adaptive, learning_rate_init=0.01, max_iter=500\n",
      "[CV 1/4; 50/81] END activation=relu, alpha=0.001, hidden_layer_sizes=(100, 50, 25), learning_rate=invscaling, learning_rate_init=0.001, max_iter=500;, score=0.904 total time= 4.6min\n",
      "[CV 4/4; 52/81] START activation=relu, alpha=0.001, hidden_layer_sizes=(100, 50, 25), learning_rate=adaptive, learning_rate_init=0.01, max_iter=500\n",
      "[CV 1/4; 52/81] END activation=relu, alpha=0.001, hidden_layer_sizes=(100, 50, 25), learning_rate=adaptive, learning_rate_init=0.01, max_iter=500;, score=0.893 total time= 1.5min\n",
      "[CV 1/4; 53/81] START activation=relu, alpha=0.001, hidden_layer_sizes=(100, 50, 25), learning_rate=adaptive, learning_rate_init=0.001, max_iter=500\n",
      "[CV 2/4; 50/81] END activation=relu, alpha=0.001, hidden_layer_sizes=(100, 50, 25), learning_rate=invscaling, learning_rate_init=0.001, max_iter=500;, score=0.905 total time= 5.2min\n",
      "[CV 2/4; 53/81] START activation=relu, alpha=0.001, hidden_layer_sizes=(100, 50, 25), learning_rate=adaptive, learning_rate_init=0.001, max_iter=500\n",
      "[CV 3/4; 50/81] END activation=relu, alpha=0.001, hidden_layer_sizes=(100, 50, 25), learning_rate=invscaling, learning_rate_init=0.001, max_iter=500;, score=0.902 total time= 4.7min\n",
      "[CV 3/4; 53/81] START activation=relu, alpha=0.001, hidden_layer_sizes=(100, 50, 25), learning_rate=adaptive, learning_rate_init=0.001, max_iter=500\n",
      "[CV 2/4; 52/81] END activation=relu, alpha=0.001, hidden_layer_sizes=(100, 50, 25), learning_rate=adaptive, learning_rate_init=0.01, max_iter=500;, score=0.894 total time= 1.3min\n",
      "[CV 4/4; 53/81] START activation=relu, alpha=0.001, hidden_layer_sizes=(100, 50, 25), learning_rate=adaptive, learning_rate_init=0.001, max_iter=500\n",
      "[CV 4/4; 52/81] END activation=relu, alpha=0.001, hidden_layer_sizes=(100, 50, 25), learning_rate=adaptive, learning_rate_init=0.01, max_iter=500;, score=0.895 total time=  55.8s\n",
      "[CV 1/4; 54/81] START activation=relu, alpha=0.001, hidden_layer_sizes=(100, 50, 25), learning_rate=adaptive, learning_rate_init=0.0001, max_iter=500\n",
      "[CV 4/4; 50/81] END activation=relu, alpha=0.001, hidden_layer_sizes=(100, 50, 25), learning_rate=invscaling, learning_rate_init=0.001, max_iter=500;, score=0.904 total time= 4.6min\n",
      "[CV 2/4; 54/81] START activation=relu, alpha=0.001, hidden_layer_sizes=(100, 50, 25), learning_rate=adaptive, learning_rate_init=0.0001, max_iter=500\n"
     ]
    },
    {
     "name": "stderr",
     "output_type": "stream",
     "text": [
      "/Users/marc/Library/Mobile Documents/com~apple~CloudDocs/Projects/Playground/playgroundseries_s4e1/.venv/lib/python3.10/site-packages/sklearn/neural_network/_multilayer_perceptron.py:691: ConvergenceWarning: Stochastic Optimizer: Maximum iterations (500) reached and the optimization hasn't converged yet.\n",
      "  warnings.warn(\n"
     ]
    },
    {
     "name": "stdout",
     "output_type": "stream",
     "text": [
      "[CV 4/4; 48/81] END activation=relu, alpha=0.001, hidden_layer_sizes=(100, 50, 25), learning_rate=constant, learning_rate_init=0.0001, max_iter=500;, score=0.895 total time= 7.4min\n",
      "[CV 3/4; 54/81] START activation=relu, alpha=0.001, hidden_layer_sizes=(100, 50, 25), learning_rate=adaptive, learning_rate_init=0.0001, max_iter=500\n",
      "[CV 3/4; 52/81] END activation=relu, alpha=0.001, hidden_layer_sizes=(100, 50, 25), learning_rate=adaptive, learning_rate_init=0.01, max_iter=500;, score=0.893 total time= 1.2min\n",
      "[CV 4/4; 54/81] START activation=relu, alpha=0.001, hidden_layer_sizes=(100, 50, 25), learning_rate=adaptive, learning_rate_init=0.0001, max_iter=500\n",
      "[CV 2/4; 51/81] END activation=relu, alpha=0.001, hidden_layer_sizes=(100, 50, 25), learning_rate=invscaling, learning_rate_init=0.0001, max_iter=500;, score=0.895 total time= 5.6min\n",
      "[CV 1/4; 55/81] START activation=relu, alpha=0.0001, hidden_layer_sizes=(100,), learning_rate=constant, learning_rate_init=0.01, max_iter=500\n",
      "[CV 1/4; 55/81] END activation=relu, alpha=0.0001, hidden_layer_sizes=(100,), learning_rate=constant, learning_rate_init=0.01, max_iter=500;, score=0.891 total time=  18.3s\n",
      "[CV 2/4; 55/81] START activation=relu, alpha=0.0001, hidden_layer_sizes=(100,), learning_rate=constant, learning_rate_init=0.01, max_iter=500\n",
      "[CV 2/4; 55/81] END activation=relu, alpha=0.0001, hidden_layer_sizes=(100,), learning_rate=constant, learning_rate_init=0.01, max_iter=500;, score=0.890 total time=  25.7s\n",
      "[CV 3/4; 55/81] START activation=relu, alpha=0.0001, hidden_layer_sizes=(100,), learning_rate=constant, learning_rate_init=0.01, max_iter=500\n",
      "[CV 3/4; 51/81] END activation=relu, alpha=0.001, hidden_layer_sizes=(100, 50, 25), learning_rate=invscaling, learning_rate_init=0.0001, max_iter=500;, score=0.894 total time= 6.2min\n",
      "[CV 4/4; 55/81] START activation=relu, alpha=0.0001, hidden_layer_sizes=(100,), learning_rate=constant, learning_rate_init=0.01, max_iter=500\n",
      "[CV 3/4; 55/81] END activation=relu, alpha=0.0001, hidden_layer_sizes=(100,), learning_rate=constant, learning_rate_init=0.01, max_iter=500;, score=0.888 total time=  12.4s\n",
      "[CV 1/4; 56/81] START activation=relu, alpha=0.0001, hidden_layer_sizes=(100,), learning_rate=constant, learning_rate_init=0.001, max_iter=500\n",
      "[CV 4/4; 55/81] END activation=relu, alpha=0.0001, hidden_layer_sizes=(100,), learning_rate=constant, learning_rate_init=0.01, max_iter=500;, score=0.890 total time=  17.6s\n",
      "[CV 2/4; 56/81] START activation=relu, alpha=0.0001, hidden_layer_sizes=(100,), learning_rate=constant, learning_rate_init=0.001, max_iter=500\n",
      "[CV 1/4; 56/81] END activation=relu, alpha=0.0001, hidden_layer_sizes=(100,), learning_rate=constant, learning_rate_init=0.001, max_iter=500;, score=0.892 total time=  42.1s\n",
      "[CV 3/4; 56/81] START activation=relu, alpha=0.0001, hidden_layer_sizes=(100,), learning_rate=constant, learning_rate_init=0.001, max_iter=500\n",
      "[CV 2/4; 56/81] END activation=relu, alpha=0.0001, hidden_layer_sizes=(100,), learning_rate=constant, learning_rate_init=0.001, max_iter=500;, score=0.891 total time=  49.2s\n",
      "[CV 4/4; 56/81] START activation=relu, alpha=0.0001, hidden_layer_sizes=(100,), learning_rate=constant, learning_rate_init=0.001, max_iter=500\n"
     ]
    },
    {
     "name": "stderr",
     "output_type": "stream",
     "text": [
      "/Users/marc/Library/Mobile Documents/com~apple~CloudDocs/Projects/Playground/playgroundseries_s4e1/.venv/lib/python3.10/site-packages/sklearn/neural_network/_multilayer_perceptron.py:691: ConvergenceWarning: Stochastic Optimizer: Maximum iterations (500) reached and the optimization hasn't converged yet.\n",
      "  warnings.warn(\n"
     ]
    },
    {
     "name": "stdout",
     "output_type": "stream",
     "text": [
      "[CV 1/4; 51/81] END activation=relu, alpha=0.001, hidden_layer_sizes=(100, 50, 25), learning_rate=invscaling, learning_rate_init=0.0001, max_iter=500;, score=0.896 total time= 7.7min\n",
      "[CV 1/4; 57/81] START activation=relu, alpha=0.0001, hidden_layer_sizes=(100,), learning_rate=constant, learning_rate_init=0.0001, max_iter=500\n",
      "[CV 2/4; 53/81] END activation=relu, alpha=0.001, hidden_layer_sizes=(100, 50, 25), learning_rate=adaptive, learning_rate_init=0.001, max_iter=500;, score=0.905 total time= 4.9min\n",
      "[CV 2/4; 57/81] START activation=relu, alpha=0.0001, hidden_layer_sizes=(100,), learning_rate=constant, learning_rate_init=0.0001, max_iter=500\n",
      "[CV 3/4; 56/81] END activation=relu, alpha=0.0001, hidden_layer_sizes=(100,), learning_rate=constant, learning_rate_init=0.001, max_iter=500;, score=0.890 total time=  37.4s\n",
      "[CV 3/4; 57/81] START activation=relu, alpha=0.0001, hidden_layer_sizes=(100,), learning_rate=constant, learning_rate_init=0.0001, max_iter=500\n",
      "[CV 2/4; 57/81] END activation=relu, alpha=0.0001, hidden_layer_sizes=(100,), learning_rate=constant, learning_rate_init=0.0001, max_iter=500;, score=0.889 total time=  17.3s\n",
      "[CV 1/4; 57/81] END activation=relu, alpha=0.0001, hidden_layer_sizes=(100,), learning_rate=constant, learning_rate_init=0.0001, max_iter=500;, score=0.889 total time=  18.2s\n",
      "[CV 4/4; 57/81] START activation=relu, alpha=0.0001, hidden_layer_sizes=(100,), learning_rate=constant, learning_rate_init=0.0001, max_iter=500\n",
      "[CV 1/4; 58/81] START activation=relu, alpha=0.0001, hidden_layer_sizes=(100,), learning_rate=invscaling, learning_rate_init=0.01, max_iter=500\n",
      "[CV 3/4; 57/81] END activation=relu, alpha=0.0001, hidden_layer_sizes=(100,), learning_rate=constant, learning_rate_init=0.0001, max_iter=500;, score=0.888 total time=  17.5s\n",
      "[CV 2/4; 58/81] START activation=relu, alpha=0.0001, hidden_layer_sizes=(100,), learning_rate=invscaling, learning_rate_init=0.01, max_iter=500\n",
      "[CV 1/4; 58/81] END activation=relu, alpha=0.0001, hidden_layer_sizes=(100,), learning_rate=invscaling, learning_rate_init=0.01, max_iter=500;, score=0.891 total time=  15.4s\n",
      "[CV 3/4; 58/81] START activation=relu, alpha=0.0001, hidden_layer_sizes=(100,), learning_rate=invscaling, learning_rate_init=0.01, max_iter=500\n",
      "[CV 4/4; 57/81] END activation=relu, alpha=0.0001, hidden_layer_sizes=(100,), learning_rate=constant, learning_rate_init=0.0001, max_iter=500;, score=0.890 total time=  22.7s\n",
      "[CV 4/4; 58/81] START activation=relu, alpha=0.0001, hidden_layer_sizes=(100,), learning_rate=invscaling, learning_rate_init=0.01, max_iter=500\n",
      "[CV 4/4; 56/81] END activation=relu, alpha=0.0001, hidden_layer_sizes=(100,), learning_rate=constant, learning_rate_init=0.001, max_iter=500;, score=0.892 total time=  49.6s\n",
      "[CV 1/4; 59/81] START activation=relu, alpha=0.0001, hidden_layer_sizes=(100,), learning_rate=invscaling, learning_rate_init=0.001, max_iter=500\n"
     ]
    },
    {
     "name": "stderr",
     "output_type": "stream",
     "text": [
      "/Users/marc/Library/Mobile Documents/com~apple~CloudDocs/Projects/Playground/playgroundseries_s4e1/.venv/lib/python3.10/site-packages/sklearn/neural_network/_multilayer_perceptron.py:691: ConvergenceWarning: Stochastic Optimizer: Maximum iterations (500) reached and the optimization hasn't converged yet.\n",
      "  warnings.warn(\n"
     ]
    },
    {
     "name": "stdout",
     "output_type": "stream",
     "text": [
      "[CV 4/4; 51/81] END activation=relu, alpha=0.001, hidden_layer_sizes=(100, 50, 25), learning_rate=invscaling, learning_rate_init=0.0001, max_iter=500;, score=0.896 total time= 7.6min\n",
      "[CV 2/4; 59/81] START activation=relu, alpha=0.0001, hidden_layer_sizes=(100,), learning_rate=invscaling, learning_rate_init=0.001, max_iter=500\n",
      "[CV 3/4; 53/81] END activation=relu, alpha=0.001, hidden_layer_sizes=(100, 50, 25), learning_rate=adaptive, learning_rate_init=0.001, max_iter=500;, score=0.904 total time= 5.6min\n",
      "[CV 3/4; 59/81] START activation=relu, alpha=0.0001, hidden_layer_sizes=(100,), learning_rate=invscaling, learning_rate_init=0.001, max_iter=500\n",
      "[CV 1/4; 53/81] END activation=relu, alpha=0.001, hidden_layer_sizes=(100, 50, 25), learning_rate=adaptive, learning_rate_init=0.001, max_iter=500;, score=0.904 total time= 6.0min\n",
      "[CV 4/4; 59/81] START activation=relu, alpha=0.0001, hidden_layer_sizes=(100,), learning_rate=invscaling, learning_rate_init=0.001, max_iter=500\n",
      "[CV 4/4; 53/81] END activation=relu, alpha=0.001, hidden_layer_sizes=(100, 50, 25), learning_rate=adaptive, learning_rate_init=0.001, max_iter=500;, score=0.903 total time= 5.6min\n",
      "[CV 1/4; 60/81] START activation=relu, alpha=0.0001, hidden_layer_sizes=(100,), learning_rate=invscaling, learning_rate_init=0.0001, max_iter=500\n",
      "[CV 2/4; 58/81] END activation=relu, alpha=0.0001, hidden_layer_sizes=(100,), learning_rate=invscaling, learning_rate_init=0.01, max_iter=500;, score=0.890 total time=  18.3s\n",
      "[CV 2/4; 60/81] START activation=relu, alpha=0.0001, hidden_layer_sizes=(100,), learning_rate=invscaling, learning_rate_init=0.0001, max_iter=500\n",
      "[CV 3/4; 58/81] END activation=relu, alpha=0.0001, hidden_layer_sizes=(100,), learning_rate=invscaling, learning_rate_init=0.01, max_iter=500;, score=0.888 total time=  17.2s\n",
      "[CV 3/4; 60/81] START activation=relu, alpha=0.0001, hidden_layer_sizes=(100,), learning_rate=invscaling, learning_rate_init=0.0001, max_iter=500\n",
      "[CV 4/4; 58/81] END activation=relu, alpha=0.0001, hidden_layer_sizes=(100,), learning_rate=invscaling, learning_rate_init=0.01, max_iter=500;, score=0.890 total time=  18.9s\n",
      "[CV 4/4; 60/81] START activation=relu, alpha=0.0001, hidden_layer_sizes=(100,), learning_rate=invscaling, learning_rate_init=0.0001, max_iter=500\n",
      "[CV 2/4; 60/81] END activation=relu, alpha=0.0001, hidden_layer_sizes=(100,), learning_rate=invscaling, learning_rate_init=0.0001, max_iter=500;, score=0.889 total time=  17.1s\n",
      "[CV 1/4; 61/81] START activation=relu, alpha=0.0001, hidden_layer_sizes=(100,), learning_rate=adaptive, learning_rate_init=0.01, max_iter=500\n",
      "[CV 1/4; 60/81] END activation=relu, alpha=0.0001, hidden_layer_sizes=(100,), learning_rate=invscaling, learning_rate_init=0.0001, max_iter=500;, score=0.890 total time=  20.5s\n",
      "[CV 2/4; 61/81] START activation=relu, alpha=0.0001, hidden_layer_sizes=(100,), learning_rate=adaptive, learning_rate_init=0.01, max_iter=500\n",
      "[CV 3/4; 60/81] END activation=relu, alpha=0.0001, hidden_layer_sizes=(100,), learning_rate=invscaling, learning_rate_init=0.0001, max_iter=500;, score=0.888 total time=  20.8s\n",
      "[CV 3/4; 61/81] START activation=relu, alpha=0.0001, hidden_layer_sizes=(100,), learning_rate=adaptive, learning_rate_init=0.01, max_iter=500\n",
      "[CV 4/4; 60/81] END activation=relu, alpha=0.0001, hidden_layer_sizes=(100,), learning_rate=invscaling, learning_rate_init=0.0001, max_iter=500;, score=0.890 total time=  19.7s\n",
      "[CV 4/4; 61/81] START activation=relu, alpha=0.0001, hidden_layer_sizes=(100,), learning_rate=adaptive, learning_rate_init=0.01, max_iter=500\n",
      "[CV 1/4; 61/81] END activation=relu, alpha=0.0001, hidden_layer_sizes=(100,), learning_rate=adaptive, learning_rate_init=0.01, max_iter=500;, score=0.890 total time=  16.9s\n",
      "[CV 1/4; 62/81] START activation=relu, alpha=0.0001, hidden_layer_sizes=(100,), learning_rate=adaptive, learning_rate_init=0.001, max_iter=500\n",
      "[CV 3/4; 59/81] END activation=relu, alpha=0.0001, hidden_layer_sizes=(100,), learning_rate=invscaling, learning_rate_init=0.001, max_iter=500;, score=0.890 total time=  38.2s\n",
      "[CV 2/4; 62/81] START activation=relu, alpha=0.0001, hidden_layer_sizes=(100,), learning_rate=adaptive, learning_rate_init=0.001, max_iter=500\n",
      "[CV 2/4; 61/81] END activation=relu, alpha=0.0001, hidden_layer_sizes=(100,), learning_rate=adaptive, learning_rate_init=0.01, max_iter=500;, score=0.889 total time=  17.6s\n",
      "[CV 3/4; 62/81] START activation=relu, alpha=0.0001, hidden_layer_sizes=(100,), learning_rate=adaptive, learning_rate_init=0.001, max_iter=500\n",
      "[CV 3/4; 61/81] END activation=relu, alpha=0.0001, hidden_layer_sizes=(100,), learning_rate=adaptive, learning_rate_init=0.01, max_iter=500;, score=0.888 total time=  14.2s\n",
      "[CV 4/4; 62/81] START activation=relu, alpha=0.0001, hidden_layer_sizes=(100,), learning_rate=adaptive, learning_rate_init=0.001, max_iter=500\n",
      "[CV 1/4; 59/81] END activation=relu, alpha=0.0001, hidden_layer_sizes=(100,), learning_rate=invscaling, learning_rate_init=0.001, max_iter=500;, score=0.892 total time=  49.8s\n",
      "[CV 1/4; 63/81] START activation=relu, alpha=0.0001, hidden_layer_sizes=(100,), learning_rate=adaptive, learning_rate_init=0.0001, max_iter=500\n",
      "[CV 4/4; 59/81] END activation=relu, alpha=0.0001, hidden_layer_sizes=(100,), learning_rate=invscaling, learning_rate_init=0.001, max_iter=500;, score=0.891 total time=  53.3s\n",
      "[CV 4/4; 61/81] END activation=relu, alpha=0.0001, hidden_layer_sizes=(100,), learning_rate=adaptive, learning_rate_init=0.01, max_iter=500;, score=0.891 total time=  20.8s\n",
      "[CV 2/4; 63/81] START activation=relu, alpha=0.0001, hidden_layer_sizes=(100,), learning_rate=adaptive, learning_rate_init=0.0001, max_iter=500\n",
      "[CV 3/4; 63/81] START activation=relu, alpha=0.0001, hidden_layer_sizes=(100,), learning_rate=adaptive, learning_rate_init=0.0001, max_iter=500\n",
      "[CV 2/4; 59/81] END activation=relu, alpha=0.0001, hidden_layer_sizes=(100,), learning_rate=invscaling, learning_rate_init=0.001, max_iter=500;, score=0.891 total time=  57.4s\n",
      "[CV 4/4; 63/81] START activation=relu, alpha=0.0001, hidden_layer_sizes=(100,), learning_rate=adaptive, learning_rate_init=0.0001, max_iter=500\n",
      "[CV 1/4; 63/81] END activation=relu, alpha=0.0001, hidden_layer_sizes=(100,), learning_rate=adaptive, learning_rate_init=0.0001, max_iter=500;, score=0.890 total time=  19.1s\n",
      "[CV 1/4; 64/81] START activation=relu, alpha=0.0001, hidden_layer_sizes=(100, 50), learning_rate=constant, learning_rate_init=0.01, max_iter=500\n",
      "[CV 1/4; 62/81] END activation=relu, alpha=0.0001, hidden_layer_sizes=(100,), learning_rate=adaptive, learning_rate_init=0.001, max_iter=500;, score=0.892 total time=  33.0s\n",
      "[CV 2/4; 64/81] START activation=relu, alpha=0.0001, hidden_layer_sizes=(100, 50), learning_rate=constant, learning_rate_init=0.01, max_iter=500\n",
      "[CV 3/4; 63/81] END activation=relu, alpha=0.0001, hidden_layer_sizes=(100,), learning_rate=adaptive, learning_rate_init=0.0001, max_iter=500;, score=0.888 total time=  18.3s\n",
      "[CV 3/4; 64/81] START activation=relu, alpha=0.0001, hidden_layer_sizes=(100, 50), learning_rate=constant, learning_rate_init=0.01, max_iter=500\n",
      "[CV 2/4; 63/81] END activation=relu, alpha=0.0001, hidden_layer_sizes=(100,), learning_rate=adaptive, learning_rate_init=0.0001, max_iter=500;, score=0.889 total time=  18.9s\n",
      "[CV 4/4; 64/81] START activation=relu, alpha=0.0001, hidden_layer_sizes=(100, 50), learning_rate=constant, learning_rate_init=0.01, max_iter=500\n",
      "[CV 4/4; 63/81] END activation=relu, alpha=0.0001, hidden_layer_sizes=(100,), learning_rate=adaptive, learning_rate_init=0.0001, max_iter=500;, score=0.890 total time=  20.9s\n",
      "[CV 1/4; 65/81] START activation=relu, alpha=0.0001, hidden_layer_sizes=(100, 50), learning_rate=constant, learning_rate_init=0.001, max_iter=500\n",
      "[CV 4/4; 62/81] END activation=relu, alpha=0.0001, hidden_layer_sizes=(100,), learning_rate=adaptive, learning_rate_init=0.001, max_iter=500;, score=0.891 total time=  38.1s\n",
      "[CV 2/4; 65/81] START activation=relu, alpha=0.0001, hidden_layer_sizes=(100, 50), learning_rate=constant, learning_rate_init=0.001, max_iter=500\n",
      "[CV 1/4; 54/81] END activation=relu, alpha=0.001, hidden_layer_sizes=(100, 50, 25), learning_rate=adaptive, learning_rate_init=0.0001, max_iter=500;, score=0.897 total time= 6.7min\n",
      "[CV 3/4; 65/81] START activation=relu, alpha=0.0001, hidden_layer_sizes=(100, 50), learning_rate=constant, learning_rate_init=0.001, max_iter=500\n",
      "[CV 2/4; 62/81] END activation=relu, alpha=0.0001, hidden_layer_sizes=(100,), learning_rate=adaptive, learning_rate_init=0.001, max_iter=500;, score=0.892 total time=  45.2s\n",
      "[CV 4/4; 65/81] START activation=relu, alpha=0.0001, hidden_layer_sizes=(100, 50), learning_rate=constant, learning_rate_init=0.001, max_iter=500\n",
      "[CV 3/4; 54/81] END activation=relu, alpha=0.001, hidden_layer_sizes=(100, 50, 25), learning_rate=adaptive, learning_rate_init=0.0001, max_iter=500;, score=0.895 total time= 6.7min\n",
      "[CV 1/4; 66/81] START activation=relu, alpha=0.0001, hidden_layer_sizes=(100, 50), learning_rate=constant, learning_rate_init=0.0001, max_iter=500\n",
      "[CV 3/4; 62/81] END activation=relu, alpha=0.0001, hidden_layer_sizes=(100,), learning_rate=adaptive, learning_rate_init=0.001, max_iter=500;, score=0.889 total time=  54.3s\n",
      "[CV 2/4; 66/81] START activation=relu, alpha=0.0001, hidden_layer_sizes=(100, 50), learning_rate=constant, learning_rate_init=0.0001, max_iter=500\n",
      "[CV 2/4; 54/81] END activation=relu, alpha=0.001, hidden_layer_sizes=(100, 50, 25), learning_rate=adaptive, learning_rate_init=0.0001, max_iter=500;, score=0.896 total time= 7.2min\n",
      "[CV 3/4; 66/81] START activation=relu, alpha=0.0001, hidden_layer_sizes=(100, 50), learning_rate=constant, learning_rate_init=0.0001, max_iter=500\n",
      "[CV 1/4; 64/81] END activation=relu, alpha=0.0001, hidden_layer_sizes=(100, 50), learning_rate=constant, learning_rate_init=0.01, max_iter=500;, score=0.896 total time= 1.3min\n",
      "[CV 4/4; 66/81] START activation=relu, alpha=0.0001, hidden_layer_sizes=(100, 50), learning_rate=constant, learning_rate_init=0.0001, max_iter=500\n"
     ]
    },
    {
     "name": "stderr",
     "output_type": "stream",
     "text": [
      "/Users/marc/Library/Mobile Documents/com~apple~CloudDocs/Projects/Playground/playgroundseries_s4e1/.venv/lib/python3.10/site-packages/sklearn/neural_network/_multilayer_perceptron.py:691: ConvergenceWarning: Stochastic Optimizer: Maximum iterations (500) reached and the optimization hasn't converged yet.\n",
      "  warnings.warn(\n"
     ]
    },
    {
     "name": "stdout",
     "output_type": "stream",
     "text": [
      "[CV 4/4; 54/81] END activation=relu, alpha=0.001, hidden_layer_sizes=(100, 50, 25), learning_rate=adaptive, learning_rate_init=0.0001, max_iter=500;, score=0.896 total time= 7.5min\n",
      "[CV 1/4; 67/81] START activation=relu, alpha=0.0001, hidden_layer_sizes=(100, 50), learning_rate=invscaling, learning_rate_init=0.01, max_iter=500\n",
      "[CV 2/4; 64/81] END activation=relu, alpha=0.0001, hidden_layer_sizes=(100, 50), learning_rate=constant, learning_rate_init=0.01, max_iter=500;, score=0.897 total time= 1.3min\n",
      "[CV 2/4; 67/81] START activation=relu, alpha=0.0001, hidden_layer_sizes=(100, 50), learning_rate=invscaling, learning_rate_init=0.01, max_iter=500\n",
      "[CV 4/4; 64/81] END activation=relu, alpha=0.0001, hidden_layer_sizes=(100, 50), learning_rate=constant, learning_rate_init=0.01, max_iter=500;, score=0.896 total time= 1.5min\n",
      "[CV 3/4; 67/81] START activation=relu, alpha=0.0001, hidden_layer_sizes=(100, 50), learning_rate=invscaling, learning_rate_init=0.01, max_iter=500\n",
      "[CV 3/4; 64/81] END activation=relu, alpha=0.0001, hidden_layer_sizes=(100, 50), learning_rate=constant, learning_rate_init=0.01, max_iter=500;, score=0.894 total time= 1.7min\n",
      "[CV 4/4; 67/81] START activation=relu, alpha=0.0001, hidden_layer_sizes=(100, 50), learning_rate=invscaling, learning_rate_init=0.01, max_iter=500\n",
      "[CV 1/4; 67/81] END activation=relu, alpha=0.0001, hidden_layer_sizes=(100, 50), learning_rate=invscaling, learning_rate_init=0.01, max_iter=500;, score=0.896 total time= 1.1min\n",
      "[CV 1/4; 68/81] START activation=relu, alpha=0.0001, hidden_layer_sizes=(100, 50), learning_rate=invscaling, learning_rate_init=0.001, max_iter=500\n",
      "[CV 2/4; 66/81] END activation=relu, alpha=0.0001, hidden_layer_sizes=(100, 50), learning_rate=constant, learning_rate_init=0.0001, max_iter=500;, score=0.892 total time= 2.1min\n",
      "[CV 2/4; 68/81] START activation=relu, alpha=0.0001, hidden_layer_sizes=(100, 50), learning_rate=invscaling, learning_rate_init=0.001, max_iter=500\n",
      "[CV 4/4; 66/81] END activation=relu, alpha=0.0001, hidden_layer_sizes=(100, 50), learning_rate=constant, learning_rate_init=0.0001, max_iter=500;, score=0.892 total time= 1.4min\n",
      "[CV 3/4; 68/81] START activation=relu, alpha=0.0001, hidden_layer_sizes=(100, 50), learning_rate=invscaling, learning_rate_init=0.001, max_iter=500\n",
      "[CV 3/4; 66/81] END activation=relu, alpha=0.0001, hidden_layer_sizes=(100, 50), learning_rate=constant, learning_rate_init=0.0001, max_iter=500;, score=0.890 total time= 2.0min\n",
      "[CV 4/4; 68/81] START activation=relu, alpha=0.0001, hidden_layer_sizes=(100, 50), learning_rate=invscaling, learning_rate_init=0.001, max_iter=500\n",
      "[CV 2/4; 67/81] END activation=relu, alpha=0.0001, hidden_layer_sizes=(100, 50), learning_rate=invscaling, learning_rate_init=0.01, max_iter=500;, score=0.895 total time= 1.6min\n",
      "[CV 1/4; 69/81] START activation=relu, alpha=0.0001, hidden_layer_sizes=(100, 50), learning_rate=invscaling, learning_rate_init=0.0001, max_iter=500\n",
      "[CV 3/4; 67/81] END activation=relu, alpha=0.0001, hidden_layer_sizes=(100, 50), learning_rate=invscaling, learning_rate_init=0.01, max_iter=500;, score=0.894 total time= 1.5min\n",
      "[CV 2/4; 69/81] START activation=relu, alpha=0.0001, hidden_layer_sizes=(100, 50), learning_rate=invscaling, learning_rate_init=0.0001, max_iter=500\n",
      "[CV 1/4; 66/81] END activation=relu, alpha=0.0001, hidden_layer_sizes=(100, 50), learning_rate=constant, learning_rate_init=0.0001, max_iter=500;, score=0.893 total time= 2.8min\n",
      "[CV 3/4; 69/81] START activation=relu, alpha=0.0001, hidden_layer_sizes=(100, 50), learning_rate=invscaling, learning_rate_init=0.0001, max_iter=500\n",
      "[CV 4/4; 67/81] END activation=relu, alpha=0.0001, hidden_layer_sizes=(100, 50), learning_rate=invscaling, learning_rate_init=0.01, max_iter=500;, score=0.896 total time= 1.5min\n",
      "[CV 4/4; 69/81] START activation=relu, alpha=0.0001, hidden_layer_sizes=(100, 50), learning_rate=invscaling, learning_rate_init=0.0001, max_iter=500\n",
      "[CV 2/4; 65/81] END activation=relu, alpha=0.0001, hidden_layer_sizes=(100, 50), learning_rate=constant, learning_rate_init=0.001, max_iter=500;, score=0.900 total time= 4.0min\n",
      "[CV 1/4; 70/81] START activation=relu, alpha=0.0001, hidden_layer_sizes=(100, 50), learning_rate=adaptive, learning_rate_init=0.01, max_iter=500\n",
      "[CV 1/4; 69/81] END activation=relu, alpha=0.0001, hidden_layer_sizes=(100, 50), learning_rate=invscaling, learning_rate_init=0.0001, max_iter=500;, score=0.892 total time= 1.3min\n",
      "[CV 2/4; 70/81] START activation=relu, alpha=0.0001, hidden_layer_sizes=(100, 50), learning_rate=adaptive, learning_rate_init=0.01, max_iter=500\n",
      "[CV 2/4; 69/81] END activation=relu, alpha=0.0001, hidden_layer_sizes=(100, 50), learning_rate=invscaling, learning_rate_init=0.0001, max_iter=500;, score=0.891 total time= 1.3min\n",
      "[CV 3/4; 70/81] START activation=relu, alpha=0.0001, hidden_layer_sizes=(100, 50), learning_rate=adaptive, learning_rate_init=0.01, max_iter=500\n",
      "[CV 4/4; 69/81] END activation=relu, alpha=0.0001, hidden_layer_sizes=(100, 50), learning_rate=invscaling, learning_rate_init=0.0001, max_iter=500;, score=0.892 total time= 1.4min\n",
      "[CV 4/4; 70/81] START activation=relu, alpha=0.0001, hidden_layer_sizes=(100, 50), learning_rate=adaptive, learning_rate_init=0.01, max_iter=500\n",
      "[CV 3/4; 65/81] END activation=relu, alpha=0.0001, hidden_layer_sizes=(100, 50), learning_rate=constant, learning_rate_init=0.001, max_iter=500;, score=0.897 total time= 4.7min\n",
      "[CV 1/4; 71/81] START activation=relu, alpha=0.0001, hidden_layer_sizes=(100, 50), learning_rate=adaptive, learning_rate_init=0.001, max_iter=500\n",
      "[CV 4/4; 65/81] END activation=relu, alpha=0.0001, hidden_layer_sizes=(100, 50), learning_rate=constant, learning_rate_init=0.001, max_iter=500;, score=0.897 total time= 5.0min\n",
      "[CV 2/4; 71/81] START activation=relu, alpha=0.0001, hidden_layer_sizes=(100, 50), learning_rate=adaptive, learning_rate_init=0.001, max_iter=500\n",
      "[CV 2/4; 70/81] END activation=relu, alpha=0.0001, hidden_layer_sizes=(100, 50), learning_rate=adaptive, learning_rate_init=0.01, max_iter=500;, score=0.896 total time= 1.4min\n",
      "[CV 3/4; 71/81] START activation=relu, alpha=0.0001, hidden_layer_sizes=(100, 50), learning_rate=adaptive, learning_rate_init=0.001, max_iter=500\n",
      "[CV 1/4; 65/81] END activation=relu, alpha=0.0001, hidden_layer_sizes=(100, 50), learning_rate=constant, learning_rate_init=0.001, max_iter=500;, score=0.898 total time= 5.5min\n",
      "[CV 4/4; 71/81] START activation=relu, alpha=0.0001, hidden_layer_sizes=(100, 50), learning_rate=adaptive, learning_rate_init=0.001, max_iter=500\n",
      "[CV 3/4; 69/81] END activation=relu, alpha=0.0001, hidden_layer_sizes=(100, 50), learning_rate=invscaling, learning_rate_init=0.0001, max_iter=500;, score=0.891 total time= 2.5min\n",
      "[CV 1/4; 72/81] START activation=relu, alpha=0.0001, hidden_layer_sizes=(100, 50), learning_rate=adaptive, learning_rate_init=0.0001, max_iter=500\n",
      "[CV 3/4; 70/81] END activation=relu, alpha=0.0001, hidden_layer_sizes=(100, 50), learning_rate=adaptive, learning_rate_init=0.01, max_iter=500;, score=0.893 total time= 1.4min\n",
      "[CV 2/4; 72/81] START activation=relu, alpha=0.0001, hidden_layer_sizes=(100, 50), learning_rate=adaptive, learning_rate_init=0.0001, max_iter=500\n",
      "[CV 4/4; 70/81] END activation=relu, alpha=0.0001, hidden_layer_sizes=(100, 50), learning_rate=adaptive, learning_rate_init=0.01, max_iter=500;, score=0.896 total time= 1.5min\n",
      "[CV 3/4; 72/81] START activation=relu, alpha=0.0001, hidden_layer_sizes=(100, 50), learning_rate=adaptive, learning_rate_init=0.0001, max_iter=500\n",
      "[CV 1/4; 70/81] END activation=relu, alpha=0.0001, hidden_layer_sizes=(100, 50), learning_rate=adaptive, learning_rate_init=0.01, max_iter=500;, score=0.896 total time= 2.0min\n",
      "[CV 4/4; 72/81] START activation=relu, alpha=0.0001, hidden_layer_sizes=(100, 50), learning_rate=adaptive, learning_rate_init=0.0001, max_iter=500\n",
      "[CV 3/4; 68/81] END activation=relu, alpha=0.0001, hidden_layer_sizes=(100, 50), learning_rate=invscaling, learning_rate_init=0.001, max_iter=500;, score=0.897 total time= 3.9min\n",
      "[CV 1/4; 73/81] START activation=relu, alpha=0.0001, hidden_layer_sizes=(100, 50, 25), learning_rate=constant, learning_rate_init=0.01, max_iter=500\n",
      "[CV 2/4; 68/81] END activation=relu, alpha=0.0001, hidden_layer_sizes=(100, 50), learning_rate=invscaling, learning_rate_init=0.001, max_iter=500;, score=0.899 total time= 4.3min\n",
      "[CV 1/4; 72/81] END activation=relu, alpha=0.0001, hidden_layer_sizes=(100, 50), learning_rate=adaptive, learning_rate_init=0.0001, max_iter=500;, score=0.892 total time= 1.2min\n",
      "[CV 2/4; 73/81] START activation=relu, alpha=0.0001, hidden_layer_sizes=(100, 50, 25), learning_rate=constant, learning_rate_init=0.01, max_iter=500\n",
      "[CV 3/4; 73/81] START activation=relu, alpha=0.0001, hidden_layer_sizes=(100, 50, 25), learning_rate=constant, learning_rate_init=0.01, max_iter=500\n",
      "[CV 1/4; 68/81] END activation=relu, alpha=0.0001, hidden_layer_sizes=(100, 50), learning_rate=invscaling, learning_rate_init=0.001, max_iter=500;, score=0.901 total time= 4.9min\n",
      "[CV 4/4; 73/81] START activation=relu, alpha=0.0001, hidden_layer_sizes=(100, 50, 25), learning_rate=constant, learning_rate_init=0.01, max_iter=500\n",
      "[CV 4/4; 68/81] END activation=relu, alpha=0.0001, hidden_layer_sizes=(100, 50), learning_rate=invscaling, learning_rate_init=0.001, max_iter=500;, score=0.899 total time= 4.5min\n",
      "[CV 1/4; 74/81] START activation=relu, alpha=0.0001, hidden_layer_sizes=(100, 50, 25), learning_rate=constant, learning_rate_init=0.001, max_iter=500\n",
      "[CV 2/4; 72/81] END activation=relu, alpha=0.0001, hidden_layer_sizes=(100, 50), learning_rate=adaptive, learning_rate_init=0.0001, max_iter=500;, score=0.892 total time= 1.5min\n",
      "[CV 2/4; 74/81] START activation=relu, alpha=0.0001, hidden_layer_sizes=(100, 50, 25), learning_rate=constant, learning_rate_init=0.001, max_iter=500\n",
      "[CV 3/4; 72/81] END activation=relu, alpha=0.0001, hidden_layer_sizes=(100, 50), learning_rate=adaptive, learning_rate_init=0.0001, max_iter=500;, score=0.890 total time= 1.3min\n",
      "[CV 3/4; 74/81] START activation=relu, alpha=0.0001, hidden_layer_sizes=(100, 50, 25), learning_rate=constant, learning_rate_init=0.001, max_iter=500\n",
      "[CV 4/4; 72/81] END activation=relu, alpha=0.0001, hidden_layer_sizes=(100, 50), learning_rate=adaptive, learning_rate_init=0.0001, max_iter=500;, score=0.892 total time= 1.5min\n",
      "[CV 4/4; 74/81] START activation=relu, alpha=0.0001, hidden_layer_sizes=(100, 50, 25), learning_rate=constant, learning_rate_init=0.001, max_iter=500\n",
      "[CV 1/4; 73/81] END activation=relu, alpha=0.0001, hidden_layer_sizes=(100, 50, 25), learning_rate=constant, learning_rate_init=0.01, max_iter=500;, score=0.899 total time= 1.8min\n",
      "[CV 1/4; 75/81] START activation=relu, alpha=0.0001, hidden_layer_sizes=(100, 50, 25), learning_rate=constant, learning_rate_init=0.0001, max_iter=500\n",
      "[CV 3/4; 73/81] END activation=relu, alpha=0.0001, hidden_layer_sizes=(100, 50, 25), learning_rate=constant, learning_rate_init=0.01, max_iter=500;, score=0.895 total time= 2.1min\n",
      "[CV 2/4; 75/81] START activation=relu, alpha=0.0001, hidden_layer_sizes=(100, 50, 25), learning_rate=constant, learning_rate_init=0.0001, max_iter=500\n",
      "[CV 3/4; 71/81] END activation=relu, alpha=0.0001, hidden_layer_sizes=(100, 50), learning_rate=adaptive, learning_rate_init=0.001, max_iter=500;, score=0.898 total time= 3.7min\n",
      "[CV 3/4; 75/81] START activation=relu, alpha=0.0001, hidden_layer_sizes=(100, 50, 25), learning_rate=constant, learning_rate_init=0.0001, max_iter=500\n",
      "[CV 2/4; 73/81] END activation=relu, alpha=0.0001, hidden_layer_sizes=(100, 50, 25), learning_rate=constant, learning_rate_init=0.01, max_iter=500;, score=0.898 total time= 2.5min\n",
      "[CV 4/4; 75/81] START activation=relu, alpha=0.0001, hidden_layer_sizes=(100, 50, 25), learning_rate=constant, learning_rate_init=0.0001, max_iter=500\n",
      "[CV 4/4; 73/81] END activation=relu, alpha=0.0001, hidden_layer_sizes=(100, 50, 25), learning_rate=constant, learning_rate_init=0.01, max_iter=500;, score=0.897 total time= 2.7min\n",
      "[CV 1/4; 76/81] START activation=relu, alpha=0.0001, hidden_layer_sizes=(100, 50, 25), learning_rate=invscaling, learning_rate_init=0.01, max_iter=500\n",
      "[CV 1/4; 71/81] END activation=relu, alpha=0.0001, hidden_layer_sizes=(100, 50), learning_rate=adaptive, learning_rate_init=0.001, max_iter=500;, score=0.900 total time= 5.5min\n",
      "[CV 2/4; 76/81] START activation=relu, alpha=0.0001, hidden_layer_sizes=(100, 50, 25), learning_rate=invscaling, learning_rate_init=0.01, max_iter=500\n",
      "[CV 4/4; 71/81] END activation=relu, alpha=0.0001, hidden_layer_sizes=(100, 50), learning_rate=adaptive, learning_rate_init=0.001, max_iter=500;, score=0.900 total time= 5.2min\n",
      "[CV 3/4; 76/81] START activation=relu, alpha=0.0001, hidden_layer_sizes=(100, 50, 25), learning_rate=invscaling, learning_rate_init=0.01, max_iter=500\n",
      "[CV 2/4; 71/81] END activation=relu, alpha=0.0001, hidden_layer_sizes=(100, 50), learning_rate=adaptive, learning_rate_init=0.001, max_iter=500;, score=0.900 total time= 6.0min\n",
      "[CV 4/4; 76/81] START activation=relu, alpha=0.0001, hidden_layer_sizes=(100, 50, 25), learning_rate=invscaling, learning_rate_init=0.01, max_iter=500\n",
      "[CV 2/4; 76/81] END activation=relu, alpha=0.0001, hidden_layer_sizes=(100, 50, 25), learning_rate=invscaling, learning_rate_init=0.01, max_iter=500;, score=0.896 total time= 1.6min\n",
      "[CV 1/4; 77/81] START activation=relu, alpha=0.0001, hidden_layer_sizes=(100, 50, 25), learning_rate=invscaling, learning_rate_init=0.001, max_iter=500\n",
      "[CV 1/4; 76/81] END activation=relu, alpha=0.0001, hidden_layer_sizes=(100, 50, 25), learning_rate=invscaling, learning_rate_init=0.01, max_iter=500;, score=0.896 total time= 2.1min\n",
      "[CV 2/4; 77/81] START activation=relu, alpha=0.0001, hidden_layer_sizes=(100, 50, 25), learning_rate=invscaling, learning_rate_init=0.001, max_iter=500\n",
      "[CV 3/4; 76/81] END activation=relu, alpha=0.0001, hidden_layer_sizes=(100, 50, 25), learning_rate=invscaling, learning_rate_init=0.01, max_iter=500;, score=0.898 total time= 1.8min\n",
      "[CV 3/4; 77/81] START activation=relu, alpha=0.0001, hidden_layer_sizes=(100, 50, 25), learning_rate=invscaling, learning_rate_init=0.001, max_iter=500\n",
      "[CV 2/4; 74/81] END activation=relu, alpha=0.0001, hidden_layer_sizes=(100, 50, 25), learning_rate=constant, learning_rate_init=0.001, max_iter=500;, score=0.903 total time= 5.6min\n",
      "[CV 4/4; 77/81] START activation=relu, alpha=0.0001, hidden_layer_sizes=(100, 50, 25), learning_rate=invscaling, learning_rate_init=0.001, max_iter=500\n",
      "[CV 4/4; 76/81] END activation=relu, alpha=0.0001, hidden_layer_sizes=(100, 50, 25), learning_rate=invscaling, learning_rate_init=0.01, max_iter=500;, score=0.897 total time= 2.1min\n",
      "[CV 1/4; 78/81] START activation=relu, alpha=0.0001, hidden_layer_sizes=(100, 50, 25), learning_rate=invscaling, learning_rate_init=0.0001, max_iter=500\n",
      "[CV 1/4; 74/81] END activation=relu, alpha=0.0001, hidden_layer_sizes=(100, 50, 25), learning_rate=constant, learning_rate_init=0.001, max_iter=500;, score=0.904 total time= 6.2min\n",
      "[CV 2/4; 78/81] START activation=relu, alpha=0.0001, hidden_layer_sizes=(100, 50, 25), learning_rate=invscaling, learning_rate_init=0.0001, max_iter=500\n",
      "[CV 3/4; 74/81] END activation=relu, alpha=0.0001, hidden_layer_sizes=(100, 50, 25), learning_rate=constant, learning_rate_init=0.001, max_iter=500;, score=0.903 total time= 6.2min\n",
      "[CV 3/4; 78/81] START activation=relu, alpha=0.0001, hidden_layer_sizes=(100, 50, 25), learning_rate=invscaling, learning_rate_init=0.0001, max_iter=500\n",
      "[CV 3/4; 75/81] END activation=relu, alpha=0.0001, hidden_layer_sizes=(100, 50, 25), learning_rate=constant, learning_rate_init=0.0001, max_iter=500;, score=0.892 total time= 4.9min\n",
      "[CV 4/4; 78/81] START activation=relu, alpha=0.0001, hidden_layer_sizes=(100, 50, 25), learning_rate=invscaling, learning_rate_init=0.0001, max_iter=500\n",
      "[CV 4/4; 75/81] END activation=relu, alpha=0.0001, hidden_layer_sizes=(100, 50, 25), learning_rate=constant, learning_rate_init=0.0001, max_iter=500;, score=0.894 total time= 5.5min\n",
      "[CV 1/4; 79/81] START activation=relu, alpha=0.0001, hidden_layer_sizes=(100, 50, 25), learning_rate=adaptive, learning_rate_init=0.01, max_iter=500\n",
      "[CV 4/4; 74/81] END activation=relu, alpha=0.0001, hidden_layer_sizes=(100, 50, 25), learning_rate=constant, learning_rate_init=0.001, max_iter=500;, score=0.904 total time= 7.6min\n",
      "[CV 2/4; 79/81] START activation=relu, alpha=0.0001, hidden_layer_sizes=(100, 50, 25), learning_rate=adaptive, learning_rate_init=0.01, max_iter=500\n",
      "[CV 2/4; 75/81] END activation=relu, alpha=0.0001, hidden_layer_sizes=(100, 50, 25), learning_rate=constant, learning_rate_init=0.0001, max_iter=500;, score=0.895 total time= 6.7min\n",
      "[CV 3/4; 79/81] START activation=relu, alpha=0.0001, hidden_layer_sizes=(100, 50, 25), learning_rate=adaptive, learning_rate_init=0.01, max_iter=500\n",
      "[CV 1/4; 75/81] END activation=relu, alpha=0.0001, hidden_layer_sizes=(100, 50, 25), learning_rate=constant, learning_rate_init=0.0001, max_iter=500;, score=0.897 total time= 7.6min\n",
      "[CV 4/4; 79/81] START activation=relu, alpha=0.0001, hidden_layer_sizes=(100, 50, 25), learning_rate=adaptive, learning_rate_init=0.01, max_iter=500\n",
      "[CV 1/4; 77/81] END activation=relu, alpha=0.0001, hidden_layer_sizes=(100, 50, 25), learning_rate=invscaling, learning_rate_init=0.001, max_iter=500;, score=0.906 total time= 4.1min\n",
      "[CV 1/4; 80/81] START activation=relu, alpha=0.0001, hidden_layer_sizes=(100, 50, 25), learning_rate=adaptive, learning_rate_init=0.001, max_iter=500\n",
      "[CV 1/4; 79/81] END activation=relu, alpha=0.0001, hidden_layer_sizes=(100, 50, 25), learning_rate=adaptive, learning_rate_init=0.01, max_iter=500;, score=0.899 total time= 2.0min\n",
      "[CV 2/4; 80/81] START activation=relu, alpha=0.0001, hidden_layer_sizes=(100, 50, 25), learning_rate=adaptive, learning_rate_init=0.001, max_iter=500\n",
      "[CV 4/4; 79/81] END activation=relu, alpha=0.0001, hidden_layer_sizes=(100, 50, 25), learning_rate=adaptive, learning_rate_init=0.01, max_iter=500;, score=0.897 total time= 1.6min\n",
      "[CV 3/4; 80/81] START activation=relu, alpha=0.0001, hidden_layer_sizes=(100, 50, 25), learning_rate=adaptive, learning_rate_init=0.001, max_iter=500\n",
      "[CV 2/4; 79/81] END activation=relu, alpha=0.0001, hidden_layer_sizes=(100, 50, 25), learning_rate=adaptive, learning_rate_init=0.01, max_iter=500;, score=0.897 total time= 2.0min\n",
      "[CV 4/4; 80/81] START activation=relu, alpha=0.0001, hidden_layer_sizes=(100, 50, 25), learning_rate=adaptive, learning_rate_init=0.001, max_iter=500\n",
      "[CV 4/4; 77/81] END activation=relu, alpha=0.0001, hidden_layer_sizes=(100, 50, 25), learning_rate=invscaling, learning_rate_init=0.001, max_iter=500;, score=0.903 total time= 4.6min\n",
      "[CV 1/4; 81/81] START activation=relu, alpha=0.0001, hidden_layer_sizes=(100, 50, 25), learning_rate=adaptive, learning_rate_init=0.0001, max_iter=500\n",
      "[CV 3/4; 79/81] END activation=relu, alpha=0.0001, hidden_layer_sizes=(100, 50, 25), learning_rate=adaptive, learning_rate_init=0.01, max_iter=500;, score=0.895 total time= 2.2min\n",
      "[CV 2/4; 81/81] START activation=relu, alpha=0.0001, hidden_layer_sizes=(100, 50, 25), learning_rate=adaptive, learning_rate_init=0.0001, max_iter=500\n",
      "[CV 2/4; 77/81] END activation=relu, alpha=0.0001, hidden_layer_sizes=(100, 50, 25), learning_rate=invscaling, learning_rate_init=0.001, max_iter=500;, score=0.904 total time= 6.4min\n",
      "[CV 3/4; 81/81] START activation=relu, alpha=0.0001, hidden_layer_sizes=(100, 50, 25), learning_rate=adaptive, learning_rate_init=0.0001, max_iter=500\n",
      "[CV 1/4; 78/81] END activation=relu, alpha=0.0001, hidden_layer_sizes=(100, 50, 25), learning_rate=invscaling, learning_rate_init=0.0001, max_iter=500;, score=0.895 total time= 5.6min\n",
      "[CV 4/4; 81/81] START activation=relu, alpha=0.0001, hidden_layer_sizes=(100, 50, 25), learning_rate=adaptive, learning_rate_init=0.0001, max_iter=500\n",
      "[CV 3/4; 77/81] END activation=relu, alpha=0.0001, hidden_layer_sizes=(100, 50, 25), learning_rate=invscaling, learning_rate_init=0.001, max_iter=500;, score=0.907 total time= 6.6min\n"
     ]
    },
    {
     "name": "stderr",
     "output_type": "stream",
     "text": [
      "/Users/marc/Library/Mobile Documents/com~apple~CloudDocs/Projects/Playground/playgroundseries_s4e1/.venv/lib/python3.10/site-packages/sklearn/neural_network/_multilayer_perceptron.py:691: ConvergenceWarning: Stochastic Optimizer: Maximum iterations (500) reached and the optimization hasn't converged yet.\n",
      "  warnings.warn(\n"
     ]
    },
    {
     "name": "stdout",
     "output_type": "stream",
     "text": [
      "[CV 2/4; 78/81] END activation=relu, alpha=0.0001, hidden_layer_sizes=(100, 50, 25), learning_rate=invscaling, learning_rate_init=0.0001, max_iter=500;, score=0.896 total time= 6.9min\n",
      "[CV 4/4; 78/81] END activation=relu, alpha=0.0001, hidden_layer_sizes=(100, 50, 25), learning_rate=invscaling, learning_rate_init=0.0001, max_iter=500;, score=0.897 total time= 6.2min\n"
     ]
    },
    {
     "name": "stderr",
     "output_type": "stream",
     "text": [
      "/Users/marc/Library/Mobile Documents/com~apple~CloudDocs/Projects/Playground/playgroundseries_s4e1/.venv/lib/python3.10/site-packages/sklearn/neural_network/_multilayer_perceptron.py:691: ConvergenceWarning: Stochastic Optimizer: Maximum iterations (500) reached and the optimization hasn't converged yet.\n",
      "  warnings.warn(\n"
     ]
    },
    {
     "name": "stdout",
     "output_type": "stream",
     "text": [
      "[CV 3/4; 78/81] END activation=relu, alpha=0.0001, hidden_layer_sizes=(100, 50, 25), learning_rate=invscaling, learning_rate_init=0.0001, max_iter=500;, score=0.895 total time= 6.8min\n",
      "[CV 1/4; 81/81] END activation=relu, alpha=0.0001, hidden_layer_sizes=(100, 50, 25), learning_rate=adaptive, learning_rate_init=0.0001, max_iter=500;, score=0.896 total time= 3.6min\n",
      "[CV 3/4; 80/81] END activation=relu, alpha=0.0001, hidden_layer_sizes=(100, 50, 25), learning_rate=adaptive, learning_rate_init=0.001, max_iter=500;, score=0.902 total time= 3.8min\n",
      "[CV 4/4; 80/81] END activation=relu, alpha=0.0001, hidden_layer_sizes=(100, 50, 25), learning_rate=adaptive, learning_rate_init=0.001, max_iter=500;, score=0.906 total time= 3.9min\n",
      "[CV 2/4; 80/81] END activation=relu, alpha=0.0001, hidden_layer_sizes=(100, 50, 25), learning_rate=adaptive, learning_rate_init=0.001, max_iter=500;, score=0.907 total time= 4.6min\n"
     ]
    },
    {
     "name": "stderr",
     "output_type": "stream",
     "text": [
      "/Users/marc/Library/Mobile Documents/com~apple~CloudDocs/Projects/Playground/playgroundseries_s4e1/.venv/lib/python3.10/site-packages/sklearn/neural_network/_multilayer_perceptron.py:691: ConvergenceWarning: Stochastic Optimizer: Maximum iterations (500) reached and the optimization hasn't converged yet.\n",
      "  warnings.warn(\n"
     ]
    },
    {
     "name": "stdout",
     "output_type": "stream",
     "text": [
      "[CV 1/4; 80/81] END activation=relu, alpha=0.0001, hidden_layer_sizes=(100, 50, 25), learning_rate=adaptive, learning_rate_init=0.001, max_iter=500;, score=0.907 total time= 5.6min\n",
      "[CV 2/4; 81/81] END activation=relu, alpha=0.0001, hidden_layer_sizes=(100, 50, 25), learning_rate=adaptive, learning_rate_init=0.0001, max_iter=500;, score=0.895 total time= 4.1min\n",
      "[CV 4/4; 81/81] END activation=relu, alpha=0.0001, hidden_layer_sizes=(100, 50, 25), learning_rate=adaptive, learning_rate_init=0.0001, max_iter=500;, score=0.894 total time= 3.1min\n",
      "[CV 3/4; 81/81] END activation=relu, alpha=0.0001, hidden_layer_sizes=(100, 50, 25), learning_rate=adaptive, learning_rate_init=0.0001, max_iter=500;, score=0.894 total time= 3.7min\n"
     ]
    },
    {
     "data": {
      "text/html": [
       "<style>#sk-container-id-2 {color: black;}#sk-container-id-2 pre{padding: 0;}#sk-container-id-2 div.sk-toggleable {background-color: white;}#sk-container-id-2 label.sk-toggleable__label {cursor: pointer;display: block;width: 100%;margin-bottom: 0;padding: 0.3em;box-sizing: border-box;text-align: center;}#sk-container-id-2 label.sk-toggleable__label-arrow:before {content: \"▸\";float: left;margin-right: 0.25em;color: #696969;}#sk-container-id-2 label.sk-toggleable__label-arrow:hover:before {color: black;}#sk-container-id-2 div.sk-estimator:hover label.sk-toggleable__label-arrow:before {color: black;}#sk-container-id-2 div.sk-toggleable__content {max-height: 0;max-width: 0;overflow: hidden;text-align: left;background-color: #f0f8ff;}#sk-container-id-2 div.sk-toggleable__content pre {margin: 0.2em;color: black;border-radius: 0.25em;background-color: #f0f8ff;}#sk-container-id-2 input.sk-toggleable__control:checked~div.sk-toggleable__content {max-height: 200px;max-width: 100%;overflow: auto;}#sk-container-id-2 input.sk-toggleable__control:checked~label.sk-toggleable__label-arrow:before {content: \"▾\";}#sk-container-id-2 div.sk-estimator input.sk-toggleable__control:checked~label.sk-toggleable__label {background-color: #d4ebff;}#sk-container-id-2 div.sk-label input.sk-toggleable__control:checked~label.sk-toggleable__label {background-color: #d4ebff;}#sk-container-id-2 input.sk-hidden--visually {border: 0;clip: rect(1px 1px 1px 1px);clip: rect(1px, 1px, 1px, 1px);height: 1px;margin: -1px;overflow: hidden;padding: 0;position: absolute;width: 1px;}#sk-container-id-2 div.sk-estimator {font-family: monospace;background-color: #f0f8ff;border: 1px dotted black;border-radius: 0.25em;box-sizing: border-box;margin-bottom: 0.5em;}#sk-container-id-2 div.sk-estimator:hover {background-color: #d4ebff;}#sk-container-id-2 div.sk-parallel-item::after {content: \"\";width: 100%;border-bottom: 1px solid gray;flex-grow: 1;}#sk-container-id-2 div.sk-label:hover label.sk-toggleable__label {background-color: #d4ebff;}#sk-container-id-2 div.sk-serial::before {content: \"\";position: absolute;border-left: 1px solid gray;box-sizing: border-box;top: 0;bottom: 0;left: 50%;z-index: 0;}#sk-container-id-2 div.sk-serial {display: flex;flex-direction: column;align-items: center;background-color: white;padding-right: 0.2em;padding-left: 0.2em;position: relative;}#sk-container-id-2 div.sk-item {position: relative;z-index: 1;}#sk-container-id-2 div.sk-parallel {display: flex;align-items: stretch;justify-content: center;background-color: white;position: relative;}#sk-container-id-2 div.sk-item::before, #sk-container-id-2 div.sk-parallel-item::before {content: \"\";position: absolute;border-left: 1px solid gray;box-sizing: border-box;top: 0;bottom: 0;left: 50%;z-index: -1;}#sk-container-id-2 div.sk-parallel-item {display: flex;flex-direction: column;z-index: 1;position: relative;background-color: white;}#sk-container-id-2 div.sk-parallel-item:first-child::after {align-self: flex-end;width: 50%;}#sk-container-id-2 div.sk-parallel-item:last-child::after {align-self: flex-start;width: 50%;}#sk-container-id-2 div.sk-parallel-item:only-child::after {width: 0;}#sk-container-id-2 div.sk-dashed-wrapped {border: 1px dashed gray;margin: 0 0.4em 0.5em 0.4em;box-sizing: border-box;padding-bottom: 0.4em;background-color: white;}#sk-container-id-2 div.sk-label label {font-family: monospace;font-weight: bold;display: inline-block;line-height: 1.2em;}#sk-container-id-2 div.sk-label-container {text-align: center;}#sk-container-id-2 div.sk-container {/* jupyter's `normalize.less` sets `[hidden] { display: none; }` but bootstrap.min.css set `[hidden] { display: none !important; }` so we also need the `!important` here to be able to override the default hidden behavior on the sphinx rendered scikit-learn.org. See: https://github.com/scikit-learn/scikit-learn/issues/21755 */display: inline-block !important;position: relative;}#sk-container-id-2 div.sk-text-repr-fallback {display: none;}</style><div id=\"sk-container-id-2\" class=\"sk-top-container\"><div class=\"sk-text-repr-fallback\"><pre>GridSearchCV(cv=4, estimator=MLPClassifier(), n_jobs=-1,\n",
       "             param_grid={&#x27;activation&#x27;: [&#x27;relu&#x27;], &#x27;alpha&#x27;: [0.01, 0.001, 0.0001],\n",
       "                         &#x27;hidden_layer_sizes&#x27;: [(100,), (100, 50),\n",
       "                                                (100, 50, 25)],\n",
       "                         &#x27;learning_rate&#x27;: [&#x27;constant&#x27;, &#x27;invscaling&#x27;,\n",
       "                                           &#x27;adaptive&#x27;],\n",
       "                         &#x27;learning_rate_init&#x27;: [0.01, 0.001, 0.0001],\n",
       "                         &#x27;max_iter&#x27;: [500]},\n",
       "             scoring=&#x27;roc_auc&#x27;, verbose=20)</pre><b>In a Jupyter environment, please rerun this cell to show the HTML representation or trust the notebook. <br />On GitHub, the HTML representation is unable to render, please try loading this page with nbviewer.org.</b></div><div class=\"sk-container\" hidden><div class=\"sk-item sk-dashed-wrapped\"><div class=\"sk-label-container\"><div class=\"sk-label sk-toggleable\"><input class=\"sk-toggleable__control sk-hidden--visually\" id=\"sk-estimator-id-2\" type=\"checkbox\" ><label for=\"sk-estimator-id-2\" class=\"sk-toggleable__label sk-toggleable__label-arrow\">GridSearchCV</label><div class=\"sk-toggleable__content\"><pre>GridSearchCV(cv=4, estimator=MLPClassifier(), n_jobs=-1,\n",
       "             param_grid={&#x27;activation&#x27;: [&#x27;relu&#x27;], &#x27;alpha&#x27;: [0.01, 0.001, 0.0001],\n",
       "                         &#x27;hidden_layer_sizes&#x27;: [(100,), (100, 50),\n",
       "                                                (100, 50, 25)],\n",
       "                         &#x27;learning_rate&#x27;: [&#x27;constant&#x27;, &#x27;invscaling&#x27;,\n",
       "                                           &#x27;adaptive&#x27;],\n",
       "                         &#x27;learning_rate_init&#x27;: [0.01, 0.001, 0.0001],\n",
       "                         &#x27;max_iter&#x27;: [500]},\n",
       "             scoring=&#x27;roc_auc&#x27;, verbose=20)</pre></div></div></div><div class=\"sk-parallel\"><div class=\"sk-parallel-item\"><div class=\"sk-item\"><div class=\"sk-label-container\"><div class=\"sk-label sk-toggleable\"><input class=\"sk-toggleable__control sk-hidden--visually\" id=\"sk-estimator-id-3\" type=\"checkbox\" ><label for=\"sk-estimator-id-3\" class=\"sk-toggleable__label sk-toggleable__label-arrow\">estimator: MLPClassifier</label><div class=\"sk-toggleable__content\"><pre>MLPClassifier()</pre></div></div></div><div class=\"sk-serial\"><div class=\"sk-item\"><div class=\"sk-estimator sk-toggleable\"><input class=\"sk-toggleable__control sk-hidden--visually\" id=\"sk-estimator-id-4\" type=\"checkbox\" ><label for=\"sk-estimator-id-4\" class=\"sk-toggleable__label sk-toggleable__label-arrow\">MLPClassifier</label><div class=\"sk-toggleable__content\"><pre>MLPClassifier()</pre></div></div></div></div></div></div></div></div></div></div>"
      ],
      "text/plain": [
       "GridSearchCV(cv=4, estimator=MLPClassifier(), n_jobs=-1,\n",
       "             param_grid={'activation': ['relu'], 'alpha': [0.01, 0.001, 0.0001],\n",
       "                         'hidden_layer_sizes': [(100,), (100, 50),\n",
       "                                                (100, 50, 25)],\n",
       "                         'learning_rate': ['constant', 'invscaling',\n",
       "                                           'adaptive'],\n",
       "                         'learning_rate_init': [0.01, 0.001, 0.0001],\n",
       "                         'max_iter': [500]},\n",
       "             scoring='roc_auc', verbose=20)"
      ]
     },
     "execution_count": 28,
     "metadata": {},
     "output_type": "execute_result"
    }
   ],
   "source": [
    "grid.fit(X_train_balanced, y_train_balanced)"
   ]
  },
  {
   "cell_type": "code",
   "execution_count": 29,
   "id": "7cd20920",
   "metadata": {},
   "outputs": [
    {
     "name": "stderr",
     "output_type": "stream",
     "text": [
      "/Users/marc/Library/Mobile Documents/com~apple~CloudDocs/Projects/Playground/playgroundseries_s4e1/.venv/lib/python3.10/site-packages/sklearn/base.py:458: UserWarning: X has feature names, but MLPClassifier was fitted without feature names\n",
      "  warnings.warn(\n"
     ]
    },
    {
     "data": {
      "text/plain": [
       "0.8549679237942939"
      ]
     },
     "execution_count": 29,
     "metadata": {},
     "output_type": "execute_result"
    }
   ],
   "source": [
    "grid.score(X_test_scld,y_test)"
   ]
  },
  {
   "cell_type": "code",
   "execution_count": 30,
   "id": "eac5dbc6",
   "metadata": {},
   "outputs": [
    {
     "data": {
      "text/html": [
       "<style>#sk-container-id-3 {color: black;}#sk-container-id-3 pre{padding: 0;}#sk-container-id-3 div.sk-toggleable {background-color: white;}#sk-container-id-3 label.sk-toggleable__label {cursor: pointer;display: block;width: 100%;margin-bottom: 0;padding: 0.3em;box-sizing: border-box;text-align: center;}#sk-container-id-3 label.sk-toggleable__label-arrow:before {content: \"▸\";float: left;margin-right: 0.25em;color: #696969;}#sk-container-id-3 label.sk-toggleable__label-arrow:hover:before {color: black;}#sk-container-id-3 div.sk-estimator:hover label.sk-toggleable__label-arrow:before {color: black;}#sk-container-id-3 div.sk-toggleable__content {max-height: 0;max-width: 0;overflow: hidden;text-align: left;background-color: #f0f8ff;}#sk-container-id-3 div.sk-toggleable__content pre {margin: 0.2em;color: black;border-radius: 0.25em;background-color: #f0f8ff;}#sk-container-id-3 input.sk-toggleable__control:checked~div.sk-toggleable__content {max-height: 200px;max-width: 100%;overflow: auto;}#sk-container-id-3 input.sk-toggleable__control:checked~label.sk-toggleable__label-arrow:before {content: \"▾\";}#sk-container-id-3 div.sk-estimator input.sk-toggleable__control:checked~label.sk-toggleable__label {background-color: #d4ebff;}#sk-container-id-3 div.sk-label input.sk-toggleable__control:checked~label.sk-toggleable__label {background-color: #d4ebff;}#sk-container-id-3 input.sk-hidden--visually {border: 0;clip: rect(1px 1px 1px 1px);clip: rect(1px, 1px, 1px, 1px);height: 1px;margin: -1px;overflow: hidden;padding: 0;position: absolute;width: 1px;}#sk-container-id-3 div.sk-estimator {font-family: monospace;background-color: #f0f8ff;border: 1px dotted black;border-radius: 0.25em;box-sizing: border-box;margin-bottom: 0.5em;}#sk-container-id-3 div.sk-estimator:hover {background-color: #d4ebff;}#sk-container-id-3 div.sk-parallel-item::after {content: \"\";width: 100%;border-bottom: 1px solid gray;flex-grow: 1;}#sk-container-id-3 div.sk-label:hover label.sk-toggleable__label {background-color: #d4ebff;}#sk-container-id-3 div.sk-serial::before {content: \"\";position: absolute;border-left: 1px solid gray;box-sizing: border-box;top: 0;bottom: 0;left: 50%;z-index: 0;}#sk-container-id-3 div.sk-serial {display: flex;flex-direction: column;align-items: center;background-color: white;padding-right: 0.2em;padding-left: 0.2em;position: relative;}#sk-container-id-3 div.sk-item {position: relative;z-index: 1;}#sk-container-id-3 div.sk-parallel {display: flex;align-items: stretch;justify-content: center;background-color: white;position: relative;}#sk-container-id-3 div.sk-item::before, #sk-container-id-3 div.sk-parallel-item::before {content: \"\";position: absolute;border-left: 1px solid gray;box-sizing: border-box;top: 0;bottom: 0;left: 50%;z-index: -1;}#sk-container-id-3 div.sk-parallel-item {display: flex;flex-direction: column;z-index: 1;position: relative;background-color: white;}#sk-container-id-3 div.sk-parallel-item:first-child::after {align-self: flex-end;width: 50%;}#sk-container-id-3 div.sk-parallel-item:last-child::after {align-self: flex-start;width: 50%;}#sk-container-id-3 div.sk-parallel-item:only-child::after {width: 0;}#sk-container-id-3 div.sk-dashed-wrapped {border: 1px dashed gray;margin: 0 0.4em 0.5em 0.4em;box-sizing: border-box;padding-bottom: 0.4em;background-color: white;}#sk-container-id-3 div.sk-label label {font-family: monospace;font-weight: bold;display: inline-block;line-height: 1.2em;}#sk-container-id-3 div.sk-label-container {text-align: center;}#sk-container-id-3 div.sk-container {/* jupyter's `normalize.less` sets `[hidden] { display: none; }` but bootstrap.min.css set `[hidden] { display: none !important; }` so we also need the `!important` here to be able to override the default hidden behavior on the sphinx rendered scikit-learn.org. See: https://github.com/scikit-learn/scikit-learn/issues/21755 */display: inline-block !important;position: relative;}#sk-container-id-3 div.sk-text-repr-fallback {display: none;}</style><div id=\"sk-container-id-3\" class=\"sk-top-container\"><div class=\"sk-text-repr-fallback\"><pre>MLPClassifier(hidden_layer_sizes=(100, 50, 25), learning_rate=&#x27;adaptive&#x27;,\n",
       "              max_iter=500)</pre><b>In a Jupyter environment, please rerun this cell to show the HTML representation or trust the notebook. <br />On GitHub, the HTML representation is unable to render, please try loading this page with nbviewer.org.</b></div><div class=\"sk-container\" hidden><div class=\"sk-item\"><div class=\"sk-estimator sk-toggleable\"><input class=\"sk-toggleable__control sk-hidden--visually\" id=\"sk-estimator-id-5\" type=\"checkbox\" checked><label for=\"sk-estimator-id-5\" class=\"sk-toggleable__label sk-toggleable__label-arrow\">MLPClassifier</label><div class=\"sk-toggleable__content\"><pre>MLPClassifier(hidden_layer_sizes=(100, 50, 25), learning_rate=&#x27;adaptive&#x27;,\n",
       "              max_iter=500)</pre></div></div></div></div></div>"
      ],
      "text/plain": [
       "MLPClassifier(hidden_layer_sizes=(100, 50, 25), learning_rate='adaptive',\n",
       "              max_iter=500)"
      ]
     },
     "execution_count": 30,
     "metadata": {},
     "output_type": "execute_result"
    }
   ],
   "source": [
    "grid.best_estimator_"
   ]
  },
  {
   "cell_type": "markdown",
   "id": "b880f7fb",
   "metadata": {},
   "source": [
    "# Submission"
   ]
  },
  {
   "cell_type": "code",
   "execution_count": null,
   "id": "9393658a",
   "metadata": {},
   "outputs": [],
   "source": [
    "X_val_scld = prepro.transform(test)"
   ]
  },
  {
   "cell_type": "code",
   "execution_count": null,
   "id": "b927754e",
   "metadata": {},
   "outputs": [],
   "source": [
    "submission = pd.read_csv(\"data/sample_submission.csv\", index_col='id')"
   ]
  },
  {
   "cell_type": "code",
   "execution_count": null,
   "id": "ae796018",
   "metadata": {},
   "outputs": [
    {
     "name": "stderr",
     "output_type": "stream",
     "text": [
      "/Users/marc/Library/Mobile Documents/com~apple~CloudDocs/Projects/Playground/playgroundseries_s4e1/.venv/lib/python3.10/site-packages/sklearn/base.py:458: UserWarning: X has feature names, but MLPClassifier was fitted without feature names\n",
      "  warnings.warn(\n"
     ]
    }
   ],
   "source": [
    "submission.loc[:,'Exited'] = nn.predict_proba(X_val_scld)[:,1]"
   ]
  },
  {
   "cell_type": "code",
   "execution_count": null,
   "id": "6ec16618",
   "metadata": {},
   "outputs": [
    {
     "data": {
      "text/html": [
       "<div>\n",
       "<style scoped>\n",
       "    .dataframe tbody tr th:only-of-type {\n",
       "        vertical-align: middle;\n",
       "    }\n",
       "\n",
       "    .dataframe tbody tr th {\n",
       "        vertical-align: top;\n",
       "    }\n",
       "\n",
       "    .dataframe thead th {\n",
       "        text-align: right;\n",
       "    }\n",
       "</style>\n",
       "<table border=\"1\" class=\"dataframe\">\n",
       "  <thead>\n",
       "    <tr style=\"text-align: right;\">\n",
       "      <th></th>\n",
       "      <th>Exited</th>\n",
       "    </tr>\n",
       "    <tr>\n",
       "      <th>id</th>\n",
       "      <th></th>\n",
       "    </tr>\n",
       "  </thead>\n",
       "  <tbody>\n",
       "    <tr>\n",
       "      <th>165034</th>\n",
       "      <td>0.085936</td>\n",
       "    </tr>\n",
       "    <tr>\n",
       "      <th>165035</th>\n",
       "      <td>0.947197</td>\n",
       "    </tr>\n",
       "    <tr>\n",
       "      <th>165036</th>\n",
       "      <td>0.079534</td>\n",
       "    </tr>\n",
       "    <tr>\n",
       "      <th>165037</th>\n",
       "      <td>0.519489</td>\n",
       "    </tr>\n",
       "    <tr>\n",
       "      <th>165038</th>\n",
       "      <td>0.638603</td>\n",
       "    </tr>\n",
       "    <tr>\n",
       "      <th>...</th>\n",
       "      <td>...</td>\n",
       "    </tr>\n",
       "    <tr>\n",
       "      <th>275052</th>\n",
       "      <td>0.132850</td>\n",
       "    </tr>\n",
       "    <tr>\n",
       "      <th>275053</th>\n",
       "      <td>0.217605</td>\n",
       "    </tr>\n",
       "    <tr>\n",
       "      <th>275054</th>\n",
       "      <td>0.071276</td>\n",
       "    </tr>\n",
       "    <tr>\n",
       "      <th>275055</th>\n",
       "      <td>0.381622</td>\n",
       "    </tr>\n",
       "    <tr>\n",
       "      <th>275056</th>\n",
       "      <td>0.496457</td>\n",
       "    </tr>\n",
       "  </tbody>\n",
       "</table>\n",
       "<p>110023 rows × 1 columns</p>\n",
       "</div>"
      ],
      "text/plain": [
       "          Exited\n",
       "id              \n",
       "165034  0.085936\n",
       "165035  0.947197\n",
       "165036  0.079534\n",
       "165037  0.519489\n",
       "165038  0.638603\n",
       "...          ...\n",
       "275052  0.132850\n",
       "275053  0.217605\n",
       "275054  0.071276\n",
       "275055  0.381622\n",
       "275056  0.496457\n",
       "\n",
       "[110023 rows x 1 columns]"
      ]
     },
     "execution_count": 20,
     "metadata": {},
     "output_type": "execute_result"
    }
   ],
   "source": [
    "submission"
   ]
  },
  {
   "cell_type": "code",
   "execution_count": null,
   "id": "d93b07d8",
   "metadata": {},
   "outputs": [],
   "source": [
    "name = dt.now().strftime(\"%Y%m%d_%H%M\")"
   ]
  },
  {
   "cell_type": "code",
   "execution_count": null,
   "id": "eed84da8",
   "metadata": {},
   "outputs": [],
   "source": [
    "submission.to_csv(f\"submission/{name}.csv\")"
   ]
  },
  {
   "cell_type": "code",
   "execution_count": null,
   "id": "e7ef458e",
   "metadata": {},
   "outputs": [],
   "source": []
  }
 ],
 "metadata": {
  "kernelspec": {
   "display_name": "Python 3",
   "language": "python",
   "name": "python3"
  },
  "language_info": {
   "codemirror_mode": {
    "name": "ipython",
    "version": 3
   },
   "file_extension": ".py",
   "mimetype": "text/x-python",
   "name": "python",
   "nbconvert_exporter": "python",
   "pygments_lexer": "ipython3",
   "version": "3.10.0"
  }
 },
 "nbformat": 4,
 "nbformat_minor": 5
}
