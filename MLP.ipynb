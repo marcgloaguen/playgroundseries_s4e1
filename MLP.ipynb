{
 "cells": [
  {
   "cell_type": "code",
   "execution_count": 13,
   "id": "initial_id",
   "metadata": {
    "collapsed": true,
    "is_executing": true
   },
   "outputs": [],
   "source": [
    "from datetime import datetime as dt\n",
    "from preprocessing import Preprocessing\n",
    "import pandas as pd\n",
    "import numpy as np\n",
    "from sklearn.model_selection import train_test_split\n",
    "from sklearn.utils import resample\n",
    "from sklearn.neural_network import MLPClassifier\n",
    "\n",
    "from sklearn.metrics import confusion_matrix, ConfusionMatrixDisplay, classification_report, roc_auc_score"
   ]
  },
  {
   "cell_type": "markdown",
   "id": "35014792",
   "metadata": {},
   "source": [
    "# Preprocessing"
   ]
  },
  {
   "cell_type": "code",
   "execution_count": 14,
   "id": "eb5135aed6eafd16",
   "metadata": {
    "collapsed": false
   },
   "outputs": [],
   "source": [
    "col_drop = ['CustomerId','Surname']\n",
    "types = {\n",
    "    'HasCrCard':bool,\n",
    "    'IsActiveMember':bool\n",
    "}\n",
    "train = pd.read_csv('data/train.csv', index_col='id', dtype=types).drop(columns=col_drop)\n",
    "test = pd.read_csv('data/test.csv', index_col='id', dtype=types).drop(columns=col_drop)"
   ]
  },
  {
   "cell_type": "code",
   "execution_count": 15,
   "id": "b74cdea0",
   "metadata": {},
   "outputs": [
    {
     "data": {
      "text/plain": [
       "(165034, 11)"
      ]
     },
     "execution_count": 15,
     "metadata": {},
     "output_type": "execute_result"
    }
   ],
   "source": [
    "train.shape"
   ]
  },
  {
   "cell_type": "code",
   "execution_count": 16,
   "id": "4eb5e3b5",
   "metadata": {},
   "outputs": [],
   "source": [
    "X = train.drop(columns='Exited')\n",
    "y = train.Exited"
   ]
  },
  {
   "cell_type": "code",
   "execution_count": 17,
   "id": "05af8354",
   "metadata": {},
   "outputs": [],
   "source": [
    "X_train,X_test,y_train,y_test = train_test_split(X,y, stratify=y)"
   ]
  },
  {
   "cell_type": "code",
   "execution_count": 18,
   "id": "e56a9c8daf9db45c",
   "metadata": {
    "collapsed": false
   },
   "outputs": [],
   "source": [
    "prepro = Preprocessing()"
   ]
  },
  {
   "cell_type": "code",
   "execution_count": 19,
   "id": "8cd6f7cd",
   "metadata": {},
   "outputs": [],
   "source": [
    "X_train_scld = prepro.fit_transform(X_train)\n",
    "X_test_scld = prepro.transform(X_test)"
   ]
  },
  {
   "cell_type": "code",
   "execution_count": 20,
   "id": "e8cdd448",
   "metadata": {},
   "outputs": [],
   "source": [
    "X_train_balanced, y_train_balanced = resample(X_train_scld[y_train == 1], y_train[y_train == 1], n_samples=np.sum(y_train == 0), replace=True, random_state=42)"
   ]
  },
  {
   "cell_type": "code",
   "execution_count": 21,
   "id": "34faf634",
   "metadata": {},
   "outputs": [],
   "source": [
    "X_train_balanced = np.concatenate((X_train_scld[y_train == 0], X_train_balanced))\n",
    "y_train_balanced = np.concatenate((y_train[y_train == 0], y_train_balanced))"
   ]
  },
  {
   "cell_type": "markdown",
   "id": "037d6c18",
   "metadata": {},
   "source": [
    "# Fit"
   ]
  },
  {
   "cell_type": "code",
   "execution_count": 22,
   "id": "2e3c5af9",
   "metadata": {},
   "outputs": [],
   "source": [
    "params = {\n",
    "    'hidden_layer_sizes':(100,),\n",
    "    'max_iter':500,\n",
    "    'activation':'relu',\n",
    "    'learning_rate':'constant',\n",
    "    'learning_rate_init':0.0001\n",
    "    \n",
    "}\n",
    "\n",
    "nn = MLPClassifier(\n",
    "    **params, random_state=42)"
   ]
  },
  {
   "cell_type": "code",
   "execution_count": 23,
   "id": "920dbcbd",
   "metadata": {},
   "outputs": [
    {
     "data": {
      "text/html": [
       "<style>#sk-container-id-2 {color: black;}#sk-container-id-2 pre{padding: 0;}#sk-container-id-2 div.sk-toggleable {background-color: white;}#sk-container-id-2 label.sk-toggleable__label {cursor: pointer;display: block;width: 100%;margin-bottom: 0;padding: 0.3em;box-sizing: border-box;text-align: center;}#sk-container-id-2 label.sk-toggleable__label-arrow:before {content: \"▸\";float: left;margin-right: 0.25em;color: #696969;}#sk-container-id-2 label.sk-toggleable__label-arrow:hover:before {color: black;}#sk-container-id-2 div.sk-estimator:hover label.sk-toggleable__label-arrow:before {color: black;}#sk-container-id-2 div.sk-toggleable__content {max-height: 0;max-width: 0;overflow: hidden;text-align: left;background-color: #f0f8ff;}#sk-container-id-2 div.sk-toggleable__content pre {margin: 0.2em;color: black;border-radius: 0.25em;background-color: #f0f8ff;}#sk-container-id-2 input.sk-toggleable__control:checked~div.sk-toggleable__content {max-height: 200px;max-width: 100%;overflow: auto;}#sk-container-id-2 input.sk-toggleable__control:checked~label.sk-toggleable__label-arrow:before {content: \"▾\";}#sk-container-id-2 div.sk-estimator input.sk-toggleable__control:checked~label.sk-toggleable__label {background-color: #d4ebff;}#sk-container-id-2 div.sk-label input.sk-toggleable__control:checked~label.sk-toggleable__label {background-color: #d4ebff;}#sk-container-id-2 input.sk-hidden--visually {border: 0;clip: rect(1px 1px 1px 1px);clip: rect(1px, 1px, 1px, 1px);height: 1px;margin: -1px;overflow: hidden;padding: 0;position: absolute;width: 1px;}#sk-container-id-2 div.sk-estimator {font-family: monospace;background-color: #f0f8ff;border: 1px dotted black;border-radius: 0.25em;box-sizing: border-box;margin-bottom: 0.5em;}#sk-container-id-2 div.sk-estimator:hover {background-color: #d4ebff;}#sk-container-id-2 div.sk-parallel-item::after {content: \"\";width: 100%;border-bottom: 1px solid gray;flex-grow: 1;}#sk-container-id-2 div.sk-label:hover label.sk-toggleable__label {background-color: #d4ebff;}#sk-container-id-2 div.sk-serial::before {content: \"\";position: absolute;border-left: 1px solid gray;box-sizing: border-box;top: 0;bottom: 0;left: 50%;z-index: 0;}#sk-container-id-2 div.sk-serial {display: flex;flex-direction: column;align-items: center;background-color: white;padding-right: 0.2em;padding-left: 0.2em;position: relative;}#sk-container-id-2 div.sk-item {position: relative;z-index: 1;}#sk-container-id-2 div.sk-parallel {display: flex;align-items: stretch;justify-content: center;background-color: white;position: relative;}#sk-container-id-2 div.sk-item::before, #sk-container-id-2 div.sk-parallel-item::before {content: \"\";position: absolute;border-left: 1px solid gray;box-sizing: border-box;top: 0;bottom: 0;left: 50%;z-index: -1;}#sk-container-id-2 div.sk-parallel-item {display: flex;flex-direction: column;z-index: 1;position: relative;background-color: white;}#sk-container-id-2 div.sk-parallel-item:first-child::after {align-self: flex-end;width: 50%;}#sk-container-id-2 div.sk-parallel-item:last-child::after {align-self: flex-start;width: 50%;}#sk-container-id-2 div.sk-parallel-item:only-child::after {width: 0;}#sk-container-id-2 div.sk-dashed-wrapped {border: 1px dashed gray;margin: 0 0.4em 0.5em 0.4em;box-sizing: border-box;padding-bottom: 0.4em;background-color: white;}#sk-container-id-2 div.sk-label label {font-family: monospace;font-weight: bold;display: inline-block;line-height: 1.2em;}#sk-container-id-2 div.sk-label-container {text-align: center;}#sk-container-id-2 div.sk-container {/* jupyter's `normalize.less` sets `[hidden] { display: none; }` but bootstrap.min.css set `[hidden] { display: none !important; }` so we also need the `!important` here to be able to override the default hidden behavior on the sphinx rendered scikit-learn.org. See: https://github.com/scikit-learn/scikit-learn/issues/21755 */display: inline-block !important;position: relative;}#sk-container-id-2 div.sk-text-repr-fallback {display: none;}</style><div id=\"sk-container-id-2\" class=\"sk-top-container\"><div class=\"sk-text-repr-fallback\"><pre>MLPClassifier(learning_rate_init=0.0001, max_iter=500, random_state=42)</pre><b>In a Jupyter environment, please rerun this cell to show the HTML representation or trust the notebook. <br />On GitHub, the HTML representation is unable to render, please try loading this page with nbviewer.org.</b></div><div class=\"sk-container\" hidden><div class=\"sk-item\"><div class=\"sk-estimator sk-toggleable\"><input class=\"sk-toggleable__control sk-hidden--visually\" id=\"sk-estimator-id-2\" type=\"checkbox\" checked><label for=\"sk-estimator-id-2\" class=\"sk-toggleable__label sk-toggleable__label-arrow\">MLPClassifier</label><div class=\"sk-toggleable__content\"><pre>MLPClassifier(learning_rate_init=0.0001, max_iter=500, random_state=42)</pre></div></div></div></div></div>"
      ],
      "text/plain": [
       "MLPClassifier(learning_rate_init=0.0001, max_iter=500, random_state=42)"
      ]
     },
     "execution_count": 23,
     "metadata": {},
     "output_type": "execute_result"
    }
   ],
   "source": [
    "nn.fit(X_train_balanced, y_train_balanced)"
   ]
  },
  {
   "cell_type": "code",
   "execution_count": 24,
   "id": "f1dc2455",
   "metadata": {},
   "outputs": [
    {
     "name": "stderr",
     "output_type": "stream",
     "text": [
      "/Users/marc/Library/Mobile Documents/com~apple~CloudDocs/Projects/Playground/playgroundseries_s4e1/.venv/lib/python3.10/site-packages/sklearn/base.py:458: UserWarning: X has feature names, but MLPClassifier was fitted without feature names\n",
      "  warnings.warn(\n",
      "/Users/marc/Library/Mobile Documents/com~apple~CloudDocs/Projects/Playground/playgroundseries_s4e1/.venv/lib/python3.10/site-packages/sklearn/base.py:458: UserWarning: X has feature names, but MLPClassifier was fitted without feature names\n",
      "  warnings.warn(\n"
     ]
    }
   ],
   "source": [
    "pred = nn.predict(X_test_scld)\n",
    "pred_proba = nn.predict_proba(X_test_scld)[:,1]"
   ]
  },
  {
   "cell_type": "code",
   "execution_count": 25,
   "id": "f51ca946",
   "metadata": {},
   "outputs": [
    {
     "name": "stdout",
     "output_type": "stream",
     "text": [
      "Roc Auc Score : 0.8873\n"
     ]
    }
   ],
   "source": [
    "RocScore  = roc_auc_score(y_test, pred_proba)\n",
    "print(f'Roc Auc Score : {RocScore:.4f}')"
   ]
  },
  {
   "cell_type": "code",
   "execution_count": 26,
   "id": "b415b54f",
   "metadata": {},
   "outputs": [
    {
     "name": "stdout",
     "output_type": "stream",
     "text": [
      "              precision    recall  f1-score   support\n",
      "\n",
      "           0       0.94      0.82      0.88     32529\n",
      "           1       0.54      0.79      0.64      8730\n",
      "\n",
      "    accuracy                           0.82     41259\n",
      "   macro avg       0.74      0.81      0.76     41259\n",
      "weighted avg       0.85      0.82      0.83     41259\n",
      "\n"
     ]
    }
   ],
   "source": [
    "print(classification_report(y_test,pred))"
   ]
  },
  {
   "cell_type": "code",
   "execution_count": 27,
   "id": "969bf28d",
   "metadata": {},
   "outputs": [
    {
     "data": {
      "text/plain": [
       "<sklearn.metrics._plot.confusion_matrix.ConfusionMatrixDisplay at 0x1202852a0>"
      ]
     },
     "execution_count": 27,
     "metadata": {},
     "output_type": "execute_result"
    },
    {
     "data": {
      "image/png": "[encoded data removed]",
      "text/plain": [
       "<Figure size 640x480 with 2 Axes>"
      ]
     },
     "metadata": {},
     "output_type": "display_data"
    }
   ],
   "source": [
    "ConfusionMatrixDisplay(confusion_matrix(y_test,pred, normalize='true')).plot()"
   ]
  },
  {
   "cell_type": "markdown",
   "id": "b880f7fb",
   "metadata": {},
   "source": [
    "# Submission"
   ]
  },
  {
   "cell_type": "code",
   "execution_count": 28,
   "id": "9393658a",
   "metadata": {},
   "outputs": [],
   "source": [
    "X_val_scld = prepro.transform(test)"
   ]
  },
  {
   "cell_type": "code",
   "execution_count": 29,
   "id": "b927754e",
   "metadata": {},
   "outputs": [],
   "source": [
    "submission = pd.read_csv(\"data/sample_submission.csv\", index_col='id')"
   ]
  },
  {
   "cell_type": "code",
   "execution_count": 30,
   "id": "ae796018",
   "metadata": {},
   "outputs": [
    {
     "name": "stderr",
     "output_type": "stream",
     "text": [
      "/Users/marc/Library/Mobile Documents/com~apple~CloudDocs/Projects/Playground/playgroundseries_s4e1/.venv/lib/python3.10/site-packages/sklearn/base.py:458: UserWarning: X has feature names, but MLPClassifier was fitted without feature names\n",
      "  warnings.warn(\n"
     ]
    }
   ],
   "source": [
    "submission.loc[:,'Exited'] = nn.predict_proba(X_val_scld)[:,1]"
   ]
  },
  {
   "cell_type": "code",
   "execution_count": 31,
   "id": "6ec16618",
   "metadata": {},
   "outputs": [
    {
     "data": {
      "text/html": [
       "<div>\n",
       "<style scoped>\n",
       "    .dataframe tbody tr th:only-of-type {\n",
       "        vertical-align: middle;\n",
       "    }\n",
       "\n",
       "    .dataframe tbody tr th {\n",
       "        vertical-align: top;\n",
       "    }\n",
       "\n",
       "    .dataframe thead th {\n",
       "        text-align: right;\n",
       "    }\n",
       "</style>\n",
       "<table border=\"1\" class=\"dataframe\">\n",
       "  <thead>\n",
       "    <tr style=\"text-align: right;\">\n",
       "      <th></th>\n",
       "      <th>Exited</th>\n",
       "    </tr>\n",
       "    <tr>\n",
       "      <th>id</th>\n",
       "      <th></th>\n",
       "    </tr>\n",
       "  </thead>\n",
       "  <tbody>\n",
       "    <tr>\n",
       "      <th>165034</th>\n",
       "      <td>0.094278</td>\n",
       "    </tr>\n",
       "    <tr>\n",
       "      <th>165035</th>\n",
       "      <td>0.953314</td>\n",
       "    </tr>\n",
       "    <tr>\n",
       "      <th>165036</th>\n",
       "      <td>0.098446</td>\n",
       "    </tr>\n",
       "    <tr>\n",
       "      <th>165037</th>\n",
       "      <td>0.466109</td>\n",
       "    </tr>\n",
       "    <tr>\n",
       "      <th>165038</th>\n",
       "      <td>0.612698</td>\n",
       "    </tr>\n",
       "    <tr>\n",
       "      <th>...</th>\n",
       "      <td>...</td>\n",
       "    </tr>\n",
       "    <tr>\n",
       "      <th>275052</th>\n",
       "      <td>0.122026</td>\n",
       "    </tr>\n",
       "    <tr>\n",
       "      <th>275053</th>\n",
       "      <td>0.190044</td>\n",
       "    </tr>\n",
       "    <tr>\n",
       "      <th>275054</th>\n",
       "      <td>0.066209</td>\n",
       "    </tr>\n",
       "    <tr>\n",
       "      <th>275055</th>\n",
       "      <td>0.397843</td>\n",
       "    </tr>\n",
       "    <tr>\n",
       "      <th>275056</th>\n",
       "      <td>0.468308</td>\n",
       "    </tr>\n",
       "  </tbody>\n",
       "</table>\n",
       "<p>110023 rows × 1 columns</p>\n",
       "</div>"
      ],
      "text/plain": [
       "          Exited\n",
       "id              \n",
       "165034  0.094278\n",
       "165035  0.953314\n",
       "165036  0.098446\n",
       "165037  0.466109\n",
       "165038  0.612698\n",
       "...          ...\n",
       "275052  0.122026\n",
       "275053  0.190044\n",
       "275054  0.066209\n",
       "275055  0.397843\n",
       "275056  0.468308\n",
       "\n",
       "[110023 rows x 1 columns]"
      ]
     },
     "execution_count": 31,
     "metadata": {},
     "output_type": "execute_result"
    }
   ],
   "source": [
    "submission"
   ]
  },
  {
   "cell_type": "code",
   "execution_count": 32,
   "id": "d93b07d8",
   "metadata": {},
   "outputs": [],
   "source": [
    "name = dt.now().strftime(\"%Y%m%d_%H%M\")"
   ]
  },
  {
   "cell_type": "code",
   "execution_count": 34,
   "id": "eed84da8",
   "metadata": {},
   "outputs": [],
   "source": [
    "submission.to_csv(f\"submission/{name}.csv\")"
   ]
  },
  {
   "cell_type": "code",
   "execution_count": null,
   "id": "e7ef458e",
   "metadata": {},
   "outputs": [],
   "source": []
  }
 ],
 "metadata": {
  "kernelspec": {
   "display_name": "Python 3",
   "language": "python",
   "name": "python3"
  },
  "language_info": {
   "codemirror_mode": {
    "name": "ipython",
    "version": 3
   },
   "file_extension": ".py",
   "mimetype": "text/x-python",
   "name": "python",
   "nbconvert_exporter": "python",
   "pygments_lexer": "ipython3",
   "version": "3.10.0"
  }
 },
 "nbformat": 4,
 "nbformat_minor": 5
}
