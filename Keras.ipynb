{
 "cells": [
  {
   "cell_type": "code",
   "execution_count": 200,
   "id": "initial_id",
   "metadata": {
    "collapsed": true,
    "is_executing": true
   },
   "outputs": [],
   "source": [
    "from datetime import datetime as dt\n",
    "from preprocessing import Preprocessing\n",
    "import pandas as pd\n",
    "import numpy as np\n",
    "from sklearn.model_selection import train_test_split, GridSearchCV\n",
    "from sklearn.utils import shuffle\n",
    "import matplotlib.pyplot as plt\n",
    "from sklearn.metrics import confusion_matrix, ConfusionMatrixDisplay, classification_report, roc_auc_score, RocCurveDisplay\n",
    "from imblearn.under_sampling import RandomUnderSampler"
   ]
  },
  {
   "cell_type": "code",
   "execution_count": 153,
   "id": "62b0fc85",
   "metadata": {},
   "outputs": [
    {
     "data": {
      "text/plain": [
       "[PhysicalDevice(name='/physical_device:CPU:0', device_type='CPU'),\n",
       " PhysicalDevice(name='/physical_device:GPU:0', device_type='GPU')]"
      ]
     },
     "execution_count": 153,
     "metadata": {},
     "output_type": "execute_result"
    }
   ],
   "source": [
    "import tensorflow as tf\n",
    "tf.config.list_physical_devices()"
   ]
  },
  {
   "cell_type": "code",
   "execution_count": 154,
   "id": "8d96dbd9",
   "metadata": {},
   "outputs": [],
   "source": [
    "from keras import Sequential\n",
    "from keras.layers import Dense, Dropout\n",
    "from keras.metrics import AUC\n",
    "from keras.optimizers.legacy import Adam\n",
    "from keras.callbacks import EarlyStopping\n",
    "from keras.losses import BinaryFocalCrossentropy"
   ]
  },
  {
   "cell_type": "markdown",
   "id": "35014792",
   "metadata": {},
   "source": [
    "# Preprocessing"
   ]
  },
  {
   "cell_type": "code",
   "execution_count": 155,
   "id": "eb5135aed6eafd16",
   "metadata": {
    "collapsed": false
   },
   "outputs": [],
   "source": [
    "col_drop = ['CustomerId','Surname']\n",
    "types = {\n",
    "    'HasCrCard':bool,\n",
    "    'IsActiveMember':bool\n",
    "}\n",
    "train = pd.read_csv('data/train.csv', index_col='id', dtype=types).drop(columns=col_drop)\n",
    "test = pd.read_csv('data/test.csv', index_col='id', dtype=types).drop(columns=col_drop)"
   ]
  },
  {
   "cell_type": "code",
   "execution_count": 156,
   "id": "b74cdea0",
   "metadata": {},
   "outputs": [
    {
     "data": {
      "text/plain": [
       "(165034, 11)"
      ]
     },
     "execution_count": 156,
     "metadata": {},
     "output_type": "execute_result"
    }
   ],
   "source": [
    "train.shape"
   ]
  },
  {
   "cell_type": "code",
   "execution_count": 196,
   "id": "4eb5e3b5",
   "metadata": {},
   "outputs": [],
   "source": [
    "X = train.drop(columns='Exited')\n",
    "y = train.Exited"
   ]
  },
  {
   "cell_type": "code",
   "execution_count": 197,
   "id": "8e8579c5",
   "metadata": {},
   "outputs": [],
   "source": [
    "X_train, X_test, y_train, y_test = train_test_split(X,y,stratify=y)"
   ]
  },
  {
   "cell_type": "code",
   "execution_count": 203,
   "id": "e5b3b52b",
   "metadata": {},
   "outputs": [],
   "source": [
    "rus = RandomUnderSampler(random_state=42)\n",
    "X_resampled, y_resampled = rus.fit_resample(X_train, y_train)"
   ]
  },
  {
   "cell_type": "code",
   "execution_count": 205,
   "id": "3cdbf7b1",
   "metadata": {},
   "outputs": [
    {
     "data": {
      "text/plain": [
       "Exited\n",
       "0    0.5\n",
       "1    0.5\n",
       "Name: proportion, dtype: float64"
      ]
     },
     "execution_count": 205,
     "metadata": {},
     "output_type": "execute_result"
    }
   ],
   "source": [
    "y_resampled.value_counts(True)"
   ]
  },
  {
   "cell_type": "code",
   "execution_count": 206,
   "id": "e56a9c8daf9db45c",
   "metadata": {
    "collapsed": false
   },
   "outputs": [],
   "source": [
    "prepro = Preprocessing()"
   ]
  },
  {
   "cell_type": "code",
   "execution_count": 207,
   "id": "8cd6f7cd",
   "metadata": {},
   "outputs": [],
   "source": [
    "X_train_scld = prepro.fit_transform(X_resampled).astype(float)\n",
    "X_test_scld = prepro.transform(X_test).astype(float)"
   ]
  },
  {
   "cell_type": "code",
   "execution_count": 161,
   "id": "b8129589",
   "metadata": {},
   "outputs": [
    {
     "data": {
      "text/html": [
       "<div>\n",
       "<style scoped>\n",
       "    .dataframe tbody tr th:only-of-type {\n",
       "        vertical-align: middle;\n",
       "    }\n",
       "\n",
       "    .dataframe tbody tr th {\n",
       "        vertical-align: top;\n",
       "    }\n",
       "\n",
       "    .dataframe thead th {\n",
       "        text-align: right;\n",
       "    }\n",
       "</style>\n",
       "<table border=\"1\" class=\"dataframe\">\n",
       "  <thead>\n",
       "    <tr style=\"text-align: right;\">\n",
       "      <th></th>\n",
       "      <th>CreditScore</th>\n",
       "      <th>Gender</th>\n",
       "      <th>Age</th>\n",
       "      <th>Tenure</th>\n",
       "      <th>Balance</th>\n",
       "      <th>NumOfProducts</th>\n",
       "      <th>HasCrCard</th>\n",
       "      <th>IsActiveMember</th>\n",
       "      <th>EstimatedSalary</th>\n",
       "      <th>Geography_France</th>\n",
       "      <th>Geography_Germany</th>\n",
       "      <th>Geography_Spain</th>\n",
       "    </tr>\n",
       "    <tr>\n",
       "      <th>id</th>\n",
       "      <th></th>\n",
       "      <th></th>\n",
       "      <th></th>\n",
       "      <th></th>\n",
       "      <th></th>\n",
       "      <th></th>\n",
       "      <th></th>\n",
       "      <th></th>\n",
       "      <th></th>\n",
       "      <th></th>\n",
       "      <th></th>\n",
       "      <th></th>\n",
       "    </tr>\n",
       "  </thead>\n",
       "  <tbody>\n",
       "    <tr>\n",
       "      <th>111990</th>\n",
       "      <td>0.544643</td>\n",
       "      <td>0.0</td>\n",
       "      <td>0.5</td>\n",
       "      <td>-1.00</td>\n",
       "      <td>0.965374</td>\n",
       "      <td>0.0</td>\n",
       "      <td>0.0</td>\n",
       "      <td>1.0</td>\n",
       "      <td>-0.185996</td>\n",
       "      <td>1.0</td>\n",
       "      <td>0.0</td>\n",
       "      <td>0.0</td>\n",
       "    </tr>\n",
       "    <tr>\n",
       "      <th>20302</th>\n",
       "      <td>0.142857</td>\n",
       "      <td>0.0</td>\n",
       "      <td>2.2</td>\n",
       "      <td>-0.25</td>\n",
       "      <td>0.000000</td>\n",
       "      <td>0.0</td>\n",
       "      <td>1.0</td>\n",
       "      <td>1.0</td>\n",
       "      <td>-0.311088</td>\n",
       "      <td>1.0</td>\n",
       "      <td>0.0</td>\n",
       "      <td>0.0</td>\n",
       "    </tr>\n",
       "    <tr>\n",
       "      <th>164200</th>\n",
       "      <td>-0.473214</td>\n",
       "      <td>1.0</td>\n",
       "      <td>-0.5</td>\n",
       "      <td>1.00</td>\n",
       "      <td>1.203104</td>\n",
       "      <td>0.0</td>\n",
       "      <td>1.0</td>\n",
       "      <td>0.0</td>\n",
       "      <td>0.727266</td>\n",
       "      <td>0.0</td>\n",
       "      <td>1.0</td>\n",
       "      <td>0.0</td>\n",
       "    </tr>\n",
       "    <tr>\n",
       "      <th>155007</th>\n",
       "      <td>-0.294643</td>\n",
       "      <td>0.0</td>\n",
       "      <td>0.2</td>\n",
       "      <td>1.00</td>\n",
       "      <td>1.401633</td>\n",
       "      <td>-1.0</td>\n",
       "      <td>1.0</td>\n",
       "      <td>0.0</td>\n",
       "      <td>-0.905207</td>\n",
       "      <td>1.0</td>\n",
       "      <td>0.0</td>\n",
       "      <td>0.0</td>\n",
       "    </tr>\n",
       "    <tr>\n",
       "      <th>147977</th>\n",
       "      <td>0.741071</td>\n",
       "      <td>1.0</td>\n",
       "      <td>0.0</td>\n",
       "      <td>-0.50</td>\n",
       "      <td>0.000000</td>\n",
       "      <td>0.0</td>\n",
       "      <td>1.0</td>\n",
       "      <td>1.0</td>\n",
       "      <td>0.048851</td>\n",
       "      <td>1.0</td>\n",
       "      <td>0.0</td>\n",
       "      <td>0.0</td>\n",
       "    </tr>\n",
       "    <tr>\n",
       "      <th>...</th>\n",
       "      <td>...</td>\n",
       "      <td>...</td>\n",
       "      <td>...</td>\n",
       "      <td>...</td>\n",
       "      <td>...</td>\n",
       "      <td>...</td>\n",
       "      <td>...</td>\n",
       "      <td>...</td>\n",
       "      <td>...</td>\n",
       "      <td>...</td>\n",
       "      <td>...</td>\n",
       "      <td>...</td>\n",
       "    </tr>\n",
       "    <tr>\n",
       "      <th>116984</th>\n",
       "      <td>1.026786</td>\n",
       "      <td>1.0</td>\n",
       "      <td>-0.6</td>\n",
       "      <td>-0.75</td>\n",
       "      <td>0.000000</td>\n",
       "      <td>0.0</td>\n",
       "      <td>1.0</td>\n",
       "      <td>1.0</td>\n",
       "      <td>-0.787107</td>\n",
       "      <td>1.0</td>\n",
       "      <td>0.0</td>\n",
       "      <td>0.0</td>\n",
       "    </tr>\n",
       "    <tr>\n",
       "      <th>132666</th>\n",
       "      <td>0.482143</td>\n",
       "      <td>1.0</td>\n",
       "      <td>-0.5</td>\n",
       "      <td>0.75</td>\n",
       "      <td>0.647069</td>\n",
       "      <td>-1.0</td>\n",
       "      <td>0.0</td>\n",
       "      <td>1.0</td>\n",
       "      <td>0.563358</td>\n",
       "      <td>1.0</td>\n",
       "      <td>0.0</td>\n",
       "      <td>0.0</td>\n",
       "    </tr>\n",
       "    <tr>\n",
       "      <th>41759</th>\n",
       "      <td>-0.348214</td>\n",
       "      <td>1.0</td>\n",
       "      <td>0.5</td>\n",
       "      <td>-0.50</td>\n",
       "      <td>0.000000</td>\n",
       "      <td>0.0</td>\n",
       "      <td>0.0</td>\n",
       "      <td>1.0</td>\n",
       "      <td>0.165653</td>\n",
       "      <td>1.0</td>\n",
       "      <td>0.0</td>\n",
       "      <td>0.0</td>\n",
       "    </tr>\n",
       "    <tr>\n",
       "      <th>108471</th>\n",
       "      <td>-0.410714</td>\n",
       "      <td>0.0</td>\n",
       "      <td>0.2</td>\n",
       "      <td>0.00</td>\n",
       "      <td>0.000000</td>\n",
       "      <td>0.0</td>\n",
       "      <td>1.0</td>\n",
       "      <td>0.0</td>\n",
       "      <td>0.590608</td>\n",
       "      <td>1.0</td>\n",
       "      <td>0.0</td>\n",
       "      <td>0.0</td>\n",
       "    </tr>\n",
       "    <tr>\n",
       "      <th>47409</th>\n",
       "      <td>0.294643</td>\n",
       "      <td>0.0</td>\n",
       "      <td>0.1</td>\n",
       "      <td>0.75</td>\n",
       "      <td>0.000000</td>\n",
       "      <td>0.0</td>\n",
       "      <td>1.0</td>\n",
       "      <td>1.0</td>\n",
       "      <td>0.503566</td>\n",
       "      <td>1.0</td>\n",
       "      <td>0.0</td>\n",
       "      <td>0.0</td>\n",
       "    </tr>\n",
       "  </tbody>\n",
       "</table>\n",
       "<p>123775 rows × 12 columns</p>\n",
       "</div>"
      ],
      "text/plain": [
       "        CreditScore  Gender  Age  Tenure   Balance  NumOfProducts  HasCrCard  \\\n",
       "id                                                                             \n",
       "111990     0.544643     0.0  0.5   -1.00  0.965374            0.0        0.0   \n",
       "20302      0.142857     0.0  2.2   -0.25  0.000000            0.0        1.0   \n",
       "164200    -0.473214     1.0 -0.5    1.00  1.203104            0.0        1.0   \n",
       "155007    -0.294643     0.0  0.2    1.00  1.401633           -1.0        1.0   \n",
       "147977     0.741071     1.0  0.0   -0.50  0.000000            0.0        1.0   \n",
       "...             ...     ...  ...     ...       ...            ...        ...   \n",
       "116984     1.026786     1.0 -0.6   -0.75  0.000000            0.0        1.0   \n",
       "132666     0.482143     1.0 -0.5    0.75  0.647069           -1.0        0.0   \n",
       "41759     -0.348214     1.0  0.5   -0.50  0.000000            0.0        0.0   \n",
       "108471    -0.410714     0.0  0.2    0.00  0.000000            0.0        1.0   \n",
       "47409      0.294643     0.0  0.1    0.75  0.000000            0.0        1.0   \n",
       "\n",
       "        IsActiveMember  EstimatedSalary  Geography_France  Geography_Germany  \\\n",
       "id                                                                             \n",
       "111990             1.0        -0.185996               1.0                0.0   \n",
       "20302              1.0        -0.311088               1.0                0.0   \n",
       "164200             0.0         0.727266               0.0                1.0   \n",
       "155007             0.0        -0.905207               1.0                0.0   \n",
       "147977             1.0         0.048851               1.0                0.0   \n",
       "...                ...              ...               ...                ...   \n",
       "116984             1.0        -0.787107               1.0                0.0   \n",
       "132666             1.0         0.563358               1.0                0.0   \n",
       "41759              1.0         0.165653               1.0                0.0   \n",
       "108471             0.0         0.590608               1.0                0.0   \n",
       "47409              1.0         0.503566               1.0                0.0   \n",
       "\n",
       "        Geography_Spain  \n",
       "id                       \n",
       "111990              0.0  \n",
       "20302               0.0  \n",
       "164200              0.0  \n",
       "155007              0.0  \n",
       "147977              0.0  \n",
       "...                 ...  \n",
       "116984              0.0  \n",
       "132666              0.0  \n",
       "41759               0.0  \n",
       "108471              0.0  \n",
       "47409               0.0  \n",
       "\n",
       "[123775 rows x 12 columns]"
      ]
     },
     "execution_count": 161,
     "metadata": {},
     "output_type": "execute_result"
    }
   ],
   "source": [
    "X_train_scld"
   ]
  },
  {
   "cell_type": "markdown",
   "id": "037d6c18",
   "metadata": {},
   "source": [
    "# Model"
   ]
  },
  {
   "cell_type": "code",
   "execution_count": 208,
   "id": "0c49222b",
   "metadata": {},
   "outputs": [
    {
     "data": {
      "text/plain": [
       "(52382, 12)"
      ]
     },
     "execution_count": 208,
     "metadata": {},
     "output_type": "execute_result"
    }
   ],
   "source": [
    "X_train_scld.shape"
   ]
  },
  {
   "cell_type": "code",
   "execution_count": 220,
   "id": "920dbcbd",
   "metadata": {},
   "outputs": [
    {
     "name": "stdout",
     "output_type": "stream",
     "text": [
      "Model: \"BankChurn\"\n",
      "_________________________________________________________________\n",
      " Layer (type)                Output Shape              Param #   \n",
      "=================================================================\n",
      " Dense1 (Dense)              (None, 16)                208       \n",
      "                                                                 \n",
      " Dropout1 (Dropout)          (None, 16)                0         \n",
      "                                                                 \n",
      " Dense2 (Dense)              (None, 8)                 136       \n",
      "                                                                 \n",
      " Dropout2 (Dropout)          (None, 8)                 0         \n",
      "                                                                 \n",
      " Dense3 (Dense)              (None, 4)                 36        \n",
      "                                                                 \n",
      " Output (Dense)              (None, 1)                 5         \n",
      "                                                                 \n",
      "=================================================================\n",
      "Total params: 385 (1.50 KB)\n",
      "Trainable params: 385 (1.50 KB)\n",
      "Non-trainable params: 0 (0.00 Byte)\n",
      "_________________________________________________________________\n"
     ]
    }
   ],
   "source": [
    "model = Sequential(name=\"BankChurn\")\n",
    "model.add(Dense(units=16, activation='relu',kernel_initializer='he_normal', input_dim=12, name=\"Dense1\"))\n",
    "model.add(Dropout(0.1, name=\"Dropout1\"))\n",
    "model.add(Dense(units=8, activation='relu',kernel_initializer='he_normal',name=\"Dense2\"))\n",
    "model.add(Dropout(0.1, name=\"Dropout2\"))\n",
    "model.add(Dense(units=4, activation='relu',kernel_initializer='he_normal',name=\"Dense3\"))\n",
    "\n",
    "model.add(Dense(units=1, activation='sigmoid',kernel_initializer='glorot_uniform',  name=\"Output\"))\n",
    "\n",
    "\n",
    "\n",
    "model.compile(\n",
    "    optimizer=Adam(learning_rate=1e-6),\n",
    "    loss=BinaryFocalCrossentropy(),\n",
    "    metrics=['accuracy']\n",
    "    )\n",
    "model.summary()"
   ]
  },
  {
   "cell_type": "code",
   "execution_count": 222,
   "id": "4540c394",
   "metadata": {},
   "outputs": [
    {
     "name": "stdout",
     "output_type": "stream",
     "text": [
      "Epoch 1/100\n",
      "1310/1310 [==============================] - 13s 10ms/step - loss: 1.1264 - accuracy: 0.3899 - val_loss: 0.1050 - val_accuracy: 0.8627\n",
      "Epoch 2/100\n",
      "1310/1310 [==============================] - 12s 9ms/step - loss: 1.0874 - accuracy: 0.3894 - val_loss: 0.1080 - val_accuracy: 0.8572\n",
      "Epoch 3/100\n",
      "1310/1310 [==============================] - 12s 9ms/step - loss: 1.0415 - accuracy: 0.3937 - val_loss: 0.1112 - val_accuracy: 0.8522\n",
      "Epoch 4/100\n",
      "1310/1310 [==============================] - 12s 9ms/step - loss: 0.9984 - accuracy: 0.3951 - val_loss: 0.1144 - val_accuracy: 0.8462\n",
      "Epoch 5/100\n",
      "1310/1310 [==============================] - 12s 9ms/step - loss: 0.9544 - accuracy: 0.3994 - val_loss: 0.1178 - val_accuracy: 0.8407\n",
      "Epoch 6/100\n",
      "1310/1310 [==============================] - 12s 9ms/step - loss: 0.9211 - accuracy: 0.4002 - val_loss: 0.1213 - val_accuracy: 0.8336\n",
      "Epoch 7/100\n",
      "1310/1310 [==============================] - 12s 9ms/step - loss: 0.8784 - accuracy: 0.4025 - val_loss: 0.1250 - val_accuracy: 0.8263\n",
      "Epoch 8/100\n",
      "1310/1310 [==============================] - 12s 9ms/step - loss: 0.8420 - accuracy: 0.4050 - val_loss: 0.1287 - val_accuracy: 0.8187\n",
      "Epoch 9/100\n",
      "1310/1310 [==============================] - 12s 9ms/step - loss: 0.8043 - accuracy: 0.4080 - val_loss: 0.1326 - val_accuracy: 0.8123\n",
      "Epoch 10/100\n",
      "1310/1310 [==============================] - 12s 9ms/step - loss: 0.7734 - accuracy: 0.4116 - val_loss: 0.1367 - val_accuracy: 0.8046\n",
      "Epoch 11/100\n",
      "1310/1310 [==============================] - 12s 9ms/step - loss: 0.7375 - accuracy: 0.4149 - val_loss: 0.1411 - val_accuracy: 0.7968\n",
      "Epoch 12/100\n",
      "1310/1310 [==============================] - 12s 9ms/step - loss: 0.7036 - accuracy: 0.4192 - val_loss: 0.1455 - val_accuracy: 0.7882\n",
      "Epoch 13/100\n",
      "1310/1310 [==============================] - 13s 10ms/step - loss: 0.6722 - accuracy: 0.4246 - val_loss: 0.1502 - val_accuracy: 0.7786\n",
      "Epoch 14/100\n",
      "1310/1310 [==============================] - 13s 10ms/step - loss: 0.6426 - accuracy: 0.4265 - val_loss: 0.1550 - val_accuracy: 0.7686\n",
      "Epoch 15/100\n",
      "1310/1310 [==============================] - 13s 10ms/step - loss: 0.6153 - accuracy: 0.4299 - val_loss: 0.1602 - val_accuracy: 0.7597\n",
      "Epoch 16/100\n",
      "1310/1310 [==============================] - 13s 10ms/step - loss: 0.5815 - accuracy: 0.4354 - val_loss: 0.1655 - val_accuracy: 0.7490\n",
      "Epoch 17/100\n",
      "1310/1310 [==============================] - 13s 10ms/step - loss: 0.5578 - accuracy: 0.4377 - val_loss: 0.1710 - val_accuracy: 0.7375\n",
      "Epoch 18/100\n",
      "1310/1310 [==============================] - 13s 10ms/step - loss: 0.5300 - accuracy: 0.4457 - val_loss: 0.1767 - val_accuracy: 0.7244\n",
      "Epoch 19/100\n",
      "1310/1310 [==============================] - 13s 10ms/step - loss: 0.5089 - accuracy: 0.4527 - val_loss: 0.1826 - val_accuracy: 0.7118\n",
      "Epoch 20/100\n",
      "1310/1310 [==============================] - 13s 10ms/step - loss: 0.4829 - accuracy: 0.4550 - val_loss: 0.1888 - val_accuracy: 0.7000\n",
      "Epoch 21/100\n",
      "1310/1310 [==============================] - 13s 10ms/step - loss: 0.4625 - accuracy: 0.4612 - val_loss: 0.1954 - val_accuracy: 0.6864\n",
      "Epoch 22/100\n",
      "1310/1310 [==============================] - 13s 10ms/step - loss: 0.4443 - accuracy: 0.4645 - val_loss: 0.2022 - val_accuracy: 0.6740\n",
      "Epoch 23/100\n",
      "1310/1310 [==============================] - 13s 10ms/step - loss: 0.4232 - accuracy: 0.4753 - val_loss: 0.2092 - val_accuracy: 0.6601\n",
      "Epoch 24/100\n",
      "1310/1310 [==============================] - 12s 9ms/step - loss: 0.4071 - accuracy: 0.4793 - val_loss: 0.2165 - val_accuracy: 0.6465\n",
      "Epoch 25/100\n",
      "1310/1310 [==============================] - 13s 10ms/step - loss: 0.3900 - accuracy: 0.4846 - val_loss: 0.2240 - val_accuracy: 0.6338\n",
      "Epoch 26/100\n",
      "1310/1310 [==============================] - 12s 9ms/step - loss: 0.3741 - accuracy: 0.4942 - val_loss: 0.2317 - val_accuracy: 0.6173\n",
      "Epoch 27/100\n",
      "1310/1310 [==============================] - 12s 9ms/step - loss: 0.3621 - accuracy: 0.5007 - val_loss: 0.2400 - val_accuracy: 0.6008\n",
      "Epoch 28/100\n",
      "1310/1310 [==============================] - 12s 9ms/step - loss: 0.3492 - accuracy: 0.5070 - val_loss: 0.2483 - val_accuracy: 0.5863\n",
      "Epoch 29/100\n",
      "1310/1310 [==============================] - 12s 9ms/step - loss: 0.3375 - accuracy: 0.5143 - val_loss: 0.2569 - val_accuracy: 0.5707\n",
      "Epoch 30/100\n",
      "1310/1310 [==============================] - 12s 9ms/step - loss: 0.3271 - accuracy: 0.5246 - val_loss: 0.2657 - val_accuracy: 0.5540\n",
      "Epoch 31/100\n",
      "1310/1310 [==============================] - 12s 9ms/step - loss: 0.3206 - accuracy: 0.5271 - val_loss: 0.2748 - val_accuracy: 0.5362\n",
      "Epoch 32/100\n",
      "1310/1310 [==============================] - 12s 9ms/step - loss: 0.3064 - accuracy: 0.5397 - val_loss: 0.2840 - val_accuracy: 0.5169\n",
      "Epoch 33/100\n",
      "1310/1310 [==============================] - 12s 9ms/step - loss: 0.3037 - accuracy: 0.5449 - val_loss: 0.2935 - val_accuracy: 0.5016\n",
      "Epoch 34/100\n",
      "1310/1310 [==============================] - 12s 9ms/step - loss: 0.2948 - accuracy: 0.5514 - val_loss: 0.3030 - val_accuracy: 0.4836\n",
      "Epoch 35/100\n",
      "1310/1310 [==============================] - 13s 10ms/step - loss: 0.2877 - accuracy: 0.5613 - val_loss: 0.3125 - val_accuracy: 0.4665\n",
      "Epoch 36/100\n",
      "1310/1310 [==============================] - 12s 9ms/step - loss: 0.2836 - accuracy: 0.5687 - val_loss: 0.3220 - val_accuracy: 0.4479\n",
      "Epoch 37/100\n",
      "1310/1310 [==============================] - 12s 9ms/step - loss: 0.2792 - accuracy: 0.5752 - val_loss: 0.3313 - val_accuracy: 0.4311\n",
      "Epoch 38/100\n",
      "1310/1310 [==============================] - 12s 9ms/step - loss: 0.2744 - accuracy: 0.5867 - val_loss: 0.3406 - val_accuracy: 0.4150\n",
      "Epoch 39/100\n",
      "1310/1310 [==============================] - 12s 9ms/step - loss: 0.2722 - accuracy: 0.5886 - val_loss: 0.3500 - val_accuracy: 0.3959\n",
      "Epoch 40/100\n",
      "1310/1310 [==============================] - 12s 9ms/step - loss: 0.2676 - accuracy: 0.5953 - val_loss: 0.3588 - val_accuracy: 0.3790\n",
      "Epoch 41/100\n",
      "1310/1310 [==============================] - 12s 9ms/step - loss: 0.2669 - accuracy: 0.6039 - val_loss: 0.3673 - val_accuracy: 0.3629\n",
      "Epoch 42/100\n",
      "1310/1310 [==============================] - 12s 9ms/step - loss: 0.2676 - accuracy: 0.6060 - val_loss: 0.3756 - val_accuracy: 0.3480\n",
      "Epoch 43/100\n",
      "1310/1310 [==============================] - 12s 9ms/step - loss: 0.2637 - accuracy: 0.6127 - val_loss: 0.3838 - val_accuracy: 0.3335\n",
      "Epoch 44/100\n",
      "1310/1310 [==============================] - 12s 9ms/step - loss: 0.2618 - accuracy: 0.6157 - val_loss: 0.3911 - val_accuracy: 0.3200\n",
      "Epoch 45/100\n",
      "1310/1310 [==============================] - 12s 9ms/step - loss: 0.2625 - accuracy: 0.6210 - val_loss: 0.3983 - val_accuracy: 0.3054\n",
      "Epoch 46/100\n",
      "1310/1310 [==============================] - 12s 9ms/step - loss: 0.2612 - accuracy: 0.6230 - val_loss: 0.4051 - val_accuracy: 0.2925\n",
      "Epoch 47/100\n",
      "1310/1310 [==============================] - 12s 9ms/step - loss: 0.2596 - accuracy: 0.6268 - val_loss: 0.4117 - val_accuracy: 0.2822\n",
      "Epoch 48/100\n",
      "1310/1310 [==============================] - 12s 9ms/step - loss: 0.2589 - accuracy: 0.6304 - val_loss: 0.4176 - val_accuracy: 0.2728\n",
      "Epoch 49/100\n",
      "1310/1310 [==============================] - 12s 10ms/step - loss: 0.2619 - accuracy: 0.6314 - val_loss: 0.4232 - val_accuracy: 0.2634\n",
      "Epoch 50/100\n",
      "1310/1310 [==============================] - 12s 9ms/step - loss: 0.2608 - accuracy: 0.6298 - val_loss: 0.4286 - val_accuracy: 0.2547\n",
      "Epoch 51/100\n",
      "1310/1310 [==============================] - 12s 9ms/step - loss: 0.2586 - accuracy: 0.6323 - val_loss: 0.4333 - val_accuracy: 0.2462\n",
      "Epoch 52/100\n",
      "1310/1310 [==============================] - 13s 10ms/step - loss: 0.2590 - accuracy: 0.6362 - val_loss: 0.4374 - val_accuracy: 0.2405\n",
      "Epoch 53/100\n",
      "1310/1310 [==============================] - 12s 9ms/step - loss: 0.2569 - accuracy: 0.6399 - val_loss: 0.4414 - val_accuracy: 0.2335\n",
      "Epoch 54/100\n",
      "1310/1310 [==============================] - 13s 10ms/step - loss: 0.2569 - accuracy: 0.6382 - val_loss: 0.4451 - val_accuracy: 0.2273\n",
      "Epoch 55/100\n",
      "1310/1310 [==============================] - 13s 10ms/step - loss: 0.2559 - accuracy: 0.6421 - val_loss: 0.4485 - val_accuracy: 0.2226\n",
      "Epoch 56/100\n",
      "1310/1310 [==============================] - 13s 10ms/step - loss: 0.2556 - accuracy: 0.6424 - val_loss: 0.4516 - val_accuracy: 0.2177\n",
      "Epoch 57/100\n",
      "1310/1310 [==============================] - 13s 10ms/step - loss: 0.2556 - accuracy: 0.6439 - val_loss: 0.4543 - val_accuracy: 0.2137\n",
      "Epoch 58/100\n",
      "1310/1310 [==============================] - 12s 10ms/step - loss: 0.2542 - accuracy: 0.6435 - val_loss: 0.4567 - val_accuracy: 0.2091\n",
      "Epoch 59/100\n",
      "1310/1310 [==============================] - 13s 10ms/step - loss: 0.2556 - accuracy: 0.6460 - val_loss: 0.4590 - val_accuracy: 0.2059\n",
      "Epoch 60/100\n",
      "1310/1310 [==============================] - 13s 10ms/step - loss: 0.2530 - accuracy: 0.6459 - val_loss: 0.4609 - val_accuracy: 0.2021\n",
      "Epoch 61/100\n",
      "1310/1310 [==============================] - 12s 9ms/step - loss: 0.2555 - accuracy: 0.6467 - val_loss: 0.4630 - val_accuracy: 0.1964\n",
      "Epoch 62/100\n",
      "1310/1310 [==============================] - 13s 10ms/step - loss: 0.2548 - accuracy: 0.6470 - val_loss: 0.4643 - val_accuracy: 0.1936\n",
      "Epoch 63/100\n",
      "1310/1310 [==============================] - 13s 10ms/step - loss: 0.2537 - accuracy: 0.6495 - val_loss: 0.4657 - val_accuracy: 0.1900\n",
      "Epoch 64/100\n",
      "1310/1310 [==============================] - 13s 10ms/step - loss: 0.2531 - accuracy: 0.6493 - val_loss: 0.4665 - val_accuracy: 0.1876\n",
      "Epoch 65/100\n",
      "1310/1310 [==============================] - 12s 9ms/step - loss: 0.2517 - accuracy: 0.6497 - val_loss: 0.4672 - val_accuracy: 0.1863\n",
      "Epoch 66/100\n",
      "1310/1310 [==============================] - 13s 10ms/step - loss: 0.2504 - accuracy: 0.6505 - val_loss: 0.4679 - val_accuracy: 0.1845\n",
      "Epoch 67/100\n",
      "1310/1310 [==============================] - 12s 9ms/step - loss: 0.2530 - accuracy: 0.6498 - val_loss: 0.4683 - val_accuracy: 0.1824\n",
      "Epoch 68/100\n",
      "1310/1310 [==============================] - 13s 10ms/step - loss: 0.2486 - accuracy: 0.6494 - val_loss: 0.4689 - val_accuracy: 0.1806\n",
      "Epoch 69/100\n",
      "1310/1310 [==============================] - 13s 10ms/step - loss: 0.2522 - accuracy: 0.6512 - val_loss: 0.4694 - val_accuracy: 0.1789\n",
      "Epoch 70/100\n",
      "1310/1310 [==============================] - 13s 10ms/step - loss: 0.2498 - accuracy: 0.6527 - val_loss: 0.4696 - val_accuracy: 0.1775\n",
      "Epoch 71/100\n",
      "1310/1310 [==============================] - 12s 9ms/step - loss: 0.2502 - accuracy: 0.6495 - val_loss: 0.4697 - val_accuracy: 0.1748\n",
      "Epoch 72/100\n",
      "1310/1310 [==============================] - 12s 9ms/step - loss: 0.2488 - accuracy: 0.6523 - val_loss: 0.4698 - val_accuracy: 0.1727\n",
      "Epoch 73/100\n",
      "1310/1310 [==============================] - 12s 10ms/step - loss: 0.2518 - accuracy: 0.6536 - val_loss: 0.4700 - val_accuracy: 0.1706\n",
      "Epoch 74/100\n",
      "1310/1310 [==============================] - 13s 10ms/step - loss: 0.2492 - accuracy: 0.6535 - val_loss: 0.4692 - val_accuracy: 0.1708\n",
      "Epoch 75/100\n",
      "1310/1310 [==============================] - 13s 10ms/step - loss: 0.2495 - accuracy: 0.6535 - val_loss: 0.4687 - val_accuracy: 0.1707\n",
      "Epoch 76/100\n",
      "1310/1310 [==============================] - 13s 10ms/step - loss: 0.2445 - accuracy: 0.6566 - val_loss: 0.4683 - val_accuracy: 0.1701\n",
      "Epoch 77/100\n",
      "1310/1310 [==============================] - 13s 10ms/step - loss: 0.2469 - accuracy: 0.6554 - val_loss: 0.4677 - val_accuracy: 0.1701\n",
      "Epoch 78/100\n",
      "1310/1310 [==============================] - 13s 10ms/step - loss: 0.2455 - accuracy: 0.6576 - val_loss: 0.4669 - val_accuracy: 0.1701\n",
      "Epoch 79/100\n",
      "1310/1310 [==============================] - 13s 10ms/step - loss: 0.2415 - accuracy: 0.6583 - val_loss: 0.4657 - val_accuracy: 0.1702\n",
      "Epoch 80/100\n",
      "1310/1310 [==============================] - 13s 10ms/step - loss: 0.2432 - accuracy: 0.6580 - val_loss: 0.4646 - val_accuracy: 0.1709\n",
      "Epoch 81/100\n",
      "1310/1310 [==============================] - 13s 10ms/step - loss: 0.2437 - accuracy: 0.6579 - val_loss: 0.4636 - val_accuracy: 0.1708\n",
      "Epoch 82/100\n",
      "1310/1310 [==============================] - 14s 10ms/step - loss: 0.2406 - accuracy: 0.6594 - val_loss: 0.4621 - val_accuracy: 0.1716\n",
      "Epoch 83/100\n",
      "1310/1310 [==============================] - 14s 10ms/step - loss: 0.2403 - accuracy: 0.6580 - val_loss: 0.4610 - val_accuracy: 0.1714\n",
      "Epoch 84/100\n",
      "1310/1310 [==============================] - 14s 11ms/step - loss: 0.2404 - accuracy: 0.6583 - val_loss: 0.4596 - val_accuracy: 0.1719\n",
      "Epoch 85/100\n",
      "1310/1310 [==============================] - 14s 11ms/step - loss: 0.2399 - accuracy: 0.6562 - val_loss: 0.4584 - val_accuracy: 0.1723\n",
      "Epoch 86/100\n",
      "1310/1310 [==============================] - 14s 11ms/step - loss: 0.2362 - accuracy: 0.6618 - val_loss: 0.4567 - val_accuracy: 0.1735\n",
      "Epoch 87/100\n",
      "1310/1310 [==============================] - 14s 11ms/step - loss: 0.2375 - accuracy: 0.6615 - val_loss: 0.4552 - val_accuracy: 0.1740\n",
      "Epoch 88/100\n",
      "1310/1310 [==============================] - 14s 11ms/step - loss: 0.2368 - accuracy: 0.6599 - val_loss: 0.4539 - val_accuracy: 0.1751\n",
      "Epoch 89/100\n",
      "1310/1310 [==============================] - 14s 11ms/step - loss: 0.2354 - accuracy: 0.6621 - val_loss: 0.4522 - val_accuracy: 0.1771\n",
      "Epoch 90/100\n",
      "1310/1310 [==============================] - 14s 11ms/step - loss: 0.2354 - accuracy: 0.6609 - val_loss: 0.4505 - val_accuracy: 0.1778\n",
      "Epoch 91/100\n",
      "1310/1310 [==============================] - 14s 11ms/step - loss: 0.2351 - accuracy: 0.6617 - val_loss: 0.4490 - val_accuracy: 0.1783\n",
      "Epoch 92/100\n",
      "1310/1310 [==============================] - 14s 11ms/step - loss: 0.2341 - accuracy: 0.6614 - val_loss: 0.4470 - val_accuracy: 0.1790\n",
      "Epoch 93/100\n",
      "1310/1310 [==============================] - 14s 10ms/step - loss: 0.2313 - accuracy: 0.6598 - val_loss: 0.4456 - val_accuracy: 0.1785\n",
      "Epoch 94/100\n",
      "1310/1310 [==============================] - 14s 10ms/step - loss: 0.2314 - accuracy: 0.6637 - val_loss: 0.4441 - val_accuracy: 0.1793\n",
      "Epoch 95/100\n",
      "1310/1310 [==============================] - 14s 11ms/step - loss: 0.2305 - accuracy: 0.6641 - val_loss: 0.4419 - val_accuracy: 0.1803\n",
      "Epoch 96/100\n",
      "1310/1310 [==============================] - 14s 11ms/step - loss: 0.2287 - accuracy: 0.6643 - val_loss: 0.4401 - val_accuracy: 0.1813\n",
      "Epoch 97/100\n",
      "1310/1310 [==============================] - 14s 11ms/step - loss: 0.2273 - accuracy: 0.6674 - val_loss: 0.4377 - val_accuracy: 0.1836\n",
      "Epoch 98/100\n",
      "1310/1310 [==============================] - 14s 10ms/step - loss: 0.2284 - accuracy: 0.6645 - val_loss: 0.4356 - val_accuracy: 0.1851\n",
      "Epoch 99/100\n",
      "1310/1310 [==============================] - 14s 10ms/step - loss: 0.2275 - accuracy: 0.6615 - val_loss: 0.4339 - val_accuracy: 0.1865\n",
      "Epoch 100/100\n",
      "1310/1310 [==============================] - 13s 10ms/step - loss: 0.2247 - accuracy: 0.6676 - val_loss: 0.4321 - val_accuracy: 0.1876\n"
     ]
    }
   ],
   "source": [
    "early_stopping = EarlyStopping(monitor='val_accuracy', patience=10, restore_best_weights=True)\n",
    "\n",
    "history = model.fit(\n",
    "    X_train_scld.values,\n",
    "    y_resampled.values,\n",
    "    epochs=100,\n",
    "    batch_size=32,\n",
    "    validation_split=0.2,\n",
    "    #callbacks=[early_stopping]\n",
    "    )"
   ]
  },
  {
   "cell_type": "code",
   "execution_count": 223,
   "id": "3c72e481",
   "metadata": {},
   "outputs": [],
   "source": [
    "def plot_history(history):\n",
    "    x = range(1, len(history.history['accuracy']) + 1)\n",
    "    \n",
    "    plt.figure(figsize=(12, 5))\n",
    "    plt.subplot(1, 2, 1)\n",
    "    plt.plot(history.history['accuracy'], 'b', label='Training accuracy')\n",
    "    plt.plot(history.history['val_accuracy'],'r', label='Validation accuracy')\n",
    "    plt.title('Training and validation auc')\n",
    "    plt.legend()\n",
    "    \n",
    "    plt.subplot(1, 2, 2)\n",
    "    plt.plot(history.history['loss'], 'b', label='Training loss')\n",
    "    plt.plot(history.history['val_loss'], 'r', label='Validation loss')\n",
    "    plt.title('Training and validation loss')\n",
    "    plt.legend()"
   ]
  },
  {
   "cell_type": "code",
   "execution_count": 224,
   "id": "f0825044",
   "metadata": {},
   "outputs": [
    {
     "data": {
      "image/png": "[encoded data removed]",
      "text/plain": [
       "<Figure size 1200x500 with 2 Axes>"
      ]
     },
     "metadata": {},
     "output_type": "display_data"
    }
   ],
   "source": [
    "plot_history(history)"
   ]
  },
  {
   "cell_type": "code",
   "execution_count": 216,
   "id": "f1dc2455",
   "metadata": {},
   "outputs": [
    {
     "name": "stdout",
     "output_type": "stream",
     "text": [
      "1290/1290 [==============================] - 2s 1ms/step\n"
     ]
    }
   ],
   "source": [
    "pred = model.predict(X_test_scld.values)"
   ]
  },
  {
   "cell_type": "code",
   "execution_count": 217,
   "id": "cc143a09",
   "metadata": {},
   "outputs": [
    {
     "data": {
      "text/plain": [
       "array([0.86408466, 0.8944931 , 0.73961854, ..., 0.93336153, 0.7735832 ,\n",
       "       0.546144  ], dtype=float32)"
      ]
     },
     "execution_count": 217,
     "metadata": {},
     "output_type": "execute_result"
    }
   ],
   "source": [
    "pred[:,0]"
   ]
  },
  {
   "cell_type": "markdown",
   "id": "a08721bb",
   "metadata": {},
   "source": [
    "# Score"
   ]
  },
  {
   "cell_type": "code",
   "execution_count": 218,
   "id": "f51ca946",
   "metadata": {},
   "outputs": [
    {
     "name": "stdout",
     "output_type": "stream",
     "text": [
      "Roc Auc Score : 0.239801\n"
     ]
    }
   ],
   "source": [
    "RocScore  = roc_auc_score(y_test, pred[:,0])\n",
    "print(f'Roc Auc Score : {RocScore:.6f}')"
   ]
  },
  {
   "cell_type": "code",
   "execution_count": 219,
   "id": "52426c95",
   "metadata": {},
   "outputs": [
    {
     "data": {
      "text/plain": [
       "<sklearn.metrics._plot.roc_curve.RocCurveDisplay at 0x3e6d22ed0>"
      ]
     },
     "execution_count": 219,
     "metadata": {},
     "output_type": "execute_result"
    },
    {
     "data": {
      "image/png": "[encoded data removed]",
      "text/plain": [
       "<Figure size 640x480 with 1 Axes>"
      ]
     },
     "metadata": {},
     "output_type": "display_data"
    }
   ],
   "source": [
    "RocCurveDisplay.from_predictions(y_test,pred)"
   ]
  },
  {
   "cell_type": "code",
   "execution_count": null,
   "id": "2cc9c801",
   "metadata": {},
   "outputs": [],
   "source": [
    "ConfusionMatrixDisplay(confusion_matrix(y_test,pred[:,0]>0.5))"
   ]
  },
  {
   "cell_type": "markdown",
   "id": "b880f7fb",
   "metadata": {},
   "source": [
    "# Submission"
   ]
  },
  {
   "cell_type": "code",
   "execution_count": null,
   "id": "9393658a",
   "metadata": {},
   "outputs": [],
   "source": [
    "X_val_scld = prepro.transform(test)"
   ]
  },
  {
   "cell_type": "code",
   "execution_count": null,
   "id": "b927754e",
   "metadata": {},
   "outputs": [],
   "source": [
    "submission = pd.read_csv(\"data/sample_submission.csv\", index_col='id')"
   ]
  },
  {
   "cell_type": "code",
   "execution_count": null,
   "id": "ae796018",
   "metadata": {},
   "outputs": [
    {
     "name": "stderr",
     "output_type": "stream",
     "text": [
      "/Users/marc/Library/Mobile Documents/com~apple~CloudDocs/Projects/Playground/playgroundseries_s4e1/.venv/lib/python3.10/site-packages/sklearn/base.py:458: UserWarning: X has feature names, but MLPClassifier was fitted without feature names\n",
      "  warnings.warn(\n"
     ]
    }
   ],
   "source": [
    "submission.loc[:,'Exited'] = nn.predict_proba(X_val_scld)[:,1]"
   ]
  },
  {
   "cell_type": "code",
   "execution_count": null,
   "id": "6ec16618",
   "metadata": {},
   "outputs": [
    {
     "data": {
      "text/html": [
       "<div>\n",
       "<style scoped>\n",
       "    .dataframe tbody tr th:only-of-type {\n",
       "        vertical-align: middle;\n",
       "    }\n",
       "\n",
       "    .dataframe tbody tr th {\n",
       "        vertical-align: top;\n",
       "    }\n",
       "\n",
       "    .dataframe thead th {\n",
       "        text-align: right;\n",
       "    }\n",
       "</style>\n",
       "<table border=\"1\" class=\"dataframe\">\n",
       "  <thead>\n",
       "    <tr style=\"text-align: right;\">\n",
       "      <th></th>\n",
       "      <th>Exited</th>\n",
       "    </tr>\n",
       "    <tr>\n",
       "      <th>id</th>\n",
       "      <th></th>\n",
       "    </tr>\n",
       "  </thead>\n",
       "  <tbody>\n",
       "    <tr>\n",
       "      <th>165034</th>\n",
       "      <td>0.085936</td>\n",
       "    </tr>\n",
       "    <tr>\n",
       "      <th>165035</th>\n",
       "      <td>0.947197</td>\n",
       "    </tr>\n",
       "    <tr>\n",
       "      <th>165036</th>\n",
       "      <td>0.079534</td>\n",
       "    </tr>\n",
       "    <tr>\n",
       "      <th>165037</th>\n",
       "      <td>0.519489</td>\n",
       "    </tr>\n",
       "    <tr>\n",
       "      <th>165038</th>\n",
       "      <td>0.638603</td>\n",
       "    </tr>\n",
       "    <tr>\n",
       "      <th>...</th>\n",
       "      <td>...</td>\n",
       "    </tr>\n",
       "    <tr>\n",
       "      <th>275052</th>\n",
       "      <td>0.132850</td>\n",
       "    </tr>\n",
       "    <tr>\n",
       "      <th>275053</th>\n",
       "      <td>0.217605</td>\n",
       "    </tr>\n",
       "    <tr>\n",
       "      <th>275054</th>\n",
       "      <td>0.071276</td>\n",
       "    </tr>\n",
       "    <tr>\n",
       "      <th>275055</th>\n",
       "      <td>0.381622</td>\n",
       "    </tr>\n",
       "    <tr>\n",
       "      <th>275056</th>\n",
       "      <td>0.496457</td>\n",
       "    </tr>\n",
       "  </tbody>\n",
       "</table>\n",
       "<p>110023 rows × 1 columns</p>\n",
       "</div>"
      ],
      "text/plain": [
       "          Exited\n",
       "id              \n",
       "165034  0.085936\n",
       "165035  0.947197\n",
       "165036  0.079534\n",
       "165037  0.519489\n",
       "165038  0.638603\n",
       "...          ...\n",
       "275052  0.132850\n",
       "275053  0.217605\n",
       "275054  0.071276\n",
       "275055  0.381622\n",
       "275056  0.496457\n",
       "\n",
       "[110023 rows x 1 columns]"
      ]
     },
     "execution_count": 20,
     "metadata": {},
     "output_type": "execute_result"
    }
   ],
   "source": [
    "submission"
   ]
  },
  {
   "cell_type": "code",
   "execution_count": null,
   "id": "d93b07d8",
   "metadata": {},
   "outputs": [],
   "source": [
    "name = dt.now().strftime(\"%Y%m%d_%H%M\")"
   ]
  },
  {
   "cell_type": "code",
   "execution_count": null,
   "id": "eed84da8",
   "metadata": {},
   "outputs": [],
   "source": [
    "#submission.to_csv(f\"submission/{name}.csv\")"
   ]
  },
  {
   "cell_type": "code",
   "execution_count": null,
   "id": "e7ef458e",
   "metadata": {},
   "outputs": [],
   "source": []
  }
 ],
 "metadata": {
  "kernelspec": {
   "display_name": "Python 3",
   "language": "python",
   "name": "python3"
  },
  "language_info": {
   "codemirror_mode": {
    "name": "ipython",
    "version": 3
   },
   "file_extension": ".py",
   "mimetype": "text/x-python",
   "name": "python",
   "nbconvert_exporter": "python",
   "pygments_lexer": "ipython3",
   "version": "3.11.7"
  }
 },
 "nbformat": 4,
 "nbformat_minor": 5
}
