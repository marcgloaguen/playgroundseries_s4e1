{
 "cells": [
  {
   "cell_type": "code",
   "execution_count": 23,
   "id": "initial_id",
   "metadata": {
    "collapsed": true,
    "is_executing": true
   },
   "outputs": [],
   "source": [
    "from datetime import datetime as dt\n",
    "from preprocessing import Preprocessing\n",
    "import pandas as pd\n",
    "import numpy as np\n",
    "from sklearn.model_selection import train_test_split, GridSearchCV\n",
    "from sklearn.utils import shuffle\n",
    "import matplotlib.pyplot as plt\n",
    "from sklearn.metrics import confusion_matrix, ConfusionMatrixDisplay, classification_report, roc_auc_score, RocCurveDisplay\n",
    "from imblearn.under_sampling import RandomUnderSampler"
   ]
  },
  {
   "cell_type": "code",
   "execution_count": 24,
   "id": "62b0fc85",
   "metadata": {},
   "outputs": [
    {
     "data": {
      "text/plain": [
       "[PhysicalDevice(name='/physical_device:CPU:0', device_type='CPU'),\n",
       " PhysicalDevice(name='/physical_device:GPU:0', device_type='GPU')]"
      ]
     },
     "execution_count": 24,
     "metadata": {},
     "output_type": "execute_result"
    }
   ],
   "source": [
    "import tensorflow as tf\n",
    "tf.config.list_physical_devices()"
   ]
  },
  {
   "cell_type": "code",
   "execution_count": 25,
   "id": "8d96dbd9",
   "metadata": {},
   "outputs": [],
   "source": [
    "from keras import Sequential\n",
    "from keras.layers import Dense, Dropout, BatchNormalization\n",
    "from keras.metrics import AUC\n",
    "from keras.optimizers.legacy import Adam\n",
    "from keras.callbacks import EarlyStopping, ModelCheckpoint, ReduceLROnPlateau\n",
    "from keras.losses import BinaryFocalCrossentropy\n",
    "from keras.regularizers import l2\n",
    "from keras.models import load_model\n",
    "\n",
    "# Charger le modèle avec les meilleurs poids"
   ]
  },
  {
   "cell_type": "code",
   "execution_count": 26,
   "metadata": {},
   "outputs": [],
   "source": [
    "def plot_history(history, metric='accuracy'):\n",
    "    plt.figure(figsize=(12, 5))\n",
    "    plt.subplot(1, 2, 1)\n",
    "    \n",
    "    plt.plot(history.history['loss'], 'b', label='Training loss')\n",
    "    plt.plot(history.history['val_loss'], 'r', label='Validation loss')\n",
    "    plt.title('Training and validation loss')\n",
    "    plt.legend()\n",
    "    plt.subplot(1, 2, 2)\n",
    "    plt.plot(history.history[metric], 'b', label='Training accuracy')\n",
    "    plt.plot(history.history[f'val_{metric}'],'r', label='Validation accuracy')\n",
    "    plt.title('Training and validation auc')\n",
    "    plt.legend()"
   ]
  },
  {
   "cell_type": "markdown",
   "id": "35014792",
   "metadata": {},
   "source": [
    "# Preprocessing"
   ]
  },
  {
   "cell_type": "code",
   "execution_count": 27,
   "id": "eb5135aed6eafd16",
   "metadata": {
    "collapsed": false
   },
   "outputs": [],
   "source": [
    "col_drop = ['CustomerId','Surname']\n",
    "types = {\n",
    "    'HasCrCard':bool,\n",
    "    'IsActiveMember':bool\n",
    "}\n",
    "train = pd.read_csv('data/train.csv', index_col='id', dtype=types).drop(columns=col_drop)\n",
    "test = pd.read_csv('data/test.csv', index_col='id', dtype=types).drop(columns=col_drop)"
   ]
  },
  {
   "cell_type": "code",
   "execution_count": 28,
   "id": "b74cdea0",
   "metadata": {},
   "outputs": [
    {
     "data": {
      "text/plain": [
       "(165034, 11)"
      ]
     },
     "execution_count": 28,
     "metadata": {},
     "output_type": "execute_result"
    }
   ],
   "source": [
    "train.shape"
   ]
  },
  {
   "cell_type": "code",
   "execution_count": 29,
   "id": "4eb5e3b5",
   "metadata": {},
   "outputs": [],
   "source": [
    "X = train.drop(columns='Exited')\n",
    "y = train.Exited"
   ]
  },
  {
   "cell_type": "code",
   "execution_count": 30,
   "id": "8e8579c5",
   "metadata": {},
   "outputs": [],
   "source": [
    "X_train, X_test, y_train, y_test = train_test_split(X,y,stratify=y)"
   ]
  },
  {
   "cell_type": "code",
   "execution_count": 31,
   "id": "e5b3b52b",
   "metadata": {},
   "outputs": [],
   "source": [
    "rus = RandomUnderSampler(random_state=42)\n",
    "X_resampled, y_resampled = rus.fit_resample(X_train, y_train)"
   ]
  },
  {
   "cell_type": "code",
   "execution_count": 32,
   "id": "3cdbf7b1",
   "metadata": {},
   "outputs": [
    {
     "data": {
      "text/plain": [
       "Exited\n",
       "0    0.5\n",
       "1    0.5\n",
       "Name: proportion, dtype: float64"
      ]
     },
     "execution_count": 32,
     "metadata": {},
     "output_type": "execute_result"
    }
   ],
   "source": [
    "y_resampled.value_counts(True)"
   ]
  },
  {
   "cell_type": "code",
   "execution_count": 33,
   "id": "e56a9c8daf9db45c",
   "metadata": {
    "collapsed": false
   },
   "outputs": [],
   "source": [
    "prepro = Preprocessing()"
   ]
  },
  {
   "cell_type": "code",
   "execution_count": 34,
   "id": "8cd6f7cd",
   "metadata": {},
   "outputs": [],
   "source": [
    "X_train_scld = prepro.fit_transform(X_resampled).astype(float)\n",
    "X_test_scld = prepro.transform(X_test).astype(float)"
   ]
  },
  {
   "cell_type": "code",
   "execution_count": 35,
   "id": "b8129589",
   "metadata": {},
   "outputs": [
    {
     "data": {
      "text/html": [
       "<div>\n",
       "<style scoped>\n",
       "    .dataframe tbody tr th:only-of-type {\n",
       "        vertical-align: middle;\n",
       "    }\n",
       "\n",
       "    .dataframe tbody tr th {\n",
       "        vertical-align: top;\n",
       "    }\n",
       "\n",
       "    .dataframe thead th {\n",
       "        text-align: right;\n",
       "    }\n",
       "</style>\n",
       "<table border=\"1\" class=\"dataframe\">\n",
       "  <thead>\n",
       "    <tr style=\"text-align: right;\">\n",
       "      <th></th>\n",
       "      <th>CreditScore</th>\n",
       "      <th>Gender</th>\n",
       "      <th>Age</th>\n",
       "      <th>Tenure</th>\n",
       "      <th>Balance</th>\n",
       "      <th>NumOfProducts</th>\n",
       "      <th>HasCrCard</th>\n",
       "      <th>IsActiveMember</th>\n",
       "      <th>EstimatedSalary</th>\n",
       "      <th>Geography_France</th>\n",
       "      <th>Geography_Germany</th>\n",
       "      <th>Geography_Spain</th>\n",
       "    </tr>\n",
       "    <tr>\n",
       "      <th>id</th>\n",
       "      <th></th>\n",
       "      <th></th>\n",
       "      <th></th>\n",
       "      <th></th>\n",
       "      <th></th>\n",
       "      <th></th>\n",
       "      <th></th>\n",
       "      <th></th>\n",
       "      <th></th>\n",
       "      <th></th>\n",
       "      <th></th>\n",
       "      <th></th>\n",
       "    </tr>\n",
       "  </thead>\n",
       "  <tbody>\n",
       "    <tr>\n",
       "      <th>2572</th>\n",
       "      <td>0.731605</td>\n",
       "      <td>1.0</td>\n",
       "      <td>-0.878311</td>\n",
       "      <td>0.5</td>\n",
       "      <td>-1.010912</td>\n",
       "      <td>0.333333</td>\n",
       "      <td>1.0</td>\n",
       "      <td>0.0</td>\n",
       "      <td>-0.414601</td>\n",
       "      <td>1.0</td>\n",
       "      <td>0.0</td>\n",
       "      <td>0.0</td>\n",
       "    </tr>\n",
       "    <tr>\n",
       "      <th>59653</th>\n",
       "      <td>-1.257375</td>\n",
       "      <td>0.0</td>\n",
       "      <td>1.864090</td>\n",
       "      <td>0.1</td>\n",
       "      <td>-1.010912</td>\n",
       "      <td>0.333333</td>\n",
       "      <td>0.0</td>\n",
       "      <td>1.0</td>\n",
       "      <td>1.001742</td>\n",
       "      <td>1.0</td>\n",
       "      <td>0.0</td>\n",
       "      <td>0.0</td>\n",
       "    </tr>\n",
       "    <tr>\n",
       "      <th>154878</th>\n",
       "      <td>-0.812634</td>\n",
       "      <td>0.0</td>\n",
       "      <td>-0.498297</td>\n",
       "      <td>0.9</td>\n",
       "      <td>-1.010912</td>\n",
       "      <td>0.333333</td>\n",
       "      <td>1.0</td>\n",
       "      <td>1.0</td>\n",
       "      <td>-0.256158</td>\n",
       "      <td>1.0</td>\n",
       "      <td>0.0</td>\n",
       "      <td>0.0</td>\n",
       "    </tr>\n",
       "    <tr>\n",
       "      <th>7304</th>\n",
       "      <td>-0.627326</td>\n",
       "      <td>1.0</td>\n",
       "      <td>-1.012052</td>\n",
       "      <td>0.3</td>\n",
       "      <td>-1.010912</td>\n",
       "      <td>0.333333</td>\n",
       "      <td>1.0</td>\n",
       "      <td>1.0</td>\n",
       "      <td>-0.367335</td>\n",
       "      <td>1.0</td>\n",
       "      <td>0.0</td>\n",
       "      <td>0.0</td>\n",
       "    </tr>\n",
       "    <tr>\n",
       "      <th>71005</th>\n",
       "      <td>-0.108461</td>\n",
       "      <td>0.0</td>\n",
       "      <td>-0.621629</td>\n",
       "      <td>0.3</td>\n",
       "      <td>0.966924</td>\n",
       "      <td>0.333333</td>\n",
       "      <td>1.0</td>\n",
       "      <td>0.0</td>\n",
       "      <td>0.993341</td>\n",
       "      <td>0.0</td>\n",
       "      <td>1.0</td>\n",
       "      <td>0.0</td>\n",
       "    </tr>\n",
       "    <tr>\n",
       "      <th>...</th>\n",
       "      <td>...</td>\n",
       "      <td>...</td>\n",
       "      <td>...</td>\n",
       "      <td>...</td>\n",
       "      <td>...</td>\n",
       "      <td>...</td>\n",
       "      <td>...</td>\n",
       "      <td>...</td>\n",
       "      <td>...</td>\n",
       "      <td>...</td>\n",
       "      <td>...</td>\n",
       "      <td>...</td>\n",
       "    </tr>\n",
       "    <tr>\n",
       "      <th>16962</th>\n",
       "      <td>-1.455038</td>\n",
       "      <td>0.0</td>\n",
       "      <td>0.777698</td>\n",
       "      <td>0.4</td>\n",
       "      <td>1.023771</td>\n",
       "      <td>0.000000</td>\n",
       "      <td>1.0</td>\n",
       "      <td>0.0</td>\n",
       "      <td>1.051225</td>\n",
       "      <td>0.0</td>\n",
       "      <td>1.0</td>\n",
       "      <td>0.0</td>\n",
       "    </tr>\n",
       "    <tr>\n",
       "      <th>43663</th>\n",
       "      <td>2.312907</td>\n",
       "      <td>1.0</td>\n",
       "      <td>0.388569</td>\n",
       "      <td>0.6</td>\n",
       "      <td>0.991331</td>\n",
       "      <td>0.000000</td>\n",
       "      <td>1.0</td>\n",
       "      <td>0.0</td>\n",
       "      <td>0.416694</td>\n",
       "      <td>0.0</td>\n",
       "      <td>0.0</td>\n",
       "      <td>1.0</td>\n",
       "    </tr>\n",
       "    <tr>\n",
       "      <th>147246</th>\n",
       "      <td>-0.021984</td>\n",
       "      <td>1.0</td>\n",
       "      <td>0.587016</td>\n",
       "      <td>0.1</td>\n",
       "      <td>1.008882</td>\n",
       "      <td>0.000000</td>\n",
       "      <td>1.0</td>\n",
       "      <td>0.0</td>\n",
       "      <td>1.226506</td>\n",
       "      <td>0.0</td>\n",
       "      <td>1.0</td>\n",
       "      <td>0.0</td>\n",
       "    </tr>\n",
       "    <tr>\n",
       "      <th>82976</th>\n",
       "      <td>-0.343186</td>\n",
       "      <td>0.0</td>\n",
       "      <td>-1.012052</td>\n",
       "      <td>0.3</td>\n",
       "      <td>0.982674</td>\n",
       "      <td>0.666667</td>\n",
       "      <td>1.0</td>\n",
       "      <td>0.0</td>\n",
       "      <td>0.166867</td>\n",
       "      <td>0.0</td>\n",
       "      <td>0.0</td>\n",
       "      <td>1.0</td>\n",
       "    </tr>\n",
       "    <tr>\n",
       "      <th>112541</th>\n",
       "      <td>1.163993</td>\n",
       "      <td>1.0</td>\n",
       "      <td>0.488804</td>\n",
       "      <td>0.8</td>\n",
       "      <td>-1.010912</td>\n",
       "      <td>0.000000</td>\n",
       "      <td>1.0</td>\n",
       "      <td>1.0</td>\n",
       "      <td>0.116117</td>\n",
       "      <td>1.0</td>\n",
       "      <td>0.0</td>\n",
       "      <td>0.0</td>\n",
       "    </tr>\n",
       "  </tbody>\n",
       "</table>\n",
       "<p>52382 rows × 12 columns</p>\n",
       "</div>"
      ],
      "text/plain": [
       "        CreditScore  Gender       Age  Tenure   Balance  NumOfProducts  \\\n",
       "id                                                                       \n",
       "2572       0.731605     1.0 -0.878311     0.5 -1.010912       0.333333   \n",
       "59653     -1.257375     0.0  1.864090     0.1 -1.010912       0.333333   \n",
       "154878    -0.812634     0.0 -0.498297     0.9 -1.010912       0.333333   \n",
       "7304      -0.627326     1.0 -1.012052     0.3 -1.010912       0.333333   \n",
       "71005     -0.108461     0.0 -0.621629     0.3  0.966924       0.333333   \n",
       "...             ...     ...       ...     ...       ...            ...   \n",
       "16962     -1.455038     0.0  0.777698     0.4  1.023771       0.000000   \n",
       "43663      2.312907     1.0  0.388569     0.6  0.991331       0.000000   \n",
       "147246    -0.021984     1.0  0.587016     0.1  1.008882       0.000000   \n",
       "82976     -0.343186     0.0 -1.012052     0.3  0.982674       0.666667   \n",
       "112541     1.163993     1.0  0.488804     0.8 -1.010912       0.000000   \n",
       "\n",
       "        HasCrCard  IsActiveMember  EstimatedSalary  Geography_France  \\\n",
       "id                                                                     \n",
       "2572          1.0             0.0        -0.414601               1.0   \n",
       "59653         0.0             1.0         1.001742               1.0   \n",
       "154878        1.0             1.0        -0.256158               1.0   \n",
       "7304          1.0             1.0        -0.367335               1.0   \n",
       "71005         1.0             0.0         0.993341               0.0   \n",
       "...           ...             ...              ...               ...   \n",
       "16962         1.0             0.0         1.051225               0.0   \n",
       "43663         1.0             0.0         0.416694               0.0   \n",
       "147246        1.0             0.0         1.226506               0.0   \n",
       "82976         1.0             0.0         0.166867               0.0   \n",
       "112541        1.0             1.0         0.116117               1.0   \n",
       "\n",
       "        Geography_Germany  Geography_Spain  \n",
       "id                                          \n",
       "2572                  0.0              0.0  \n",
       "59653                 0.0              0.0  \n",
       "154878                0.0              0.0  \n",
       "7304                  0.0              0.0  \n",
       "71005                 1.0              0.0  \n",
       "...                   ...              ...  \n",
       "16962                 1.0              0.0  \n",
       "43663                 0.0              1.0  \n",
       "147246                1.0              0.0  \n",
       "82976                 0.0              1.0  \n",
       "112541                0.0              0.0  \n",
       "\n",
       "[52382 rows x 12 columns]"
      ]
     },
     "execution_count": 35,
     "metadata": {},
     "output_type": "execute_result"
    }
   ],
   "source": [
    "X_train_scld"
   ]
  },
  {
   "cell_type": "markdown",
   "id": "037d6c18",
   "metadata": {},
   "source": [
    "# Model"
   ]
  },
  {
   "cell_type": "code",
   "execution_count": 36,
   "id": "0c49222b",
   "metadata": {},
   "outputs": [
    {
     "data": {
      "text/plain": [
       "(52382, 12)"
      ]
     },
     "execution_count": 36,
     "metadata": {},
     "output_type": "execute_result"
    }
   ],
   "source": [
    "X_train_scld.shape"
   ]
  },
  {
   "cell_type": "code",
   "execution_count": 37,
   "id": "920dbcbd",
   "metadata": {},
   "outputs": [
    {
     "name": "stdout",
     "output_type": "stream",
     "text": [
      "Epoch 1/50\n",
      "655/655 [==============================] - 29s 42ms/step - loss: 1.4218 - accuracy: 0.5285 - val_loss: 1.5905 - val_accuracy: 0.6473 - lr: 1.0000e-05\n",
      "Epoch 2/50\n",
      "655/655 [==============================] - 27s 41ms/step - loss: 1.3270 - accuracy: 0.5957 - val_loss: 1.5159 - val_accuracy: 0.7138 - lr: 1.0000e-05\n",
      "Epoch 3/50\n",
      "655/655 [==============================] - 27s 41ms/step - loss: 1.2734 - accuracy: 0.6325 - val_loss: 1.4804 - val_accuracy: 0.7219 - lr: 1.0000e-05\n",
      "Epoch 4/50\n",
      "655/655 [==============================] - 26s 40ms/step - loss: 1.2329 - accuracy: 0.6550 - val_loss: 1.4608 - val_accuracy: 0.7182 - lr: 1.0000e-05\n",
      "Epoch 5/50\n",
      "655/655 [==============================] - 27s 41ms/step - loss: 1.2013 - accuracy: 0.6690 - val_loss: 1.4381 - val_accuracy: 0.7164 - lr: 1.0000e-05\n",
      "Epoch 6/50\n",
      "655/655 [==============================] - 27s 42ms/step - loss: 1.1802 - accuracy: 0.6766 - val_loss: 1.4240 - val_accuracy: 0.7257 - lr: 1.0000e-06\n",
      "Epoch 7/50\n",
      "655/655 [==============================] - 26s 40ms/step - loss: 1.1771 - accuracy: 0.6777 - val_loss: 1.4285 - val_accuracy: 0.7205 - lr: 1.0000e-06\n",
      "Epoch 8/50\n",
      "655/655 [==============================] - 27s 42ms/step - loss: 1.1748 - accuracy: 0.6778 - val_loss: 1.4356 - val_accuracy: 0.7129 - lr: 1.0000e-06\n",
      "Epoch 9/50\n",
      "655/655 [==============================] - 27s 41ms/step - loss: 1.1726 - accuracy: 0.6807 - val_loss: 1.4319 - val_accuracy: 0.7159 - lr: 1.0000e-07\n",
      "Epoch 10/50\n",
      "655/655 [==============================] - 27s 42ms/step - loss: 1.1718 - accuracy: 0.6823 - val_loss: 1.4343 - val_accuracy: 0.7134 - lr: 1.0000e-07\n",
      "Epoch 11/50\n",
      "655/655 [==============================] - 27s 41ms/step - loss: 1.1717 - accuracy: 0.6819 - val_loss: 1.4387 - val_accuracy: 0.7104 - lr: 1.0000e-08\n",
      "Epoch 12/50\n",
      "655/655 [==============================] - 27s 41ms/step - loss: 1.1745 - accuracy: 0.6764 - val_loss: 1.4366 - val_accuracy: 0.7117 - lr: 1.0000e-08\n",
      "Epoch 13/50\n",
      "655/655 [==============================] - 27s 40ms/step - loss: 1.1704 - accuracy: 0.6840 - val_loss: 1.4251 - val_accuracy: 0.7213 - lr: 1.0000e-08\n",
      "Epoch 14/50\n",
      "655/655 [==============================] - 27s 41ms/step - loss: 1.1731 - accuracy: 0.6805 - val_loss: 1.4373 - val_accuracy: 0.7115 - lr: 1.0000e-08\n",
      "Epoch 15/50\n",
      "655/655 [==============================] - 28s 43ms/step - loss: 1.1723 - accuracy: 0.6803 - val_loss: 1.4305 - val_accuracy: 0.7165 - lr: 1.0000e-08\n",
      "Epoch 16/50\n",
      "655/655 [==============================] - 29s 44ms/step - loss: 1.1715 - accuracy: 0.6810 - val_loss: 1.4315 - val_accuracy: 0.7157 - lr: 1.0000e-08\n"
     ]
    }
   ],
   "source": [
    "dropout_rate = 0.3\n",
    "regularizer = l2(1e-3)\n",
    "\n",
    "model = Sequential(name=\"BankChurn\")\n",
    "\n",
    "model.add(Dense(units=256, activation='relu', kernel_initializer='he_normal', kernel_regularizer=regularizer, name=\"Dense1\"))\n",
    "model.add(BatchNormalization(name=\"BatchNorm1\"))\n",
    "model.add(Dropout(dropout_rate, name=\"Dropout1\"))\n",
    "\n",
    "model.add(Dense(units=128, activation='relu', kernel_initializer='he_normal', kernel_regularizer=regularizer, name=\"Dense2\"))\n",
    "model.add(BatchNormalization(name=\"BatchNorm2\"))\n",
    "model.add(Dropout(dropout_rate, name=\"Dropout2\"))\n",
    "\n",
    "model.add(Dense(units=64, activation='relu', kernel_initializer='he_normal', kernel_regularizer=regularizer, name=\"Dense3\")) \n",
    "model.add(BatchNormalization(name=\"BatchNorm3\"))\n",
    "model.add(Dropout(dropout_rate, name=\"Dropout3\"))\n",
    "\n",
    "model.add(Dense(units=32, activation='relu', kernel_initializer='he_normal', kernel_regularizer=regularizer, name=\"Dense4\")) \n",
    "model.add(BatchNormalization(name=\"BatchNorm4\"))\n",
    "model.add(Dropout(dropout_rate, name=\"Dropout4\"))\n",
    "\n",
    "model.add(Dense(units=16, activation='relu', kernel_initializer='he_normal', kernel_regularizer=regularizer, name=\"Dense5\")) \n",
    "model.add(BatchNormalization(name=\"BatchNorm5\"))\n",
    "\n",
    "model.add(Dense(units=1, activation='sigmoid',kernel_initializer='glorot_uniform',  name=\"Output\"))\n",
    "\n",
    "\n",
    "\n",
    "model.compile(\n",
    "    optimizer=Adam(learning_rate=1e-5),\n",
    "    loss='binary_crossentropy',\n",
    "    metrics=['accuracy']\n",
    "    )\n",
    "\n",
    "\n",
    "early_stopping = EarlyStopping(monitor='val_accuracy', patience=10, restore_best_weights=True)\n",
    "\n",
    "\n",
    "reduce_lr = ReduceLROnPlateau(monitor='val_accuracy', factor=0.1, patience=2, min_lr=1e-8)\n",
    "\n",
    "history = model.fit(\n",
    "    X_train_scld.values,\n",
    "    y_resampled.values,\n",
    "    epochs=50,\n",
    "    batch_size=64,\n",
    "    validation_split=0.2,\n",
    "    shuffle=True,\n",
    "    callbacks=[reduce_lr, early_stopping],\n",
    "    class_weight=y_resampled.value_counts(True).to_dict()\n",
    "    )"
   ]
  },
  {
   "cell_type": "code",
   "execution_count": 38,
   "id": "1a94da07",
   "metadata": {},
   "outputs": [
    {
     "data": {
      "image/png": "[encoded data removed]",
      "text/plain": [
       "<Figure size 1200x500 with 2 Axes>"
      ]
     },
     "metadata": {},
     "output_type": "display_data"
    }
   ],
   "source": [
    "plot_history(history, 'accuracy')"
   ]
  },
  {
   "cell_type": "markdown",
   "id": "a08721bb",
   "metadata": {},
   "source": [
    "# Score"
   ]
  },
  {
   "cell_type": "code",
   "execution_count": 39,
   "id": "f1dc2455",
   "metadata": {},
   "outputs": [
    {
     "name": "stdout",
     "output_type": "stream",
     "text": [
      "1290/1290 [==============================] - 4s 3ms/step\n"
     ]
    }
   ],
   "source": [
    "pred = model.predict(X_test_scld.values)"
   ]
  },
  {
   "cell_type": "code",
   "execution_count": 40,
   "id": "f51ca946",
   "metadata": {},
   "outputs": [
    {
     "name": "stdout",
     "output_type": "stream",
     "text": [
      "Roc Auc Score : 0.803144\n"
     ]
    }
   ],
   "source": [
    "RocScore  = roc_auc_score(y_test, pred[:,0])\n",
    "print(f'Roc Auc Score : {RocScore:.6f}')"
   ]
  },
  {
   "cell_type": "code",
   "execution_count": 41,
   "id": "52426c95",
   "metadata": {},
   "outputs": [
    {
     "data": {
      "text/plain": [
       "<sklearn.metrics._plot.roc_curve.RocCurveDisplay at 0x360a41010>"
      ]
     },
     "execution_count": 41,
     "metadata": {},
     "output_type": "execute_result"
    },
    {
     "data": {
      "image/png": "[encoded data removed]",
      "text/plain": [
       "<Figure size 640x480 with 1 Axes>"
      ]
     },
     "metadata": {},
     "output_type": "display_data"
    }
   ],
   "source": [
    "RocCurveDisplay.from_predictions(y_test,pred)"
   ]
  },
  {
   "cell_type": "code",
   "execution_count": 42,
   "id": "2cc9c801",
   "metadata": {},
   "outputs": [
    {
     "data": {
      "text/plain": [
       "<sklearn.metrics._plot.confusion_matrix.ConfusionMatrixDisplay at 0x2d2f10e90>"
      ]
     },
     "execution_count": 42,
     "metadata": {},
     "output_type": "execute_result"
    },
    {
     "data": {
      "image/png": "[encoded data removed]",
      "text/plain": [
       "<Figure size 640x480 with 2 Axes>"
      ]
     },
     "metadata": {},
     "output_type": "display_data"
    }
   ],
   "source": [
    "ConfusionMatrixDisplay(confusion_matrix(y_test,pred[:,0]>0.5, normalize='true')).plot()"
   ]
  },
  {
   "cell_type": "markdown",
   "id": "b880f7fb",
   "metadata": {},
   "source": [
    "# Submission"
   ]
  },
  {
   "cell_type": "code",
   "execution_count": null,
   "id": "9393658a",
   "metadata": {},
   "outputs": [],
   "source": [
    "X_val_scld = prepro.transform(test)"
   ]
  },
  {
   "cell_type": "code",
   "execution_count": null,
   "id": "b927754e",
   "metadata": {},
   "outputs": [],
   "source": [
    "submission = pd.read_csv(\"data/sample_submission.csv\", index_col='id')"
   ]
  },
  {
   "cell_type": "code",
   "execution_count": null,
   "id": "ae796018",
   "metadata": {},
   "outputs": [
    {
     "name": "stderr",
     "output_type": "stream",
     "text": [
      "/Users/marc/Library/Mobile Documents/com~apple~CloudDocs/Projects/Playground/playgroundseries_s4e1/.venv/lib/python3.10/site-packages/sklearn/base.py:458: UserWarning: X has feature names, but MLPClassifier was fitted without feature names\n",
      "  warnings.warn(\n"
     ]
    }
   ],
   "source": [
    "submission.loc[:,'Exited'] = nn.predict_proba(X_val_scld)[:,1]"
   ]
  },
  {
   "cell_type": "code",
   "execution_count": null,
   "id": "6ec16618",
   "metadata": {},
   "outputs": [
    {
     "data": {
      "text/html": [
       "<div>\n",
       "<style scoped>\n",
       "    .dataframe tbody tr th:only-of-type {\n",
       "        vertical-align: middle;\n",
       "    }\n",
       "\n",
       "    .dataframe tbody tr th {\n",
       "        vertical-align: top;\n",
       "    }\n",
       "\n",
       "    .dataframe thead th {\n",
       "        text-align: right;\n",
       "    }\n",
       "</style>\n",
       "<table border=\"1\" class=\"dataframe\">\n",
       "  <thead>\n",
       "    <tr style=\"text-align: right;\">\n",
       "      <th></th>\n",
       "      <th>Exited</th>\n",
       "    </tr>\n",
       "    <tr>\n",
       "      <th>id</th>\n",
       "      <th></th>\n",
       "    </tr>\n",
       "  </thead>\n",
       "  <tbody>\n",
       "    <tr>\n",
       "      <th>165034</th>\n",
       "      <td>0.085936</td>\n",
       "    </tr>\n",
       "    <tr>\n",
       "      <th>165035</th>\n",
       "      <td>0.947197</td>\n",
       "    </tr>\n",
       "    <tr>\n",
       "      <th>165036</th>\n",
       "      <td>0.079534</td>\n",
       "    </tr>\n",
       "    <tr>\n",
       "      <th>165037</th>\n",
       "      <td>0.519489</td>\n",
       "    </tr>\n",
       "    <tr>\n",
       "      <th>165038</th>\n",
       "      <td>0.638603</td>\n",
       "    </tr>\n",
       "    <tr>\n",
       "      <th>...</th>\n",
       "      <td>...</td>\n",
       "    </tr>\n",
       "    <tr>\n",
       "      <th>275052</th>\n",
       "      <td>0.132850</td>\n",
       "    </tr>\n",
       "    <tr>\n",
       "      <th>275053</th>\n",
       "      <td>0.217605</td>\n",
       "    </tr>\n",
       "    <tr>\n",
       "      <th>275054</th>\n",
       "      <td>0.071276</td>\n",
       "    </tr>\n",
       "    <tr>\n",
       "      <th>275055</th>\n",
       "      <td>0.381622</td>\n",
       "    </tr>\n",
       "    <tr>\n",
       "      <th>275056</th>\n",
       "      <td>0.496457</td>\n",
       "    </tr>\n",
       "  </tbody>\n",
       "</table>\n",
       "<p>110023 rows × 1 columns</p>\n",
       "</div>"
      ],
      "text/plain": [
       "          Exited\n",
       "id              \n",
       "165034  0.085936\n",
       "165035  0.947197\n",
       "165036  0.079534\n",
       "165037  0.519489\n",
       "165038  0.638603\n",
       "...          ...\n",
       "275052  0.132850\n",
       "275053  0.217605\n",
       "275054  0.071276\n",
       "275055  0.381622\n",
       "275056  0.496457\n",
       "\n",
       "[110023 rows x 1 columns]"
      ]
     },
     "execution_count": 20,
     "metadata": {},
     "output_type": "execute_result"
    }
   ],
   "source": [
    "submission"
   ]
  },
  {
   "cell_type": "code",
   "execution_count": null,
   "id": "d93b07d8",
   "metadata": {},
   "outputs": [],
   "source": [
    "name = dt.now().strftime(\"%Y%m%d_%H%M\")"
   ]
  },
  {
   "cell_type": "code",
   "execution_count": null,
   "id": "eed84da8",
   "metadata": {},
   "outputs": [],
   "source": [
    "#submission.to_csv(f\"submission/{name}.csv\")"
   ]
  },
  {
   "cell_type": "code",
   "execution_count": null,
   "id": "e7ef458e",
   "metadata": {},
   "outputs": [],
   "source": []
  }
 ],
 "metadata": {
  "kernelspec": {
   "display_name": "Python 3",
   "language": "python",
   "name": "python3"
  },
  "language_info": {
   "codemirror_mode": {
    "name": "ipython",
    "version": 3
   },
   "file_extension": ".py",
   "mimetype": "text/x-python",
   "name": "python",
   "nbconvert_exporter": "python",
   "pygments_lexer": "ipython3",
   "version": "3.11.7"
  }
 },
 "nbformat": 4,
 "nbformat_minor": 5
}
