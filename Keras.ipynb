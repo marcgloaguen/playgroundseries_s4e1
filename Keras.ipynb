{
 "cells": [
  {
   "cell_type": "code",
   "execution_count": null,
   "id": "initial_id",
   "metadata": {
    "collapsed": true,
    "is_executing": true
   },
   "outputs": [],
   "source": [
    "from datetime import datetime as dt\n",
    "from preprocessing import Preprocessing\n",
    "import pandas as pd\n",
    "import numpy as np\n",
    "from sklearn.model_selection import train_test_split, GridSearchCV\n",
    "from sklearn.utils import shuffle\n",
    "import matplotlib.pyplot as plt\n",
    "from sklearn.metrics import confusion_matrix, ConfusionMatrixDisplay, classification_report, roc_auc_score, RocCurveDisplay\n",
    "from imblearn.under_sampling import RandomUnderSampler"
   ]
  },
  {
   "cell_type": "code",
   "execution_count": null,
   "id": "62b0fc85",
   "metadata": {},
   "outputs": [
    {
     "data": {
      "text/plain": [
       "[PhysicalDevice(name='/physical_device:CPU:0', device_type='CPU'),\n",
       " PhysicalDevice(name='/physical_device:GPU:0', device_type='GPU')]"
      ]
     },
     "execution_count": 2,
     "metadata": {},
     "output_type": "execute_result"
    }
   ],
   "source": [
    "import tensorflow as tf\n",
    "tf.config.list_physical_devices()"
   ]
  },
  {
   "cell_type": "code",
   "execution_count": null,
   "id": "8d96dbd9",
   "metadata": {},
   "outputs": [],
   "source": [
    "from keras import Sequential\n",
    "from keras.layers import Dense, Dropout, BatchNormalization\n",
    "from keras.metrics import AUC\n",
    "from keras.optimizers.legacy import Adam\n",
    "from keras.callbacks import EarlyStopping, ModelCheckpoint\n",
    "from keras.losses import BinaryFocalCrossentropy\n",
    "from keras.regularizers import l2\n",
    "from keras.models import load_model\n",
    "\n",
    "# Charger le modèle avec les meilleurs poids"
   ]
  },
  {
   "cell_type": "code",
   "execution_count": 62,
   "metadata": {},
   "outputs": [],
   "source": [
    "def plot_history(history, metric='accuracy'):\n",
    "    plt.figure(figsize=(12, 5))\n",
    "    plt.subplot(1, 2, 1)\n",
    "    \n",
    "    plt.plot(history.history['loss'], 'b', label='Training loss')\n",
    "    plt.plot(history.history['val_loss'], 'r', label='Validation loss')\n",
    "    plt.title('Training and validation loss')\n",
    "    plt.legend()\n",
    "    plt.subplot(1, 2, 2)\n",
    "    plt.plot(history.history[metric], 'b', label='Training accuracy')\n",
    "    plt.plot(history.history[f'val_{metric}'],'r', label='Validation accuracy')\n",
    "    plt.title('Training and validation auc')\n",
    "    plt.legend()"
   ]
  },
  {
   "cell_type": "markdown",
   "id": "35014792",
   "metadata": {},
   "source": [
    "# Preprocessing"
   ]
  },
  {
   "cell_type": "code",
   "execution_count": null,
   "id": "eb5135aed6eafd16",
   "metadata": {
    "collapsed": false
   },
   "outputs": [],
   "source": [
    "col_drop = ['CustomerId','Surname']\n",
    "types = {\n",
    "    'HasCrCard':bool,\n",
    "    'IsActiveMember':bool\n",
    "}\n",
    "train = pd.read_csv('data/train.csv', index_col='id', dtype=types).drop(columns=col_drop)\n",
    "test = pd.read_csv('data/test.csv', index_col='id', dtype=types).drop(columns=col_drop)"
   ]
  },
  {
   "cell_type": "code",
   "execution_count": null,
   "id": "b74cdea0",
   "metadata": {},
   "outputs": [
    {
     "data": {
      "text/plain": [
       "(165034, 11)"
      ]
     },
     "execution_count": 6,
     "metadata": {},
     "output_type": "execute_result"
    }
   ],
   "source": [
    "train.shape"
   ]
  },
  {
   "cell_type": "code",
   "execution_count": null,
   "id": "4eb5e3b5",
   "metadata": {},
   "outputs": [],
   "source": [
    "X = train.drop(columns='Exited')\n",
    "y = train.Exited"
   ]
  },
  {
   "cell_type": "code",
   "execution_count": null,
   "id": "8e8579c5",
   "metadata": {},
   "outputs": [],
   "source": [
    "X_train, X_test, y_train, y_test = train_test_split(X,y,stratify=y)"
   ]
  },
  {
   "cell_type": "code",
   "execution_count": null,
   "id": "e5b3b52b",
   "metadata": {},
   "outputs": [],
   "source": [
    "rus = RandomUnderSampler(random_state=42)\n",
    "X_resampled, y_resampled = rus.fit_resample(X_train, y_train)"
   ]
  },
  {
   "cell_type": "code",
   "execution_count": null,
   "id": "3cdbf7b1",
   "metadata": {},
   "outputs": [
    {
     "data": {
      "text/plain": [
       "Exited\n",
       "0    0.5\n",
       "1    0.5\n",
       "Name: proportion, dtype: float64"
      ]
     },
     "execution_count": 10,
     "metadata": {},
     "output_type": "execute_result"
    }
   ],
   "source": [
    "y_resampled.value_counts(True)"
   ]
  },
  {
   "cell_type": "code",
   "execution_count": null,
   "id": "e56a9c8daf9db45c",
   "metadata": {
    "collapsed": false
   },
   "outputs": [],
   "source": [
    "prepro = Preprocessing()"
   ]
  },
  {
   "cell_type": "code",
   "execution_count": null,
   "id": "8cd6f7cd",
   "metadata": {},
   "outputs": [],
   "source": [
    "X_train_scld = prepro.fit_transform(X_resampled).astype(float)\n",
    "X_test_scld = prepro.transform(X_test).astype(float)"
   ]
  },
  {
   "cell_type": "code",
   "execution_count": null,
   "id": "b8129589",
   "metadata": {},
   "outputs": [
    {
     "data": {
      "text/html": [
       "<div>\n",
       "<style scoped>\n",
       "    .dataframe tbody tr th:only-of-type {\n",
       "        vertical-align: middle;\n",
       "    }\n",
       "\n",
       "    .dataframe tbody tr th {\n",
       "        vertical-align: top;\n",
       "    }\n",
       "\n",
       "    .dataframe thead th {\n",
       "        text-align: right;\n",
       "    }\n",
       "</style>\n",
       "<table border=\"1\" class=\"dataframe\">\n",
       "  <thead>\n",
       "    <tr style=\"text-align: right;\">\n",
       "      <th></th>\n",
       "      <th>CreditScore</th>\n",
       "      <th>Gender</th>\n",
       "      <th>Age</th>\n",
       "      <th>Tenure</th>\n",
       "      <th>Balance</th>\n",
       "      <th>NumOfProducts</th>\n",
       "      <th>HasCrCard</th>\n",
       "      <th>IsActiveMember</th>\n",
       "      <th>EstimatedSalary</th>\n",
       "      <th>Geography_France</th>\n",
       "      <th>Geography_Germany</th>\n",
       "      <th>Geography_Spain</th>\n",
       "    </tr>\n",
       "    <tr>\n",
       "      <th>id</th>\n",
       "      <th></th>\n",
       "      <th></th>\n",
       "      <th></th>\n",
       "      <th></th>\n",
       "      <th></th>\n",
       "      <th></th>\n",
       "      <th></th>\n",
       "      <th></th>\n",
       "      <th></th>\n",
       "      <th></th>\n",
       "      <th></th>\n",
       "      <th></th>\n",
       "    </tr>\n",
       "  </thead>\n",
       "  <tbody>\n",
       "    <tr>\n",
       "      <th>94098</th>\n",
       "      <td>-1.041872</td>\n",
       "      <td>0.0</td>\n",
       "      <td>-0.147845</td>\n",
       "      <td>0.9</td>\n",
       "      <td>-1.008866</td>\n",
       "      <td>0.333333</td>\n",
       "      <td>1.0</td>\n",
       "      <td>1.0</td>\n",
       "      <td>0.760201</td>\n",
       "      <td>1.0</td>\n",
       "      <td>0.0</td>\n",
       "      <td>0.0</td>\n",
       "    </tr>\n",
       "    <tr>\n",
       "      <th>14283</th>\n",
       "      <td>1.104061</td>\n",
       "      <td>1.0</td>\n",
       "      <td>-0.035926</td>\n",
       "      <td>0.9</td>\n",
       "      <td>-1.008866</td>\n",
       "      <td>0.333333</td>\n",
       "      <td>0.0</td>\n",
       "      <td>0.0</td>\n",
       "      <td>0.495285</td>\n",
       "      <td>0.0</td>\n",
       "      <td>0.0</td>\n",
       "      <td>1.0</td>\n",
       "    </tr>\n",
       "    <tr>\n",
       "      <th>10835</th>\n",
       "      <td>-1.798530</td>\n",
       "      <td>0.0</td>\n",
       "      <td>-0.500538</td>\n",
       "      <td>0.4</td>\n",
       "      <td>-1.008866</td>\n",
       "      <td>0.333333</td>\n",
       "      <td>0.0</td>\n",
       "      <td>0.0</td>\n",
       "      <td>-0.302204</td>\n",
       "      <td>1.0</td>\n",
       "      <td>0.0</td>\n",
       "      <td>0.0</td>\n",
       "    </tr>\n",
       "    <tr>\n",
       "      <th>96632</th>\n",
       "      <td>0.955210</td>\n",
       "      <td>1.0</td>\n",
       "      <td>-1.753957</td>\n",
       "      <td>0.7</td>\n",
       "      <td>-1.008866</td>\n",
       "      <td>0.333333</td>\n",
       "      <td>0.0</td>\n",
       "      <td>0.0</td>\n",
       "      <td>0.818313</td>\n",
       "      <td>1.0</td>\n",
       "      <td>0.0</td>\n",
       "      <td>0.0</td>\n",
       "    </tr>\n",
       "    <tr>\n",
       "      <th>73938</th>\n",
       "      <td>0.868380</td>\n",
       "      <td>0.0</td>\n",
       "      <td>-0.147845</td>\n",
       "      <td>1.0</td>\n",
       "      <td>-1.008866</td>\n",
       "      <td>0.333333</td>\n",
       "      <td>0.0</td>\n",
       "      <td>1.0</td>\n",
       "      <td>-0.200273</td>\n",
       "      <td>1.0</td>\n",
       "      <td>0.0</td>\n",
       "      <td>0.0</td>\n",
       "    </tr>\n",
       "    <tr>\n",
       "      <th>...</th>\n",
       "      <td>...</td>\n",
       "      <td>...</td>\n",
       "      <td>...</td>\n",
       "      <td>...</td>\n",
       "      <td>...</td>\n",
       "      <td>...</td>\n",
       "      <td>...</td>\n",
       "      <td>...</td>\n",
       "      <td>...</td>\n",
       "      <td>...</td>\n",
       "      <td>...</td>\n",
       "      <td>...</td>\n",
       "    </tr>\n",
       "    <tr>\n",
       "      <th>70064</th>\n",
       "      <td>0.855976</td>\n",
       "      <td>1.0</td>\n",
       "      <td>0.284731</td>\n",
       "      <td>0.2</td>\n",
       "      <td>-1.008866</td>\n",
       "      <td>0.333333</td>\n",
       "      <td>1.0</td>\n",
       "      <td>0.0</td>\n",
       "      <td>-0.829276</td>\n",
       "      <td>1.0</td>\n",
       "      <td>0.0</td>\n",
       "      <td>0.0</td>\n",
       "    </tr>\n",
       "    <tr>\n",
       "      <th>12077</th>\n",
       "      <td>-0.285214</td>\n",
       "      <td>1.0</td>\n",
       "      <td>0.487032</td>\n",
       "      <td>0.4</td>\n",
       "      <td>1.018439</td>\n",
       "      <td>0.000000</td>\n",
       "      <td>1.0</td>\n",
       "      <td>0.0</td>\n",
       "      <td>-1.290879</td>\n",
       "      <td>1.0</td>\n",
       "      <td>0.0</td>\n",
       "      <td>0.0</td>\n",
       "    </tr>\n",
       "    <tr>\n",
       "      <th>93937</th>\n",
       "      <td>-0.136363</td>\n",
       "      <td>0.0</td>\n",
       "      <td>0.073397</td>\n",
       "      <td>0.9</td>\n",
       "      <td>0.952176</td>\n",
       "      <td>0.000000</td>\n",
       "      <td>1.0</td>\n",
       "      <td>0.0</td>\n",
       "      <td>-0.084712</td>\n",
       "      <td>1.0</td>\n",
       "      <td>0.0</td>\n",
       "      <td>0.0</td>\n",
       "    </tr>\n",
       "    <tr>\n",
       "      <th>60331</th>\n",
       "      <td>-0.508490</td>\n",
       "      <td>0.0</td>\n",
       "      <td>-0.147845</td>\n",
       "      <td>0.1</td>\n",
       "      <td>-1.008866</td>\n",
       "      <td>0.000000</td>\n",
       "      <td>1.0</td>\n",
       "      <td>0.0</td>\n",
       "      <td>0.897123</td>\n",
       "      <td>1.0</td>\n",
       "      <td>0.0</td>\n",
       "      <td>0.0</td>\n",
       "    </tr>\n",
       "    <tr>\n",
       "      <th>25569</th>\n",
       "      <td>-0.893021</td>\n",
       "      <td>0.0</td>\n",
       "      <td>0.180245</td>\n",
       "      <td>0.2</td>\n",
       "      <td>1.003396</td>\n",
       "      <td>0.000000</td>\n",
       "      <td>1.0</td>\n",
       "      <td>0.0</td>\n",
       "      <td>1.174718</td>\n",
       "      <td>0.0</td>\n",
       "      <td>1.0</td>\n",
       "      <td>0.0</td>\n",
       "    </tr>\n",
       "  </tbody>\n",
       "</table>\n",
       "<p>52382 rows × 12 columns</p>\n",
       "</div>"
      ],
      "text/plain": [
       "       CreditScore  Gender       Age  Tenure   Balance  NumOfProducts  \\\n",
       "id                                                                      \n",
       "94098    -1.041872     0.0 -0.147845     0.9 -1.008866       0.333333   \n",
       "14283     1.104061     1.0 -0.035926     0.9 -1.008866       0.333333   \n",
       "10835    -1.798530     0.0 -0.500538     0.4 -1.008866       0.333333   \n",
       "96632     0.955210     1.0 -1.753957     0.7 -1.008866       0.333333   \n",
       "73938     0.868380     0.0 -0.147845     1.0 -1.008866       0.333333   \n",
       "...            ...     ...       ...     ...       ...            ...   \n",
       "70064     0.855976     1.0  0.284731     0.2 -1.008866       0.333333   \n",
       "12077    -0.285214     1.0  0.487032     0.4  1.018439       0.000000   \n",
       "93937    -0.136363     0.0  0.073397     0.9  0.952176       0.000000   \n",
       "60331    -0.508490     0.0 -0.147845     0.1 -1.008866       0.000000   \n",
       "25569    -0.893021     0.0  0.180245     0.2  1.003396       0.000000   \n",
       "\n",
       "       HasCrCard  IsActiveMember  EstimatedSalary  Geography_France  \\\n",
       "id                                                                    \n",
       "94098        1.0             1.0         0.760201               1.0   \n",
       "14283        0.0             0.0         0.495285               0.0   \n",
       "10835        0.0             0.0        -0.302204               1.0   \n",
       "96632        0.0             0.0         0.818313               1.0   \n",
       "73938        0.0             1.0        -0.200273               1.0   \n",
       "...          ...             ...              ...               ...   \n",
       "70064        1.0             0.0        -0.829276               1.0   \n",
       "12077        1.0             0.0        -1.290879               1.0   \n",
       "93937        1.0             0.0        -0.084712               1.0   \n",
       "60331        1.0             0.0         0.897123               1.0   \n",
       "25569        1.0             0.0         1.174718               0.0   \n",
       "\n",
       "       Geography_Germany  Geography_Spain  \n",
       "id                                         \n",
       "94098                0.0              0.0  \n",
       "14283                0.0              1.0  \n",
       "10835                0.0              0.0  \n",
       "96632                0.0              0.0  \n",
       "73938                0.0              0.0  \n",
       "...                  ...              ...  \n",
       "70064                0.0              0.0  \n",
       "12077                0.0              0.0  \n",
       "93937                0.0              0.0  \n",
       "60331                0.0              0.0  \n",
       "25569                1.0              0.0  \n",
       "\n",
       "[52382 rows x 12 columns]"
      ]
     },
     "execution_count": 13,
     "metadata": {},
     "output_type": "execute_result"
    }
   ],
   "source": [
    "X_train_scld"
   ]
  },
  {
   "cell_type": "markdown",
   "id": "037d6c18",
   "metadata": {},
   "source": [
    "# Model"
   ]
  },
  {
   "cell_type": "code",
   "execution_count": null,
   "id": "0c49222b",
   "metadata": {},
   "outputs": [
    {
     "data": {
      "text/plain": [
       "(52382, 12)"
      ]
     },
     "execution_count": 14,
     "metadata": {},
     "output_type": "execute_result"
    }
   ],
   "source": [
    "X_train_scld.shape"
   ]
  },
  {
   "cell_type": "code",
   "execution_count": 76,
   "id": "5e93c7c8",
   "metadata": {},
   "outputs": [
    {
     "data": {
      "text/plain": [
       "8"
      ]
     },
     "execution_count": 76,
     "metadata": {},
     "output_type": "execute_result"
    }
   ],
   "source": []
  },
  {
   "cell_type": "code",
   "execution_count": 91,
   "id": "920dbcbd",
   "metadata": {},
   "outputs": [
    {
     "name": "stdout",
     "output_type": "stream",
     "text": [
      "Epoch 1/10\n",
      "655/655 [==============================] - 40s 57ms/step - loss: 1.0337 - accuracy: 0.4513 - val_loss: 0.8015 - val_accuracy: 0.4182\n",
      "Epoch 2/10\n",
      "655/655 [==============================] - 35s 53ms/step - loss: 1.0075 - accuracy: 0.4586 - val_loss: 0.7803 - val_accuracy: 0.4308\n",
      "Epoch 3/10\n",
      "655/655 [==============================] - 35s 53ms/step - loss: 0.9864 - accuracy: 0.4636 - val_loss: 0.7720 - val_accuracy: 0.4218\n",
      "Epoch 4/10\n",
      "655/655 [==============================] - 36s 55ms/step - loss: 0.9666 - accuracy: 0.4720 - val_loss: 0.7439 - val_accuracy: 0.4536\n",
      "Epoch 5/10\n",
      "655/655 [==============================] - 37s 56ms/step - loss: 0.9435 - accuracy: 0.4756 - val_loss: 0.7308 - val_accuracy: 0.4600\n",
      "Epoch 6/10\n",
      "655/655 [==============================] - 35s 54ms/step - loss: 0.9193 - accuracy: 0.4819 - val_loss: 0.7125 - val_accuracy: 0.4799\n",
      "Epoch 7/10\n",
      "655/655 [==============================] - 36s 54ms/step - loss: 0.9020 - accuracy: 0.4928 - val_loss: 0.6959 - val_accuracy: 0.5057\n",
      "Epoch 8/10\n",
      "655/655 [==============================] - 36s 55ms/step - loss: 0.8823 - accuracy: 0.4986 - val_loss: 0.6851 - val_accuracy: 0.5179\n",
      "Epoch 9/10\n",
      "655/655 [==============================] - 38s 57ms/step - loss: 0.8655 - accuracy: 0.5063 - val_loss: 0.6721 - val_accuracy: 0.5392\n",
      "Epoch 10/10\n",
      "655/655 [==============================] - 36s 54ms/step - loss: 0.8528 - accuracy: 0.5145 - val_loss: 0.6644 - val_accuracy: 0.5583\n"
     ]
    }
   ],
   "source": [
    "# params Model\n",
    "firstunits = 128\n",
    "dropout_rate = 0.3\n",
    "regularizer = l2(1e-3)\n",
    "\n",
    "# calcul units\n",
    "max_power = int(np.log2(firstunits))\n",
    "units = [2**i for i in range(max_power,max_power-4,-1)]\n",
    "\n",
    "# Build Model\n",
    "model = Sequential(name=\"BankChurn\")\n",
    "\n",
    "model.add(Dense(units=units[0], activation='relu', kernel_initializer='he_normal', kernel_regularizer=regularizer, name=\"Dense1\"))\n",
    "model.add(BatchNormalization(name=\"BatchNorm1\"))\n",
    "model.add(Dropout(dropout_rate, name=\"Dropout1\"))\n",
    "\n",
    "model.add(Dense(units=units[1], activation='relu', kernel_initializer='he_normal', kernel_regularizer=regularizer, name=\"Dense2\"))\n",
    "model.add(BatchNormalization(name=\"BatchNorm2\"))\n",
    "model.add(Dropout(dropout_rate, name=\"Dropout2\"))\n",
    "\n",
    "model.add(Dense(units=units[2], activation='relu', kernel_initializer='he_normal', kernel_regularizer=regularizer, name=\"Dense3\")) \n",
    "model.add(BatchNormalization(name=\"BatchNorm3\"))\n",
    "model.add(Dropout(dropout_rate, name=\"Dropout3\"))\n",
    "\n",
    "model.add(Dense(units=units[3], activation='relu', kernel_initializer='he_normal', kernel_regularizer=regularizer, name=\"Dense4\")) \n",
    "model.add(BatchNormalization(name=\"BatchNorm4\"))\n",
    "\n",
    "\n",
    "model.add(Dense(units=1, activation='sigmoid',kernel_initializer='glorot_uniform',  name=\"Output\"))\n",
    "\n",
    "# Compile model\n",
    "model.compile(\n",
    "    optimizer=Adam(learning_rate=1e-5),\n",
    "    loss=BinaryFocalCrossentropy(),\n",
    "    metrics=['accuracy']\n",
    "    )\n",
    "\n",
    "\n",
    "\n",
    "early_stopping = EarlyStopping(monitor='val_loss', patience=3, restore_best_weights=True)\n",
    "\n",
    "history = model.fit(\n",
    "    X_train_scld.values,\n",
    "    y_resampled.values,\n",
    "    epochs=10,\n",
    "    batch_size=64,\n",
    "    validation_split=0.2,\n",
    "    shuffle=True,\n",
    "    #callbacks=[early_stopping]\n",
    "    )"
   ]
  },
  {
   "cell_type": "code",
   "execution_count": null,
   "id": "1a94da07",
   "metadata": {},
   "outputs": [
    {
     "data": {
      "image/png": "[encoded data removed]",
      "text/plain": [
       "<Figure size 1200x500 with 2 Axes>"
      ]
     },
     "metadata": {},
     "output_type": "display_data"
    }
   ],
   "source": [
    "plot_history(history, 'accuracy')"
   ]
  },
  {
   "cell_type": "code",
   "execution_count": 64,
   "id": "f1dc2455",
   "metadata": {},
   "outputs": [
    {
     "name": "stdout",
     "output_type": "stream",
     "text": [
      "1290/1290 [==============================] - 4s 3ms/step\n"
     ]
    }
   ],
   "source": [
    "pred = model.predict(X_test_scld.values)"
   ]
  },
  {
   "cell_type": "markdown",
   "id": "a08721bb",
   "metadata": {},
   "source": [
    "# Score"
   ]
  },
  {
   "cell_type": "code",
   "execution_count": 65,
   "id": "f51ca946",
   "metadata": {},
   "outputs": [
    {
     "name": "stdout",
     "output_type": "stream",
     "text": [
      "Roc Auc Score : 0.817364\n"
     ]
    }
   ],
   "source": [
    "RocScore  = roc_auc_score(y_test, pred[:,0])\n",
    "print(f'Roc Auc Score : {RocScore:.6f}')"
   ]
  },
  {
   "cell_type": "code",
   "execution_count": 66,
   "id": "52426c95",
   "metadata": {},
   "outputs": [
    {
     "data": {
      "text/plain": [
       "<sklearn.metrics._plot.roc_curve.RocCurveDisplay at 0x4c4047bd0>"
      ]
     },
     "execution_count": 66,
     "metadata": {},
     "output_type": "execute_result"
    },
    {
     "data": {
      "image/png": "[encoded data removed]",
      "text/plain": [
       "<Figure size 640x480 with 1 Axes>"
      ]
     },
     "metadata": {},
     "output_type": "display_data"
    }
   ],
   "source": [
    "RocCurveDisplay.from_predictions(y_test,pred)"
   ]
  },
  {
   "cell_type": "code",
   "execution_count": 74,
   "id": "2cc9c801",
   "metadata": {},
   "outputs": [
    {
     "data": {
      "text/plain": [
       "<sklearn.metrics._plot.confusion_matrix.ConfusionMatrixDisplay at 0x4063b6110>"
      ]
     },
     "execution_count": 74,
     "metadata": {},
     "output_type": "execute_result"
    },
    {
     "data": {
      "image/png": "[encoded data removed]",
      "text/plain": [
       "<Figure size 640x480 with 2 Axes>"
      ]
     },
     "metadata": {},
     "output_type": "display_data"
    }
   ],
   "source": [
    "ConfusionMatrixDisplay(confusion_matrix(y_test,pred[:,0]>0.5, normalize='true')).plot()"
   ]
  },
  {
   "cell_type": "markdown",
   "id": "b880f7fb",
   "metadata": {},
   "source": [
    "# Submission"
   ]
  },
  {
   "cell_type": "code",
   "execution_count": null,
   "id": "9393658a",
   "metadata": {},
   "outputs": [],
   "source": [
    "X_val_scld = prepro.transform(test)"
   ]
  },
  {
   "cell_type": "code",
   "execution_count": null,
   "id": "b927754e",
   "metadata": {},
   "outputs": [],
   "source": [
    "submission = pd.read_csv(\"data/sample_submission.csv\", index_col='id')"
   ]
  },
  {
   "cell_type": "code",
   "execution_count": null,
   "id": "ae796018",
   "metadata": {},
   "outputs": [
    {
     "name": "stderr",
     "output_type": "stream",
     "text": [
      "/Users/marc/Library/Mobile Documents/com~apple~CloudDocs/Projects/Playground/playgroundseries_s4e1/.venv/lib/python3.10/site-packages/sklearn/base.py:458: UserWarning: X has feature names, but MLPClassifier was fitted without feature names\n",
      "  warnings.warn(\n"
     ]
    }
   ],
   "source": [
    "submission.loc[:,'Exited'] = nn.predict_proba(X_val_scld)[:,1]"
   ]
  },
  {
   "cell_type": "code",
   "execution_count": null,
   "id": "6ec16618",
   "metadata": {},
   "outputs": [
    {
     "data": {
      "text/html": [
       "<div>\n",
       "<style scoped>\n",
       "    .dataframe tbody tr th:only-of-type {\n",
       "        vertical-align: middle;\n",
       "    }\n",
       "\n",
       "    .dataframe tbody tr th {\n",
       "        vertical-align: top;\n",
       "    }\n",
       "\n",
       "    .dataframe thead th {\n",
       "        text-align: right;\n",
       "    }\n",
       "</style>\n",
       "<table border=\"1\" class=\"dataframe\">\n",
       "  <thead>\n",
       "    <tr style=\"text-align: right;\">\n",
       "      <th></th>\n",
       "      <th>Exited</th>\n",
       "    </tr>\n",
       "    <tr>\n",
       "      <th>id</th>\n",
       "      <th></th>\n",
       "    </tr>\n",
       "  </thead>\n",
       "  <tbody>\n",
       "    <tr>\n",
       "      <th>165034</th>\n",
       "      <td>0.085936</td>\n",
       "    </tr>\n",
       "    <tr>\n",
       "      <th>165035</th>\n",
       "      <td>0.947197</td>\n",
       "    </tr>\n",
       "    <tr>\n",
       "      <th>165036</th>\n",
       "      <td>0.079534</td>\n",
       "    </tr>\n",
       "    <tr>\n",
       "      <th>165037</th>\n",
       "      <td>0.519489</td>\n",
       "    </tr>\n",
       "    <tr>\n",
       "      <th>165038</th>\n",
       "      <td>0.638603</td>\n",
       "    </tr>\n",
       "    <tr>\n",
       "      <th>...</th>\n",
       "      <td>...</td>\n",
       "    </tr>\n",
       "    <tr>\n",
       "      <th>275052</th>\n",
       "      <td>0.132850</td>\n",
       "    </tr>\n",
       "    <tr>\n",
       "      <th>275053</th>\n",
       "      <td>0.217605</td>\n",
       "    </tr>\n",
       "    <tr>\n",
       "      <th>275054</th>\n",
       "      <td>0.071276</td>\n",
       "    </tr>\n",
       "    <tr>\n",
       "      <th>275055</th>\n",
       "      <td>0.381622</td>\n",
       "    </tr>\n",
       "    <tr>\n",
       "      <th>275056</th>\n",
       "      <td>0.496457</td>\n",
       "    </tr>\n",
       "  </tbody>\n",
       "</table>\n",
       "<p>110023 rows × 1 columns</p>\n",
       "</div>"
      ],
      "text/plain": [
       "          Exited\n",
       "id              \n",
       "165034  0.085936\n",
       "165035  0.947197\n",
       "165036  0.079534\n",
       "165037  0.519489\n",
       "165038  0.638603\n",
       "...          ...\n",
       "275052  0.132850\n",
       "275053  0.217605\n",
       "275054  0.071276\n",
       "275055  0.381622\n",
       "275056  0.496457\n",
       "\n",
       "[110023 rows x 1 columns]"
      ]
     },
     "execution_count": 20,
     "metadata": {},
     "output_type": "execute_result"
    }
   ],
   "source": [
    "submission"
   ]
  },
  {
   "cell_type": "code",
   "execution_count": null,
   "id": "d93b07d8",
   "metadata": {},
   "outputs": [],
   "source": [
    "name = dt.now().strftime(\"%Y%m%d_%H%M\")"
   ]
  },
  {
   "cell_type": "code",
   "execution_count": null,
   "id": "eed84da8",
   "metadata": {},
   "outputs": [],
   "source": [
    "#submission.to_csv(f\"submission/{name}.csv\")"
   ]
  },
  {
   "cell_type": "code",
   "execution_count": null,
   "id": "e7ef458e",
   "metadata": {},
   "outputs": [],
   "source": []
  }
 ],
 "metadata": {
  "kernelspec": {
   "display_name": "Python 3",
   "language": "python",
   "name": "python3"
  },
  "language_info": {
   "codemirror_mode": {
    "name": "ipython",
    "version": 3
   },
   "file_extension": ".py",
   "mimetype": "text/x-python",
   "name": "python",
   "nbconvert_exporter": "python",
   "pygments_lexer": "ipython3",
   "version": "3.11.7"
  }
 },
 "nbformat": 4,
 "nbformat_minor": 5
}
