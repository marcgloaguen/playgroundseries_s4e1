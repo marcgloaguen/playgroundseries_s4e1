{
 "cells": [
  {
   "cell_type": "code",
   "execution_count": 2,
   "id": "initial_id",
   "metadata": {
    "collapsed": true,
    "is_executing": true
   },
   "outputs": [],
   "source": [
    "from datetime import datetime as dt\n",
    "from preprocessing import Preprocessing\n",
    "import pandas as pd\n",
    "import numpy as np\n",
    "from sklearn.model_selection import train_test_split, GridSearchCV\n",
    "from sklearn.utils import shuffle\n",
    "import matplotlib.pyplot as plt\n",
    "from sklearn.metrics import confusion_matrix, ConfusionMatrixDisplay, classification_report, roc_auc_score, RocCurveDisplay\n",
    "from imblearn.under_sampling import RandomUnderSampler"
   ]
  },
  {
   "cell_type": "code",
   "execution_count": 3,
   "id": "62b0fc85",
   "metadata": {},
   "outputs": [
    {
     "data": {
      "text/plain": [
       "[PhysicalDevice(name='/physical_device:CPU:0', device_type='CPU'),\n",
       " PhysicalDevice(name='/physical_device:GPU:0', device_type='GPU')]"
      ]
     },
     "execution_count": 3,
     "metadata": {},
     "output_type": "execute_result"
    }
   ],
   "source": [
    "import tensorflow as tf\n",
    "tf.config.list_physical_devices()"
   ]
  },
  {
   "cell_type": "code",
   "execution_count": 75,
   "id": "8d96dbd9",
   "metadata": {},
   "outputs": [],
   "source": [
    "from keras import Sequential\n",
    "from keras.layers import Dense, Dropout, BatchNormalization\n",
    "from keras.metrics import AUC\n",
    "from keras.optimizers.legacy import Adam\n",
    "from keras.callbacks import EarlyStopping\n",
    "from keras.losses import BinaryFocalCrossentropy\n",
    "from keras.regularizers import l2"
   ]
  },
  {
   "cell_type": "code",
   "execution_count": null,
   "metadata": {},
   "outputs": [],
   "source": [
    "def plot_history(history, metric='accuracy'):\n",
    "    x = range(1, len(history.history[metric]) + 1)\n",
    "    plt.figure(figsize=(12, 5))\n",
    "    plt.subplot(1, 2, 1)\n",
    "    \n",
    "    plt.plot(history.history['loss'], 'b', label='Training loss')\n",
    "    plt.plot(history.history['val_loss'], 'r', label='Validation loss')\n",
    "    plt.title('Training and validation loss')\n",
    "    plt.legend()\n",
    "    \n",
    "    plt.subplot(1, 2, 2)\n",
    "    plt.plot(history.history[metric], 'b', label='Training accuracy')\n",
    "    plt.plot(history.history[f'val_{metric}'],'r', label='Validation accuracy')\n",
    "    plt.title('Training and validation auc')\n",
    "    plt.legend()"
   ]
  },
  {
   "cell_type": "markdown",
   "id": "35014792",
   "metadata": {},
   "source": [
    "# Preprocessing"
   ]
  },
  {
   "cell_type": "code",
   "execution_count": 5,
   "id": "eb5135aed6eafd16",
   "metadata": {
    "collapsed": false
   },
   "outputs": [],
   "source": [
    "col_drop = ['CustomerId','Surname']\n",
    "types = {\n",
    "    'HasCrCard':bool,\n",
    "    'IsActiveMember':bool\n",
    "}\n",
    "train = pd.read_csv('data/train.csv', index_col='id', dtype=types).drop(columns=col_drop)\n",
    "test = pd.read_csv('data/test.csv', index_col='id', dtype=types).drop(columns=col_drop)"
   ]
  },
  {
   "cell_type": "code",
   "execution_count": 6,
   "id": "b74cdea0",
   "metadata": {},
   "outputs": [
    {
     "data": {
      "text/plain": [
       "(165034, 11)"
      ]
     },
     "execution_count": 6,
     "metadata": {},
     "output_type": "execute_result"
    }
   ],
   "source": [
    "train.shape"
   ]
  },
  {
   "cell_type": "code",
   "execution_count": 7,
   "id": "4eb5e3b5",
   "metadata": {},
   "outputs": [],
   "source": [
    "X = train.drop(columns='Exited')\n",
    "y = train.Exited"
   ]
  },
  {
   "cell_type": "code",
   "execution_count": 8,
   "id": "8e8579c5",
   "metadata": {},
   "outputs": [],
   "source": [
    "X_train, X_test, y_train, y_test = train_test_split(X,y,stratify=y)"
   ]
  },
  {
   "cell_type": "code",
   "execution_count": 9,
   "id": "e5b3b52b",
   "metadata": {},
   "outputs": [],
   "source": [
    "rus = RandomUnderSampler(random_state=42)\n",
    "X_resampled, y_resampled = rus.fit_resample(X_train, y_train)"
   ]
  },
  {
   "cell_type": "code",
   "execution_count": 10,
   "id": "3cdbf7b1",
   "metadata": {},
   "outputs": [
    {
     "data": {
      "text/plain": [
       "Exited\n",
       "0    0.5\n",
       "1    0.5\n",
       "Name: proportion, dtype: float64"
      ]
     },
     "execution_count": 10,
     "metadata": {},
     "output_type": "execute_result"
    }
   ],
   "source": [
    "y_resampled.value_counts(True)"
   ]
  },
  {
   "cell_type": "code",
   "execution_count": 11,
   "id": "e56a9c8daf9db45c",
   "metadata": {
    "collapsed": false
   },
   "outputs": [],
   "source": [
    "prepro = Preprocessing()"
   ]
  },
  {
   "cell_type": "code",
   "execution_count": 12,
   "id": "8cd6f7cd",
   "metadata": {},
   "outputs": [],
   "source": [
    "X_train_scld = prepro.fit_transform(X_resampled).astype(float)\n",
    "X_test_scld = prepro.transform(X_test).astype(float)"
   ]
  },
  {
   "cell_type": "code",
   "execution_count": 13,
   "id": "b8129589",
   "metadata": {},
   "outputs": [
    {
     "data": {
      "text/html": [
       "<div>\n",
       "<style scoped>\n",
       "    .dataframe tbody tr th:only-of-type {\n",
       "        vertical-align: middle;\n",
       "    }\n",
       "\n",
       "    .dataframe tbody tr th {\n",
       "        vertical-align: top;\n",
       "    }\n",
       "\n",
       "    .dataframe thead th {\n",
       "        text-align: right;\n",
       "    }\n",
       "</style>\n",
       "<table border=\"1\" class=\"dataframe\">\n",
       "  <thead>\n",
       "    <tr style=\"text-align: right;\">\n",
       "      <th></th>\n",
       "      <th>CreditScore</th>\n",
       "      <th>Gender</th>\n",
       "      <th>Age</th>\n",
       "      <th>Tenure</th>\n",
       "      <th>Balance</th>\n",
       "      <th>NumOfProducts</th>\n",
       "      <th>HasCrCard</th>\n",
       "      <th>IsActiveMember</th>\n",
       "      <th>EstimatedSalary</th>\n",
       "      <th>Geography_France</th>\n",
       "      <th>Geography_Germany</th>\n",
       "      <th>Geography_Spain</th>\n",
       "    </tr>\n",
       "    <tr>\n",
       "      <th>id</th>\n",
       "      <th></th>\n",
       "      <th></th>\n",
       "      <th></th>\n",
       "      <th></th>\n",
       "      <th></th>\n",
       "      <th></th>\n",
       "      <th></th>\n",
       "      <th></th>\n",
       "      <th></th>\n",
       "      <th></th>\n",
       "      <th></th>\n",
       "      <th></th>\n",
       "    </tr>\n",
       "  </thead>\n",
       "  <tbody>\n",
       "    <tr>\n",
       "      <th>61983</th>\n",
       "      <td>-0.442478</td>\n",
       "      <td>1.0</td>\n",
       "      <td>0.083333</td>\n",
       "      <td>-1.00</td>\n",
       "      <td>1.184432</td>\n",
       "      <td>1.0</td>\n",
       "      <td>1.0</td>\n",
       "      <td>0.0</td>\n",
       "      <td>0.576480</td>\n",
       "      <td>0.0</td>\n",
       "      <td>1.0</td>\n",
       "      <td>0.0</td>\n",
       "    </tr>\n",
       "    <tr>\n",
       "      <th>163947</th>\n",
       "      <td>0.194690</td>\n",
       "      <td>1.0</td>\n",
       "      <td>-0.666667</td>\n",
       "      <td>0.25</td>\n",
       "      <td>0.000000</td>\n",
       "      <td>1.0</td>\n",
       "      <td>1.0</td>\n",
       "      <td>0.0</td>\n",
       "      <td>0.264007</td>\n",
       "      <td>1.0</td>\n",
       "      <td>0.0</td>\n",
       "      <td>0.0</td>\n",
       "    </tr>\n",
       "    <tr>\n",
       "      <th>112614</th>\n",
       "      <td>-0.327434</td>\n",
       "      <td>1.0</td>\n",
       "      <td>2.833333</td>\n",
       "      <td>1.00</td>\n",
       "      <td>1.020563</td>\n",
       "      <td>1.0</td>\n",
       "      <td>1.0</td>\n",
       "      <td>1.0</td>\n",
       "      <td>-0.822888</td>\n",
       "      <td>1.0</td>\n",
       "      <td>0.0</td>\n",
       "      <td>0.0</td>\n",
       "    </tr>\n",
       "    <tr>\n",
       "      <th>156594</th>\n",
       "      <td>-0.247788</td>\n",
       "      <td>0.0</td>\n",
       "      <td>1.666667</td>\n",
       "      <td>-0.25</td>\n",
       "      <td>0.000000</td>\n",
       "      <td>1.0</td>\n",
       "      <td>1.0</td>\n",
       "      <td>1.0</td>\n",
       "      <td>0.550116</td>\n",
       "      <td>1.0</td>\n",
       "      <td>0.0</td>\n",
       "      <td>0.0</td>\n",
       "    </tr>\n",
       "    <tr>\n",
       "      <th>70645</th>\n",
       "      <td>-0.601770</td>\n",
       "      <td>1.0</td>\n",
       "      <td>-0.583333</td>\n",
       "      <td>0.50</td>\n",
       "      <td>0.000000</td>\n",
       "      <td>1.0</td>\n",
       "      <td>1.0</td>\n",
       "      <td>1.0</td>\n",
       "      <td>-0.448231</td>\n",
       "      <td>1.0</td>\n",
       "      <td>0.0</td>\n",
       "      <td>0.0</td>\n",
       "    </tr>\n",
       "    <tr>\n",
       "      <th>...</th>\n",
       "      <td>...</td>\n",
       "      <td>...</td>\n",
       "      <td>...</td>\n",
       "      <td>...</td>\n",
       "      <td>...</td>\n",
       "      <td>...</td>\n",
       "      <td>...</td>\n",
       "      <td>...</td>\n",
       "      <td>...</td>\n",
       "      <td>...</td>\n",
       "      <td>...</td>\n",
       "      <td>...</td>\n",
       "    </tr>\n",
       "    <tr>\n",
       "      <th>159203</th>\n",
       "      <td>-0.380531</td>\n",
       "      <td>0.0</td>\n",
       "      <td>-0.583333</td>\n",
       "      <td>-1.25</td>\n",
       "      <td>1.004552</td>\n",
       "      <td>0.0</td>\n",
       "      <td>0.0</td>\n",
       "      <td>1.0</td>\n",
       "      <td>-0.044463</td>\n",
       "      <td>0.0</td>\n",
       "      <td>0.0</td>\n",
       "      <td>1.0</td>\n",
       "    </tr>\n",
       "    <tr>\n",
       "      <th>74782</th>\n",
       "      <td>-0.734513</td>\n",
       "      <td>0.0</td>\n",
       "      <td>0.916667</td>\n",
       "      <td>-0.75</td>\n",
       "      <td>0.000000</td>\n",
       "      <td>3.0</td>\n",
       "      <td>1.0</td>\n",
       "      <td>1.0</td>\n",
       "      <td>-0.720013</td>\n",
       "      <td>1.0</td>\n",
       "      <td>0.0</td>\n",
       "      <td>0.0</td>\n",
       "    </tr>\n",
       "    <tr>\n",
       "      <th>34349</th>\n",
       "      <td>0.646018</td>\n",
       "      <td>0.0</td>\n",
       "      <td>0.500000</td>\n",
       "      <td>-1.00</td>\n",
       "      <td>1.316535</td>\n",
       "      <td>0.0</td>\n",
       "      <td>1.0</td>\n",
       "      <td>0.0</td>\n",
       "      <td>0.638879</td>\n",
       "      <td>0.0</td>\n",
       "      <td>1.0</td>\n",
       "      <td>0.0</td>\n",
       "    </tr>\n",
       "    <tr>\n",
       "      <th>122236</th>\n",
       "      <td>0.274336</td>\n",
       "      <td>0.0</td>\n",
       "      <td>0.750000</td>\n",
       "      <td>0.25</td>\n",
       "      <td>0.000000</td>\n",
       "      <td>1.0</td>\n",
       "      <td>1.0</td>\n",
       "      <td>0.0</td>\n",
       "      <td>0.115506</td>\n",
       "      <td>0.0</td>\n",
       "      <td>0.0</td>\n",
       "      <td>1.0</td>\n",
       "    </tr>\n",
       "    <tr>\n",
       "      <th>117471</th>\n",
       "      <td>0.221239</td>\n",
       "      <td>0.0</td>\n",
       "      <td>1.750000</td>\n",
       "      <td>0.25</td>\n",
       "      <td>1.257241</td>\n",
       "      <td>2.0</td>\n",
       "      <td>1.0</td>\n",
       "      <td>0.0</td>\n",
       "      <td>-0.010395</td>\n",
       "      <td>0.0</td>\n",
       "      <td>1.0</td>\n",
       "      <td>0.0</td>\n",
       "    </tr>\n",
       "  </tbody>\n",
       "</table>\n",
       "<p>52382 rows × 12 columns</p>\n",
       "</div>"
      ],
      "text/plain": [
       "        CreditScore  Gender       Age  Tenure   Balance  NumOfProducts  \\\n",
       "id                                                                       \n",
       "61983     -0.442478     1.0  0.083333   -1.00  1.184432            1.0   \n",
       "163947     0.194690     1.0 -0.666667    0.25  0.000000            1.0   \n",
       "112614    -0.327434     1.0  2.833333    1.00  1.020563            1.0   \n",
       "156594    -0.247788     0.0  1.666667   -0.25  0.000000            1.0   \n",
       "70645     -0.601770     1.0 -0.583333    0.50  0.000000            1.0   \n",
       "...             ...     ...       ...     ...       ...            ...   \n",
       "159203    -0.380531     0.0 -0.583333   -1.25  1.004552            0.0   \n",
       "74782     -0.734513     0.0  0.916667   -0.75  0.000000            3.0   \n",
       "34349      0.646018     0.0  0.500000   -1.00  1.316535            0.0   \n",
       "122236     0.274336     0.0  0.750000    0.25  0.000000            1.0   \n",
       "117471     0.221239     0.0  1.750000    0.25  1.257241            2.0   \n",
       "\n",
       "        HasCrCard  IsActiveMember  EstimatedSalary  Geography_France  \\\n",
       "id                                                                     \n",
       "61983         1.0             0.0         0.576480               0.0   \n",
       "163947        1.0             0.0         0.264007               1.0   \n",
       "112614        1.0             1.0        -0.822888               1.0   \n",
       "156594        1.0             1.0         0.550116               1.0   \n",
       "70645         1.0             1.0        -0.448231               1.0   \n",
       "...           ...             ...              ...               ...   \n",
       "159203        0.0             1.0        -0.044463               0.0   \n",
       "74782         1.0             1.0        -0.720013               1.0   \n",
       "34349         1.0             0.0         0.638879               0.0   \n",
       "122236        1.0             0.0         0.115506               0.0   \n",
       "117471        1.0             0.0        -0.010395               0.0   \n",
       "\n",
       "        Geography_Germany  Geography_Spain  \n",
       "id                                          \n",
       "61983                 1.0              0.0  \n",
       "163947                0.0              0.0  \n",
       "112614                0.0              0.0  \n",
       "156594                0.0              0.0  \n",
       "70645                 0.0              0.0  \n",
       "...                   ...              ...  \n",
       "159203                0.0              1.0  \n",
       "74782                 0.0              0.0  \n",
       "34349                 1.0              0.0  \n",
       "122236                0.0              1.0  \n",
       "117471                1.0              0.0  \n",
       "\n",
       "[52382 rows x 12 columns]"
      ]
     },
     "execution_count": 13,
     "metadata": {},
     "output_type": "execute_result"
    }
   ],
   "source": [
    "X_train_scld"
   ]
  },
  {
   "cell_type": "markdown",
   "id": "037d6c18",
   "metadata": {},
   "source": [
    "# Model"
   ]
  },
  {
   "cell_type": "code",
   "execution_count": 14,
   "id": "0c49222b",
   "metadata": {},
   "outputs": [
    {
     "data": {
      "text/plain": [
       "(52382, 12)"
      ]
     },
     "execution_count": 14,
     "metadata": {},
     "output_type": "execute_result"
    }
   ],
   "source": [
    "X_train_scld.shape"
   ]
  },
  {
   "cell_type": "code",
   "execution_count": 85,
   "id": "920dbcbd",
   "metadata": {},
   "outputs": [
    {
     "name": "stdout",
     "output_type": "stream",
     "text": [
      "Epoch 1/50\n",
      "1146/1146 [==============================] - 53s 45ms/step - loss: 5.3402 - auc: 0.5832 - val_loss: 4.9572 - val_auc: 0.0000e+00\n",
      "Epoch 2/50\n",
      "1146/1146 [==============================] - 52s 46ms/step - loss: 4.9372 - auc: 0.6924 - val_loss: 4.6528 - val_auc: 0.0000e+00\n",
      "Epoch 3/50\n",
      "1146/1146 [==============================] - 52s 46ms/step - loss: 4.6464 - auc: 0.7360 - val_loss: 4.4370 - val_auc: 0.0000e+00\n",
      "Epoch 4/50\n",
      "1146/1146 [==============================] - 53s 47ms/step - loss: 4.3887 - auc: 0.7533 - val_loss: 4.2120 - val_auc: 0.0000e+00\n",
      "Epoch 5/50\n",
      "1146/1146 [==============================] - 54s 47ms/step - loss: 4.1478 - auc: 0.7675 - val_loss: 4.0317 - val_auc: 0.0000e+00\n",
      "Epoch 6/50\n",
      "1146/1146 [==============================] - 51s 45ms/step - loss: 3.9194 - auc: 0.7766 - val_loss: 3.8196 - val_auc: 0.0000e+00\n",
      "Epoch 7/50\n",
      "1146/1146 [==============================] - 51s 44ms/step - loss: 3.7075 - auc: 0.7819 - val_loss: 3.6575 - val_auc: 0.0000e+00\n",
      "Epoch 8/50\n",
      "1146/1146 [==============================] - 51s 44ms/step - loss: 3.5078 - auc: 0.7864 - val_loss: 3.4940 - val_auc: 0.0000e+00\n",
      "Epoch 9/50\n",
      "1146/1146 [==============================] - 51s 45ms/step - loss: 3.3196 - auc: 0.7908 - val_loss: 3.3476 - val_auc: 0.0000e+00\n",
      "Epoch 10/50\n",
      "1146/1146 [==============================] - 50s 44ms/step - loss: 3.1464 - auc: 0.7908 - val_loss: 3.2028 - val_auc: 0.0000e+00\n",
      "Epoch 11/50\n",
      "1146/1146 [==============================] - 52s 45ms/step - loss: 2.9782 - auc: 0.7965 - val_loss: 3.0626 - val_auc: 0.0000e+00\n"
     ]
    }
   ],
   "source": [
    "model = Sequential(name=\"BankChurn\")\n",
    "model.add(Dense(units=128, activation='relu', kernel_initializer='he_normal', kernel_regularizer=l2(0.01), input_dim=12, name=\"Dense1\"))\n",
    "model.add(BatchNormalization(name=\"BatchNorm1\"))\n",
    "model.add(Dropout(0.1, name=\"Dropout1\"))\n",
    "\n",
    "model.add(Dense(units=64, activation='relu', kernel_initializer='he_normal', kernel_regularizer=l2(0.01), name=\"Dense2\"))\n",
    "model.add(BatchNormalization(name=\"BatchNorm2\"))\n",
    "model.add(Dropout(0.1, name=\"Dropout2\"))\n",
    "\n",
    "model.add(Dense(units=32, activation='relu', kernel_initializer='he_normal', kernel_regularizer=l2(0.01), name=\"Dense3\"))\n",
    "model.add(BatchNormalization(name=\"BatchNorm3\"))\n",
    "model.add(Dropout(0.1, name=\"Dropout3\"))\n",
    "\n",
    "model.add(Dense(units=16, activation='relu', kernel_initializer='he_normal', kernel_regularizer=l2(0.01), name=\"Dense4\")) \n",
    "model.add(BatchNormalization(name=\"BatchNorm4\"))\n",
    "\n",
    "model.add(Dense(units=1, activation='sigmoid',kernel_initializer='glorot_uniform',  name=\"Output\"))\n",
    "\n",
    "\n",
    "\n",
    "model.compile(\n",
    "    optimizer=Adam(learning_rate=1e-5),\n",
    "    loss='binary_crossentropy',\n",
    "    metrics=[AUC(name='auc')]\n",
    "    )\n",
    "\n",
    "early_stopping = EarlyStopping(monitor='val_auc', patience=10, restore_best_weights=True)\n",
    "\n",
    "history = model.fit(\n",
    "    X_train_scld.values,\n",
    "    y_resampled.values,\n",
    "    epochs=50,\n",
    "    batch_size=32,\n",
    "    validation_split=0.3,\n",
    "    callbacks=[early_stopping]\n",
    "    )"
   ]
  },
  {
   "cell_type": "code",
   "execution_count": null,
   "id": "f0825044",
   "metadata": {},
   "outputs": [
    {
     "data": {
      "image/png": "[encoded data removed]",
      "text/plain": [
       "<Figure size 1200x500 with 2 Axes>"
      ]
     },
     "metadata": {},
     "output_type": "display_data"
    }
   ],
   "source": [
    "plot_history(history, 'auc')"
   ]
  },
  {
   "cell_type": "code",
   "execution_count": 79,
   "id": "f1dc2455",
   "metadata": {},
   "outputs": [
    {
     "name": "stdout",
     "output_type": "stream",
     "text": [
      "1290/1290 [==============================] - 4s 3ms/step\n"
     ]
    }
   ],
   "source": [
    "pred = model.predict(X_test_scld.values)"
   ]
  },
  {
   "cell_type": "code",
   "execution_count": 80,
   "id": "cc143a09",
   "metadata": {},
   "outputs": [
    {
     "data": {
      "text/plain": [
       "array([0.8159248 , 0.09124052, 0.45246008, ..., 0.3086771 , 0.2069842 ,\n",
       "       0.19893448], dtype=float32)"
      ]
     },
     "execution_count": 80,
     "metadata": {},
     "output_type": "execute_result"
    }
   ],
   "source": [
    "pred[:,0]"
   ]
  },
  {
   "cell_type": "markdown",
   "id": "a08721bb",
   "metadata": {},
   "source": [
    "# Score"
   ]
  },
  {
   "cell_type": "code",
   "execution_count": 81,
   "id": "f51ca946",
   "metadata": {},
   "outputs": [
    {
     "name": "stdout",
     "output_type": "stream",
     "text": [
      "Roc Auc Score : 0.814240\n"
     ]
    }
   ],
   "source": [
    "RocScore  = roc_auc_score(y_test, pred[:,0])\n",
    "print(f'Roc Auc Score : {RocScore:.6f}')"
   ]
  },
  {
   "cell_type": "code",
   "execution_count": 82,
   "id": "52426c95",
   "metadata": {},
   "outputs": [
    {
     "data": {
      "text/plain": [
       "<sklearn.metrics._plot.roc_curve.RocCurveDisplay at 0x3d682b6d0>"
      ]
     },
     "execution_count": 82,
     "metadata": {},
     "output_type": "execute_result"
    },
    {
     "data": {
      "image/png": "[encoded data removed]",
      "text/plain": [
       "<Figure size 640x480 with 1 Axes>"
      ]
     },
     "metadata": {},
     "output_type": "display_data"
    }
   ],
   "source": [
    "RocCurveDisplay.from_predictions(y_test,pred)"
   ]
  },
  {
   "cell_type": "code",
   "execution_count": 74,
   "id": "2cc9c801",
   "metadata": {},
   "outputs": [
    {
     "data": {
      "text/plain": [
       "<sklearn.metrics._plot.confusion_matrix.ConfusionMatrixDisplay at 0x4063b6110>"
      ]
     },
     "execution_count": 74,
     "metadata": {},
     "output_type": "execute_result"
    },
    {
     "data": {
      "image/png": "[encoded data removed]",
      "text/plain": [
       "<Figure size 640x480 with 2 Axes>"
      ]
     },
     "metadata": {},
     "output_type": "display_data"
    }
   ],
   "source": [
    "ConfusionMatrixDisplay(confusion_matrix(y_test,pred[:,0]>0.5, normalize='true')).plot()"
   ]
  },
  {
   "cell_type": "markdown",
   "id": "b880f7fb",
   "metadata": {},
   "source": [
    "# Submission"
   ]
  },
  {
   "cell_type": "code",
   "execution_count": null,
   "id": "9393658a",
   "metadata": {},
   "outputs": [],
   "source": [
    "X_val_scld = prepro.transform(test)"
   ]
  },
  {
   "cell_type": "code",
   "execution_count": null,
   "id": "b927754e",
   "metadata": {},
   "outputs": [],
   "source": [
    "submission = pd.read_csv(\"data/sample_submission.csv\", index_col='id')"
   ]
  },
  {
   "cell_type": "code",
   "execution_count": null,
   "id": "ae796018",
   "metadata": {},
   "outputs": [
    {
     "name": "stderr",
     "output_type": "stream",
     "text": [
      "/Users/marc/Library/Mobile Documents/com~apple~CloudDocs/Projects/Playground/playgroundseries_s4e1/.venv/lib/python3.10/site-packages/sklearn/base.py:458: UserWarning: X has feature names, but MLPClassifier was fitted without feature names\n",
      "  warnings.warn(\n"
     ]
    }
   ],
   "source": [
    "submission.loc[:,'Exited'] = nn.predict_proba(X_val_scld)[:,1]"
   ]
  },
  {
   "cell_type": "code",
   "execution_count": null,
   "id": "6ec16618",
   "metadata": {},
   "outputs": [
    {
     "data": {
      "text/html": [
       "<div>\n",
       "<style scoped>\n",
       "    .dataframe tbody tr th:only-of-type {\n",
       "        vertical-align: middle;\n",
       "    }\n",
       "\n",
       "    .dataframe tbody tr th {\n",
       "        vertical-align: top;\n",
       "    }\n",
       "\n",
       "    .dataframe thead th {\n",
       "        text-align: right;\n",
       "    }\n",
       "</style>\n",
       "<table border=\"1\" class=\"dataframe\">\n",
       "  <thead>\n",
       "    <tr style=\"text-align: right;\">\n",
       "      <th></th>\n",
       "      <th>Exited</th>\n",
       "    </tr>\n",
       "    <tr>\n",
       "      <th>id</th>\n",
       "      <th></th>\n",
       "    </tr>\n",
       "  </thead>\n",
       "  <tbody>\n",
       "    <tr>\n",
       "      <th>165034</th>\n",
       "      <td>0.085936</td>\n",
       "    </tr>\n",
       "    <tr>\n",
       "      <th>165035</th>\n",
       "      <td>0.947197</td>\n",
       "    </tr>\n",
       "    <tr>\n",
       "      <th>165036</th>\n",
       "      <td>0.079534</td>\n",
       "    </tr>\n",
       "    <tr>\n",
       "      <th>165037</th>\n",
       "      <td>0.519489</td>\n",
       "    </tr>\n",
       "    <tr>\n",
       "      <th>165038</th>\n",
       "      <td>0.638603</td>\n",
       "    </tr>\n",
       "    <tr>\n",
       "      <th>...</th>\n",
       "      <td>...</td>\n",
       "    </tr>\n",
       "    <tr>\n",
       "      <th>275052</th>\n",
       "      <td>0.132850</td>\n",
       "    </tr>\n",
       "    <tr>\n",
       "      <th>275053</th>\n",
       "      <td>0.217605</td>\n",
       "    </tr>\n",
       "    <tr>\n",
       "      <th>275054</th>\n",
       "      <td>0.071276</td>\n",
       "    </tr>\n",
       "    <tr>\n",
       "      <th>275055</th>\n",
       "      <td>0.381622</td>\n",
       "    </tr>\n",
       "    <tr>\n",
       "      <th>275056</th>\n",
       "      <td>0.496457</td>\n",
       "    </tr>\n",
       "  </tbody>\n",
       "</table>\n",
       "<p>110023 rows × 1 columns</p>\n",
       "</div>"
      ],
      "text/plain": [
       "          Exited\n",
       "id              \n",
       "165034  0.085936\n",
       "165035  0.947197\n",
       "165036  0.079534\n",
       "165037  0.519489\n",
       "165038  0.638603\n",
       "...          ...\n",
       "275052  0.132850\n",
       "275053  0.217605\n",
       "275054  0.071276\n",
       "275055  0.381622\n",
       "275056  0.496457\n",
       "\n",
       "[110023 rows x 1 columns]"
      ]
     },
     "execution_count": 20,
     "metadata": {},
     "output_type": "execute_result"
    }
   ],
   "source": [
    "submission"
   ]
  },
  {
   "cell_type": "code",
   "execution_count": null,
   "id": "d93b07d8",
   "metadata": {},
   "outputs": [],
   "source": [
    "name = dt.now().strftime(\"%Y%m%d_%H%M\")"
   ]
  },
  {
   "cell_type": "code",
   "execution_count": null,
   "id": "eed84da8",
   "metadata": {},
   "outputs": [],
   "source": [
    "#submission.to_csv(f\"submission/{name}.csv\")"
   ]
  },
  {
   "cell_type": "code",
   "execution_count": null,
   "id": "e7ef458e",
   "metadata": {},
   "outputs": [],
   "source": []
  }
 ],
 "metadata": {
  "kernelspec": {
   "display_name": "Python 3",
   "language": "python",
   "name": "python3"
  },
  "language_info": {
   "codemirror_mode": {
    "name": "ipython",
    "version": 3
   },
   "file_extension": ".py",
   "mimetype": "text/x-python",
   "name": "python",
   "nbconvert_exporter": "python",
   "pygments_lexer": "ipython3",
   "version": "3.11.7"
  }
 },
 "nbformat": 4,
 "nbformat_minor": 5
}
