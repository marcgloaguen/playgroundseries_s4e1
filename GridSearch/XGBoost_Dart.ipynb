{
 "cells": [
  {
   "cell_type": "code",
   "execution_count": 1,
   "metadata": {},
   "outputs": [],
   "source": [
    "import sys \n",
    "sys.path.append('..')"
   ]
  },
  {
   "cell_type": "code",
   "execution_count": 2,
   "metadata": {},
   "outputs": [],
   "source": [
    "import numpy as np\n",
    "import pandas as pd\n",
    "\n",
    "from preprocessing import Preprocessing\n",
    "from sklearn.model_selection import StratifiedKFold, GridSearchCV\n",
    "\n",
    "from xgboost import XGBClassifier"
   ]
  },
  {
   "cell_type": "code",
   "execution_count": 3,
   "metadata": {},
   "outputs": [],
   "source": [
    "col_drop = ['CustomerId','Surname']\n",
    "types = {\n",
    "    'HasCrCard':bool,\n",
    "    'IsActiveMember':bool\n",
    "}\n",
    "train = pd.read_csv('../data/train.csv', index_col='id', dtype=types).drop(columns=col_drop)\n",
    "train.drop_duplicates(inplace=True)\n",
    "X = train.drop(columns='Exited')\n",
    "y = train.Exited"
   ]
  },
  {
   "cell_type": "code",
   "execution_count": 4,
   "metadata": {},
   "outputs": [
    {
     "data": {
      "text/plain": [
       "(164911, 91)"
      ]
     },
     "execution_count": 4,
     "metadata": {},
     "output_type": "execute_result"
    }
   ],
   "source": [
    "prepro = Preprocessing()\n",
    "X_scld = prepro.fit_transform(X).astype(float)\n",
    "X_scld.shape"
   ]
  },
  {
   "cell_type": "code",
   "execution_count": 5,
   "metadata": {},
   "outputs": [],
   "source": [
    "skf = StratifiedKFold(n_splits=4, shuffle=True)\n",
    "WeightTarget = y.value_counts(True).to_dict()"
   ]
  },
  {
   "cell_type": "code",
   "execution_count": 6,
   "metadata": {},
   "outputs": [
    {
     "name": "stdout",
     "output_type": "stream",
     "text": [
      "Fitting 4 folds for each of 144 candidates, totalling 576 fits\n",
      "[CV 1/4; 1/144] START booster=dart, eval_metric=auc, learning_rate=0.1, max_depth=4, n_estimators=50, objective=binary:logistic, rate_drop=0.1, skip_drop=0.1, subsample=0.8\n",
      "[CV 2/4; 1/144] START booster=dart, eval_metric=auc, learning_rate=0.1, max_depth=4, n_estimators=50, objective=binary:logistic, rate_drop=0.1, skip_drop=0.1, subsample=0.8\n",
      "[CV 4/4; 1/144] START booster=dart, eval_metric=auc, learning_rate=0.1, max_depth=4, n_estimators=50, objective=binary:logistic, rate_drop=0.1, skip_drop=0.1, subsample=0.8\n",
      "[CV 1/4; 2/144] START booster=dart, eval_metric=auc, learning_rate=0.1, max_depth=4, n_estimators=50, objective=binary:logistic, rate_drop=0.1, skip_drop=0.1, subsample=0.9\n",
      "[CV 3/4; 2/144] START booster=dart, eval_metric=auc, learning_rate=0.1, max_depth=4, n_estimators=50, objective=binary:logistic, rate_drop=0.1, skip_drop=0.1, subsample=0.9\n",
      "[CV 3/4; 1/144] START booster=dart, eval_metric=auc, learning_rate=0.1, max_depth=4, n_estimators=50, objective=binary:logistic, rate_drop=0.1, skip_drop=0.1, subsample=0.8\n",
      "[CV 2/4; 3/144] START booster=dart, eval_metric=auc, learning_rate=0.1, max_depth=4, n_estimators=50, objective=binary:logistic, rate_drop=0.1, skip_drop=0.1, subsample=1.0\n",
      "[CV 2/4; 2/144] START booster=dart, eval_metric=auc, learning_rate=0.1, max_depth=4, n_estimators=50, objective=binary:logistic, rate_drop=0.1, skip_drop=0.1, subsample=0.9\n",
      "[CV 4/4; 2/144] START booster=dart, eval_metric=auc, learning_rate=0.1, max_depth=4, n_estimators=50, objective=binary:logistic, rate_drop=0.1, skip_drop=0.1, subsample=0.9\n",
      "[CV 1/4; 3/144] START booster=dart, eval_metric=auc, learning_rate=0.1, max_depth=4, n_estimators=50, objective=binary:logistic, rate_drop=0.1, skip_drop=0.1, subsample=1.0\n",
      "[CV 4/4; 3/144] START booster=dart, eval_metric=auc, learning_rate=0.1, max_depth=4, n_estimators=50, objective=binary:logistic, rate_drop=0.1, skip_drop=0.1, subsample=1.0\n",
      "[CV 3/4; 3/144] START booster=dart, eval_metric=auc, learning_rate=0.1, max_depth=4, n_estimators=50, objective=binary:logistic, rate_drop=0.1, skip_drop=0.1, subsample=1.0\n",
      "[CV 4/4; 2/144] END booster=dart, eval_metric=auc, learning_rate=0.1, max_depth=4, n_estimators=50, objective=binary:logistic, rate_drop=0.1, skip_drop=0.1, subsample=0.9;, score=0.886 total time=  37.3s\n",
      "[CV 1/4; 4/144] START booster=dart, eval_metric=auc, learning_rate=0.1, max_depth=4, n_estimators=50, objective=binary:logistic, rate_drop=0.1, skip_drop=0.2, subsample=0.8\n",
      "[CV 1/4; 2/144] END booster=dart, eval_metric=auc, learning_rate=0.1, max_depth=4, n_estimators=50, objective=binary:logistic, rate_drop=0.1, skip_drop=0.1, subsample=0.9;, score=0.885 total time=  37.6s\n",
      "[CV 3/4; 3/144] END booster=dart, eval_metric=auc, learning_rate=0.1, max_depth=4, n_estimators=50, objective=binary:logistic, rate_drop=0.1, skip_drop=0.1, subsample=1.0;, score=0.884 total time=  37.4s\n",
      "[CV 2/4; 3/144] END booster=dart, eval_metric=auc, learning_rate=0.1, max_depth=4, n_estimators=50, objective=binary:logistic, rate_drop=0.1, skip_drop=0.1, subsample=1.0;, score=0.889 total time=  37.5s\n",
      "[CV 2/4; 4/144] START booster=dart, eval_metric=auc, learning_rate=0.1, max_depth=4, n_estimators=50, objective=binary:logistic, rate_drop=0.1, skip_drop=0.2, subsample=0.8\n",
      "[CV 4/4; 1/144] END booster=dart, eval_metric=auc, learning_rate=0.1, max_depth=4, n_estimators=50, objective=binary:logistic, rate_drop=0.1, skip_drop=0.1, subsample=0.8;, score=0.886 total time=  37.7s\n",
      "[CV 3/4; 4/144] START booster=dart, eval_metric=auc, learning_rate=0.1, max_depth=4, n_estimators=50, objective=binary:logistic, rate_drop=0.1, skip_drop=0.2, subsample=0.8\n",
      "[CV 4/4; 3/144] END booster=dart, eval_metric=auc, learning_rate=0.1, max_depth=4, n_estimators=50, objective=binary:logistic, rate_drop=0.1, skip_drop=0.1, subsample=1.0;, score=0.886 total time=  37.5s\n",
      "[CV 4/4; 4/144] START booster=dart, eval_metric=auc, learning_rate=0.1, max_depth=4, n_estimators=50, objective=binary:logistic, rate_drop=0.1, skip_drop=0.2, subsample=0.8\n",
      "[CV 1/4; 1/144] END booster=dart, eval_metric=auc, learning_rate=0.1, max_depth=4, n_estimators=50, objective=binary:logistic, rate_drop=0.1, skip_drop=0.1, subsample=0.8;, score=0.886 total time=  37.7s\n",
      "[CV 1/4; 5/144] START booster=dart, eval_metric=auc, learning_rate=0.1, max_depth=4, n_estimators=50, objective=binary:logistic, rate_drop=0.1, skip_drop=0.2, subsample=0.9\n",
      "[CV 2/4; 5/144] START booster=dart, eval_metric=auc, learning_rate=0.1, max_depth=4, n_estimators=50, objective=binary:logistic, rate_drop=0.1, skip_drop=0.2, subsample=0.9\n",
      "[CV 3/4; 5/144] START booster=dart, eval_metric=auc, learning_rate=0.1, max_depth=4, n_estimators=50, objective=binary:logistic, rate_drop=0.1, skip_drop=0.2, subsample=0.9\n",
      "[CV 1/4; 3/144] END booster=dart, eval_metric=auc, learning_rate=0.1, max_depth=4, n_estimators=50, objective=binary:logistic, rate_drop=0.1, skip_drop=0.1, subsample=1.0;, score=0.886 total time=  37.7s\n",
      "[CV 4/4; 5/144] START booster=dart, eval_metric=auc, learning_rate=0.1, max_depth=4, n_estimators=50, objective=binary:logistic, rate_drop=0.1, skip_drop=0.2, subsample=0.9\n",
      "[CV 2/4; 2/144] END booster=dart, eval_metric=auc, learning_rate=0.1, max_depth=4, n_estimators=50, objective=binary:logistic, rate_drop=0.1, skip_drop=0.1, subsample=0.9;, score=0.888 total time=  49.7s\n",
      "[CV 1/4; 6/144] START booster=dart, eval_metric=auc, learning_rate=0.1, max_depth=4, n_estimators=50, objective=binary:logistic, rate_drop=0.1, skip_drop=0.2, subsample=1.0\n",
      "[CV 3/4; 1/144] END booster=dart, eval_metric=auc, learning_rate=0.1, max_depth=4, n_estimators=50, objective=binary:logistic, rate_drop=0.1, skip_drop=0.1, subsample=0.8;, score=0.883 total time=  50.1s\n",
      "[CV 2/4; 6/144] START booster=dart, eval_metric=auc, learning_rate=0.1, max_depth=4, n_estimators=50, objective=binary:logistic, rate_drop=0.1, skip_drop=0.2, subsample=1.0\n",
      "[CV 2/4; 1/144] END booster=dart, eval_metric=auc, learning_rate=0.1, max_depth=4, n_estimators=50, objective=binary:logistic, rate_drop=0.1, skip_drop=0.1, subsample=0.8;, score=0.888 total time=  50.3s\n",
      "[CV 3/4; 6/144] START booster=dart, eval_metric=auc, learning_rate=0.1, max_depth=4, n_estimators=50, objective=binary:logistic, rate_drop=0.1, skip_drop=0.2, subsample=1.0\n",
      "[CV 3/4; 2/144] END booster=dart, eval_metric=auc, learning_rate=0.1, max_depth=4, n_estimators=50, objective=binary:logistic, rate_drop=0.1, skip_drop=0.1, subsample=0.9;, score=0.883 total time=  50.7s\n",
      "[CV 4/4; 6/144] START booster=dart, eval_metric=auc, learning_rate=0.1, max_depth=4, n_estimators=50, objective=binary:logistic, rate_drop=0.1, skip_drop=0.2, subsample=1.0\n",
      "[CV 2/4; 5/144] END booster=dart, eval_metric=auc, learning_rate=0.1, max_depth=4, n_estimators=50, objective=binary:logistic, rate_drop=0.1, skip_drop=0.2, subsample=0.9;, score=0.889 total time=  36.7s\n",
      "[CV 1/4; 7/144] START booster=dart, eval_metric=auc, learning_rate=0.1, max_depth=4, n_estimators=50, objective=binary:logistic, rate_drop=0.2, skip_drop=0.1, subsample=0.8\n",
      "[CV 4/4; 5/144] END booster=dart, eval_metric=auc, learning_rate=0.1, max_depth=4, n_estimators=50, objective=binary:logistic, rate_drop=0.1, skip_drop=0.2, subsample=0.9;, score=0.886 total time=  42.5s\n",
      "[CV 2/4; 7/144] START booster=dart, eval_metric=auc, learning_rate=0.1, max_depth=4, n_estimators=50, objective=binary:logistic, rate_drop=0.2, skip_drop=0.1, subsample=0.8\n",
      "[CV 4/4; 4/144] END booster=dart, eval_metric=auc, learning_rate=0.1, max_depth=4, n_estimators=50, objective=binary:logistic, rate_drop=0.1, skip_drop=0.2, subsample=0.8;, score=0.886 total time=  43.1s\n",
      "[CV 3/4; 7/144] START booster=dart, eval_metric=auc, learning_rate=0.1, max_depth=4, n_estimators=50, objective=binary:logistic, rate_drop=0.2, skip_drop=0.1, subsample=0.8\n",
      "[CV 2/4; 4/144] END booster=dart, eval_metric=auc, learning_rate=0.1, max_depth=4, n_estimators=50, objective=binary:logistic, rate_drop=0.1, skip_drop=0.2, subsample=0.8;, score=0.889 total time=  43.4s\n",
      "[CV 1/4; 5/144] END booster=dart, eval_metric=auc, learning_rate=0.1, max_depth=4, n_estimators=50, objective=binary:logistic, rate_drop=0.1, skip_drop=0.2, subsample=0.9;, score=0.887 total time=  43.4s\n",
      "[CV 4/4; 7/144] START booster=dart, eval_metric=auc, learning_rate=0.1, max_depth=4, n_estimators=50, objective=binary:logistic, rate_drop=0.2, skip_drop=0.1, subsample=0.8\n",
      "[CV 1/4; 8/144] START booster=dart, eval_metric=auc, learning_rate=0.1, max_depth=4, n_estimators=50, objective=binary:logistic, rate_drop=0.2, skip_drop=0.1, subsample=0.9\n",
      "[CV 3/4; 5/144] END booster=dart, eval_metric=auc, learning_rate=0.1, max_depth=4, n_estimators=50, objective=binary:logistic, rate_drop=0.1, skip_drop=0.2, subsample=0.9;, score=0.884 total time=  43.5s\n",
      "[CV 2/4; 8/144] START booster=dart, eval_metric=auc, learning_rate=0.1, max_depth=4, n_estimators=50, objective=binary:logistic, rate_drop=0.2, skip_drop=0.1, subsample=0.9\n",
      "[CV 1/4; 4/144] END booster=dart, eval_metric=auc, learning_rate=0.1, max_depth=4, n_estimators=50, objective=binary:logistic, rate_drop=0.1, skip_drop=0.2, subsample=0.8;, score=0.887 total time=  43.9s\n",
      "[CV 3/4; 8/144] START booster=dart, eval_metric=auc, learning_rate=0.1, max_depth=4, n_estimators=50, objective=binary:logistic, rate_drop=0.2, skip_drop=0.1, subsample=0.9\n",
      "[CV 3/4; 4/144] END booster=dart, eval_metric=auc, learning_rate=0.1, max_depth=4, n_estimators=50, objective=binary:logistic, rate_drop=0.1, skip_drop=0.2, subsample=0.8;, score=0.884 total time=  43.9s\n",
      "[CV 4/4; 8/144] START booster=dart, eval_metric=auc, learning_rate=0.1, max_depth=4, n_estimators=50, objective=binary:logistic, rate_drop=0.2, skip_drop=0.1, subsample=0.9\n",
      "[CV 2/4; 6/144] END booster=dart, eval_metric=auc, learning_rate=0.1, max_depth=4, n_estimators=50, objective=binary:logistic, rate_drop=0.1, skip_drop=0.2, subsample=1.0;, score=0.888 total time=  42.8s\n",
      "[CV 1/4; 9/144] START booster=dart, eval_metric=auc, learning_rate=0.1, max_depth=4, n_estimators=50, objective=binary:logistic, rate_drop=0.2, skip_drop=0.1, subsample=1.0\n",
      "[CV 1/4; 6/144] END booster=dart, eval_metric=auc, learning_rate=0.1, max_depth=4, n_estimators=50, objective=binary:logistic, rate_drop=0.1, skip_drop=0.2, subsample=1.0;, score=0.886 total time=  43.2s\n",
      "[CV 3/4; 6/144] END booster=dart, eval_metric=auc, learning_rate=0.1, max_depth=4, n_estimators=50, objective=binary:logistic, rate_drop=0.1, skip_drop=0.2, subsample=1.0;, score=0.883 total time=  42.8s\n",
      "[CV 2/4; 9/144] START booster=dart, eval_metric=auc, learning_rate=0.1, max_depth=4, n_estimators=50, objective=binary:logistic, rate_drop=0.2, skip_drop=0.1, subsample=1.0\n",
      "[CV 3/4; 9/144] START booster=dart, eval_metric=auc, learning_rate=0.1, max_depth=4, n_estimators=50, objective=binary:logistic, rate_drop=0.2, skip_drop=0.1, subsample=1.0\n",
      "[CV 4/4; 6/144] END booster=dart, eval_metric=auc, learning_rate=0.1, max_depth=4, n_estimators=50, objective=binary:logistic, rate_drop=0.1, skip_drop=0.2, subsample=1.0;, score=0.886 total time=  43.1s\n",
      "[CV 4/4; 9/144] START booster=dart, eval_metric=auc, learning_rate=0.1, max_depth=4, n_estimators=50, objective=binary:logistic, rate_drop=0.2, skip_drop=0.1, subsample=1.0\n",
      "[CV 1/4; 7/144] END booster=dart, eval_metric=auc, learning_rate=0.1, max_depth=4, n_estimators=50, objective=binary:logistic, rate_drop=0.2, skip_drop=0.1, subsample=0.8;, score=0.884 total time=  39.4s\n",
      "[CV 1/4; 10/144] START booster=dart, eval_metric=auc, learning_rate=0.1, max_depth=4, n_estimators=50, objective=binary:logistic, rate_drop=0.2, skip_drop=0.2, subsample=0.8\n",
      "[CV 2/4; 7/144] END booster=dart, eval_metric=auc, learning_rate=0.1, max_depth=4, n_estimators=50, objective=binary:logistic, rate_drop=0.2, skip_drop=0.1, subsample=0.8;, score=0.886 total time=  39.2s\n",
      "[CV 2/4; 10/144] START booster=dart, eval_metric=auc, learning_rate=0.1, max_depth=4, n_estimators=50, objective=binary:logistic, rate_drop=0.2, skip_drop=0.2, subsample=0.8\n",
      "[CV 3/4; 8/144] END booster=dart, eval_metric=auc, learning_rate=0.1, max_depth=4, n_estimators=50, objective=binary:logistic, rate_drop=0.2, skip_drop=0.1, subsample=0.9;, score=0.880 total time=  38.6s\n",
      "[CV 3/4; 10/144] START booster=dart, eval_metric=auc, learning_rate=0.1, max_depth=4, n_estimators=50, objective=binary:logistic, rate_drop=0.2, skip_drop=0.2, subsample=0.8\n",
      "[CV 1/4; 8/144] END booster=dart, eval_metric=auc, learning_rate=0.1, max_depth=4, n_estimators=50, objective=binary:logistic, rate_drop=0.2, skip_drop=0.1, subsample=0.9;, score=0.883 total time=  39.0s\n",
      "[CV 4/4; 10/144] START booster=dart, eval_metric=auc, learning_rate=0.1, max_depth=4, n_estimators=50, objective=binary:logistic, rate_drop=0.2, skip_drop=0.2, subsample=0.8\n",
      "[CV 4/4; 8/144] END booster=dart, eval_metric=auc, learning_rate=0.1, max_depth=4, n_estimators=50, objective=binary:logistic, rate_drop=0.2, skip_drop=0.1, subsample=0.9;, score=0.882 total time=  38.6s\n",
      "[CV 3/4; 7/144] END booster=dart, eval_metric=auc, learning_rate=0.1, max_depth=4, n_estimators=50, objective=binary:logistic, rate_drop=0.2, skip_drop=0.1, subsample=0.8;, score=0.881 total time=  39.4s\n",
      "[CV 1/4; 11/144] START booster=dart, eval_metric=auc, learning_rate=0.1, max_depth=4, n_estimators=50, objective=binary:logistic, rate_drop=0.2, skip_drop=0.2, subsample=0.9\n",
      "[CV 2/4; 11/144] START booster=dart, eval_metric=auc, learning_rate=0.1, max_depth=4, n_estimators=50, objective=binary:logistic, rate_drop=0.2, skip_drop=0.2, subsample=0.9\n",
      "[CV 2/4; 8/144] END booster=dart, eval_metric=auc, learning_rate=0.1, max_depth=4, n_estimators=50, objective=binary:logistic, rate_drop=0.2, skip_drop=0.1, subsample=0.9;, score=0.886 total time=  39.1s\n",
      "[CV 3/4; 11/144] START booster=dart, eval_metric=auc, learning_rate=0.1, max_depth=4, n_estimators=50, objective=binary:logistic, rate_drop=0.2, skip_drop=0.2, subsample=0.9\n",
      "[CV 4/4; 7/144] END booster=dart, eval_metric=auc, learning_rate=0.1, max_depth=4, n_estimators=50, objective=binary:logistic, rate_drop=0.2, skip_drop=0.1, subsample=0.8;, score=0.883 total time=  39.4s\n",
      "[CV 4/4; 11/144] START booster=dart, eval_metric=auc, learning_rate=0.1, max_depth=4, n_estimators=50, objective=binary:logistic, rate_drop=0.2, skip_drop=0.2, subsample=0.9\n",
      "[CV 3/4; 9/144] END booster=dart, eval_metric=auc, learning_rate=0.1, max_depth=4, n_estimators=50, objective=binary:logistic, rate_drop=0.2, skip_drop=0.1, subsample=1.0;, score=0.881 total time=  40.1s\n",
      "[CV 1/4; 12/144] START booster=dart, eval_metric=auc, learning_rate=0.1, max_depth=4, n_estimators=50, objective=binary:logistic, rate_drop=0.2, skip_drop=0.2, subsample=1.0\n",
      "[CV 2/4; 9/144] END booster=dart, eval_metric=auc, learning_rate=0.1, max_depth=4, n_estimators=50, objective=binary:logistic, rate_drop=0.2, skip_drop=0.1, subsample=1.0;, score=0.887 total time=  40.2s\n",
      "[CV 2/4; 12/144] START booster=dart, eval_metric=auc, learning_rate=0.1, max_depth=4, n_estimators=50, objective=binary:logistic, rate_drop=0.2, skip_drop=0.2, subsample=1.0\n",
      "[CV 1/4; 9/144] END booster=dart, eval_metric=auc, learning_rate=0.1, max_depth=4, n_estimators=50, objective=binary:logistic, rate_drop=0.2, skip_drop=0.1, subsample=1.0;, score=0.884 total time=  40.4s\n",
      "[CV 3/4; 12/144] START booster=dart, eval_metric=auc, learning_rate=0.1, max_depth=4, n_estimators=50, objective=binary:logistic, rate_drop=0.2, skip_drop=0.2, subsample=1.0\n",
      "[CV 4/4; 9/144] END booster=dart, eval_metric=auc, learning_rate=0.1, max_depth=4, n_estimators=50, objective=binary:logistic, rate_drop=0.2, skip_drop=0.1, subsample=1.0;, score=0.884 total time=  40.2s\n",
      "[CV 4/4; 12/144] START booster=dart, eval_metric=auc, learning_rate=0.1, max_depth=4, n_estimators=50, objective=binary:logistic, rate_drop=0.2, skip_drop=0.2, subsample=1.0\n",
      "[CV 1/4; 10/144] END booster=dart, eval_metric=auc, learning_rate=0.1, max_depth=4, n_estimators=50, objective=binary:logistic, rate_drop=0.2, skip_drop=0.2, subsample=0.8;, score=0.885 total time=  41.1s\n",
      "[CV 1/4; 13/144] START booster=dart, eval_metric=auc, learning_rate=0.1, max_depth=4, n_estimators=100, objective=binary:logistic, rate_drop=0.1, skip_drop=0.1, subsample=0.8\n",
      "[CV 4/4; 10/144] END booster=dart, eval_metric=auc, learning_rate=0.1, max_depth=4, n_estimators=50, objective=binary:logistic, rate_drop=0.2, skip_drop=0.2, subsample=0.8;, score=0.884 total time=  40.2s\n",
      "[CV 2/4; 13/144] START booster=dart, eval_metric=auc, learning_rate=0.1, max_depth=4, n_estimators=100, objective=binary:logistic, rate_drop=0.1, skip_drop=0.1, subsample=0.8\n",
      "[CV 4/4; 11/144] END booster=dart, eval_metric=auc, learning_rate=0.1, max_depth=4, n_estimators=50, objective=binary:logistic, rate_drop=0.2, skip_drop=0.2, subsample=0.9;, score=0.884 total time=  40.0s\n",
      "[CV 3/4; 13/144] START booster=dart, eval_metric=auc, learning_rate=0.1, max_depth=4, n_estimators=100, objective=binary:logistic, rate_drop=0.1, skip_drop=0.1, subsample=0.8\n",
      "[CV 1/4; 11/144] END booster=dart, eval_metric=auc, learning_rate=0.1, max_depth=4, n_estimators=50, objective=binary:logistic, rate_drop=0.2, skip_drop=0.2, subsample=0.9;, score=0.885 total time=  40.3s\n",
      "[CV 4/4; 13/144] START booster=dart, eval_metric=auc, learning_rate=0.1, max_depth=4, n_estimators=100, objective=binary:logistic, rate_drop=0.1, skip_drop=0.1, subsample=0.8\n",
      "[CV 3/4; 10/144] END booster=dart, eval_metric=auc, learning_rate=0.1, max_depth=4, n_estimators=50, objective=binary:logistic, rate_drop=0.2, skip_drop=0.2, subsample=0.8;, score=0.882 total time=  41.0s\n",
      "[CV 1/4; 14/144] START booster=dart, eval_metric=auc, learning_rate=0.1, max_depth=4, n_estimators=100, objective=binary:logistic, rate_drop=0.1, skip_drop=0.1, subsample=0.9\n",
      "[CV 2/4; 10/144] END booster=dart, eval_metric=auc, learning_rate=0.1, max_depth=4, n_estimators=50, objective=binary:logistic, rate_drop=0.2, skip_drop=0.2, subsample=0.8;, score=0.888 total time=  41.3s\n",
      "[CV 2/4; 14/144] START booster=dart, eval_metric=auc, learning_rate=0.1, max_depth=4, n_estimators=100, objective=binary:logistic, rate_drop=0.1, skip_drop=0.1, subsample=0.9\n",
      "[CV 2/4; 11/144] END booster=dart, eval_metric=auc, learning_rate=0.1, max_depth=4, n_estimators=50, objective=binary:logistic, rate_drop=0.2, skip_drop=0.2, subsample=0.9;, score=0.888 total time=  40.7s\n",
      "[CV 3/4; 14/144] START booster=dart, eval_metric=auc, learning_rate=0.1, max_depth=4, n_estimators=100, objective=binary:logistic, rate_drop=0.1, skip_drop=0.1, subsample=0.9\n",
      "[CV 3/4; 11/144] END booster=dart, eval_metric=auc, learning_rate=0.1, max_depth=4, n_estimators=50, objective=binary:logistic, rate_drop=0.2, skip_drop=0.2, subsample=0.9;, score=0.882 total time=  40.7s\n",
      "[CV 4/4; 14/144] START booster=dart, eval_metric=auc, learning_rate=0.1, max_depth=4, n_estimators=100, objective=binary:logistic, rate_drop=0.1, skip_drop=0.1, subsample=0.9\n",
      "[CV 3/4; 12/144] END booster=dart, eval_metric=auc, learning_rate=0.1, max_depth=4, n_estimators=50, objective=binary:logistic, rate_drop=0.2, skip_drop=0.2, subsample=1.0;, score=0.880 total time=  39.4s\n",
      "[CV 1/4; 15/144] START booster=dart, eval_metric=auc, learning_rate=0.1, max_depth=4, n_estimators=100, objective=binary:logistic, rate_drop=0.1, skip_drop=0.1, subsample=1.0\n",
      "[CV 2/4; 12/144] END booster=dart, eval_metric=auc, learning_rate=0.1, max_depth=4, n_estimators=50, objective=binary:logistic, rate_drop=0.2, skip_drop=0.2, subsample=1.0;, score=0.886 total time=  39.7s\n",
      "[CV 2/4; 15/144] START booster=dart, eval_metric=auc, learning_rate=0.1, max_depth=4, n_estimators=100, objective=binary:logistic, rate_drop=0.1, skip_drop=0.1, subsample=1.0\n",
      "[CV 1/4; 12/144] END booster=dart, eval_metric=auc, learning_rate=0.1, max_depth=4, n_estimators=50, objective=binary:logistic, rate_drop=0.2, skip_drop=0.2, subsample=1.0;, score=0.883 total time=  39.9s\n",
      "[CV 3/4; 15/144] START booster=dart, eval_metric=auc, learning_rate=0.1, max_depth=4, n_estimators=100, objective=binary:logistic, rate_drop=0.1, skip_drop=0.1, subsample=1.0\n",
      "[CV 4/4; 12/144] END booster=dart, eval_metric=auc, learning_rate=0.1, max_depth=4, n_estimators=50, objective=binary:logistic, rate_drop=0.2, skip_drop=0.2, subsample=1.0;, score=0.883 total time=  39.5s\n",
      "[CV 4/4; 15/144] START booster=dart, eval_metric=auc, learning_rate=0.1, max_depth=4, n_estimators=100, objective=binary:logistic, rate_drop=0.1, skip_drop=0.1, subsample=1.0\n",
      "[CV 2/4; 13/144] END booster=dart, eval_metric=auc, learning_rate=0.1, max_depth=4, n_estimators=100, objective=binary:logistic, rate_drop=0.1, skip_drop=0.1, subsample=0.8;, score=0.889 total time= 2.1min\n",
      "[CV 3/4; 14/144] END booster=dart, eval_metric=auc, learning_rate=0.1, max_depth=4, n_estimators=100, objective=binary:logistic, rate_drop=0.1, skip_drop=0.1, subsample=0.9;, score=0.884 total time= 2.1min\n",
      "[CV 1/4; 16/144] START booster=dart, eval_metric=auc, learning_rate=0.1, max_depth=4, n_estimators=100, objective=binary:logistic, rate_drop=0.1, skip_drop=0.2, subsample=0.8\n",
      "[CV 2/4; 16/144] START booster=dart, eval_metric=auc, learning_rate=0.1, max_depth=4, n_estimators=100, objective=binary:logistic, rate_drop=0.1, skip_drop=0.2, subsample=0.8\n",
      "[CV 1/4; 13/144] END booster=dart, eval_metric=auc, learning_rate=0.1, max_depth=4, n_estimators=100, objective=binary:logistic, rate_drop=0.1, skip_drop=0.1, subsample=0.8;, score=0.887 total time= 2.2min\n",
      "[CV 3/4; 16/144] START booster=dart, eval_metric=auc, learning_rate=0.1, max_depth=4, n_estimators=100, objective=binary:logistic, rate_drop=0.1, skip_drop=0.2, subsample=0.8\n",
      "[CV 4/4; 13/144] END booster=dart, eval_metric=auc, learning_rate=0.1, max_depth=4, n_estimators=100, objective=binary:logistic, rate_drop=0.1, skip_drop=0.1, subsample=0.8;, score=0.887 total time= 2.1min\n",
      "[CV 4/4; 16/144] START booster=dart, eval_metric=auc, learning_rate=0.1, max_depth=4, n_estimators=100, objective=binary:logistic, rate_drop=0.1, skip_drop=0.2, subsample=0.8\n",
      "[CV 3/4; 13/144] END booster=dart, eval_metric=auc, learning_rate=0.1, max_depth=4, n_estimators=100, objective=binary:logistic, rate_drop=0.1, skip_drop=0.1, subsample=0.8;, score=0.884 total time= 2.2min\n",
      "[CV 1/4; 17/144] START booster=dart, eval_metric=auc, learning_rate=0.1, max_depth=4, n_estimators=100, objective=binary:logistic, rate_drop=0.1, skip_drop=0.2, subsample=0.9\n",
      "[CV 1/4; 14/144] END booster=dart, eval_metric=auc, learning_rate=0.1, max_depth=4, n_estimators=100, objective=binary:logistic, rate_drop=0.1, skip_drop=0.1, subsample=0.9;, score=0.887 total time= 2.2min\n",
      "[CV 2/4; 17/144] START booster=dart, eval_metric=auc, learning_rate=0.1, max_depth=4, n_estimators=100, objective=binary:logistic, rate_drop=0.1, skip_drop=0.2, subsample=0.9\n",
      "[CV 4/4; 14/144] END booster=dart, eval_metric=auc, learning_rate=0.1, max_depth=4, n_estimators=100, objective=binary:logistic, rate_drop=0.1, skip_drop=0.1, subsample=0.9;, score=0.887 total time= 2.2min\n",
      "[CV 3/4; 17/144] START booster=dart, eval_metric=auc, learning_rate=0.1, max_depth=4, n_estimators=100, objective=binary:logistic, rate_drop=0.1, skip_drop=0.2, subsample=0.9\n",
      "[CV 2/4; 14/144] END booster=dart, eval_metric=auc, learning_rate=0.1, max_depth=4, n_estimators=100, objective=binary:logistic, rate_drop=0.1, skip_drop=0.1, subsample=0.9;, score=0.890 total time= 2.2min\n",
      "[CV 4/4; 17/144] START booster=dart, eval_metric=auc, learning_rate=0.1, max_depth=4, n_estimators=100, objective=binary:logistic, rate_drop=0.1, skip_drop=0.2, subsample=0.9\n",
      "[CV 4/4; 15/144] END booster=dart, eval_metric=auc, learning_rate=0.1, max_depth=4, n_estimators=100, objective=binary:logistic, rate_drop=0.1, skip_drop=0.1, subsample=1.0;, score=0.887 total time= 2.1min\n",
      "[CV 1/4; 18/144] START booster=dart, eval_metric=auc, learning_rate=0.1, max_depth=4, n_estimators=100, objective=binary:logistic, rate_drop=0.1, skip_drop=0.2, subsample=1.0\n",
      "[CV 2/4; 15/144] END booster=dart, eval_metric=auc, learning_rate=0.1, max_depth=4, n_estimators=100, objective=binary:logistic, rate_drop=0.1, skip_drop=0.1, subsample=1.0;, score=0.890 total time= 2.1min\n",
      "[CV 2/4; 18/144] START booster=dart, eval_metric=auc, learning_rate=0.1, max_depth=4, n_estimators=100, objective=binary:logistic, rate_drop=0.1, skip_drop=0.2, subsample=1.0\n",
      "[CV 3/4; 15/144] END booster=dart, eval_metric=auc, learning_rate=0.1, max_depth=4, n_estimators=100, objective=binary:logistic, rate_drop=0.1, skip_drop=0.1, subsample=1.0;, score=0.885 total time= 2.2min\n",
      "[CV 3/4; 18/144] START booster=dart, eval_metric=auc, learning_rate=0.1, max_depth=4, n_estimators=100, objective=binary:logistic, rate_drop=0.1, skip_drop=0.2, subsample=1.0\n",
      "[CV 1/4; 15/144] END booster=dart, eval_metric=auc, learning_rate=0.1, max_depth=4, n_estimators=100, objective=binary:logistic, rate_drop=0.1, skip_drop=0.1, subsample=1.0;, score=0.887 total time= 2.2min\n",
      "[CV 4/4; 18/144] START booster=dart, eval_metric=auc, learning_rate=0.1, max_depth=4, n_estimators=100, objective=binary:logistic, rate_drop=0.1, skip_drop=0.2, subsample=1.0\n",
      "[CV 2/4; 16/144] END booster=dart, eval_metric=auc, learning_rate=0.1, max_depth=4, n_estimators=100, objective=binary:logistic, rate_drop=0.1, skip_drop=0.2, subsample=0.8;, score=0.891 total time= 2.2min\n",
      "[CV 1/4; 19/144] START booster=dart, eval_metric=auc, learning_rate=0.1, max_depth=4, n_estimators=100, objective=binary:logistic, rate_drop=0.2, skip_drop=0.1, subsample=0.8\n",
      "[CV 3/4; 16/144] END booster=dart, eval_metric=auc, learning_rate=0.1, max_depth=4, n_estimators=100, objective=binary:logistic, rate_drop=0.1, skip_drop=0.2, subsample=0.8;, score=0.885 total time= 2.2min\n",
      "[CV 2/4; 19/144] START booster=dart, eval_metric=auc, learning_rate=0.1, max_depth=4, n_estimators=100, objective=binary:logistic, rate_drop=0.2, skip_drop=0.1, subsample=0.8\n",
      "[CV 1/4; 16/144] END booster=dart, eval_metric=auc, learning_rate=0.1, max_depth=4, n_estimators=100, objective=binary:logistic, rate_drop=0.1, skip_drop=0.2, subsample=0.8;, score=0.888 total time= 2.2min\n",
      "[CV 3/4; 19/144] START booster=dart, eval_metric=auc, learning_rate=0.1, max_depth=4, n_estimators=100, objective=binary:logistic, rate_drop=0.2, skip_drop=0.1, subsample=0.8\n",
      "[CV 4/4; 16/144] END booster=dart, eval_metric=auc, learning_rate=0.1, max_depth=4, n_estimators=100, objective=binary:logistic, rate_drop=0.1, skip_drop=0.2, subsample=0.8;, score=0.888 total time= 2.2min\n",
      "[CV 4/4; 19/144] START booster=dart, eval_metric=auc, learning_rate=0.1, max_depth=4, n_estimators=100, objective=binary:logistic, rate_drop=0.2, skip_drop=0.1, subsample=0.8\n",
      "[CV 1/4; 17/144] END booster=dart, eval_metric=auc, learning_rate=0.1, max_depth=4, n_estimators=100, objective=binary:logistic, rate_drop=0.1, skip_drop=0.2, subsample=0.9;, score=0.888 total time= 2.2min\n",
      "[CV 1/4; 20/144] START booster=dart, eval_metric=auc, learning_rate=0.1, max_depth=4, n_estimators=100, objective=binary:logistic, rate_drop=0.2, skip_drop=0.1, subsample=0.9\n",
      "[CV 2/4; 17/144] END booster=dart, eval_metric=auc, learning_rate=0.1, max_depth=4, n_estimators=100, objective=binary:logistic, rate_drop=0.1, skip_drop=0.2, subsample=0.9;, score=0.890 total time= 2.2min\n",
      "[CV 2/4; 20/144] START booster=dart, eval_metric=auc, learning_rate=0.1, max_depth=4, n_estimators=100, objective=binary:logistic, rate_drop=0.2, skip_drop=0.1, subsample=0.9\n",
      "[CV 3/4; 17/144] END booster=dart, eval_metric=auc, learning_rate=0.1, max_depth=4, n_estimators=100, objective=binary:logistic, rate_drop=0.1, skip_drop=0.2, subsample=0.9;, score=0.885 total time= 2.2min\n",
      "[CV 3/4; 20/144] START booster=dart, eval_metric=auc, learning_rate=0.1, max_depth=4, n_estimators=100, objective=binary:logistic, rate_drop=0.2, skip_drop=0.1, subsample=0.9\n",
      "[CV 4/4; 17/144] END booster=dart, eval_metric=auc, learning_rate=0.1, max_depth=4, n_estimators=100, objective=binary:logistic, rate_drop=0.1, skip_drop=0.2, subsample=0.9;, score=0.888 total time= 2.2min\n",
      "[CV 4/4; 20/144] START booster=dart, eval_metric=auc, learning_rate=0.1, max_depth=4, n_estimators=100, objective=binary:logistic, rate_drop=0.2, skip_drop=0.1, subsample=0.9\n"
     ]
    },
    {
     "ename": "KeyboardInterrupt",
     "evalue": "",
     "output_type": "error",
     "traceback": [
      "\u001b[0;31m---------------------------------------------------------------------------\u001b[0m",
      "\u001b[0;31mKeyboardInterrupt\u001b[0m                         Traceback (most recent call last)",
      "Cell \u001b[0;32mIn[6], line 21\u001b[0m\n\u001b[1;32m     12\u001b[0m model \u001b[38;5;241m=\u001b[39m XGBClassifier()\n\u001b[1;32m     13\u001b[0m grid \u001b[38;5;241m=\u001b[39m GridSearchCV(\n\u001b[1;32m     14\u001b[0m     model,\n\u001b[1;32m     15\u001b[0m     params,\n\u001b[0;32m   (...)\u001b[0m\n\u001b[1;32m     19\u001b[0m     verbose\u001b[38;5;241m=\u001b[39m\u001b[38;5;241m20\u001b[39m\n\u001b[1;32m     20\u001b[0m )\n\u001b[0;32m---> 21\u001b[0m \u001b[43mgrid\u001b[49m\u001b[38;5;241;43m.\u001b[39;49m\u001b[43mfit\u001b[49m\u001b[43m(\u001b[49m\u001b[43mX_scld\u001b[49m\u001b[43m,\u001b[49m\u001b[43my\u001b[49m\u001b[43m)\u001b[49m\n",
      "File \u001b[0;32m/Applications/miniconda3/envs/playground/lib/python3.11/site-packages/sklearn/model_selection/_search.py:874\u001b[0m, in \u001b[0;36mBaseSearchCV.fit\u001b[0;34m(self, X, y, groups, **fit_params)\u001b[0m\n\u001b[1;32m    868\u001b[0m     results \u001b[38;5;241m=\u001b[39m \u001b[38;5;28mself\u001b[39m\u001b[38;5;241m.\u001b[39m_format_results(\n\u001b[1;32m    869\u001b[0m         all_candidate_params, n_splits, all_out, all_more_results\n\u001b[1;32m    870\u001b[0m     )\n\u001b[1;32m    872\u001b[0m     \u001b[38;5;28;01mreturn\u001b[39;00m results\n\u001b[0;32m--> 874\u001b[0m \u001b[38;5;28;43mself\u001b[39;49m\u001b[38;5;241;43m.\u001b[39;49m\u001b[43m_run_search\u001b[49m\u001b[43m(\u001b[49m\u001b[43mevaluate_candidates\u001b[49m\u001b[43m)\u001b[49m\n\u001b[1;32m    876\u001b[0m \u001b[38;5;66;03m# multimetric is determined here because in the case of a callable\u001b[39;00m\n\u001b[1;32m    877\u001b[0m \u001b[38;5;66;03m# self.scoring the return type is only known after calling\u001b[39;00m\n\u001b[1;32m    878\u001b[0m first_test_score \u001b[38;5;241m=\u001b[39m all_out[\u001b[38;5;241m0\u001b[39m][\u001b[38;5;124m\"\u001b[39m\u001b[38;5;124mtest_scores\u001b[39m\u001b[38;5;124m\"\u001b[39m]\n",
      "File \u001b[0;32m/Applications/miniconda3/envs/playground/lib/python3.11/site-packages/sklearn/model_selection/_search.py:1388\u001b[0m, in \u001b[0;36mGridSearchCV._run_search\u001b[0;34m(self, evaluate_candidates)\u001b[0m\n\u001b[1;32m   1386\u001b[0m \u001b[38;5;28;01mdef\u001b[39;00m \u001b[38;5;21m_run_search\u001b[39m(\u001b[38;5;28mself\u001b[39m, evaluate_candidates):\n\u001b[1;32m   1387\u001b[0m \u001b[38;5;250m    \u001b[39m\u001b[38;5;124;03m\"\"\"Search all candidates in param_grid\"\"\"\u001b[39;00m\n\u001b[0;32m-> 1388\u001b[0m     \u001b[43mevaluate_candidates\u001b[49m\u001b[43m(\u001b[49m\u001b[43mParameterGrid\u001b[49m\u001b[43m(\u001b[49m\u001b[38;5;28;43mself\u001b[39;49m\u001b[38;5;241;43m.\u001b[39;49m\u001b[43mparam_grid\u001b[49m\u001b[43m)\u001b[49m\u001b[43m)\u001b[49m\n",
      "File \u001b[0;32m/Applications/miniconda3/envs/playground/lib/python3.11/site-packages/sklearn/model_selection/_search.py:821\u001b[0m, in \u001b[0;36mBaseSearchCV.fit.<locals>.evaluate_candidates\u001b[0;34m(candidate_params, cv, more_results)\u001b[0m\n\u001b[1;32m    813\u001b[0m \u001b[38;5;28;01mif\u001b[39;00m \u001b[38;5;28mself\u001b[39m\u001b[38;5;241m.\u001b[39mverbose \u001b[38;5;241m>\u001b[39m \u001b[38;5;241m0\u001b[39m:\n\u001b[1;32m    814\u001b[0m     \u001b[38;5;28mprint\u001b[39m(\n\u001b[1;32m    815\u001b[0m         \u001b[38;5;124m\"\u001b[39m\u001b[38;5;124mFitting \u001b[39m\u001b[38;5;132;01m{0}\u001b[39;00m\u001b[38;5;124m folds for each of \u001b[39m\u001b[38;5;132;01m{1}\u001b[39;00m\u001b[38;5;124m candidates,\u001b[39m\u001b[38;5;124m\"\u001b[39m\n\u001b[1;32m    816\u001b[0m         \u001b[38;5;124m\"\u001b[39m\u001b[38;5;124m totalling \u001b[39m\u001b[38;5;132;01m{2}\u001b[39;00m\u001b[38;5;124m fits\u001b[39m\u001b[38;5;124m\"\u001b[39m\u001b[38;5;241m.\u001b[39mformat(\n\u001b[1;32m    817\u001b[0m             n_splits, n_candidates, n_candidates \u001b[38;5;241m*\u001b[39m n_splits\n\u001b[1;32m    818\u001b[0m         )\n\u001b[1;32m    819\u001b[0m     )\n\u001b[0;32m--> 821\u001b[0m out \u001b[38;5;241m=\u001b[39m \u001b[43mparallel\u001b[49m\u001b[43m(\u001b[49m\n\u001b[1;32m    822\u001b[0m \u001b[43m    \u001b[49m\u001b[43mdelayed\u001b[49m\u001b[43m(\u001b[49m\u001b[43m_fit_and_score\u001b[49m\u001b[43m)\u001b[49m\u001b[43m(\u001b[49m\n\u001b[1;32m    823\u001b[0m \u001b[43m        \u001b[49m\u001b[43mclone\u001b[49m\u001b[43m(\u001b[49m\u001b[43mbase_estimator\u001b[49m\u001b[43m)\u001b[49m\u001b[43m,\u001b[49m\n\u001b[1;32m    824\u001b[0m \u001b[43m        \u001b[49m\u001b[43mX\u001b[49m\u001b[43m,\u001b[49m\n\u001b[1;32m    825\u001b[0m \u001b[43m        \u001b[49m\u001b[43my\u001b[49m\u001b[43m,\u001b[49m\n\u001b[1;32m    826\u001b[0m \u001b[43m        \u001b[49m\u001b[43mtrain\u001b[49m\u001b[38;5;241;43m=\u001b[39;49m\u001b[43mtrain\u001b[49m\u001b[43m,\u001b[49m\n\u001b[1;32m    827\u001b[0m \u001b[43m        \u001b[49m\u001b[43mtest\u001b[49m\u001b[38;5;241;43m=\u001b[39;49m\u001b[43mtest\u001b[49m\u001b[43m,\u001b[49m\n\u001b[1;32m    828\u001b[0m \u001b[43m        \u001b[49m\u001b[43mparameters\u001b[49m\u001b[38;5;241;43m=\u001b[39;49m\u001b[43mparameters\u001b[49m\u001b[43m,\u001b[49m\n\u001b[1;32m    829\u001b[0m \u001b[43m        \u001b[49m\u001b[43msplit_progress\u001b[49m\u001b[38;5;241;43m=\u001b[39;49m\u001b[43m(\u001b[49m\u001b[43msplit_idx\u001b[49m\u001b[43m,\u001b[49m\u001b[43m \u001b[49m\u001b[43mn_splits\u001b[49m\u001b[43m)\u001b[49m\u001b[43m,\u001b[49m\n\u001b[1;32m    830\u001b[0m \u001b[43m        \u001b[49m\u001b[43mcandidate_progress\u001b[49m\u001b[38;5;241;43m=\u001b[39;49m\u001b[43m(\u001b[49m\u001b[43mcand_idx\u001b[49m\u001b[43m,\u001b[49m\u001b[43m \u001b[49m\u001b[43mn_candidates\u001b[49m\u001b[43m)\u001b[49m\u001b[43m,\u001b[49m\n\u001b[1;32m    831\u001b[0m \u001b[43m        \u001b[49m\u001b[38;5;241;43m*\u001b[39;49m\u001b[38;5;241;43m*\u001b[39;49m\u001b[43mfit_and_score_kwargs\u001b[49m\u001b[43m,\u001b[49m\n\u001b[1;32m    832\u001b[0m \u001b[43m    \u001b[49m\u001b[43m)\u001b[49m\n\u001b[1;32m    833\u001b[0m \u001b[43m    \u001b[49m\u001b[38;5;28;43;01mfor\u001b[39;49;00m\u001b[43m \u001b[49m\u001b[43m(\u001b[49m\u001b[43mcand_idx\u001b[49m\u001b[43m,\u001b[49m\u001b[43m \u001b[49m\u001b[43mparameters\u001b[49m\u001b[43m)\u001b[49m\u001b[43m,\u001b[49m\u001b[43m \u001b[49m\u001b[43m(\u001b[49m\u001b[43msplit_idx\u001b[49m\u001b[43m,\u001b[49m\u001b[43m \u001b[49m\u001b[43m(\u001b[49m\u001b[43mtrain\u001b[49m\u001b[43m,\u001b[49m\u001b[43m \u001b[49m\u001b[43mtest\u001b[49m\u001b[43m)\u001b[49m\u001b[43m)\u001b[49m\u001b[43m \u001b[49m\u001b[38;5;129;43;01min\u001b[39;49;00m\u001b[43m \u001b[49m\u001b[43mproduct\u001b[49m\u001b[43m(\u001b[49m\n\u001b[1;32m    834\u001b[0m \u001b[43m        \u001b[49m\u001b[38;5;28;43menumerate\u001b[39;49m\u001b[43m(\u001b[49m\u001b[43mcandidate_params\u001b[49m\u001b[43m)\u001b[49m\u001b[43m,\u001b[49m\u001b[43m \u001b[49m\u001b[38;5;28;43menumerate\u001b[39;49m\u001b[43m(\u001b[49m\u001b[43mcv\u001b[49m\u001b[38;5;241;43m.\u001b[39;49m\u001b[43msplit\u001b[49m\u001b[43m(\u001b[49m\u001b[43mX\u001b[49m\u001b[43m,\u001b[49m\u001b[43m \u001b[49m\u001b[43my\u001b[49m\u001b[43m,\u001b[49m\u001b[43m \u001b[49m\u001b[43mgroups\u001b[49m\u001b[43m)\u001b[49m\u001b[43m)\u001b[49m\n\u001b[1;32m    835\u001b[0m \u001b[43m    \u001b[49m\u001b[43m)\u001b[49m\n\u001b[1;32m    836\u001b[0m \u001b[43m\u001b[49m\u001b[43m)\u001b[49m\n\u001b[1;32m    838\u001b[0m \u001b[38;5;28;01mif\u001b[39;00m \u001b[38;5;28mlen\u001b[39m(out) \u001b[38;5;241m<\u001b[39m \u001b[38;5;241m1\u001b[39m:\n\u001b[1;32m    839\u001b[0m     \u001b[38;5;28;01mraise\u001b[39;00m \u001b[38;5;167;01mValueError\u001b[39;00m(\n\u001b[1;32m    840\u001b[0m         \u001b[38;5;124m\"\u001b[39m\u001b[38;5;124mNo fits were performed. \u001b[39m\u001b[38;5;124m\"\u001b[39m\n\u001b[1;32m    841\u001b[0m         \u001b[38;5;124m\"\u001b[39m\u001b[38;5;124mWas the CV iterator empty? \u001b[39m\u001b[38;5;124m\"\u001b[39m\n\u001b[1;32m    842\u001b[0m         \u001b[38;5;124m\"\u001b[39m\u001b[38;5;124mWere there no candidates?\u001b[39m\u001b[38;5;124m\"\u001b[39m\n\u001b[1;32m    843\u001b[0m     )\n",
      "File \u001b[0;32m/Applications/miniconda3/envs/playground/lib/python3.11/site-packages/sklearn/utils/parallel.py:63\u001b[0m, in \u001b[0;36mParallel.__call__\u001b[0;34m(self, iterable)\u001b[0m\n\u001b[1;32m     58\u001b[0m config \u001b[38;5;241m=\u001b[39m get_config()\n\u001b[1;32m     59\u001b[0m iterable_with_config \u001b[38;5;241m=\u001b[39m (\n\u001b[1;32m     60\u001b[0m     (_with_config(delayed_func, config), args, kwargs)\n\u001b[1;32m     61\u001b[0m     \u001b[38;5;28;01mfor\u001b[39;00m delayed_func, args, kwargs \u001b[38;5;129;01min\u001b[39;00m iterable\n\u001b[1;32m     62\u001b[0m )\n\u001b[0;32m---> 63\u001b[0m \u001b[38;5;28;01mreturn\u001b[39;00m \u001b[38;5;28;43msuper\u001b[39;49m\u001b[43m(\u001b[49m\u001b[43m)\u001b[49m\u001b[38;5;241;43m.\u001b[39;49m\u001b[38;5;21;43m__call__\u001b[39;49m\u001b[43m(\u001b[49m\u001b[43miterable_with_config\u001b[49m\u001b[43m)\u001b[49m\n",
      "File \u001b[0;32m/Applications/miniconda3/envs/playground/lib/python3.11/site-packages/joblib/parallel.py:1098\u001b[0m, in \u001b[0;36mParallel.__call__\u001b[0;34m(self, iterable)\u001b[0m\n\u001b[1;32m   1095\u001b[0m     \u001b[38;5;28mself\u001b[39m\u001b[38;5;241m.\u001b[39m_iterating \u001b[38;5;241m=\u001b[39m \u001b[38;5;28;01mFalse\u001b[39;00m\n\u001b[1;32m   1097\u001b[0m \u001b[38;5;28;01mwith\u001b[39;00m \u001b[38;5;28mself\u001b[39m\u001b[38;5;241m.\u001b[39m_backend\u001b[38;5;241m.\u001b[39mretrieval_context():\n\u001b[0;32m-> 1098\u001b[0m     \u001b[38;5;28;43mself\u001b[39;49m\u001b[38;5;241;43m.\u001b[39;49m\u001b[43mretrieve\u001b[49m\u001b[43m(\u001b[49m\u001b[43m)\u001b[49m\n\u001b[1;32m   1099\u001b[0m \u001b[38;5;66;03m# Make sure that we get a last message telling us we are done\u001b[39;00m\n\u001b[1;32m   1100\u001b[0m elapsed_time \u001b[38;5;241m=\u001b[39m time\u001b[38;5;241m.\u001b[39mtime() \u001b[38;5;241m-\u001b[39m \u001b[38;5;28mself\u001b[39m\u001b[38;5;241m.\u001b[39m_start_time\n",
      "File \u001b[0;32m/Applications/miniconda3/envs/playground/lib/python3.11/site-packages/joblib/parallel.py:975\u001b[0m, in \u001b[0;36mParallel.retrieve\u001b[0;34m(self)\u001b[0m\n\u001b[1;32m    973\u001b[0m \u001b[38;5;28;01mtry\u001b[39;00m:\n\u001b[1;32m    974\u001b[0m     \u001b[38;5;28;01mif\u001b[39;00m \u001b[38;5;28mgetattr\u001b[39m(\u001b[38;5;28mself\u001b[39m\u001b[38;5;241m.\u001b[39m_backend, \u001b[38;5;124m'\u001b[39m\u001b[38;5;124msupports_timeout\u001b[39m\u001b[38;5;124m'\u001b[39m, \u001b[38;5;28;01mFalse\u001b[39;00m):\n\u001b[0;32m--> 975\u001b[0m         \u001b[38;5;28mself\u001b[39m\u001b[38;5;241m.\u001b[39m_output\u001b[38;5;241m.\u001b[39mextend(\u001b[43mjob\u001b[49m\u001b[38;5;241;43m.\u001b[39;49m\u001b[43mget\u001b[49m\u001b[43m(\u001b[49m\u001b[43mtimeout\u001b[49m\u001b[38;5;241;43m=\u001b[39;49m\u001b[38;5;28;43mself\u001b[39;49m\u001b[38;5;241;43m.\u001b[39;49m\u001b[43mtimeout\u001b[49m\u001b[43m)\u001b[49m)\n\u001b[1;32m    976\u001b[0m     \u001b[38;5;28;01melse\u001b[39;00m:\n\u001b[1;32m    977\u001b[0m         \u001b[38;5;28mself\u001b[39m\u001b[38;5;241m.\u001b[39m_output\u001b[38;5;241m.\u001b[39mextend(job\u001b[38;5;241m.\u001b[39mget())\n",
      "File \u001b[0;32m/Applications/miniconda3/envs/playground/lib/python3.11/site-packages/joblib/_parallel_backends.py:567\u001b[0m, in \u001b[0;36mLokyBackend.wrap_future_result\u001b[0;34m(future, timeout)\u001b[0m\n\u001b[1;32m    564\u001b[0m \u001b[38;5;250m\u001b[39m\u001b[38;5;124;03m\"\"\"Wrapper for Future.result to implement the same behaviour as\u001b[39;00m\n\u001b[1;32m    565\u001b[0m \u001b[38;5;124;03mAsyncResults.get from multiprocessing.\"\"\"\u001b[39;00m\n\u001b[1;32m    566\u001b[0m \u001b[38;5;28;01mtry\u001b[39;00m:\n\u001b[0;32m--> 567\u001b[0m     \u001b[38;5;28;01mreturn\u001b[39;00m \u001b[43mfuture\u001b[49m\u001b[38;5;241;43m.\u001b[39;49m\u001b[43mresult\u001b[49m\u001b[43m(\u001b[49m\u001b[43mtimeout\u001b[49m\u001b[38;5;241;43m=\u001b[39;49m\u001b[43mtimeout\u001b[49m\u001b[43m)\u001b[49m\n\u001b[1;32m    568\u001b[0m \u001b[38;5;28;01mexcept\u001b[39;00m CfTimeoutError \u001b[38;5;28;01mas\u001b[39;00m e:\n\u001b[1;32m    569\u001b[0m     \u001b[38;5;28;01mraise\u001b[39;00m \u001b[38;5;167;01mTimeoutError\u001b[39;00m \u001b[38;5;28;01mfrom\u001b[39;00m \u001b[38;5;21;01me\u001b[39;00m\n",
      "File \u001b[0;32m/Applications/miniconda3/envs/playground/lib/python3.11/concurrent/futures/_base.py:451\u001b[0m, in \u001b[0;36mFuture.result\u001b[0;34m(self, timeout)\u001b[0m\n\u001b[1;32m    448\u001b[0m \u001b[38;5;28;01melif\u001b[39;00m \u001b[38;5;28mself\u001b[39m\u001b[38;5;241m.\u001b[39m_state \u001b[38;5;241m==\u001b[39m FINISHED:\n\u001b[1;32m    449\u001b[0m     \u001b[38;5;28;01mreturn\u001b[39;00m \u001b[38;5;28mself\u001b[39m\u001b[38;5;241m.\u001b[39m__get_result()\n\u001b[0;32m--> 451\u001b[0m \u001b[38;5;28;43mself\u001b[39;49m\u001b[38;5;241;43m.\u001b[39;49m\u001b[43m_condition\u001b[49m\u001b[38;5;241;43m.\u001b[39;49m\u001b[43mwait\u001b[49m\u001b[43m(\u001b[49m\u001b[43mtimeout\u001b[49m\u001b[43m)\u001b[49m\n\u001b[1;32m    453\u001b[0m \u001b[38;5;28;01mif\u001b[39;00m \u001b[38;5;28mself\u001b[39m\u001b[38;5;241m.\u001b[39m_state \u001b[38;5;129;01min\u001b[39;00m [CANCELLED, CANCELLED_AND_NOTIFIED]:\n\u001b[1;32m    454\u001b[0m     \u001b[38;5;28;01mraise\u001b[39;00m CancelledError()\n",
      "File \u001b[0;32m/Applications/miniconda3/envs/playground/lib/python3.11/threading.py:327\u001b[0m, in \u001b[0;36mCondition.wait\u001b[0;34m(self, timeout)\u001b[0m\n\u001b[1;32m    325\u001b[0m \u001b[38;5;28;01mtry\u001b[39;00m:    \u001b[38;5;66;03m# restore state no matter what (e.g., KeyboardInterrupt)\u001b[39;00m\n\u001b[1;32m    326\u001b[0m     \u001b[38;5;28;01mif\u001b[39;00m timeout \u001b[38;5;129;01mis\u001b[39;00m \u001b[38;5;28;01mNone\u001b[39;00m:\n\u001b[0;32m--> 327\u001b[0m         \u001b[43mwaiter\u001b[49m\u001b[38;5;241;43m.\u001b[39;49m\u001b[43macquire\u001b[49m\u001b[43m(\u001b[49m\u001b[43m)\u001b[49m\n\u001b[1;32m    328\u001b[0m         gotit \u001b[38;5;241m=\u001b[39m \u001b[38;5;28;01mTrue\u001b[39;00m\n\u001b[1;32m    329\u001b[0m     \u001b[38;5;28;01melse\u001b[39;00m:\n",
      "\u001b[0;31mKeyboardInterrupt\u001b[0m: "
     ]
    }
   ],
   "source": [
    "params = {\n",
    "    'booster'                : ['dart'],\n",
    "    'objective'              : ['binary:logistic'],\n",
    "    'learning_rate'          : [1e-1, 1e-2],\n",
    "    'n_estimators'           : [50, 100],\n",
    "    'max_depth'              : [4, 8, 16],\n",
    "    'subsample'              : [0.8, 0.9, 1.0],\n",
    "    'eval_metric'            : ['auc'],\n",
    "    'rate_drop'              : [0.1, 0.2],\n",
    "    'skip_drop'              : [0.1, 0.2],\n",
    "}\n",
    "model = XGBClassifier()\n",
    "grid = GridSearchCV(\n",
    "    model,\n",
    "    params,\n",
    "    scoring = 'roc_auc',\n",
    "    cv = skf,\n",
    "    n_jobs = -1,\n",
    "    verbose=20\n",
    ")\n",
    "grid.fit(X_scld,y)"
   ]
  },
  {
   "cell_type": "code",
   "execution_count": null,
   "metadata": {},
   "outputs": [],
   "source": [
    "grid.best_params_, grid.best_score_"
   ]
  },
  {
   "cell_type": "code",
   "execution_count": null,
   "metadata": {},
   "outputs": [],
   "source": [
    "pd.DataFrame(grid.cv_results_).sort_values('rank_test_score').head(10)"
   ]
  },
  {
   "cell_type": "code",
   "execution_count": null,
   "metadata": {},
   "outputs": [],
   "source": []
  }
 ],
 "metadata": {
  "kernelspec": {
   "display_name": "playground",
   "language": "python",
   "name": "python3"
  },
  "language_info": {
   "codemirror_mode": {
    "name": "ipython",
    "version": 3
   },
   "file_extension": ".py",
   "mimetype": "text/x-python",
   "name": "python",
   "nbconvert_exporter": "python",
   "pygments_lexer": "ipython3",
   "version": "3.11.7"
  }
 },
 "nbformat": 4,
 "nbformat_minor": 2
}
