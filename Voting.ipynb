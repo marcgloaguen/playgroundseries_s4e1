{
 "cells": [
  {
   "cell_type": "code",
   "execution_count": 1,
   "id": "initial_id",
   "metadata": {
    "collapsed": true,
    "is_executing": true
   },
   "outputs": [],
   "source": [
    "from datetime import datetime as dt\n",
    "\n",
    "import pandas as pd\n",
    "import numpy as np\n",
    "\n",
    "from preprocessing import Preprocessing\n",
    "from sklearn.model_selection import StratifiedKFold\n",
    "from sklearn.model_selection import cross_val_score\n",
    "\n",
    "\n",
    "from sklearn.ensemble import RandomForestClassifier\n",
    "from xgboost import XGBClassifier\n",
    "from catboost import CatBoostClassifier\n",
    "from lightgbm import LGBMClassifier\n",
    "\n",
    "from sklearn.ensemble import VotingClassifier\n"
   ]
  },
  {
   "cell_type": "markdown",
   "id": "35014792",
   "metadata": {},
   "source": [
    "# Preprocessing"
   ]
  },
  {
   "cell_type": "code",
   "execution_count": 2,
   "id": "eb5135aed6eafd16",
   "metadata": {
    "collapsed": false
   },
   "outputs": [],
   "source": [
    "col_drop = ['CustomerId','Surname']\n",
    "types = {\n",
    "    'HasCrCard':bool,\n",
    "    'IsActiveMember':bool\n",
    "}\n",
    "train = pd.read_csv('data/train.csv', index_col='id', dtype=types).drop(columns=col_drop)\n",
    "test = pd.read_csv('data/test.csv', index_col='id', dtype=types).drop(columns=col_drop)"
   ]
  },
  {
   "cell_type": "code",
   "execution_count": 3,
   "id": "15162acf",
   "metadata": {},
   "outputs": [
    {
     "data": {
      "text/plain": [
       "123"
      ]
     },
     "execution_count": 3,
     "metadata": {},
     "output_type": "execute_result"
    }
   ],
   "source": [
    "train.duplicated().sum()"
   ]
  },
  {
   "cell_type": "code",
   "execution_count": 4,
   "id": "840addc1",
   "metadata": {},
   "outputs": [],
   "source": [
    "train.drop_duplicates(inplace=True)"
   ]
  },
  {
   "cell_type": "code",
   "execution_count": 5,
   "id": "b74cdea0",
   "metadata": {},
   "outputs": [
    {
     "data": {
      "text/plain": [
       "(164911, 11)"
      ]
     },
     "execution_count": 5,
     "metadata": {},
     "output_type": "execute_result"
    }
   ],
   "source": [
    "train.shape"
   ]
  },
  {
   "cell_type": "code",
   "execution_count": 6,
   "id": "4eb5e3b5",
   "metadata": {},
   "outputs": [],
   "source": [
    "X = train.drop(columns='Exited')\n",
    "y = train.Exited"
   ]
  },
  {
   "cell_type": "code",
   "execution_count": 7,
   "id": "d60fb328",
   "metadata": {},
   "outputs": [
    {
     "data": {
      "text/plain": [
       "(164911, 10)"
      ]
     },
     "execution_count": 7,
     "metadata": {},
     "output_type": "execute_result"
    }
   ],
   "source": [
    "X.shape"
   ]
  },
  {
   "cell_type": "code",
   "execution_count": 8,
   "id": "efc8dbe1",
   "metadata": {},
   "outputs": [],
   "source": [
    "prepro = Preprocessing()"
   ]
  },
  {
   "cell_type": "code",
   "execution_count": 9,
   "id": "e9108588",
   "metadata": {},
   "outputs": [],
   "source": [
    "X_scld = prepro.fit_transform(X).astype(float)"
   ]
  },
  {
   "cell_type": "code",
   "execution_count": 10,
   "id": "59b893a5",
   "metadata": {},
   "outputs": [
    {
     "data": {
      "text/plain": [
       "(164911, 91)"
      ]
     },
     "execution_count": 10,
     "metadata": {},
     "output_type": "execute_result"
    }
   ],
   "source": [
    "X_scld.shape"
   ]
  },
  {
   "cell_type": "code",
   "execution_count": 11,
   "id": "e3247a07",
   "metadata": {},
   "outputs": [],
   "source": [
    "skf = StratifiedKFold(n_splits=5, shuffle=True)"
   ]
  },
  {
   "cell_type": "code",
   "execution_count": 12,
   "id": "df49e2c1",
   "metadata": {},
   "outputs": [],
   "source": [
    "WeightTarget = y.value_counts(True).to_dict()"
   ]
  },
  {
   "cell_type": "code",
   "execution_count": 13,
   "id": "968e1d5d",
   "metadata": {},
   "outputs": [],
   "source": [
    "cat  = {\n",
    "    'iterations'            : 300,\n",
    "    'depth'                 : 6,\n",
    "    'l2_leaf_reg'           : 5,\n",
    "    'learning_rate'         : 0.1,\n",
    "    'verbose'               : False,\n",
    "    'class_weights'         : WeightTarget  \n",
    "    \n",
    "}\n",
    "\n",
    "light = {\n",
    "    \n",
    "}\n",
    "\n",
    "rf = {\n",
    "    'n_estimators'          : 300,\n",
    "    'max_depth'             : 16,\n",
    "    'min_samples_leaf'      : 16,\n",
    "    'min_samples_split'     : 96,\n",
    "    'class_weight'          : WeightTarget    \n",
    "}\n",
    "\n",
    "xgb_dart = {\n",
    "    'booster'         : 'dart',\n",
    "    'objective'       : 'binary:logistic',\n",
    "    'learning_rate'          : [1e-1, 1e-2],\n",
    "    'n_estimators'           : [50, 100],\n",
    "    'max_depth'              : [4, 8, 16],\n",
    "    'subsample'              : [0.8, 0.9, 1.0],\n",
    "    'eval_metric'            : ['auc'],\n",
    "    'rate_drop'              : [0.1, 0.2],\n",
    "    'skip_drop'              : [0.1, 0.2]\n",
    "    \n",
    "}\n",
    "\n",
    "#ok\n",
    "xgb_tree  = {\n",
    "    'booster'                : 'gbtree',\n",
    "    'objective'              : 'binary:logistic',\n",
    "    'learning_rate'          : 1e-1,\n",
    "    'n_estimators'           : 100,\n",
    "    'max_depth'              : 4,\n",
    "    'subsample'              : 0.9,\n",
    "    'eval_metric'            : 'auc'\n",
    "}\n",
    "\n",
    "\n",
    "\n",
    "\n",
    "models =  [\n",
    "        ('rf', RandomForestClassifier(**rf)),\n",
    "        ('Catboost',CatBoostClassifier(**cat)),\n",
    "        ('LGBM',LGBMClassifier(**light)),\n",
    "        ('Xgb_gbtree', XGBClassifier(**xgb_tree)),\n",
    "        ('Xgb_dart', XGBClassifier(**xgb_dart))      \n",
    "]"
   ]
  },
  {
   "cell_type": "code",
   "execution_count": 14,
   "id": "f15dd2d0",
   "metadata": {},
   "outputs": [
    {
     "name": "stdout",
     "output_type": "stream",
     "text": [
      "rf = scores : 0.8872 ± 0.0025 \n",
      "Catboost = scores : 0.8889 ± 0.0013 \n",
      "LGBM = scores : 0.8889 ± 0.0021 \n",
      "Xgb_gbtree = scores : 0.8892 ± 0.0016 \n",
      "Xgb_dart = scores : 0.8858 ± 0.0012 \n"
     ]
    }
   ],
   "source": [
    "mean_scores = []\n",
    "for name, model in models :\n",
    "    scores = cross_val_score(\n",
    "        model,\n",
    "        X_scld,\n",
    "        y,\n",
    "        scoring = 'roc_auc',\n",
    "        cv=skf,\n",
    "        n_jobs=-1\n",
    "    )\n",
    "    mean_scores.append(scores.mean())\n",
    "    print(f\"{name} = scores : {scores.mean():.4f} ± {scores.std():.4f} \")"
   ]
  },
  {
   "cell_type": "code",
   "execution_count": 15,
   "id": "a4888ae3",
   "metadata": {},
   "outputs": [],
   "source": [
    "voting = VotingClassifier(\n",
    "    estimators=models,\n",
    "    voting='soft',\n",
    "    weights=[1,2,2,2,1],\n",
    "    n_jobs=-1\n",
    "    \n",
    ")"
   ]
  },
  {
   "cell_type": "code",
   "execution_count": 16,
   "id": "19224474",
   "metadata": {},
   "outputs": [
    {
     "name": "stdout",
     "output_type": "stream",
     "text": [
      "\n",
      "Roc AUC score: 0.8896 ± 0.0027 min:0.8845 | max:0.8922\n"
     ]
    }
   ],
   "source": [
    "scores = cross_val_score(\n",
    "    voting,\n",
    "    X_scld, \n",
    "    y,\n",
    "    scoring = 'roc_auc',\n",
    "    cv = skf,\n",
    "    n_jobs = -1)\n",
    "\n",
    "print(\"\")\n",
    "print(f'Roc AUC score: {scores.mean():.4f} ± {scores.std():.4f} min:{scores.min():.4f} | max:{scores.max():.4f}')"
   ]
  },
  {
   "cell_type": "markdown",
   "id": "b880f7fb",
   "metadata": {},
   "source": [
    "# Submission"
   ]
  },
  {
   "cell_type": "code",
   "execution_count": 17,
   "id": "a0819a88",
   "metadata": {},
   "outputs": [
    {
     "name": "stderr",
     "output_type": "stream",
     "text": [
      "/Applications/miniconda3/envs/playground/lib/python3.11/site-packages/joblib/externals/loky/process_executor.py:700: UserWarning: A worker stopped while some jobs were given to the executor. This can be caused by a too short worker timeout or by a memory leak.\n",
      "  warnings.warn(\n"
     ]
    },
    {
     "data": {
      "text/html": [
       "<style>#sk-container-id-1 {color: black;background-color: white;}#sk-container-id-1 pre{padding: 0;}#sk-container-id-1 div.sk-toggleable {background-color: white;}#sk-container-id-1 label.sk-toggleable__label {cursor: pointer;display: block;width: 100%;margin-bottom: 0;padding: 0.3em;box-sizing: border-box;text-align: center;}#sk-container-id-1 label.sk-toggleable__label-arrow:before {content: \"▸\";float: left;margin-right: 0.25em;color: #696969;}#sk-container-id-1 label.sk-toggleable__label-arrow:hover:before {color: black;}#sk-container-id-1 div.sk-estimator:hover label.sk-toggleable__label-arrow:before {color: black;}#sk-container-id-1 div.sk-toggleable__content {max-height: 0;max-width: 0;overflow: hidden;text-align: left;background-color: #f0f8ff;}#sk-container-id-1 div.sk-toggleable__content pre {margin: 0.2em;color: black;border-radius: 0.25em;background-color: #f0f8ff;}#sk-container-id-1 input.sk-toggleable__control:checked~div.sk-toggleable__content {max-height: 200px;max-width: 100%;overflow: auto;}#sk-container-id-1 input.sk-toggleable__control:checked~label.sk-toggleable__label-arrow:before {content: \"▾\";}#sk-container-id-1 div.sk-estimator input.sk-toggleable__control:checked~label.sk-toggleable__label {background-color: #d4ebff;}#sk-container-id-1 div.sk-label input.sk-toggleable__control:checked~label.sk-toggleable__label {background-color: #d4ebff;}#sk-container-id-1 input.sk-hidden--visually {border: 0;clip: rect(1px 1px 1px 1px);clip: rect(1px, 1px, 1px, 1px);height: 1px;margin: -1px;overflow: hidden;padding: 0;position: absolute;width: 1px;}#sk-container-id-1 div.sk-estimator {font-family: monospace;background-color: #f0f8ff;border: 1px dotted black;border-radius: 0.25em;box-sizing: border-box;margin-bottom: 0.5em;}#sk-container-id-1 div.sk-estimator:hover {background-color: #d4ebff;}#sk-container-id-1 div.sk-parallel-item::after {content: \"\";width: 100%;border-bottom: 1px solid gray;flex-grow: 1;}#sk-container-id-1 div.sk-label:hover label.sk-toggleable__label {background-color: #d4ebff;}#sk-container-id-1 div.sk-serial::before {content: \"\";position: absolute;border-left: 1px solid gray;box-sizing: border-box;top: 0;bottom: 0;left: 50%;z-index: 0;}#sk-container-id-1 div.sk-serial {display: flex;flex-direction: column;align-items: center;background-color: white;padding-right: 0.2em;padding-left: 0.2em;position: relative;}#sk-container-id-1 div.sk-item {position: relative;z-index: 1;}#sk-container-id-1 div.sk-parallel {display: flex;align-items: stretch;justify-content: center;background-color: white;position: relative;}#sk-container-id-1 div.sk-item::before, #sk-container-id-1 div.sk-parallel-item::before {content: \"\";position: absolute;border-left: 1px solid gray;box-sizing: border-box;top: 0;bottom: 0;left: 50%;z-index: -1;}#sk-container-id-1 div.sk-parallel-item {display: flex;flex-direction: column;z-index: 1;position: relative;background-color: white;}#sk-container-id-1 div.sk-parallel-item:first-child::after {align-self: flex-end;width: 50%;}#sk-container-id-1 div.sk-parallel-item:last-child::after {align-self: flex-start;width: 50%;}#sk-container-id-1 div.sk-parallel-item:only-child::after {width: 0;}#sk-container-id-1 div.sk-dashed-wrapped {border: 1px dashed gray;margin: 0 0.4em 0.5em 0.4em;box-sizing: border-box;padding-bottom: 0.4em;background-color: white;}#sk-container-id-1 div.sk-label label {font-family: monospace;font-weight: bold;display: inline-block;line-height: 1.2em;}#sk-container-id-1 div.sk-label-container {text-align: center;}#sk-container-id-1 div.sk-container {/* jupyter's `normalize.less` sets `[hidden] { display: none; }` but bootstrap.min.css set `[hidden] { display: none !important; }` so we also need the `!important` here to be able to override the default hidden behavior on the sphinx rendered scikit-learn.org. See: https://github.com/scikit-learn/scikit-learn/issues/21755 */display: inline-block !important;position: relative;}#sk-container-id-1 div.sk-text-repr-fallback {display: none;}</style><div id=\"sk-container-id-1\" class=\"sk-top-container\"><div class=\"sk-text-repr-fallback\"><pre>VotingClassifier(estimators=[(&#x27;rf&#x27;,\n",
       "                              RandomForestClassifier(class_weight={0: 0.7883161220294583,\n",
       "                                                                   1: 0.2116838779705417},\n",
       "                                                     max_depth=16,\n",
       "                                                     min_samples_leaf=16,\n",
       "                                                     min_samples_split=96,\n",
       "                                                     n_estimators=300)),\n",
       "                             (&#x27;Catboost&#x27;,\n",
       "                              &lt;catboost.core.CatBoostClassifier object at 0x17ed5ea90&gt;),\n",
       "                             (&#x27;LGBM&#x27;, LGBMClassifier()),\n",
       "                             (&#x27;Xgb_gbtree&#x27;,\n",
       "                              XGBClassifier(base_score=None, booster=&#x27;gbtree&#x27;,\n",
       "                                            callback...\n",
       "                                            interaction_constraints=None,\n",
       "                                            learning_rate=None, max_bin=None,\n",
       "                                            max_cat_threshold=None,\n",
       "                                            max_cat_to_onehot=None,\n",
       "                                            max_delta_step=None, max_depth=None,\n",
       "                                            max_leaves=None,\n",
       "                                            min_child_weight=None, missing=nan,\n",
       "                                            monotone_constraints=None,\n",
       "                                            n_estimators=100, n_jobs=None,\n",
       "                                            num_parallel_tree=None,\n",
       "                                            predictor=None, random_state=None, ...))],\n",
       "                 n_jobs=-1, voting=&#x27;soft&#x27;, weights=[1, 2, 2, 2, 1])</pre><b>In a Jupyter environment, please rerun this cell to show the HTML representation or trust the notebook. <br />On GitHub, the HTML representation is unable to render, please try loading this page with nbviewer.org.</b></div><div class=\"sk-container\" hidden><div class=\"sk-item sk-dashed-wrapped\"><div class=\"sk-label-container\"><div class=\"sk-label sk-toggleable\"><input class=\"sk-toggleable__control sk-hidden--visually\" id=\"sk-estimator-id-1\" type=\"checkbox\" ><label for=\"sk-estimator-id-1\" class=\"sk-toggleable__label sk-toggleable__label-arrow\">VotingClassifier</label><div class=\"sk-toggleable__content\"><pre>VotingClassifier(estimators=[(&#x27;rf&#x27;,\n",
       "                              RandomForestClassifier(class_weight={0: 0.7883161220294583,\n",
       "                                                                   1: 0.2116838779705417},\n",
       "                                                     max_depth=16,\n",
       "                                                     min_samples_leaf=16,\n",
       "                                                     min_samples_split=96,\n",
       "                                                     n_estimators=300)),\n",
       "                             (&#x27;Catboost&#x27;,\n",
       "                              &lt;catboost.core.CatBoostClassifier object at 0x17ed5ea90&gt;),\n",
       "                             (&#x27;LGBM&#x27;, LGBMClassifier()),\n",
       "                             (&#x27;Xgb_gbtree&#x27;,\n",
       "                              XGBClassifier(base_score=None, booster=&#x27;gbtree&#x27;,\n",
       "                                            callback...\n",
       "                                            interaction_constraints=None,\n",
       "                                            learning_rate=None, max_bin=None,\n",
       "                                            max_cat_threshold=None,\n",
       "                                            max_cat_to_onehot=None,\n",
       "                                            max_delta_step=None, max_depth=None,\n",
       "                                            max_leaves=None,\n",
       "                                            min_child_weight=None, missing=nan,\n",
       "                                            monotone_constraints=None,\n",
       "                                            n_estimators=100, n_jobs=None,\n",
       "                                            num_parallel_tree=None,\n",
       "                                            predictor=None, random_state=None, ...))],\n",
       "                 n_jobs=-1, voting=&#x27;soft&#x27;, weights=[1, 2, 2, 2, 1])</pre></div></div></div><div class=\"sk-parallel\"><div class=\"sk-parallel-item\"><div class=\"sk-item\"><div class=\"sk-label-container\"><div class=\"sk-label sk-toggleable\"><label>rf</label></div></div><div class=\"sk-serial\"><div class=\"sk-item\"><div class=\"sk-estimator sk-toggleable\"><input class=\"sk-toggleable__control sk-hidden--visually\" id=\"sk-estimator-id-2\" type=\"checkbox\" ><label for=\"sk-estimator-id-2\" class=\"sk-toggleable__label sk-toggleable__label-arrow\">RandomForestClassifier</label><div class=\"sk-toggleable__content\"><pre>RandomForestClassifier(class_weight={0: 0.7883161220294583,\n",
       "                                     1: 0.2116838779705417},\n",
       "                       max_depth=16, min_samples_leaf=16, min_samples_split=96,\n",
       "                       n_estimators=300)</pre></div></div></div></div></div></div><div class=\"sk-parallel-item\"><div class=\"sk-item\"><div class=\"sk-label-container\"><div class=\"sk-label sk-toggleable\"><label>Catboost</label></div></div><div class=\"sk-serial\"><div class=\"sk-item\"><div class=\"sk-estimator sk-toggleable\"><input class=\"sk-toggleable__control sk-hidden--visually\" id=\"sk-estimator-id-3\" type=\"checkbox\" ><label for=\"sk-estimator-id-3\" class=\"sk-toggleable__label sk-toggleable__label-arrow\">CatBoostClassifier</label><div class=\"sk-toggleable__content\"><pre>&lt;catboost.core.CatBoostClassifier object at 0x17ed5ea90&gt;</pre></div></div></div></div></div></div><div class=\"sk-parallel-item\"><div class=\"sk-item\"><div class=\"sk-label-container\"><div class=\"sk-label sk-toggleable\"><label>LGBM</label></div></div><div class=\"sk-serial\"><div class=\"sk-item\"><div class=\"sk-estimator sk-toggleable\"><input class=\"sk-toggleable__control sk-hidden--visually\" id=\"sk-estimator-id-4\" type=\"checkbox\" ><label for=\"sk-estimator-id-4\" class=\"sk-toggleable__label sk-toggleable__label-arrow\">LGBMClassifier</label><div class=\"sk-toggleable__content\"><pre>LGBMClassifier()</pre></div></div></div></div></div></div><div class=\"sk-parallel-item\"><div class=\"sk-item\"><div class=\"sk-label-container\"><div class=\"sk-label sk-toggleable\"><label>Xgb_gbtree</label></div></div><div class=\"sk-serial\"><div class=\"sk-item\"><div class=\"sk-estimator sk-toggleable\"><input class=\"sk-toggleable__control sk-hidden--visually\" id=\"sk-estimator-id-5\" type=\"checkbox\" ><label for=\"sk-estimator-id-5\" class=\"sk-toggleable__label sk-toggleable__label-arrow\">XGBClassifier</label><div class=\"sk-toggleable__content\"><pre>XGBClassifier(base_score=None, booster=&#x27;gbtree&#x27;, callbacks=None,\n",
       "              colsample_bylevel=None, colsample_bynode=None,\n",
       "              colsample_bytree=0.5, early_stopping_rounds=None,\n",
       "              enable_categorical=False, eval_metric=None, feature_types=None,\n",
       "              gamma=1.0, gpu_id=None, grow_policy=None, importance_type=None,\n",
       "              interaction_constraints=None, learning_rate=0.1, max_bin=None,\n",
       "              max_cat_threshold=None, max_cat_to_onehot=None,\n",
       "              max_delta_step=None, max_depth=5, max_leaves=None,\n",
       "              min_child_weight=None, missing=nan, monotone_constraints=None,\n",
       "              n_estimators=100, n_jobs=None, num_parallel_tree=None,\n",
       "              predictor=None, random_state=None, ...)</pre></div></div></div></div></div></div><div class=\"sk-parallel-item\"><div class=\"sk-item\"><div class=\"sk-label-container\"><div class=\"sk-label sk-toggleable\"><label>Xgb_dart</label></div></div><div class=\"sk-serial\"><div class=\"sk-item\"><div class=\"sk-estimator sk-toggleable\"><input class=\"sk-toggleable__control sk-hidden--visually\" id=\"sk-estimator-id-6\" type=\"checkbox\" ><label for=\"sk-estimator-id-6\" class=\"sk-toggleable__label sk-toggleable__label-arrow\">XGBClassifier</label><div class=\"sk-toggleable__content\"><pre>XGBClassifier(base_score=None, booster=&#x27;dart&#x27;, callbacks=None,\n",
       "              colsample_bylevel=None, colsample_bynode=None,\n",
       "              colsample_bytree=None, early_stopping_rounds=None,\n",
       "              enable_categorical=False, eval_metric=None, feature_types=None,\n",
       "              gamma=None, gpu_id=None, grow_policy=None, importance_type=None,\n",
       "              interaction_constraints=None, learning_rate=None, max_bin=None,\n",
       "              max_cat_threshold=None, max_cat_to_onehot=None,\n",
       "              max_delta_step=None, max_depth=None, max_leaves=None,\n",
       "              min_child_weight=None, missing=nan, monotone_constraints=None,\n",
       "              n_estimators=100, n_jobs=None, num_parallel_tree=None,\n",
       "              predictor=None, random_state=None, ...)</pre></div></div></div></div></div></div></div></div></div></div>"
      ],
      "text/plain": [
       "VotingClassifier(estimators=[('rf',\n",
       "                              RandomForestClassifier(class_weight={0: 0.7883161220294583,\n",
       "                                                                   1: 0.2116838779705417},\n",
       "                                                     max_depth=16,\n",
       "                                                     min_samples_leaf=16,\n",
       "                                                     min_samples_split=96,\n",
       "                                                     n_estimators=300)),\n",
       "                             ('Catboost',\n",
       "                              <catboost.core.CatBoostClassifier object at 0x17ed5ea90>),\n",
       "                             ('LGBM', LGBMClassifier()),\n",
       "                             ('Xgb_gbtree',\n",
       "                              XGBClassifier(base_score=None, booster='gbtree',\n",
       "                                            callback...\n",
       "                                            interaction_constraints=None,\n",
       "                                            learning_rate=None, max_bin=None,\n",
       "                                            max_cat_threshold=None,\n",
       "                                            max_cat_to_onehot=None,\n",
       "                                            max_delta_step=None, max_depth=None,\n",
       "                                            max_leaves=None,\n",
       "                                            min_child_weight=None, missing=nan,\n",
       "                                            monotone_constraints=None,\n",
       "                                            n_estimators=100, n_jobs=None,\n",
       "                                            num_parallel_tree=None,\n",
       "                                            predictor=None, random_state=None, ...))],\n",
       "                 n_jobs=-1, voting='soft', weights=[1, 2, 2, 2, 1])"
      ]
     },
     "execution_count": 17,
     "metadata": {},
     "output_type": "execute_result"
    }
   ],
   "source": [
    "voting.fit(X_scld, y)"
   ]
  },
  {
   "cell_type": "code",
   "execution_count": 18,
   "id": "9393658a",
   "metadata": {},
   "outputs": [],
   "source": [
    "X_val_scld = prepro.transform(test).astype(float)"
   ]
  },
  {
   "cell_type": "code",
   "execution_count": 19,
   "id": "b927754e",
   "metadata": {},
   "outputs": [],
   "source": [
    "submission = pd.read_csv(\"data/sample_submission.csv\", index_col='id')"
   ]
  },
  {
   "cell_type": "code",
   "execution_count": 21,
   "id": "ae796018",
   "metadata": {},
   "outputs": [],
   "source": [
    "submission.loc[:,'Exited'] = voting.predict_proba(X_val_scld)[:,1]"
   ]
  },
  {
   "cell_type": "code",
   "execution_count": 22,
   "id": "d93b07d8",
   "metadata": {},
   "outputs": [],
   "source": [
    "name = dt.now().strftime(\"%Y%m%d_%H%M\")"
   ]
  },
  {
   "cell_type": "code",
   "execution_count": 23,
   "id": "eed84da8",
   "metadata": {},
   "outputs": [],
   "source": [
    "submission.to_csv(f\"submission/{name}.csv\")"
   ]
  },
  {
   "cell_type": "code",
   "execution_count": 24,
   "id": "5275bdc4",
   "metadata": {},
   "outputs": [
    {
     "data": {
      "text/html": [
       "<div>\n",
       "<style scoped>\n",
       "    .dataframe tbody tr th:only-of-type {\n",
       "        vertical-align: middle;\n",
       "    }\n",
       "\n",
       "    .dataframe tbody tr th {\n",
       "        vertical-align: top;\n",
       "    }\n",
       "\n",
       "    .dataframe thead th {\n",
       "        text-align: right;\n",
       "    }\n",
       "</style>\n",
       "<table border=\"1\" class=\"dataframe\">\n",
       "  <thead>\n",
       "    <tr style=\"text-align: right;\">\n",
       "      <th></th>\n",
       "      <th>Exited</th>\n",
       "    </tr>\n",
       "    <tr>\n",
       "      <th>id</th>\n",
       "      <th></th>\n",
       "    </tr>\n",
       "  </thead>\n",
       "  <tbody>\n",
       "    <tr>\n",
       "      <th>165034</th>\n",
       "      <td>0.036148</td>\n",
       "    </tr>\n",
       "    <tr>\n",
       "      <th>165035</th>\n",
       "      <td>0.770981</td>\n",
       "    </tr>\n",
       "    <tr>\n",
       "      <th>165036</th>\n",
       "      <td>0.037868</td>\n",
       "    </tr>\n",
       "    <tr>\n",
       "      <th>165037</th>\n",
       "      <td>0.256961</td>\n",
       "    </tr>\n",
       "    <tr>\n",
       "      <th>165038</th>\n",
       "      <td>0.377526</td>\n",
       "    </tr>\n",
       "    <tr>\n",
       "      <th>...</th>\n",
       "      <td>...</td>\n",
       "    </tr>\n",
       "    <tr>\n",
       "      <th>275052</th>\n",
       "      <td>0.058151</td>\n",
       "    </tr>\n",
       "    <tr>\n",
       "      <th>275053</th>\n",
       "      <td>0.133326</td>\n",
       "    </tr>\n",
       "    <tr>\n",
       "      <th>275054</th>\n",
       "      <td>0.032504</td>\n",
       "    </tr>\n",
       "    <tr>\n",
       "      <th>275055</th>\n",
       "      <td>0.207552</td>\n",
       "    </tr>\n",
       "    <tr>\n",
       "      <th>275056</th>\n",
       "      <td>0.214873</td>\n",
       "    </tr>\n",
       "  </tbody>\n",
       "</table>\n",
       "<p>110023 rows × 1 columns</p>\n",
       "</div>"
      ],
      "text/plain": [
       "          Exited\n",
       "id              \n",
       "165034  0.036148\n",
       "165035  0.770981\n",
       "165036  0.037868\n",
       "165037  0.256961\n",
       "165038  0.377526\n",
       "...          ...\n",
       "275052  0.058151\n",
       "275053  0.133326\n",
       "275054  0.032504\n",
       "275055  0.207552\n",
       "275056  0.214873\n",
       "\n",
       "[110023 rows x 1 columns]"
      ]
     },
     "execution_count": 24,
     "metadata": {},
     "output_type": "execute_result"
    }
   ],
   "source": [
    "submission"
   ]
  },
  {
   "cell_type": "code",
   "execution_count": null,
   "id": "6ed2a440",
   "metadata": {},
   "outputs": [],
   "source": []
  },
  {
   "cell_type": "code",
   "execution_count": null,
   "id": "3cb4b0fc",
   "metadata": {},
   "outputs": [],
   "source": []
  }
 ],
 "metadata": {
  "kernelspec": {
   "display_name": "Python 3",
   "language": "python",
   "name": "python3"
  },
  "language_info": {
   "codemirror_mode": {
    "name": "ipython",
    "version": 3
   },
   "file_extension": ".py",
   "mimetype": "text/x-python",
   "name": "python",
   "nbconvert_exporter": "python",
   "pygments_lexer": "ipython3",
   "version": "3.11.7"
  }
 },
 "nbformat": 4,
 "nbformat_minor": 5
}
